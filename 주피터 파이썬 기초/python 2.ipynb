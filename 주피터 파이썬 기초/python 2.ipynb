{
 "cells": [
  {
   "cell_type": "code",
   "execution_count": 65,
   "id": "3d89efdc",
   "metadata": {},
   "outputs": [],
   "source": [
    "a = 254"
   ]
  },
  {
   "cell_type": "code",
   "execution_count": 66,
   "id": "f28e0fcc",
   "metadata": {},
   "outputs": [],
   "source": [
    "b = 255"
   ]
  },
  {
   "cell_type": "code",
   "execution_count": 67,
   "id": "d6d17d0a",
   "metadata": {},
   "outputs": [
    {
     "data": {
      "text/plain": [
       "140722365679312"
      ]
     },
     "execution_count": 67,
     "metadata": {},
     "output_type": "execute_result"
    }
   ],
   "source": [
    "id(a)"
   ]
  },
  {
   "cell_type": "code",
   "execution_count": 68,
   "id": "0cb36341",
   "metadata": {},
   "outputs": [],
   "source": [
    "c = 1"
   ]
  },
  {
   "cell_type": "code",
   "execution_count": 69,
   "id": "bff17893",
   "metadata": {},
   "outputs": [
    {
     "data": {
      "text/plain": [
       "140722365679344"
      ]
     },
     "execution_count": 69,
     "metadata": {},
     "output_type": "execute_result"
    }
   ],
   "source": [
    "id(b)"
   ]
  },
  {
   "cell_type": "code",
   "execution_count": 70,
   "id": "8b6012c6",
   "metadata": {},
   "outputs": [],
   "source": [
    "a += c"
   ]
  },
  {
   "cell_type": "code",
   "execution_count": 71,
   "id": "a496e712",
   "metadata": {},
   "outputs": [
    {
     "data": {
      "text/plain": [
       "140722365679344"
      ]
     },
     "execution_count": 71,
     "metadata": {},
     "output_type": "execute_result"
    }
   ],
   "source": [
    "id(a)"
   ]
  },
  {
   "cell_type": "code",
   "execution_count": 72,
   "id": "08103946",
   "metadata": {},
   "outputs": [
    {
     "data": {
      "text/plain": [
       "140722365679344"
      ]
     },
     "execution_count": 72,
     "metadata": {},
     "output_type": "execute_result"
    }
   ],
   "source": [
    "id(b)"
   ]
  },
  {
   "cell_type": "code",
   "execution_count": 73,
   "id": "52376025",
   "metadata": {},
   "outputs": [
    {
     "data": {
      "text/plain": [
       "255"
      ]
     },
     "execution_count": 73,
     "metadata": {},
     "output_type": "execute_result"
    }
   ],
   "source": [
    "x"
   ]
  },
  {
   "cell_type": "code",
   "execution_count": 79,
   "id": "30a64700",
   "metadata": {
    "scrolled": true
   },
   "outputs": [
    {
     "data": {
      "text/plain": [
       "False"
      ]
     },
     "execution_count": 79,
     "metadata": {},
     "output_type": "execute_result"
    }
   ],
   "source": [
    "a is b"
   ]
  },
  {
   "cell_type": "code",
   "execution_count": 80,
   "id": "13dca22f",
   "metadata": {},
   "outputs": [],
   "source": [
    "a = [1,2,3,4]"
   ]
  },
  {
   "cell_type": "code",
   "execution_count": 81,
   "id": "3613e0f4",
   "metadata": {},
   "outputs": [
    {
     "data": {
      "text/plain": [
       "[1, 2, 3, 4]"
      ]
     },
     "execution_count": 81,
     "metadata": {},
     "output_type": "execute_result"
    }
   ],
   "source": [
    "a"
   ]
  },
  {
   "cell_type": "code",
   "execution_count": 82,
   "id": "d5fa04af",
   "metadata": {},
   "outputs": [
    {
     "data": {
      "text/plain": [
       "2052980439104"
      ]
     },
     "execution_count": 82,
     "metadata": {},
     "output_type": "execute_result"
    }
   ],
   "source": [
    "id(a)"
   ]
  },
  {
   "cell_type": "code",
   "execution_count": 106,
   "id": "9c25cafb",
   "metadata": {},
   "outputs": [],
   "source": [
    "b = [1, 525, 3, 4]"
   ]
  },
  {
   "cell_type": "code",
   "execution_count": 107,
   "id": "1b538535",
   "metadata": {},
   "outputs": [
    {
     "data": {
      "text/plain": [
       "2052979547584"
      ]
     },
     "execution_count": 107,
     "metadata": {},
     "output_type": "execute_result"
    }
   ],
   "source": [
    "id(b)"
   ]
  },
  {
   "cell_type": "code",
   "execution_count": 108,
   "id": "dee7fd1a",
   "metadata": {},
   "outputs": [],
   "source": [
    "c = b[0]"
   ]
  },
  {
   "cell_type": "code",
   "execution_count": 113,
   "id": "76883873",
   "metadata": {},
   "outputs": [
    {
     "data": {
      "text/plain": [
       "140722365671216"
      ]
     },
     "execution_count": 113,
     "metadata": {},
     "output_type": "execute_result"
    }
   ],
   "source": [
    "id(c)"
   ]
  },
  {
   "cell_type": "code",
   "execution_count": 115,
   "id": "3af28abf",
   "metadata": {},
   "outputs": [
    {
     "data": {
      "text/plain": [
       "140722365671216"
      ]
     },
     "execution_count": 115,
     "metadata": {},
     "output_type": "execute_result"
    }
   ],
   "source": [
    "id(b[0])"
   ]
  },
  {
   "cell_type": "code",
   "execution_count": 116,
   "id": "2ad2d3b7",
   "metadata": {},
   "outputs": [
    {
     "data": {
      "text/plain": [
       "2052979547584"
      ]
     },
     "execution_count": 116,
     "metadata": {},
     "output_type": "execute_result"
    }
   ],
   "source": [
    "id(b)"
   ]
  },
  {
   "cell_type": "code",
   "execution_count": 117,
   "id": "f1f47f47",
   "metadata": {},
   "outputs": [
    {
     "data": {
      "text/plain": [
       "True"
      ]
     },
     "execution_count": 117,
     "metadata": {},
     "output_type": "execute_result"
    }
   ],
   "source": [
    "c is b[0]"
   ]
  },
  {
   "cell_type": "code",
   "execution_count": 118,
   "id": "5bd63b5b",
   "metadata": {},
   "outputs": [
    {
     "name": "stderr",
     "output_type": "stream",
     "text": [
      "<>:1: SyntaxWarning: \"is\" with a literal. Did you mean \"==\"?\n",
      "<>:1: SyntaxWarning: \"is\" with a literal. Did you mean \"==\"?\n",
      "<ipython-input-118-86c74f5f9469>:1: SyntaxWarning: \"is\" with a literal. Did you mean \"==\"?\n",
      "  100 * 100 is 5000 + 5000\n"
     ]
    },
    {
     "data": {
      "text/plain": [
       "True"
      ]
     },
     "execution_count": 118,
     "metadata": {},
     "output_type": "execute_result"
    }
   ],
   "source": [
    "100 * 100 is 5000 + 5000"
   ]
  },
  {
   "cell_type": "code",
   "execution_count": 121,
   "id": "8c0b46cb",
   "metadata": {},
   "outputs": [],
   "source": [
    "kor = 50; eng = 90; math = 70; sci = 70"
   ]
  },
  {
   "cell_type": "code",
   "execution_count": 122,
   "id": "df75a17b",
   "metadata": {},
   "outputs": [
    {
     "data": {
      "text/plain": [
       "True"
      ]
     },
     "execution_count": 122,
     "metadata": {},
     "output_type": "execute_result"
    }
   ],
   "source": [
    "(kor >= 50and eng>= 50 and math >= 50 and sci >= 50)"
   ]
  },
  {
   "cell_type": "code",
   "execution_count": 125,
   "id": "77fe5d73",
   "metadata": {},
   "outputs": [],
   "source": [
    "s1 = 'hello'\n",
    "s2 = \"hello\"\n",
    "s3 = '''hello'''\n",
    "s4 = \"\"\"hello\"\"\""
   ]
  },
  {
   "cell_type": "code",
   "execution_count": 126,
   "id": "4a23991c",
   "metadata": {},
   "outputs": [
    {
     "name": "stdout",
     "output_type": "stream",
     "text": [
      "hello\n",
      "hello\n",
      "hello\n",
      "hello\n"
     ]
    }
   ],
   "source": [
    "print(s1, s2, s3, s4 , sep='\\n')"
   ]
  },
  {
   "cell_type": "code",
   "execution_count": 127,
   "id": "c6631130",
   "metadata": {},
   "outputs": [],
   "source": [
    "s2 = 'hello \\'python\\''"
   ]
  },
  {
   "cell_type": "code",
   "execution_count": 133,
   "id": "b376696c",
   "metadata": {},
   "outputs": [],
   "source": [
    "s3 = '''hello 'python'''"
   ]
  },
  {
   "cell_type": "code",
   "execution_count": 146,
   "id": "72d4d363",
   "metadata": {},
   "outputs": [],
   "source": [
    "s4 = \"\"\"hello \"python\" \"\"\""
   ]
  },
  {
   "cell_type": "code",
   "execution_count": 139,
   "id": "197c0385",
   "metadata": {},
   "outputs": [],
   "source": [
    "s5 = \"\"\"here is\n",
    "python world\n",
    "it \n",
    "is real\"\"\""
   ]
  },
  {
   "cell_type": "code",
   "execution_count": 142,
   "id": "cc78bd49",
   "metadata": {},
   "outputs": [
    {
     "data": {
      "text/plain": [
       "3"
      ]
     },
     "execution_count": 142,
     "metadata": {},
     "output_type": "execute_result"
    }
   ],
   "source": [
    "s5.count('\\n')"
   ]
  },
  {
   "cell_type": "code",
   "execution_count": 149,
   "id": "54b92867",
   "metadata": {},
   "outputs": [
    {
     "ename": "SyntaxError",
     "evalue": "EOL while scanning string literal (<ipython-input-149-e580be413dd1>, line 1)",
     "output_type": "error",
     "traceback": [
      "\u001b[1;36m  File \u001b[1;32m\"<ipython-input-149-e580be413dd1>\"\u001b[1;36m, line \u001b[1;32m1\u001b[0m\n\u001b[1;33m    \"\"\"\"hello\", python\"\"\"\"\u001b[0m\n\u001b[1;37m                          ^\u001b[0m\n\u001b[1;31mSyntaxError\u001b[0m\u001b[1;31m:\u001b[0m EOL while scanning string literal\n"
     ]
    }
   ],
   "source": [
    "\"\"\"\"hello\", python\"\"\""
   ]
  },
  {
   "cell_type": "code",
   "execution_count": 156,
   "id": "661a2edf",
   "metadata": {},
   "outputs": [],
   "source": [
    "s = '''\"python\" is a \"programming launguage\"\n",
    "that lets you work quickly\n",
    "and\n",
    "intergrate systems more effectively'''"
   ]
  },
  {
   "cell_type": "code",
   "execution_count": 152,
   "id": "d2bb0274",
   "metadata": {},
   "outputs": [],
   "source": [
    "a = '\\'python\\' is a \"programming launguage\"\\nthat lets you work quickly\\nand\\nintergrate systems more effectively'"
   ]
  },
  {
   "cell_type": "code",
   "execution_count": 157,
   "id": "57465ab4",
   "metadata": {},
   "outputs": [
    {
     "name": "stdout",
     "output_type": "stream",
     "text": [
      "\"python\" is a \"programming launguage\"\n",
      "that lets you work quickly\n",
      "and\n",
      "intergrate systems more effectively\n"
     ]
    }
   ],
   "source": [
    "print(s)"
   ]
  },
  {
   "cell_type": "code",
   "execution_count": 163,
   "id": "35156dc5",
   "metadata": {},
   "outputs": [
    {
     "data": {
      "text/plain": [
       "[12, 11, 10, 9, 8, 7, 6]"
      ]
     },
     "execution_count": 163,
     "metadata": {},
     "output_type": "execute_result"
    }
   ],
   "source": [
    "list(range(12, 5, -1))"
   ]
  },
  {
   "cell_type": "code",
   "execution_count": 170,
   "id": "c5201bad",
   "metadata": {},
   "outputs": [
    {
     "data": {
      "text/plain": [
       "int"
      ]
     },
     "execution_count": 170,
     "metadata": {},
     "output_type": "execute_result"
    }
   ],
   "source": [
    "type((1))"
   ]
  },
  {
   "cell_type": "code",
   "execution_count": 171,
   "id": "8d865e21",
   "metadata": {},
   "outputs": [
    {
     "data": {
      "text/plain": [
       "tuple"
      ]
     },
     "execution_count": 171,
     "metadata": {},
     "output_type": "execute_result"
    }
   ],
   "source": [
    "type((1,))"
   ]
  },
  {
   "cell_type": "code",
   "execution_count": 172,
   "id": "05043940",
   "metadata": {},
   "outputs": [],
   "source": [
    "l = [1, 2, 3]"
   ]
  },
  {
   "cell_type": "code",
   "execution_count": 173,
   "id": "cffed36c",
   "metadata": {},
   "outputs": [],
   "source": [
    "t = (1, 2, 3)"
   ]
  },
  {
   "cell_type": "code",
   "execution_count": 178,
   "id": "9421b4d0",
   "metadata": {},
   "outputs": [
    {
     "data": {
      "text/plain": [
       "[5, 3, 1, -1, -3, -5, -7, -9]"
      ]
     },
     "execution_count": 178,
     "metadata": {},
     "output_type": "execute_result"
    }
   ],
   "source": [
    "list(range(5, -10, -2))"
   ]
  },
  {
   "cell_type": "code",
   "execution_count": 180,
   "id": "fef42145",
   "metadata": {},
   "outputs": [
    {
     "name": "stdout",
     "output_type": "stream",
     "text": [
      "3\n"
     ]
    },
    {
     "data": {
      "text/plain": [
       "(-10, -7, -4, -1, 2, 5, 8)"
      ]
     },
     "execution_count": 180,
     "metadata": {},
     "output_type": "execute_result"
    }
   ],
   "source": [
    "tuple(range(-10, 10, int(input(''))))"
   ]
  },
  {
   "cell_type": "code",
   "execution_count": 184,
   "id": "450f89f1",
   "metadata": {
    "scrolled": true
   },
   "outputs": [
    {
     "name": "stdout",
     "output_type": "stream",
     "text": [
      "3\n"
     ]
    }
   ],
   "source": [
    "i = (range(-10, 10, int(input())))"
   ]
  },
  {
   "cell_type": "code",
   "execution_count": 193,
   "id": "9dc16107",
   "metadata": {},
   "outputs": [
    {
     "data": {
      "text/plain": [
       "[1, 2, 3, 1, 2, 3, 1, 2, 3]"
      ]
     },
     "execution_count": 193,
     "metadata": {},
     "output_type": "execute_result"
    }
   ],
   "source": [
    "[1, 2, 3] * 3"
   ]
  },
  {
   "cell_type": "code",
   "execution_count": 194,
   "id": "b9650207",
   "metadata": {},
   "outputs": [
    {
     "data": {
      "text/plain": [
       "[1, 2, 3, 1, 2, 3, 1, 2, 3]"
      ]
     },
     "execution_count": 194,
     "metadata": {},
     "output_type": "execute_result"
    }
   ],
   "source": [
    "3 * [1, 2, 3]"
   ]
  },
  {
   "cell_type": "code",
   "execution_count": 195,
   "id": "04484e36",
   "metadata": {},
   "outputs": [
    {
     "data": {
      "text/plain": [
       "[0, 1, 2, 0, 1, 2, 0, 1, 2]"
      ]
     },
     "execution_count": 195,
     "metadata": {},
     "output_type": "execute_result"
    }
   ],
   "source": [
    "list(range(3)) * 3"
   ]
  },
  {
   "cell_type": "code",
   "execution_count": 197,
   "id": "08c2ca68",
   "metadata": {},
   "outputs": [
    {
     "data": {
      "text/plain": [
       "2"
      ]
     },
     "execution_count": 197,
     "metadata": {},
     "output_type": "execute_result"
    }
   ],
   "source": [
    "len(range(1,3))"
   ]
  },
  {
   "cell_type": "code",
   "execution_count": 198,
   "id": "9ef6eef8",
   "metadata": {},
   "outputs": [],
   "source": [
    "a = [0,10,20,30,40,50,60,70,80,90]"
   ]
  },
  {
   "cell_type": "code",
   "execution_count": 203,
   "id": "3a20f773",
   "metadata": {},
   "outputs": [],
   "source": [
    "c = len(a)"
   ]
  },
  {
   "cell_type": "code",
   "execution_count": 204,
   "id": "a7204ff8",
   "metadata": {},
   "outputs": [
    {
     "data": {
      "text/plain": [
       "10"
      ]
     },
     "execution_count": 204,
     "metadata": {},
     "output_type": "execute_result"
    }
   ],
   "source": [
    "c"
   ]
  },
  {
   "cell_type": "code",
   "execution_count": 206,
   "id": "6d31a259",
   "metadata": {},
   "outputs": [
    {
     "data": {
      "text/plain": [
       "[0, 10, 20, 30, 40, 50, 60, 70, 80, 90]"
      ]
     },
     "execution_count": 206,
     "metadata": {},
     "output_type": "execute_result"
    }
   ],
   "source": [
    "a[:c:] #바로 a[len(a)]를 쓰면  out of range가 뜬다."
   ]
  },
  {
   "cell_type": "code",
   "execution_count": 210,
   "id": "aea40c26",
   "metadata": {},
   "outputs": [
    {
     "data": {
      "text/plain": [
       "[0, 10, 20, 30, 40, 50, 60, 70, 80, 90]"
      ]
     },
     "execution_count": 210,
     "metadata": {},
     "output_type": "execute_result"
    }
   ],
   "source": [
    "#전체를 가져올 수 있는 방법\n",
    "a\n",
    "a[:]\n",
    "a[::]\n",
    "a[:len(a)]\n",
    "a[0:]"
   ]
  },
  {
   "cell_type": "raw",
   "id": "459b6734",
   "metadata": {},
   "source": [
    "# range과 문자열에 쓰는 슬라이스도 똑같다"
   ]
  },
  {
   "cell_type": "code",
   "execution_count": 217,
   "id": "a1a0a421",
   "metadata": {},
   "outputs": [
    {
     "data": {
      "text/plain": [
       "[0, 10, 'x', 'y', 'z', 'c', 70, 80, 90]"
      ]
     },
     "execution_count": 217,
     "metadata": {},
     "output_type": "execute_result"
    }
   ],
   "source": [
    "a = [0,10,20,30,40,50,60,70,80,90]\n",
    "a[2:5] = ['a','b','c'] #3개까지 할당 가능하지만 그보다 작은 개수여도 상관없음 요소 개수가 줄어들 뿐임\n",
    "a\n",
    "a[2:5] = ['a']\n",
    "a\n",
    "a[2:5] = ['x', 'y','z','c']\n",
    "a\n",
    "#하지만 증가폭이 정해져있다면 요소개수와 똑같아야함.\n",
    "a[2:5:1] = ['x', 'y','z']\n",
    "a"
   ]
  },
  {
   "cell_type": "code",
   "execution_count": 219,
   "id": "df328ff0",
   "metadata": {},
   "outputs": [],
   "source": [
    "a = range(1,5)"
   ]
  },
  {
   "cell_type": "code",
   "execution_count": 222,
   "id": "f582ea88",
   "metadata": {},
   "outputs": [
    {
     "data": {
      "text/plain": [
       "range(3, 5)"
      ]
     },
     "execution_count": 222,
     "metadata": {},
     "output_type": "execute_result"
    }
   ],
   "source": [
    "a[2:4]"
   ]
  },
  {
   "cell_type": "code",
   "execution_count": 232,
   "id": "67e19536",
   "metadata": {},
   "outputs": [
    {
     "name": "stdout",
     "output_type": "stream",
     "text": [
      "1 2 3 4 5 6 7 8\n"
     ]
    }
   ],
   "source": [
    "a = tuple(input().split(' ')[:-5])"
   ]
  },
  {
   "cell_type": "code",
   "execution_count": 236,
   "id": "8d9505e5",
   "metadata": {},
   "outputs": [
    {
     "name": "stdout",
     "output_type": "stream",
     "text": [
      "1 2 3 4 5 6 7 8 9\n",
      "('1', '2', '3', '4')\n"
     ]
    }
   ],
   "source": [
    "a = input().split(' ')\n",
    "del a[-5:]\n",
    "print(tuple(a))"
   ]
  },
  {
   "cell_type": "code",
   "execution_count": 247,
   "id": "a0eebcaa",
   "metadata": {},
   "outputs": [
    {
     "name": "stdout",
     "output_type": "stream",
     "text": [
      "male\n"
     ]
    }
   ],
   "source": [
    "pin = '881120-1068234'\n",
    "a = pin.split('-')[1]\n",
    "if int(a[0]) % 2 == 1:\n",
    "    print('male')\n",
    "elif (int(a[0]) = 0):\n",
    "    print('잘못된 값을 입력하였습니다.')\n",
    "else:\n",
    "    print('female')"
   ]
  },
  {
   "cell_type": "code",
   "execution_count": 248,
   "id": "4c0e5345",
   "metadata": {},
   "outputs": [
    {
     "name": "stdout",
     "output_type": "stream",
     "text": [
      "여자\n"
     ]
    }
   ],
   "source": [
    "a, b = pin.split('-')\n",
    "print('남자' if b[0]==1 else '여자')"
   ]
  },
  {
   "cell_type": "code",
   "execution_count": null,
   "id": "f0e7e280",
   "metadata": {},
   "outputs": [],
   "source": [
    "#a = 257\n",
    "#b = 257\n",
    "#a is b\n",
    "#값을 비교할 때는 \"==\" 사용!!\n",
    "#is를 사용한다는 것의 의미 : id(a) == id(b), 값을 비교하는 것은 아님!\n",
    "# -5 ~ 256은 파이썬 인터프리터에서 예약이 되어있어서 예외ㅏ"
   ]
  },
  {
   "cell_type": "markdown",
   "id": "105230fa",
   "metadata": {},
   "source": [
    "# 문제! 전화번호에서 맨 뒤의 4자리를 제외한 모든 자리를 *로 바꾸어 출력하기.\n",
    " 전화번호는 str(문자열)의 형태로 주어지고 자릿수는 4자리 이상인 모든 번호"
   ]
  },
  {
   "cell_type": "code",
   "execution_count": 259,
   "id": "833eaf6a",
   "metadata": {},
   "outputs": [],
   "source": [
    "def solution(p_n):\n",
    "    front = \"*\" * (len(p_n) - 4)\n",
    "    back = p_n[-4:]\n",
    "    return (front + back)"
   ]
  },
  {
   "cell_type": "code",
   "execution_count": 260,
   "id": "391562ae",
   "metadata": {},
   "outputs": [
    {
     "data": {
      "text/plain": [
       "'******4140'"
      ]
     },
     "execution_count": 260,
     "metadata": {},
     "output_type": "execute_result"
    }
   ],
   "source": [
    "solution('1230104140')"
   ]
  },
  {
   "cell_type": "code",
   "execution_count": 283,
   "id": "65bb8a78",
   "metadata": {},
   "outputs": [],
   "source": [
    "lux = {'health' : 490, 'health' : 800, 'mana' : 350, 'melee' : 550, 'armor' : 18.72}"
   ]
  },
  {
   "cell_type": "code",
   "execution_count": 265,
   "id": "2fc9fe46",
   "metadata": {},
   "outputs": [
    {
     "data": {
      "text/plain": [
       "dict_keys(['health', 'mana', 'melee', 'armor'])"
      ]
     },
     "execution_count": 265,
     "metadata": {},
     "output_type": "execute_result"
    }
   ],
   "source": [
    "a.keys() #health에 담긴 490은 사라짐."
   ]
  },
  {
   "cell_type": "code",
   "execution_count": 267,
   "id": "fbcb4e29",
   "metadata": {},
   "outputs": [
    {
     "data": {
      "text/plain": [
       "{'health': 800, 'mana': 350, 'melee': 550, 'armor': 18.72}"
      ]
     },
     "execution_count": 267,
     "metadata": {},
     "output_type": "execute_result"
    }
   ],
   "source": [
    "a"
   ]
  },
  {
   "cell_type": "code",
   "execution_count": 266,
   "id": "cdab6d2b",
   "metadata": {},
   "outputs": [
    {
     "data": {
      "text/plain": [
       "dict_values([800, 350, 550, 18.72])"
      ]
     },
     "execution_count": 266,
     "metadata": {},
     "output_type": "execute_result"
    }
   ],
   "source": [
    "a.values()"
   ]
  },
  {
   "cell_type": "code",
   "execution_count": 271,
   "id": "187fefe3",
   "metadata": {},
   "outputs": [],
   "source": [
    "x = {100 : 'hundred', False : 0, 3.5 : [3.5, 3.5]}"
   ]
  },
  {
   "cell_type": "code",
   "execution_count": 269,
   "id": "a30fb3b5",
   "metadata": {},
   "outputs": [
    {
     "data": {
      "text/plain": [
       "{100: 'hundred', False: 0, 3.5: [3.5, 3.5]}"
      ]
     },
     "execution_count": 269,
     "metadata": {},
     "output_type": "execute_result"
    }
   ],
   "source": [
    "x"
   ]
  },
  {
   "cell_type": "code",
   "execution_count": 270,
   "id": "a573465f",
   "metadata": {},
   "outputs": [
    {
     "ename": "TypeError",
     "evalue": "unhashable type: 'list'",
     "output_type": "error",
     "traceback": [
      "\u001b[1;31m--------------------------------------------------------------------------\u001b[0m",
      "\u001b[1;31mTypeError\u001b[0m                                Traceback (most recent call last)",
      "\u001b[1;32m<ipython-input-270-fc1d7c719707>\u001b[0m in \u001b[0;36m<module>\u001b[1;34m\u001b[0m\n\u001b[1;32m----> 1\u001b[1;33m \u001b[0mx\u001b[0m \u001b[1;33m=\u001b[0m \u001b[1;33m{\u001b[0m\u001b[1;33m[\u001b[0m\u001b[1;36m10\u001b[0m\u001b[1;33m,\u001b[0m \u001b[1;36m20\u001b[0m\u001b[1;33m]\u001b[0m \u001b[1;33m:\u001b[0m \u001b[1;36m100\u001b[0m\u001b[1;33m}\u001b[0m\u001b[1;33m\u001b[0m\u001b[1;33m\u001b[0m\u001b[0m\n\u001b[0m",
      "\u001b[1;31mTypeError\u001b[0m: unhashable type: 'list'"
     ]
    }
   ],
   "source": [
    "#x = {[10, 20] : 100} error가 뜬다 key에 list를 넣었기 때문이다. 뿐만아니라 딕셔너리도 올 수 없다."
   ]
  },
  {
   "cell_type": "code",
   "execution_count": 272,
   "id": "aa86b6d2",
   "metadata": {},
   "outputs": [
    {
     "ename": "TypeError",
     "evalue": "unhashable type: 'dict'",
     "output_type": "error",
     "traceback": [
      "\u001b[1;31m--------------------------------------------------------------------------\u001b[0m",
      "\u001b[1;31mTypeError\u001b[0m                                Traceback (most recent call last)",
      "\u001b[1;32m<ipython-input-272-45d133d8fde9>\u001b[0m in \u001b[0;36m<module>\u001b[1;34m\u001b[0m\n\u001b[1;32m----> 1\u001b[1;33m \u001b[0ma\u001b[0m \u001b[1;33m=\u001b[0m \u001b[1;33m{\u001b[0m\u001b[0mx\u001b[0m \u001b[1;33m:\u001b[0m \u001b[1;34m'ok?'\u001b[0m\u001b[1;33m}\u001b[0m\u001b[1;33m\u001b[0m\u001b[1;33m\u001b[0m\u001b[0m\n\u001b[0m",
      "\u001b[1;31mTypeError\u001b[0m: unhashable type: 'dict'"
     ]
    }
   ],
   "source": [
    "a = {x : 'ok?'}"
   ]
  },
  {
   "cell_type": "code",
   "execution_count": 274,
   "id": "802381bd",
   "metadata": {},
   "outputs": [],
   "source": [
    "a = {'it?' : x}"
   ]
  },
  {
   "cell_type": "code",
   "execution_count": 275,
   "id": "8eac4c5e",
   "metadata": {},
   "outputs": [
    {
     "data": {
      "text/plain": [
       "{'it?': {100: 'hundred', False: 0, 3.5: [3.5, 3.5]}}"
      ]
     },
     "execution_count": 275,
     "metadata": {},
     "output_type": "execute_result"
    }
   ],
   "source": [
    "a"
   ]
  },
  {
   "cell_type": "code",
   "execution_count": 277,
   "id": "a7455095",
   "metadata": {},
   "outputs": [
    {
     "data": {
      "text/plain": [
       "'hundred'"
      ]
     },
     "execution_count": 277,
     "metadata": {},
     "output_type": "execute_result"
    }
   ],
   "source": [
    "a['it?'][100] #2차원 배열처럼 쓰인다. "
   ]
  },
  {
   "cell_type": "code",
   "execution_count": 284,
   "id": "2bbed4df",
   "metadata": {},
   "outputs": [
    {
     "data": {
      "text/plain": [
       "1124167786413293147"
      ]
     },
     "execution_count": 284,
     "metadata": {},
     "output_type": "execute_result"
    }
   ],
   "source": [
    "hash('health')"
   ]
  },
  {
   "cell_type": "code",
   "execution_count": 287,
   "id": "ca58ead2",
   "metadata": {},
   "outputs": [
    {
     "name": "stdout",
     "output_type": "stream",
     "text": [
      "1124167786413293147\n"
     ]
    }
   ],
   "source": [
    "print(1124167786413293147)"
   ]
  },
  {
   "cell_type": "markdown",
   "id": "ab5f80f2",
   "metadata": {},
   "source": [
    "* 빈 딕셔너리 만들기"
   ]
  },
  {
   "cell_type": "code",
   "execution_count": 290,
   "id": "2d96ceb5",
   "metadata": {},
   "outputs": [
    {
     "name": "stdout",
     "output_type": "stream",
     "text": [
      "<class 'dict'> <class 'dict'>\n"
     ]
    }
   ],
   "source": [
    "x = {}\n",
    "y = dict()\n",
    "print(type(x), type(y))"
   ]
  },
  {
   "cell_type": "markdown",
   "id": "ecd44be9",
   "metadata": {},
   "source": [
    "* dict 함수로 딕셔너리 만들기"
   ]
  },
  {
   "cell_type": "code",
   "execution_count": 294,
   "id": "d05c424a",
   "metadata": {},
   "outputs": [
    {
     "data": {
      "text/plain": [
       "{'health': 800, 'mana': 334, 'melee': 340, 'armor': 18.72}"
      ]
     },
     "execution_count": 294,
     "metadata": {},
     "output_type": "execute_result"
    }
   ],
   "source": [
    "lux1 = dict(health=800, mana=334, melee=340, armor=18.72)\n",
    "lux1"
   ]
  },
  {
   "cell_type": "code",
   "execution_count": 295,
   "id": "74fd1d38",
   "metadata": {},
   "outputs": [
    {
     "data": {
      "text/plain": [
       "{'health': 800, 'mana': 350, 'melee': 550, 'armor': 18.72}"
      ]
     },
     "execution_count": 295,
     "metadata": {},
     "output_type": "execute_result"
    }
   ],
   "source": [
    "lux"
   ]
  },
  {
   "cell_type": "code",
   "execution_count": 306,
   "id": "4dfbc2be",
   "metadata": {},
   "outputs": [
    {
     "data": {
      "text/plain": [
       "{'health': 490, 'mana': 334}"
      ]
     },
     "execution_count": 306,
     "metadata": {},
     "output_type": "execute_result"
    }
   ],
   "source": [
    "a = dict(zip(['health', 'mana'], [490, 334]))\n",
    "a #zip은 튜플형태로 출력됨."
   ]
  },
  {
   "cell_type": "code",
   "execution_count": 309,
   "id": "807a8bb2",
   "metadata": {},
   "outputs": [
    {
     "data": {
      "text/plain": [
       "<zip at 0x1dd8030c0c0>"
      ]
     },
     "execution_count": 309,
     "metadata": {},
     "output_type": "execute_result"
    }
   ],
   "source": [
    "#참고\n",
    "zip(['health', 'mana'], [490, 334])"
   ]
  },
  {
   "cell_type": "code",
   "execution_count": 310,
   "id": "20a7e4dd",
   "metadata": {},
   "outputs": [
    {
     "data": {
      "text/plain": [
       "range(0, 10)"
      ]
     },
     "execution_count": 310,
     "metadata": {},
     "output_type": "execute_result"
    }
   ],
   "source": [
    "range(10)"
   ]
  },
  {
   "cell_type": "code",
   "execution_count": 312,
   "id": "ab9b8c25",
   "metadata": {},
   "outputs": [
    {
     "data": {
      "text/plain": [
       "{'health': 490, 'mana': 390}"
      ]
     },
     "execution_count": 312,
     "metadata": {},
     "output_type": "execute_result"
    }
   ],
   "source": [
    "lux3 = dict([('health', 490), (\"mana\", 390)])\n",
    "lux3"
   ]
  },
  {
   "cell_type": "code",
   "execution_count": 314,
   "id": "0b364caa",
   "metadata": {},
   "outputs": [
    {
     "data": {
      "text/plain": [
       "{'health': 800, 'mana': 350, 'melee': 550, 'armor': 18.72}"
      ]
     },
     "execution_count": 314,
     "metadata": {},
     "output_type": "execute_result"
    }
   ],
   "source": [
    "lux4 = dict({'health' : 490, 'health' : 800, 'mana' : 350, 'melee' : 550, 'armor' : 18.72})\n",
    "lux4"
   ]
  },
  {
   "cell_type": "code",
   "execution_count": 316,
   "id": "fe44acdd",
   "metadata": {},
   "outputs": [
    {
     "data": {
      "text/plain": [
       "{'health': 800, 'mana': 350, 'melee': 550, 'armor': 18.72, 'mana_regen': 19.2}"
      ]
     },
     "execution_count": 316,
     "metadata": {},
     "output_type": "execute_result"
    }
   ],
   "source": [
    "#값 추가\n",
    "lux4['mana_regen'] = 19.2\n",
    "lux4"
   ]
  },
  {
   "cell_type": "code",
   "execution_count": 317,
   "id": "08ed54fe",
   "metadata": {},
   "outputs": [],
   "source": [
    "#키 in 딕셔너리 사용 좋음.\n",
    "#개수 구할땐 len()\n",
    "#조합과 마찬가지로 순서가 없음!"
   ]
  },
  {
   "cell_type": "code",
   "execution_count": 318,
   "id": "060dc058",
   "metadata": {},
   "outputs": [
    {
     "data": {
      "text/plain": [
       "{'a': 20, 'b': 20}"
      ]
     },
     "execution_count": 318,
     "metadata": {},
     "output_type": "execute_result"
    }
   ],
   "source": [
    "dict(a=20, b=20)"
   ]
  },
  {
   "cell_type": "code",
   "execution_count": null,
   "id": "0c952023",
   "metadata": {},
   "outputs": [],
   "source": [
    "print(dict([input().split(' ')], [input().split(' ')]))"
   ]
  },
  {
   "cell_type": "markdown",
   "id": "70fae48f",
   "metadata": {},
   "source": []
  },
  {
   "cell_type": "code",
   "execution_count": null,
   "id": "4d848b0f",
   "metadata": {},
   "outputs": [],
   "source": []
  },
  {
   "cell_type": "code",
   "execution_count": 3,
   "id": "170115f4",
   "metadata": {},
   "outputs": [
    {
     "name": "stdout",
     "output_type": "stream",
     "text": [
      "10 20 30 40 50 60\n",
      "1 2 3 4 5 6\n"
     ]
    },
    {
     "data": {
      "text/plain": [
       "{'10': 1.0, '20': 2.0, '30': 3.0, '40': 4.0, '50': 5.0, '60': 6.0}"
      ]
     },
     "execution_count": 3,
     "metadata": {},
     "output_type": "execute_result"
    }
   ],
   "source": [
    "dict(zip(input().split(' '), map(float, input().split(' '))))"
   ]
  },
  {
   "cell_type": "code",
   "execution_count": 5,
   "id": "76c138eb",
   "metadata": {},
   "outputs": [
    {
     "name": "stdout",
     "output_type": "stream",
     "text": [
      "1 2 3 4 5 6 7 8\n",
      "10 20 30 40 50 60 70 80\n"
     ]
    },
    {
     "data": {
      "text/plain": [
       "{'1': 10.0,\n",
       " '2': 20.0,\n",
       " '3': 30.0,\n",
       " '4': 40.0,\n",
       " '5': 50.0,\n",
       " '6': 60.0,\n",
       " '7': 70.0,\n",
       " '8': 80.0}"
      ]
     },
     "execution_count": 5,
     "metadata": {},
     "output_type": "execute_result"
    }
   ],
   "source": [
    "keys = input().split(' ')\n",
    "values = map(float, input().split(' '))\n",
    "d = {}\n",
    "\n",
    "zipped = zip(keys, values)\n",
    "dict(zipped)"
   ]
  },
  {
   "cell_type": "code",
   "execution_count": null,
   "id": "7c9aab13",
   "metadata": {},
   "outputs": [],
   "source": [
    "pri, cop = input().split(' ')\n",
    "cop = cop[5:]\n",
    "print(int(pri) - int(cop))"
   ]
  },
  {
   "cell_type": "code",
   "execution_count": null,
   "id": "1de3277b",
   "metadata": {},
   "outputs": [],
   "source": [
    "pri, cop = input().split(' ')\n",
    "if cop == 'cash3000':\n",
    "    print(int(pri) - 3000)\n",
    "elif cop == 'cash5000':\n",
    "    print(int(pri) - 5000)\n",
    "else:\n",
    "    print('유효하지 않은 코드입니다.')"
   ]
  },
  {
   "cell_type": "code",
   "execution_count": null,
   "id": "90311d14",
   "metadata": {},
   "outputs": [],
   "source": [
    "a = 1"
   ]
  },
  {
   "cell_type": "code",
   "execution_count": null,
   "id": "9c2da3b6",
   "metadata": {},
   "outputs": [],
   "source": [
    "if x == 10 & 1 == 10"
   ]
  },
  {
   "cell_type": "code",
   "execution_count": 12,
   "id": "a667b6ba",
   "metadata": {},
   "outputs": [
    {
     "name": "stdout",
     "output_type": "stream",
     "text": [
      "불합격\n"
     ]
    }
   ],
   "source": [
    "written_test = 75\n",
    "coding_test = 80\n",
    "if written_test >= 80 and coding_test == True:\n",
    "    print('합격')\n",
    "else:\n",
    "    print('불합격')"
   ]
  },
  {
   "cell_type": "code",
   "execution_count": null,
   "id": "c53011d7",
   "metadata": {},
   "outputs": [],
   "source": []
  }
 ],
 "metadata": {
  "kernelspec": {
   "display_name": "Python 3",
   "language": "python",
   "name": "python3"
  }
 },
 "nbformat": 4,
 "nbformat_minor": 5
}
