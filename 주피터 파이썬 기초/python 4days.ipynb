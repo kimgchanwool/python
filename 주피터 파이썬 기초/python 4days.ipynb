{
 "cells": [
  {
   "cell_type": "markdown",
   "id": "fdd31a88",
   "metadata": {},
   "source": [
    "# replace('요소', '바꿀요소')\n",
    " 할당하지 않으면 결과 유지가 안된다"
   ]
  },
  {
   "cell_type": "code",
   "execution_count": 3,
   "id": "e4b91d9a",
   "metadata": {},
   "outputs": [
    {
     "ename": "ValueError",
     "evalue": "the first two maketrans arguments must have equal length",
     "output_type": "error",
     "traceback": [
      "\u001b[1;31m---------------------------------------------------------------------------\u001b[0m",
      "\u001b[1;31mValueError\u001b[0m                                Traceback (most recent call last)",
      "\u001b[1;32m<ipython-input-3-9a3058da8403>\u001b[0m in \u001b[0;36m<module>\u001b[1;34m\u001b[0m\n\u001b[1;32m----> 1\u001b[1;33m \u001b[0mtable\u001b[0m \u001b[1;33m=\u001b[0m \u001b[0mstr\u001b[0m\u001b[1;33m.\u001b[0m\u001b[0mmaketrans\u001b[0m\u001b[1;33m(\u001b[0m\u001b[1;34m'요소'\u001b[0m\u001b[1;33m,\u001b[0m \u001b[1;34m'바꿀 요소'\u001b[0m\u001b[1;33m)\u001b[0m\u001b[1;33m\u001b[0m\u001b[1;33m\u001b[0m\u001b[0m\n\u001b[0m\u001b[0;32m      2\u001b[0m \u001b[0mtranslate\u001b[0m\u001b[1;33m(\u001b[0m\u001b[0mtable\u001b[0m\u001b[1;33m)\u001b[0m\u001b[1;33m\u001b[0m\u001b[1;33m\u001b[0m\u001b[0m\n",
      "\u001b[1;31mValueError\u001b[0m: the first two maketrans arguments must have equal length"
     ]
    }
   ],
   "source": [
    "table = str.maketrans('요소', '바꿀 요소')\n",
    "translate(table)"
   ]
  },
  {
   "cell_type": "markdown",
   "id": "e4cc285e",
   "metadata": {},
   "source": [
    "# split() 미지정시에 공백 기준"
   ]
  },
  {
   "cell_type": "markdown",
   "id": "0d9339bc",
   "metadata": {},
   "source": [
    "# ''.join(요소)"
   ]
  },
  {
   "cell_type": "markdown",
   "id": "79c54918",
   "metadata": {},
   "source": [
    "# upper lower"
   ]
  },
  {
   "cell_type": "markdown",
   "id": "403f5a47",
   "metadata": {},
   "source": [
    "# lstrip()좌측 연속적인 공백 삭제 rstrip() 우측 연속적인 공백 삭제 strip() 양쪽 공백 삭제 // \n",
    "요소를 넣어주면 해당 요소만 삭제"
   ]
  },
  {
   "cell_type": "markdown",
   "id": "94256805",
   "metadata": {},
   "source": [
    "# ljust() 좌측 정렬 rjust() 우측 정렬 center() \n",
    "요소 넣으면 남는 공간 공백. 홀수면 좌측 우선"
   ]
  },
  {
   "cell_type": "code",
   "execution_count": 8,
   "id": "3a83dd43",
   "metadata": {},
   "outputs": [],
   "source": [
    "#메서드 체이닝은 여러 함수(메서드)를 줄줄이 사용하는 것"
   ]
  },
  {
   "cell_type": "markdown",
   "id": "3165d666",
   "metadata": {},
   "source": [
    "# zfill(num) \n",
    "총 길이를 num으로 맞추고 남는 만큼 좌측에 0으로 채움 (문자열 전용) 패딩느낌"
   ]
  },
  {
   "cell_type": "markdown",
   "id": "7b2c8616",
   "metadata": {},
   "source": [
    "# find('요소')\n",
    "* 요소의 시작인덱스 반환, \n",
    "* 2가지일경우 처음 찾은 문자열의 인덱스 반환\n",
    "\n",
    "index()와 비슷하지만 index는 없을 경우 에러가 난다."
   ]
  },
  {
   "cell_type": "code",
   "execution_count": 14,
   "id": "9e443bda",
   "metadata": {},
   "outputs": [
    {
     "ename": "ValueError",
     "evalue": "substring not found",
     "output_type": "error",
     "traceback": [
      "\u001b[1;31m---------------------------------------------------------------------------\u001b[0m",
      "\u001b[1;31mValueError\u001b[0m                                Traceback (most recent call last)",
      "\u001b[1;32m<ipython-input-14-20e86b0ed732>\u001b[0m in \u001b[0;36m<module>\u001b[1;34m\u001b[0m\n\u001b[0;32m      1\u001b[0m \u001b[1;34m\"kim chan wool kimc\"\u001b[0m\u001b[1;33m.\u001b[0m\u001b[0mfind\u001b[0m\u001b[1;33m(\u001b[0m\u001b[1;34m'mc'\u001b[0m\u001b[1;33m)\u001b[0m \u001b[1;31m#잘 된다\u001b[0m\u001b[1;33m\u001b[0m\u001b[1;33m\u001b[0m\u001b[0m\n\u001b[0;32m      2\u001b[0m \u001b[1;34m\"kim chan wool kimc\"\u001b[0m\u001b[1;33m.\u001b[0m\u001b[0mfind\u001b[0m\u001b[1;33m(\u001b[0m\u001b[1;34m'xy'\u001b[0m\u001b[1;33m)\u001b[0m \u001b[1;31m#없을 경우 -1 반환(while이나 if문에 써도 될 듯)\u001b[0m\u001b[1;33m\u001b[0m\u001b[1;33m\u001b[0m\u001b[0m\n\u001b[1;32m----> 3\u001b[1;33m \u001b[1;34m\"kim chan wool kimc\"\u001b[0m\u001b[1;33m.\u001b[0m\u001b[0mindex\u001b[0m\u001b[1;33m(\u001b[0m\u001b[1;34m'xy'\u001b[0m\u001b[1;33m)\u001b[0m \u001b[1;31m#없을 경우 오류 반환\u001b[0m\u001b[1;33m\u001b[0m\u001b[1;33m\u001b[0m\u001b[0m\n\u001b[0m",
      "\u001b[1;31mValueError\u001b[0m: substring not found"
     ]
    }
   ],
   "source": [
    "\"kim chan wool kimc\".find('mc') #잘 된다\n",
    "\"kim chan wool kimc\".find('xy') #없을 경우 -1 반환(while이나 if문에 써도 될 듯)\n",
    "\"kim chan wool kimc\".index('xy') #없을 경우 오류\n",
    "\"kim chan wool kimc\".rfind('mc')\n",
    "\"kim chan wool kimc\".rindex('mc')"
   ]
  },
  {
   "cell_type": "markdown",
   "id": "9c3847f0",
   "metadata": {},
   "source": [
    "* rfind()는 뒤에서부터 찾는다 기본 find 는 좌측부터 우측에서 시작한다고 역순인건 아님 순서는 기존 그대로 봄.\n",
    "* 비슷하게 rindex도 있다."
   ]
  },
  {
   "cell_type": "markdown",
   "id": "a0da6a48",
   "metadata": {},
   "source": [
    "# count() 요소 찾기"
   ]
  },
  {
   "cell_type": "markdown",
   "id": "1fb1fdfe",
   "metadata": {},
   "source": [
    "# 서식 지정자, 포매팅 \n",
    "* '%s' % '문자열' 서식 지정자로 문자열 넣기 변수처럼 사용해도 능\n",
    "* '{} {}'.format(요소1, 요소2)"
   ]
  },
  {
   "cell_type": "code",
   "execution_count": 15,
   "id": "1be5c0dc",
   "metadata": {},
   "outputs": [
    {
     "data": {
      "text/plain": [
       "'my name is chanwool'"
      ]
     },
     "execution_count": 15,
     "metadata": {},
     "output_type": "execute_result"
    }
   ],
   "source": [
    "name = 'chanwool'\n",
    "'my name is %s' % name"
   ]
  },
  {
   "cell_type": "code",
   "execution_count": 16,
   "id": "2a456465",
   "metadata": {},
   "outputs": [
    {
     "data": {
      "text/plain": [
       "'my name is chanwool'"
      ]
     },
     "execution_count": 16,
     "metadata": {},
     "output_type": "execute_result"
    }
   ],
   "source": [
    "'my name is %s' % 'chanwool'\n",
    "# %10s 는 자릿수 맞추기 10자리로 남는자리 왼쪽 공백 기존 문자열 오른쪽 정렬 (왼쪽정렬은 %-10s, 앞에 -(dash)붙이기)"
   ]
  },
  {
   "cell_type": "code",
   "execution_count": 18,
   "id": "df7007c9",
   "metadata": {},
   "outputs": [
    {
     "data": {
      "text/plain": [
       "'i am 22 years old'"
      ]
     },
     "execution_count": 18,
     "metadata": {},
     "output_type": "execute_result"
    }
   ],
   "source": [
    "'i am %d years old.' % 22\n",
    "age = 22\n",
    "'i am %d years old' % age\n",
    "# %d는 10진수 정수의 약자\n",
    "# 실수는 %f(loat) 자리수 지정하고 싶다면 %.nf % '실수'"
   ]
  },
  {
   "cell_type": "code",
   "execution_count": 21,
   "id": "2ba7541c",
   "metadata": {},
   "outputs": [
    {
     "data": {
      "text/plain": [
       "'2.30000'"
      ]
     },
     "execution_count": 21,
     "metadata": {},
     "output_type": "execute_result"
    }
   ],
   "source": [
    "'%.5f' % 2.3  #.뒤로 n자리로 늘리기.\n",
    "# 여러개 사용 가능!"
   ]
  },
  {
   "cell_type": "code",
   "execution_count": 22,
   "id": "40d301ae",
   "metadata": {},
   "outputs": [
    {
     "data": {
      "text/plain": [
       "'today is 3 April.'"
      ]
     },
     "execution_count": 22,
     "metadata": {},
     "output_type": "execute_result"
    }
   ],
   "source": [
    "'today is %d %s.' % (3, 'April')"
   ]
  },
  {
   "cell_type": "code",
   "execution_count": 27,
   "id": "f7d68093",
   "metadata": {},
   "outputs": [
    {
     "data": {
      "text/plain": [
       "'hello, world 100 script'"
      ]
     },
     "execution_count": 27,
     "metadata": {},
     "output_type": "execute_result"
    }
   ],
   "source": [
    "# 문자열 함수  format\n",
    "'hello, {0} {2} {1}'.format('world', 'script', 100) #순서대로 0에는 world 2에는 100 1에는 script가 들어간다 \n",
    "#요소 순서를 넣는 것임. 같은요소 두개써도 괜찮음 숫자 지정 안하면 차례대로 온다.\n",
    "#'hello, {0}'.format(100)"
   ]
  },
  {
   "cell_type": "code",
   "execution_count": 28,
   "id": "c5783f74",
   "metadata": {},
   "outputs": [
    {
     "data": {
      "text/plain": [
       "'hello, python, 3.6'"
      ]
     },
     "execution_count": 28,
     "metadata": {},
     "output_type": "execute_result"
    }
   ],
   "source": [
    "language = 'python'\n",
    "version = 3.6\n",
    "f'hello, {language}, {version}' #앞에붙는 f는 format의 f "
   ]
  },
  {
   "cell_type": "code",
   "execution_count": 30,
   "id": "d7547b40",
   "metadata": {},
   "outputs": [
    {
     "data": {
      "text/plain": [
       "'hello, c++, 1.36'"
      ]
     },
     "execution_count": 30,
     "metadata": {},
     "output_type": "execute_result"
    }
   ],
   "source": [
    "'hello, {language}, {version}'.format(language = 'c++', version = 1.36)"
   ]
  },
  {
   "cell_type": "markdown",
   "id": "cf79c77e",
   "metadata": {},
   "source": [
    "# '{인덱스:부등호 총 길이}'.format(\"요소\")"
   ]
  },
  {
   "cell_type": "code",
   "execution_count": 36,
   "id": "0ffaf590",
   "metadata": {},
   "outputs": [
    {
     "data": {
      "text/plain": [
       "'    python'"
      ]
     },
     "execution_count": 36,
     "metadata": {},
     "output_type": "execute_result"
    }
   ],
   "source": [
    "'{0:>10}'.format('python') # 열자리로 맞춰주고 부등호로 좌측 우측 정한다 앞은 인덱스 뒤는 길이"
   ]
  },
  {
   "cell_type": "code",
   "execution_count": 37,
   "id": "382da13a",
   "metadata": {},
   "outputs": [
    {
     "ename": "SyntaxError",
     "evalue": "invalid syntax (<ipython-input-37-f915e86c8f51>, line 1)",
     "output_type": "error",
     "traceback": [
      "\u001b[1;36m  File \u001b[1;32m\"<ipython-input-37-f915e86c8f51>\"\u001b[1;36m, line \u001b[1;32m1\u001b[0m\n\u001b[1;33m    '%03d' 0을 3개만큼 demical int를 받는다.\u001b[0m\n\u001b[1;37m           ^\u001b[0m\n\u001b[1;31mSyntaxError\u001b[0m\u001b[1;31m:\u001b[0m invalid syntax\n"
     ]
    }
   ],
   "source": [
    "'%03d' 0을 3개만큼 demical int를 받는다.\n",
    "'{0:03d}'.format(35) 길이 3으로 정하고 0번째 인덱스에 0을 넣어서 길이를 맞춘다.\n",
    "'{%08.2f}' % 3. 6 총길이는 8(.포함) 소수점은 2자리 남는거는 0으로 채운다."
   ]
  },
  {
   "cell_type": "markdown",
   "id": "62ec9979",
   "metadata": {},
   "source": [
    "# {인덱스:[[채우기]정렬][길이][.자릿수][자료형]} 서식지정자"
   ]
  },
  {
   "cell_type": "code",
   "execution_count": 39,
   "id": "dbf0b08d",
   "metadata": {},
   "outputs": [
    {
     "ename": "IndexError",
     "evalue": "Replacement index 1 out of range for positional args tuple",
     "output_type": "error",
     "traceback": [
      "\u001b[1;31m---------------------------------------------------------------------------\u001b[0m",
      "\u001b[1;31mIndexError\u001b[0m                                Traceback (most recent call last)",
      "\u001b[1;32m<ipython-input-39-fb8a69c94cb9>\u001b[0m in \u001b[0;36m<module>\u001b[1;34m\u001b[0m\n\u001b[1;32m----> 1\u001b[1;33m \u001b[1;34m'{1:0<10}'\u001b[0m\u001b[1;33m.\u001b[0m\u001b[0mformat\u001b[0m\u001b[1;33m(\u001b[0m\u001b[1;36m15\u001b[0m\u001b[1;33m)\u001b[0m \u001b[1;31m#길이 10, 왼쪽정렬하고 남는 공간은 0으로 채움\u001b[0m\u001b[1;33m\u001b[0m\u001b[1;33m\u001b[0m\u001b[0m\n\u001b[0m",
      "\u001b[1;31mIndexError\u001b[0m: Replacement index 1 out of range for positional args tuple"
     ]
    }
   ],
   "source": [
    "'{1:0<10}'.format(15) #길이 10, 왼쪽정렬하고 남는 공간은 0으로 채움"
   ]
  },
  {
   "cell_type": "code",
   "execution_count": 45,
   "id": "9174fbe1",
   "metadata": {},
   "outputs": [
    {
     "data": {
      "text/plain": [
       "'        15'"
      ]
     },
     "execution_count": 45,
     "metadata": {},
     "output_type": "execute_result"
    }
   ],
   "source": [
    "# 꺽새 없으면 왼쪽을 채움 채울 요소 없으면 공백으로 들어감\n",
    "'{0:10}'.format(15)"
   ]
  },
  {
   "cell_type": "code",
   "execution_count": 46,
   "id": "6f50746d",
   "metadata": {},
   "outputs": [
    {
     "data": {
      "text/plain": [
       "'hello,python3.6'"
      ]
     },
     "execution_count": 46,
     "metadata": {},
     "output_type": "execute_result"
    }
   ],
   "source": [
    "'%s%s%s' % ('hello,', 'python', 3.6)"
   ]
  },
  {
   "cell_type": "code",
   "execution_count": 62,
   "id": "51c1c3f5",
   "metadata": {},
   "outputs": [
    {
     "name": "stdout",
     "output_type": "stream",
     "text": [
      "'the grown-ups' response, this time, was to advise me to lay aside my drawings of boa constrictors, whether from the inside or the outside, and devote myself instead to geography, history, arithmetic, and grammar. That is why, at the, age of six, I gave up what might have been a magnificent career as a painter. I had been disheartened by the failure of my Drawing Number One and my Drawing Number Two. Grown-ups never understand anything by themselves, and it is tiresome for children to be always and forever explaining things to the.\n",
      "6\n"
     ]
    }
   ],
   "source": [
    "b = \"the grown-ups' response, this time, was to advise me to lay aside my drawings of boa constrictors, whether from the inside or the outside, and devote myself instead to geography, history, arithmetic, and grammar. That is why, at the, age of six, I gave up what might have been a magnificent career as a painter. I had been disheartened by the failure of my Drawing Number One and my Drawing Number Two. Grown-ups never understand anything by themselves, and it is tiresome for children to be always and forever explaining things to the.\"\n",
    "a = input().split()\n",
    "cnt = 0\n",
    "for i in a:\n",
    "    if i.strip(\"',.\") != 'the': #strip는 요소 빼기 !!!!!!!!!!\n",
    "        continue\n",
    "    cnt +=1\n",
    "print(cnt)"
   ]
  },
  {
   "cell_type": "code",
   "execution_count": 95,
   "id": "b8eb84c3",
   "metadata": {},
   "outputs": [
    {
     "name": "stdout",
     "output_type": "stream",
     "text": [
      "51900;83000;158000;367500;250000;59200;128500;1304000\n",
      "  1304000\n",
      "   367500\n",
      "   250000\n",
      "   158000\n",
      "   128500\n",
      "    83000\n",
      "    59200\n",
      "    51900\n"
     ]
    }
   ],
   "source": [
    "num = 51900;83000;158000;367500;250000;59200;128500;1304000\n",
    "s = map(int, input().split(\";\"))\n",
    "s = sorted(s, reverse=True)\n",
    "for i in s:\n",
    "    print('{0: >9}'.format(i, ','))"
   ]
  },
  {
   "cell_type": "code",
   "execution_count": 93,
   "id": "f0258986",
   "metadata": {},
   "outputs": [
    {
     "name": "stdout",
     "output_type": "stream",
     "text": [
      "51900;83000;158000;367500;250000;59200;128500;1304000\n",
      "1,304,000\n",
      "  367,500\n",
      "  250,000\n",
      "  158,000\n",
      "  128,500\n",
      "   83,000\n",
      "   59,200\n",
      "   51,900\n"
     ]
    }
   ],
   "source": [
    "s = map(int, input().split(\";\"))\n",
    "s = sorted(s, reverse=True)\n",
    "for i in s:\n",
    "    print('%9s' % format(i, ','))"
   ]
  },
  {
   "cell_type": "code",
   "execution_count": 94,
   "id": "c31e4f8a",
   "metadata": {
    "scrolled": true
   },
   "outputs": [
    {
     "name": "stdout",
     "output_type": "stream",
     "text": [
      "51900;83000;158000;367500;250000;59200;128500;1304000\n",
      "1,304,000\n",
      "  367,500\n",
      "  250,000\n",
      "  158,000\n",
      "  128,500\n",
      "   83,000\n",
      "   59,200\n",
      "   51,900\n"
     ]
    }
   ],
   "source": [
    "z"
   ]
  },
  {
   "cell_type": "code",
   "execution_count": 96,
   "id": "7b877243",
   "metadata": {},
   "outputs": [
    {
     "name": "stdout",
     "output_type": "stream",
     "text": [
      "   51,900\n",
      "   51,900\n"
     ]
    }
   ],
   "source": [
    "#1\n",
    "print('{0: >9,}'.format(i))\n",
    "#2\n",
    "print('%9s' % format(i, ',')) #내장 함수? 로 돈 변환 할 ㄸ ㅐ사용하는 것."
   ]
  },
  {
   "cell_type": "code",
   "execution_count": 106,
   "id": "2f366e2e",
   "metadata": {},
   "outputs": [
    {
     "name": "stdout",
     "output_type": "stream",
     "text": [
      "51900;83000;158000;367500;250000;59200;128500;1304000\n",
      "[1304000, 367500, 250000, 158000, 128500, 83000, 59200, 51900]\n",
      "1,304,000\n",
      "  367,500\n",
      "  250,000\n",
      "  158,000\n",
      "  128,500\n",
      "   83,000\n",
      "   59,200\n",
      "   51,900\n"
     ]
    }
   ],
   "source": [
    "# 51900;83000;158000;367500;250000;59200;128500;1304000\n",
    "s = list(map(int, input().split(';')))\n",
    "s.sort(reverse=True)\n",
    "print(s)\n",
    "for i in s:\n",
    "    print('%9s' % format(i, ','))"
   ]
  },
  {
   "cell_type": "code",
   "execution_count": 113,
   "id": "ae074496",
   "metadata": {},
   "outputs": [
    {
     "name": "stdout",
     "output_type": "stream",
     "text": [
      "1,304,000\n",
      "  367,500\n",
      "  250,000\n",
      "  158,000\n",
      "  128,500\n",
      "   83,000\n",
      "   59,200\n",
      "   51,900\n"
     ]
    }
   ],
   "source": [
    "s=\"51900;83000;158000;367500;250000;59200;128500;1304000\"\n",
    "s=list(map(int,s.split(';')))\n",
    "s=sorted(s,reverse=True)\n",
    "\n",
    "for i in s:\n",
    "    print('{0:>{1},}'.format(i, 9))"
   ]
  },
  {
   "cell_type": "code",
   "execution_count": 119,
   "id": "30d7150e",
   "metadata": {},
   "outputs": [
    {
     "name": "stdout",
     "output_type": "stream",
     "text": [
      "1,304,000\n",
      "  367,500\n",
      "  250,000\n",
      "  158,000\n",
      "  128,500\n",
      "   83,000\n",
      "   59,200\n",
      "   51,900\n"
     ]
    }
   ],
   "source": [
    "for i in range(len(s)):\n",
    "    s.sort(reverse=True)\n",
    "    print('%9s' % format(s[i], ','))\n",
    "#############################################\n",
    "l=[]\n",
    "for i in range(len(s)):\n",
    "    s.sort(reverse=True)\n",
    "    l.append('{0: >9,}'.format(s[i]))\n",
    "print(l)\n"
   ]
  },
  {
   "cell_type": "code",
   "execution_count": 121,
   "id": "d50da6d1",
   "metadata": {},
   "outputs": [
    {
     "name": "stdout",
     "output_type": "stream",
     "text": [
      "['1,304,000', '  367,500', '  250,000', '  158,000', '  128,500', '   83,000', '   59,200', '   51,900']\n"
     ]
    }
   ],
   "source": [
    "l=[]\n",
    "for i in range(len(s)):\n",
    "    s.sort(reverse=True)\n",
    "    l.append('{0: >9,}'.format(s[i]))\n",
    "print(l)"
   ]
  },
  {
   "cell_type": "markdown",
   "id": "340ab939",
   "metadata": {},
   "source": [
    "# setdefault(키, 값) # 수정 불가, update(기존키=새로운값) #없으면 새로 추가"
   ]
  },
  {
   "cell_type": "code",
   "execution_count": 124,
   "id": "f4235048",
   "metadata": {},
   "outputs": [
    {
     "data": {
      "text/plain": [
       "{'a': 10, 'b': 20, 'c': 30, 'd': 40, 'e': None}"
      ]
     },
     "execution_count": 124,
     "metadata": {},
     "output_type": "execute_result"
    }
   ],
   "source": [
    "x = {'a' : 10, 'b': 20, 'c' : 30, 'd' : 40}\n",
    "x.setdefault('e')\n",
    "x"
   ]
  },
  {
   "cell_type": "code",
   "execution_count": 250,
   "id": "d777b135",
   "metadata": {},
   "outputs": [
    {
     "data": {
      "text/plain": [
       "{'a': 10, 'b': 20, 'c': 30, 'd': 40, 'e': 50}"
      ]
     },
     "execution_count": 250,
     "metadata": {},
     "output_type": "execute_result"
    }
   ],
   "source": [
    "x = {'a' : 10, 'b': 20, 'c' : 30, 'd' : 40}\n",
    "x.setdefault('e', 50)\n",
    "x"
   ]
  },
  {
   "cell_type": "code",
   "execution_count": 126,
   "id": "c33c5111",
   "metadata": {},
   "outputs": [
    {
     "data": {
      "text/plain": [
       "{'a': 90, 'b': 20, 'c': 30, 'd': 40}"
      ]
     },
     "execution_count": 126,
     "metadata": {},
     "output_type": "execute_result"
    }
   ],
   "source": [
    "x = {'a' : 10, 'b': 20, 'c' : 30, 'd' : 40}\n",
    "x.update(a=90) #키=값은 문자열일때만 해야함 숫자라면 딕셔너리를 넣어야함.\n",
    "x"
   ]
  },
  {
   "cell_type": "code",
   "execution_count": 129,
   "id": "9e26772d",
   "metadata": {},
   "outputs": [
    {
     "data": {
      "text/plain": [
       "{'a': 90, 'b': 20, 'c': 30, 'd': 40, 'f': 100}"
      ]
     },
     "execution_count": 129,
     "metadata": {},
     "output_type": "execute_result"
    }
   ],
   "source": [
    "x.update(f=100) \n",
    "x"
   ]
  },
  {
   "cell_type": "code",
   "execution_count": 130,
   "id": "7a690f26",
   "metadata": {},
   "outputs": [
    {
     "data": {
      "text/plain": [
       "{1: 'one', 2: 'twice', 3: 'three'}"
      ]
     },
     "execution_count": 130,
     "metadata": {},
     "output_type": "execute_result"
    }
   ],
   "source": [
    "y = {1 : 'one', 2 : 'two'}\n",
    "y.update({2 : 'twice', 3 : 'three'})\n",
    "y"
   ]
  },
  {
   "cell_type": "code",
   "execution_count": 133,
   "id": "f1eff650",
   "metadata": {},
   "outputs": [
    {
     "data": {
      "text/plain": [
       "{1: 'one', 2: 'TWO', 4: 'four'}"
      ]
     },
     "execution_count": 133,
     "metadata": {},
     "output_type": "execute_result"
    }
   ],
   "source": [
    "# 리스트 업데이트\n",
    "y = {1 : 'one', 2 : 'two'}\n",
    "y.update([[2, 'TWO'], [4, 'four']])\n",
    "y"
   ]
  },
  {
   "cell_type": "code",
   "execution_count": 134,
   "id": "a9b2bbc3",
   "metadata": {},
   "outputs": [
    {
     "data": {
      "text/plain": [
       "{1: 'one', 2: 'two', 4: 'four'}"
      ]
     },
     "execution_count": 134,
     "metadata": {},
     "output_type": "execute_result"
    }
   ],
   "source": [
    "y = {1 : 'one', 2 : 'two'}\n",
    "y.update(zip([2, 4], ['two', 'four']))\n",
    "y"
   ]
  },
  {
   "cell_type": "markdown",
   "id": "ad2bfd22",
   "metadata": {},
   "source": [
    "# pop(key), del a(key)"
   ]
  },
  {
   "cell_type": "code",
   "execution_count": 141,
   "id": "823b4120",
   "metadata": {},
   "outputs": [
    {
     "data": {
      "text/plain": [
       "{1: 'one'}"
      ]
     },
     "execution_count": 141,
     "metadata": {},
     "output_type": "execute_result"
    }
   ],
   "source": [
    "y = {1 : 'one', 2 : 'two'}\n",
    "y.pop(2)\n",
    "y"
   ]
  },
  {
   "cell_type": "markdown",
   "id": "fad6ca12",
   "metadata": {},
   "source": [
    "# popitem() clear() get() items() keys()"
   ]
  },
  {
   "cell_type": "code",
   "execution_count": 143,
   "id": "6cb3f0b2",
   "metadata": {},
   "outputs": [
    {
     "data": {
      "text/plain": [
       "{'a': 10, 'b': 20, 'c': 30}"
      ]
     },
     "execution_count": 143,
     "metadata": {},
     "output_type": "execute_result"
    }
   ],
   "source": [
    "x = {'a': 10, 'b':20, 'c':30, 'd':40}\n",
    "x.popitem() #파이썬 버전이 올라서 맨 뒤의 것을 지워줌. 그래도 딕셔너리는 순서가 없다는 것을 명시.\n",
    "x"
   ]
  },
  {
   "cell_type": "code",
   "execution_count": 145,
   "id": "ed7953fd",
   "metadata": {},
   "outputs": [
    {
     "data": {
      "text/plain": [
       "{}"
      ]
     },
     "execution_count": 145,
     "metadata": {},
     "output_type": "execute_result"
    }
   ],
   "source": [
    "x = {'a': 10, 'b':20, 'c':30, 'd':40}\n",
    "x.clear()\n",
    "x"
   ]
  },
  {
   "cell_type": "code",
   "execution_count": 146,
   "id": "01dce1d0",
   "metadata": {},
   "outputs": [
    {
     "data": {
      "text/plain": [
       "10"
      ]
     },
     "execution_count": 146,
     "metadata": {},
     "output_type": "execute_result"
    }
   ],
   "source": [
    "x = {'a': 10, 'b':20, 'c':30, 'd':40}\n",
    "x.get('a') #키 값 가져오기 값없을때는 default로 지정할 수 있고 기본값 반환."
   ]
  },
  {
   "cell_type": "code",
   "execution_count": 148,
   "id": "a91fee56",
   "metadata": {},
   "outputs": [
    {
     "data": {
      "text/plain": [
       "3"
      ]
     },
     "execution_count": 148,
     "metadata": {},
     "output_type": "execute_result"
    }
   ],
   "source": [
    "x.get('z', 3)"
   ]
  },
  {
   "cell_type": "code",
   "execution_count": 151,
   "id": "e8d7c905",
   "metadata": {},
   "outputs": [
    {
     "data": {
      "text/plain": [
       "dict_items"
      ]
     },
     "execution_count": 151,
     "metadata": {},
     "output_type": "execute_result"
    }
   ],
   "source": [
    "x.items()"
   ]
  },
  {
   "cell_type": "code",
   "execution_count": 150,
   "id": "68175001",
   "metadata": {},
   "outputs": [
    {
     "data": {
      "text/plain": [
       "dict_keys(['a', 'b', 'c', 'd'])"
      ]
     },
     "execution_count": 150,
     "metadata": {},
     "output_type": "execute_result"
    }
   ],
   "source": [
    "x.keys()"
   ]
  },
  {
   "cell_type": "code",
   "execution_count": 152,
   "id": "f1a2c095",
   "metadata": {},
   "outputs": [
    {
     "data": {
      "text/plain": [
       "dict_values([10, 20, 30, 40])"
      ]
     },
     "execution_count": 152,
     "metadata": {},
     "output_type": "execute_result"
    }
   ],
   "source": [
    "x.values()"
   ]
  },
  {
   "cell_type": "code",
   "execution_count": 155,
   "id": "5f14153d",
   "metadata": {},
   "outputs": [
    {
     "data": {
      "text/plain": [
       "<zip at 0x27c2afe5f80>"
      ]
     },
     "execution_count": 155,
     "metadata": {},
     "output_type": "execute_result"
    }
   ],
   "source": [
    "zip(x.keys(), x.values())"
   ]
  },
  {
   "cell_type": "markdown",
   "id": "a12eeee9",
   "metadata": {},
   "source": [
    "# fromkeys!"
   ]
  },
  {
   "cell_type": "code",
   "execution_count": 162,
   "id": "d7a7cb23",
   "metadata": {},
   "outputs": [
    {
     "data": {
      "text/plain": [
       "{'a': 10, 'b': 10, 'c': 10}"
      ]
     },
     "execution_count": 162,
     "metadata": {},
     "output_type": "execute_result"
    }
   ],
   "source": [
    "keys = ['a', 'b', 'c']\n",
    "a  = dict.fromkeys(keys, 10) #값 넣으면 고정 값 하나가 다 들어가게 됨.\n",
    "a"
   ]
  },
  {
   "cell_type": "code",
   "execution_count": 163,
   "id": "a00f90d6",
   "metadata": {},
   "outputs": [
    {
     "name": "stdout",
     "output_type": "stream",
     "text": [
      "a b c "
     ]
    }
   ],
   "source": [
    "keys = ['a', 'b', 'c']\n",
    "for i in keys:\n",
    "    print(i, end=' ') #하나만 가져오면 key밖에 못가져옴"
   ]
  },
  {
   "cell_type": "markdown",
   "id": "9d65f9b2",
   "metadata": {},
   "source": [
    "for 키, 값 in 딕셔너리.items():\n",
    "    print(키, 값)"
   ]
  },
  {
   "cell_type": "code",
   "execution_count": 170,
   "id": "2ab4d5bf",
   "metadata": {},
   "outputs": [
    {
     "name": "stdout",
     "output_type": "stream",
     "text": [
      "a 10\n",
      "b 20\n",
      "c 30\n",
      "d 40\n"
     ]
    }
   ],
   "source": [
    "key = {'a': 10, 'b':20, 'c':30, 'd':40}\n",
    "for x, y in key.items():\n",
    "    print(x, y)"
   ]
  },
  {
   "cell_type": "code",
   "execution_count": 178,
   "id": "49a59615",
   "metadata": {},
   "outputs": [
    {
     "name": "stdout",
     "output_type": "stream",
     "text": [
      "a\n",
      "b\n",
      "c\n",
      "d\n"
     ]
    }
   ],
   "source": [
    "key = {'a': 10, 'b':20, 'c':30, 'd':40}\n",
    "for i in key:\n",
    "    print(i)"
   ]
  },
  {
   "cell_type": "code",
   "execution_count": 180,
   "id": "57d37c60",
   "metadata": {},
   "outputs": [
    {
     "name": "stdout",
     "output_type": "stream",
     "text": [
      "('a', 10)\n",
      "('b', 20)\n",
      "('c', 30)\n",
      "('d', 40)\n"
     ]
    }
   ],
   "source": [
    "key = {'a': 10, 'b':20, 'c':30, 'd':40}\n",
    "for i in key.items():\n",
    "    print(i)"
   ]
  },
  {
   "cell_type": "code",
   "execution_count": 181,
   "id": "80059fa0",
   "metadata": {},
   "outputs": [
    {
     "name": "stdout",
     "output_type": "stream",
     "text": [
      "a 10\n",
      "b 20\n",
      "c 30\n",
      "d 40\n"
     ]
    }
   ],
   "source": [
    "key = {'a': 10, 'b':20, 'c':30, 'd':40}\n",
    "for x, y in key.items():\n",
    "    print(x, y)"
   ]
  },
  {
   "cell_type": "code",
   "execution_count": 177,
   "id": "2c279c51",
   "metadata": {},
   "outputs": [
    {
     "data": {
      "text/plain": [
       "{'a': 1, 'b': 1}"
      ]
     },
     "execution_count": 177,
     "metadata": {},
     "output_type": "execute_result"
    }
   ],
   "source": [
    "d = {}\n",
    "d = dict()\n",
    "d = dict.fromkeys(['a', 'b'], 1)\n",
    "d"
   ]
  },
  {
   "cell_type": "code",
   "execution_count": 185,
   "id": "6beb2382",
   "metadata": {},
   "outputs": [
    {
     "name": "stdout",
     "output_type": "stream",
     "text": [
      "key는? : a\n",
      "key는? : b\n",
      "key는? : c\n",
      "key는? : d\n"
     ]
    }
   ],
   "source": [
    "x = {'a': 10, 'b':20, 'c':30, 'd':40}\n",
    "for key in x.keys():\n",
    "    print('key는? :',key)"
   ]
  },
  {
   "cell_type": "code",
   "execution_count": 187,
   "id": "658c5a7a",
   "metadata": {},
   "outputs": [
    {
     "name": "stdout",
     "output_type": "stream",
     "text": [
      "value는? : 10\n",
      "value는? : 20\n",
      "value는? : 30\n",
      "value는? : 40\n"
     ]
    }
   ],
   "source": [
    "x = {'a': 10, 'b':20, 'c':30, 'd':40}\n",
    "for value in x.values():\n",
    "    print('value는? :', value)"
   ]
  },
  {
   "cell_type": "code",
   "execution_count": 196,
   "id": "2e4f31f6",
   "metadata": {},
   "outputs": [
    {
     "data": {
      "text/plain": [
       "{'a': None, 'b': None, 'c': None, 'd': None}"
      ]
     },
     "execution_count": 196,
     "metadata": {},
     "output_type": "execute_result"
    }
   ],
   "source": [
    "x = ['a', 'b', 'c', 'd']\n",
    "z = {key : value for key, value in dict.fromkeys(x).items()} #앞의 key:value는 무엇으로든 바꿀 수 있다.\n",
    "z\n",
    "\n",
    "x = dict.fromkeys(x)\n",
    "z = {key:value for key, value in x.items()}\n",
    "z"
   ]
  },
  {
   "cell_type": "code",
   "execution_count": 220,
   "id": "f2b74c28",
   "metadata": {},
   "outputs": [
    {
     "data": {
      "text/plain": [
       "{'a': 0, 'b': 0, 'c': 0, 'd': 0}"
      ]
     },
     "execution_count": 220,
     "metadata": {},
     "output_type": "execute_result"
    }
   ],
   "source": [
    "x2 = {'a': 10, 'b': 20, 'c':30, 'd':40}\n",
    "{key: 0 for key in x2.keys()}"
   ]
  },
  {
   "cell_type": "code",
   "execution_count": 221,
   "id": "1eacff4f",
   "metadata": {},
   "outputs": [
    {
     "data": {
      "text/plain": [
       "{10: 0, 20: 0, 30: 0, 40: 0}"
      ]
     },
     "execution_count": 221,
     "metadata": {},
     "output_type": "execute_result"
    }
   ],
   "source": [
    "x2 = {'a': 10, 'b': 20, 'c':30, 'd':40}\n",
    "{values: 0 for values in x2.values()}"
   ]
  },
  {
   "cell_type": "code",
   "execution_count": 222,
   "id": "50cf6b94",
   "metadata": {},
   "outputs": [
    {
     "ename": "RuntimeError",
     "evalue": "dictionary changed size during iteration",
     "output_type": "error",
     "traceback": [
      "\u001b[1;31m---------------------------------------------------------------------------\u001b[0m",
      "\u001b[1;31mRuntimeError\u001b[0m                              Traceback (most recent call last)",
      "\u001b[1;32m<ipython-input-222-904cac0c8417>\u001b[0m in \u001b[0;36m<module>\u001b[1;34m\u001b[0m\n\u001b[0;32m      1\u001b[0m \u001b[0mx2\u001b[0m \u001b[1;33m=\u001b[0m \u001b[1;33m{\u001b[0m\u001b[1;34m'a'\u001b[0m\u001b[1;33m:\u001b[0m \u001b[1;36m10\u001b[0m\u001b[1;33m,\u001b[0m \u001b[1;34m'b'\u001b[0m\u001b[1;33m:\u001b[0m \u001b[1;36m20\u001b[0m\u001b[1;33m,\u001b[0m \u001b[1;34m'c'\u001b[0m\u001b[1;33m:\u001b[0m\u001b[1;36m30\u001b[0m\u001b[1;33m,\u001b[0m \u001b[1;34m'd'\u001b[0m\u001b[1;33m:\u001b[0m\u001b[1;36m40\u001b[0m\u001b[1;33m}\u001b[0m\u001b[1;33m\u001b[0m\u001b[1;33m\u001b[0m\u001b[0m\n\u001b[0;32m      2\u001b[0m \u001b[1;33m\u001b[0m\u001b[0m\n\u001b[1;32m----> 3\u001b[1;33m \u001b[1;32mfor\u001b[0m \u001b[0mkey\u001b[0m\u001b[1;33m,\u001b[0m \u001b[0mvalue\u001b[0m \u001b[1;32min\u001b[0m \u001b[0mx2\u001b[0m\u001b[1;33m.\u001b[0m\u001b[0mitems\u001b[0m\u001b[1;33m(\u001b[0m\u001b[1;33m)\u001b[0m\u001b[1;33m:\u001b[0m\u001b[1;33m\u001b[0m\u001b[1;33m\u001b[0m\u001b[0m\n\u001b[0m\u001b[0;32m      4\u001b[0m     \u001b[1;32mif\u001b[0m \u001b[0mvalue\u001b[0m \u001b[1;33m==\u001b[0m \u001b[1;36m20\u001b[0m\u001b[1;33m:\u001b[0m\u001b[1;33m\u001b[0m\u001b[1;33m\u001b[0m\u001b[0m\n\u001b[0;32m      5\u001b[0m         \u001b[1;32mdel\u001b[0m \u001b[0mx2\u001b[0m\u001b[1;33m[\u001b[0m\u001b[0mkey\u001b[0m\u001b[1;33m]\u001b[0m  \u001b[1;31m#딕셔너리에서는 사용 불가! 딕셔너리 표현식 사용해야함.\u001b[0m\u001b[1;33m\u001b[0m\u001b[1;33m\u001b[0m\u001b[0m\n",
      "\u001b[1;31mRuntimeError\u001b[0m: dictionary changed size during iteration"
     ]
    }
   ],
   "source": [
    "x2 = {'a': 10, 'b': 20, 'c':30, 'd':40}\n",
    "\n",
    "for key, value in x2.items():\n",
    "    if value == 20:\n",
    "        del x2[key]  #딕셔너리에서는 사용 불가! 딕셔너리 표현식 사용해야함.\n",
    "print(x2)"
   ]
  },
  {
   "cell_type": "code",
   "execution_count": null,
   "id": "16b6c605",
   "metadata": {},
   "outputs": [],
   "source": []
  },
  {
   "cell_type": "code",
   "execution_count": 223,
   "id": "31acb77d",
   "metadata": {},
   "outputs": [
    {
     "data": {
      "text/plain": [
       "{'a': 10, 'c': 30, 'd': 40}"
      ]
     },
     "execution_count": 223,
     "metadata": {},
     "output_type": "execute_result"
    }
   ],
   "source": [
    "x3 = {'a': 10, 'b': 20, 'c' : 30, 'd' : 40}\n",
    "x3 = {key : value for key, value in x3.items() if value != 20}\n",
    "x3"
   ]
  },
  {
   "cell_type": "code",
   "execution_count": 242,
   "id": "1e050afa",
   "metadata": {},
   "outputs": [
    {
     "data": {
      "text/plain": [
       "{'a': {'python': '2.7.15'}, 'b': {'python': '3.6'}}"
      ]
     },
     "execution_count": 242,
     "metadata": {},
     "output_type": "execute_result"
    }
   ],
   "source": [
    "x = {'a' : {'python' : '2.7'}, 'b' : {'python' : '3.6'}}\n",
    "y = x.copy()                       #2차원 딕셔너리에서는 카피해도 같은 객체다.\n",
    "x['a']['python'] = '2.7.15'\n",
    "y"
   ]
  },
  {
   "cell_type": "code",
   "execution_count": 243,
   "id": "b6d0e1db",
   "metadata": {},
   "outputs": [
    {
     "data": {
      "text/plain": [
       "({'a': {'python': '2.7.15'}, 'b': {'python': '3.6'}},\n",
       " {'a': {'java': 'xxx'}, 'b': {'python': '3.6'}})"
      ]
     },
     "execution_count": 243,
     "metadata": {},
     "output_type": "execute_result"
    }
   ],
   "source": [
    "y['a'] = {'java': 'xxx'} #1차원에서는 카피가 제대로 된다\n",
    "x, y"
   ]
  },
  {
   "cell_type": "code",
   "execution_count": 246,
   "id": "e1091bf2",
   "metadata": {
    "scrolled": true
   },
   "outputs": [
    {
     "data": {
      "text/plain": [
       "({'a': {'python': '2.7.15'}, 'b': {'python': 'java'}},\n",
       " {'a': {'java': 'xxx'}, 'b': {'python': 'java'}})"
      ]
     },
     "execution_count": 246,
     "metadata": {},
     "output_type": "execute_result"
    }
   ],
   "source": [
    "y['b']['python'] = 'java' #2차원에서는 제대로 카피가 안되고 할당밖에 안된다.\n",
    "x, y"
   ]
  },
  {
   "cell_type": "code",
   "execution_count": 233,
   "id": "3dbe4190",
   "metadata": {},
   "outputs": [
    {
     "data": {
      "text/plain": [
       "{'a': {'python': '2.7'}, 'b': {'python': '3.6'}}"
      ]
     },
     "execution_count": 233,
     "metadata": {},
     "output_type": "execute_result"
    }
   ],
   "source": [
    "#deep카피를 써야한다. \n",
    "import copy\n",
    "x = {'a' : {'python' : '2.7'}, 'b' : {'python' : '3.6'}}\n",
    "y = copy.deepcopy(x)       #copy.deepcopy를 써야지만 다른 객체로 복사된다.                \n",
    "x['a']['python'] = '2.7.15'\n",
    "y"
   ]
  },
  {
   "cell_type": "code",
   "execution_count": 261,
   "id": "37b09ded",
   "metadata": {},
   "outputs": [
    {
     "name": "stdout",
     "output_type": "stream",
     "text": [
      "89\n"
     ]
    }
   ],
   "source": [
    "maria = {'kor': 94 , \"eng\": 91, 'math': 89 , \"sic\" : 83}\n",
    "average = sum(maria.values()) // len(maria)\n",
    "print(average)"
   ]
  },
  {
   "cell_type": "code",
   "execution_count": 282,
   "id": "880418a1",
   "metadata": {},
   "outputs": [
    {
     "name": "stdout",
     "output_type": "stream",
     "text": [
      "10 20 30 40\n",
      "1 2 3 4\n",
      "{'10': 1, '20': 2, '30': 3, '40': 4}\n"
     ]
    }
   ],
   "source": [
    "keys = input().split() # alpha bravo charile delta\n",
    "values = map(int, input().split()) #10 20 30 40\n",
    "\n",
    "x = dict(zip(keys, values))\n",
    "x = {i:j for i, j  in x.items() if j <= 20}\n",
    "print(x)"
   ]
  },
  {
   "cell_type": "code",
   "execution_count": 284,
   "id": "31573de1",
   "metadata": {},
   "outputs": [
    {
     "data": {
      "text/plain": [
       "False"
      ]
     },
     "execution_count": 284,
     "metadata": {},
     "output_type": "execute_result"
    }
   ],
   "source": [
    "{1, 2, 3, 4} <= {1, 2, 3, 4}"
   ]
  },
  {
   "cell_type": "code",
   "execution_count": 288,
   "id": "bd6bbb46",
   "metadata": {},
   "outputs": [
    {
     "data": {
      "text/plain": [
       "False"
      ]
     },
     "execution_count": 288,
     "metadata": {},
     "output_type": "execute_result"
    }
   ],
   "source": [
    "{1, 2, 3, 4}.issubset({1, 2, 3, 4, 5}) # <= 오른쪽이 크거나 같냐 왼쪽보다"
   ]
  },
  {
   "cell_type": "code",
   "execution_count": 289,
   "id": "345164b8",
   "metadata": {},
   "outputs": [],
   "source": [
    "# < 는 진부분집합 작은애 까지만.\n",
    "# 상위 집합은 반대로 등호 있으면 같아도 ok\n"
   ]
  },
  {
   "cell_type": "code",
   "execution_count": 290,
   "id": "42962599",
   "metadata": {},
   "outputs": [],
   "source": [
    "#issuperset == >= \n",
    "\n"
   ]
  },
  {
   "cell_type": "code",
   "execution_count": 291,
   "id": "8f423199",
   "metadata": {},
   "outputs": [],
   "source": [
    "#isdisjoint는 겹치는 요소 보기  없으면 True 있으면 false"
   ]
  },
  {
   "cell_type": "code",
   "execution_count": null,
   "id": "6920f7a8",
   "metadata": {},
   "outputs": [],
   "source": [
    "#add 는 값 추가\n",
    "#remove는 값 제거\n",
    "#discard는 값이 없어도 그냥 넘어감\n",
    "#pop은 임의의 요소를 삭제 순서가 없어서, 요소가 없으면 오류\n",
    "#clear 모든 요소 삭제\n",
    "#len 요소 길이\n",
    "# 간단하게 리스트랑 비슷함!"
   ]
  },
  {
   "cell_type": "code",
   "execution_count": 292,
   "id": "d1e24b20",
   "metadata": {},
   "outputs": [
    {
     "data": {
      "text/plain": [
       "set"
      ]
     },
     "execution_count": 292,
     "metadata": {},
     "output_type": "execute_result"
    }
   ],
   "source": [
    "type({1, 2, 3, 4})"
   ]
  },
  {
   "cell_type": "code",
   "execution_count": 293,
   "id": "9a97b2f8",
   "metadata": {},
   "outputs": [
    {
     "data": {
      "text/plain": [
       "{1, 2, 3, 4, 5}"
      ]
     },
     "execution_count": 293,
     "metadata": {},
     "output_type": "execute_result"
    }
   ],
   "source": [
    "set([1, 2, 3, 4, 5, 5, 5])"
   ]
  },
  {
   "cell_type": "code",
   "execution_count": 294,
   "id": "e4b15acf",
   "metadata": {},
   "outputs": [
    {
     "data": {
      "text/plain": [
       "{1, 2, 3, 4}"
      ]
     },
     "execution_count": 294,
     "metadata": {},
     "output_type": "execute_result"
    }
   ],
   "source": [
    "{2, 2, 2, 1, 2, 3, 4, 4}"
   ]
  },
  {
   "cell_type": "code",
   "execution_count": 297,
   "id": "c906198b",
   "metadata": {},
   "outputs": [],
   "source": [
    "a = {1, 2, 3, 4, 5}\n",
    "b = {3, 4, 5, 6, 7, 8}"
   ]
  },
  {
   "cell_type": "code",
   "execution_count": 298,
   "id": "95a92d0d",
   "metadata": {},
   "outputs": [
    {
     "data": {
      "text/plain": [
       "{1, 2, 3, 4, 5, 6, 7, 8}"
      ]
     },
     "execution_count": 298,
     "metadata": {},
     "output_type": "execute_result"
    }
   ],
   "source": [
    "a.union(b) #반영 x 새로운 객체"
   ]
  },
  {
   "cell_type": "code",
   "execution_count": 299,
   "id": "db91534d",
   "metadata": {},
   "outputs": [
    {
     "data": {
      "text/plain": [
       "{1, 2, 3, 4, 5}"
      ]
     },
     "execution_count": 299,
     "metadata": {},
     "output_type": "execute_result"
    }
   ],
   "source": [
    "a"
   ]
  },
  {
   "cell_type": "code",
   "execution_count": 300,
   "id": "3a3ad484",
   "metadata": {},
   "outputs": [
    {
     "data": {
      "text/plain": [
       "{1, 2, 3, 4, 5, 6, 7, 8}"
      ]
     },
     "execution_count": 300,
     "metadata": {},
     "output_type": "execute_result"
    }
   ],
   "source": [
    "a | b"
   ]
  },
  {
   "cell_type": "code",
   "execution_count": 301,
   "id": "d7efa51f",
   "metadata": {},
   "outputs": [
    {
     "data": {
      "text/plain": [
       "{3, 4, 5}"
      ]
     },
     "execution_count": 301,
     "metadata": {},
     "output_type": "execute_result"
    }
   ],
   "source": [
    "a.intersection(b)"
   ]
  },
  {
   "cell_type": "code",
   "execution_count": 302,
   "id": "00a48aa3",
   "metadata": {},
   "outputs": [
    {
     "data": {
      "text/plain": [
       "{3, 4, 5}"
      ]
     },
     "execution_count": 302,
     "metadata": {},
     "output_type": "execute_result"
    }
   ],
   "source": [
    "a & b"
   ]
  },
  {
   "cell_type": "code",
   "execution_count": 311,
   "id": "516f280a",
   "metadata": {},
   "outputs": [
    {
     "data": {
      "text/plain": [
       "{1, 2, 3, 4, 5}"
      ]
     },
     "execution_count": 311,
     "metadata": {},
     "output_type": "execute_result"
    }
   ],
   "source": [
    "c = a.copy()\n",
    "c"
   ]
  },
  {
   "cell_type": "code",
   "execution_count": 312,
   "id": "8b73a726",
   "metadata": {},
   "outputs": [
    {
     "data": {
      "text/plain": [
       "{1, 2, 3, 4, 5, 6, 7, 8}"
      ]
     },
     "execution_count": 312,
     "metadata": {},
     "output_type": "execute_result"
    }
   ],
   "source": [
    "c |= b\n",
    "c"
   ]
  },
  {
   "cell_type": "code",
   "execution_count": 313,
   "id": "a7e80b9e",
   "metadata": {},
   "outputs": [
    {
     "data": {
      "text/plain": [
       "{1, 2, 3, 4, 5}"
      ]
     },
     "execution_count": 313,
     "metadata": {},
     "output_type": "execute_result"
    }
   ],
   "source": [
    "d = a.copy()\n",
    "d"
   ]
  },
  {
   "cell_type": "code",
   "execution_count": 315,
   "id": "814440e1",
   "metadata": {},
   "outputs": [
    {
     "data": {
      "text/plain": [
       "{3, 4, 5}"
      ]
     },
     "execution_count": 315,
     "metadata": {},
     "output_type": "execute_result"
    }
   ],
   "source": [
    "d &= b\n",
    "d"
   ]
  },
  {
   "cell_type": "code",
   "execution_count": 318,
   "id": "88f2c2d6",
   "metadata": {},
   "outputs": [
    {
     "data": {
      "text/plain": [
       "{3, 4, 5}"
      ]
     },
     "execution_count": 318,
     "metadata": {},
     "output_type": "execute_result"
    }
   ],
   "source": [
    "d.intersection_update(a)\n",
    "d"
   ]
  },
  {
   "cell_type": "code",
   "execution_count": 321,
   "id": "17252a31",
   "metadata": {},
   "outputs": [
    {
     "data": {
      "text/plain": [
       "True"
      ]
     },
     "execution_count": 321,
     "metadata": {},
     "output_type": "execute_result"
    }
   ],
   "source": [
    "a_set = {1, 2, 3, 4, 5}\n",
    "{1, 2, 3, 4, 5}.issubset(a_set)"
   ]
  },
  {
   "cell_type": "code",
   "execution_count": 322,
   "id": "d88c6f90",
   "metadata": {},
   "outputs": [
    {
     "data": {
      "text/plain": [
       "True"
      ]
     },
     "execution_count": 322,
     "metadata": {},
     "output_type": "execute_result"
    }
   ],
   "source": [
    "a_set.issuperset({1,2,3}) #슈퍼셋맞지! 서브셋이 아니지"
   ]
  },
  {
   "cell_type": "code",
   "execution_count": 323,
   "id": "1ccb2491",
   "metadata": {},
   "outputs": [
    {
     "data": {
      "text/plain": [
       "True"
      ]
     },
     "execution_count": 323,
     "metadata": {},
     "output_type": "execute_result"
    }
   ],
   "source": [
    "{1, 2, 3} == {3, 2, 1} #순서라는 게 없는 특징"
   ]
  },
  {
   "cell_type": "markdown",
   "id": "379ddae6",
   "metadata": {},
   "source": [
    "# 파일 file"
   ]
  },
  {
   "cell_type": "code",
   "execution_count": 327,
   "id": "a997818e",
   "metadata": {},
   "outputs": [
    {
     "name": "stdout",
     "output_type": "stream",
     "text": [
      "{75, 45, 15, 90, 60, 30}\n"
     ]
    }
   ],
   "source": [
    "a = {i for i in range(1, 101) if i % 3 == 0}\n",
    "b = {i for i in range(1, 101) if i % 5 == 0}\n",
    "print(a & b)"
   ]
  },
  {
   "cell_type": "code",
   "execution_count": 356,
   "id": "9c51f4a7",
   "metadata": {},
   "outputs": [],
   "source": [
    "file = open('hello.txt', 'w') # 파일 열기 or 기존 파일 열기\n",
    "file.write('hello, world!') # 내용추가\n",
    "file.close() #파일 객체 닫기."
   ]
  },
  {
   "cell_type": "code",
   "execution_count": 357,
   "id": "409c963b",
   "metadata": {},
   "outputs": [
    {
     "name": "stdout",
     "output_type": "stream",
     "text": [
      "hello, world!\n"
     ]
    }
   ],
   "source": [
    "file = open('hello.txt', 'r') #기존 파일 열기 (읽기 전용)\n",
    "s = file.read()  #파일 읽기\n",
    "print(s) #파일 출력\n",
    "file.close() #파일 객체 닫기"
   ]
  },
  {
   "cell_type": "markdown",
   "id": "7ab9bf3b",
   "metadata": {},
   "source": [
    "with as 를 사용하면 자동으로 파일 객체 닫아줌 "
   ]
  },
  {
   "cell_type": "code",
   "execution_count": 358,
   "id": "27355138",
   "metadata": {},
   "outputs": [
    {
     "name": "stdout",
     "output_type": "stream",
     "text": [
      "hello, world!\n"
     ]
    }
   ],
   "source": [
    "with open('hello.txt', 'r') as file:\n",
    "    s = file.read()\n",
    "    print(s)\n",
    "file.close()"
   ]
  },
  {
   "cell_type": "code",
   "execution_count": 361,
   "id": "0ff4546a",
   "metadata": {},
   "outputs": [],
   "source": [
    "lines = [\"안녕하세요\\n\", '여기는\\n파이썬을 가르치는\\n플레이데이터입니다.'] #수동 줄바꿈이라 따로 줄바꿈 추가해야함\n",
    "with open('hello.txt', 'w', encoding='utf-8') as file: #덮어쓰기가 된다 추가가 아니라 a는 append x는 덮어쓰려면 오류 #한글이라 encoding해줘야함 utf-8로 무조건!\n",
    "    file.writelines(lines) #writelines 한번에 여러줄 출력하기 "
   ]
  },
  {
   "cell_type": "code",
   "execution_count": 369,
   "id": "8acb5e7f",
   "metadata": {},
   "outputs": [
    {
     "name": "stdout",
     "output_type": "stream",
     "text": [
      "['안녕하세요\\n', '여기는\\n', '파이썬을 가르치는\\n', '플레이데이터입니다.']\n"
     ]
    }
   ],
   "source": [
    "with open('hello.txt', 'r', encoding='utf-8') as file:\n",
    "    lines = file.readlines() #그냥 read는 내용 그대로를 읽고 readlines는 출력값을 리스트로 읽는다.\n",
    "    print(lines)"
   ]
  },
  {
   "cell_type": "code",
   "execution_count": null,
   "id": "6b81336a",
   "metadata": {},
   "outputs": [],
   "source": []
  }
 ],
 "metadata": {
  "kernelspec": {
   "display_name": "Python 3",
   "language": "python",
   "name": "python3"
  },
  "language_info": {
   "codemirror_mode": {
    "name": "ipython",
    "version": 3
   },
   "file_extension": ".py",
   "mimetype": "text/x-python",
   "name": "python",
   "nbconvert_exporter": "python",
   "pygments_lexer": "ipython3",
   "version": "3.8.8"
  }
 },
 "nbformat": 4,
 "nbformat_minor": 5
}
