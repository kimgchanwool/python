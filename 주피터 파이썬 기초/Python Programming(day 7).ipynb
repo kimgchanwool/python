{
 "cells": [
  {
   "cell_type": "code",
   "execution_count": null,
   "id": "39f9e965",
   "metadata": {},
   "outputs": [],
   "source": [
    "* assert 처리하기"
   ]
  },
  {
   "cell_type": "code",
   "execution_count": null,
   "id": "912b0f4a",
   "metadata": {},
   "outputs": [],
   "source": [
    "x = int(input(\"3의 배수를 입력하세요\"))\n",
    "assert x % 3 == 0\n",
    "print(x)"
   ]
  },
  {
   "cell_type": "code",
   "execution_count": 2,
   "id": "81d3a2a1",
   "metadata": {},
   "outputs": [
    {
     "name": "stdout",
     "output_type": "stream",
     "text": [
      "3의 배수를 입력하세요2\n"
     ]
    },
    {
     "ename": "AssertionError",
     "evalue": "3의 배수가 아닙니다",
     "output_type": "error",
     "traceback": [
      "\u001b[1;31m---------------------------------------------------------------------------\u001b[0m",
      "\u001b[1;31mAssertionError\u001b[0m                            Traceback (most recent call last)",
      "\u001b[1;32m<ipython-input-2-b02eafddfbeb>\u001b[0m in \u001b[0;36m<module>\u001b[1;34m\u001b[0m\n\u001b[0;32m      1\u001b[0m \u001b[0mx\u001b[0m \u001b[1;33m=\u001b[0m \u001b[0mint\u001b[0m\u001b[1;33m(\u001b[0m\u001b[0minput\u001b[0m\u001b[1;33m(\u001b[0m\u001b[1;34m\"3의 배수를 입력하세요\"\u001b[0m\u001b[1;33m)\u001b[0m\u001b[1;33m)\u001b[0m\u001b[1;33m\u001b[0m\u001b[1;33m\u001b[0m\u001b[0m\n\u001b[1;32m----> 2\u001b[1;33m \u001b[1;32massert\u001b[0m \u001b[0mx\u001b[0m \u001b[1;33m%\u001b[0m \u001b[1;36m3\u001b[0m \u001b[1;33m==\u001b[0m \u001b[1;36m0\u001b[0m\u001b[1;33m,\u001b[0m \u001b[1;34m'3의 배수가 아닙니다'\u001b[0m\u001b[1;33m\u001b[0m\u001b[1;33m\u001b[0m\u001b[0m\n\u001b[0m\u001b[0;32m      3\u001b[0m \u001b[0mprint\u001b[0m\u001b[1;33m(\u001b[0m\u001b[0mx\u001b[0m\u001b[1;33m)\u001b[0m\u001b[1;33m\u001b[0m\u001b[1;33m\u001b[0m\u001b[0m\n",
      "\u001b[1;31mAssertionError\u001b[0m: 3의 배수가 아닙니다"
     ]
    }
   ],
   "source": [
    "x = int(input(\"3의 배수를 입력하세요\"))\n",
    "assert x % 3 == 0, '3의 배수가 아닙니다'\n",
    "print(x)"
   ]
  },
  {
   "cell_type": "markdown",
   "id": "c1751927",
   "metadata": {},
   "source": [
    "* 파일 예외 처리하기"
   ]
  },
  {
   "cell_type": "code",
   "execution_count": 3,
   "id": "ef4e38d3",
   "metadata": {},
   "outputs": [
    {
     "name": "stdout",
     "output_type": "stream",
     "text": [
      "파일이 없습니다.\n"
     ]
    }
   ],
   "source": [
    "try:\n",
    "    file = open('maria.txt','r')\n",
    "except FileNotFoundError:\n",
    "    print('파일이 없습니다.')\n",
    "else:\n",
    "    s = file.read()\n",
    "    file.close()"
   ]
  },
  {
   "cell_type": "code",
   "execution_count": 4,
   "id": "ca12bc79",
   "metadata": {},
   "outputs": [
    {
     "data": {
      "text/plain": [
       "range(0, 50)"
      ]
     },
     "execution_count": 4,
     "metadata": {},
     "output_type": "execute_result"
    }
   ],
   "source": [
    "range(50)"
   ]
  },
  {
   "cell_type": "code",
   "execution_count": 5,
   "id": "b49a5091",
   "metadata": {},
   "outputs": [
    {
     "data": {
      "text/plain": [
       "0"
      ]
     },
     "execution_count": 5,
     "metadata": {},
     "output_type": "execute_result"
    }
   ],
   "source": [
    "range(50)[0]"
   ]
  },
  {
   "cell_type": "code",
   "execution_count": 6,
   "id": "4f8e226b",
   "metadata": {},
   "outputs": [
    {
     "data": {
      "text/plain": [
       "1"
      ]
     },
     "execution_count": 6,
     "metadata": {},
     "output_type": "execute_result"
    }
   ],
   "source": [
    "range(50)[1]"
   ]
  },
  {
   "cell_type": "code",
   "execution_count": 7,
   "id": "57da07ce",
   "metadata": {},
   "outputs": [
    {
     "data": {
      "text/plain": [
       "2"
      ]
     },
     "execution_count": 7,
     "metadata": {},
     "output_type": "execute_result"
    }
   ],
   "source": [
    "range(50)[2]"
   ]
  },
  {
   "cell_type": "code",
   "execution_count": 8,
   "id": "6e768da8",
   "metadata": {},
   "outputs": [
    {
     "data": {
      "text/plain": [
       "'h'"
      ]
     },
     "execution_count": 8,
     "metadata": {},
     "output_type": "execute_result"
    }
   ],
   "source": [
    "\"hello\"[0]"
   ]
  },
  {
   "cell_type": "code",
   "execution_count": 9,
   "id": "289775e6",
   "metadata": {},
   "outputs": [],
   "source": [
    "class Counter:\n",
    "    def __init__(self, stop):\n",
    "        self.current = 0\n",
    "        self.stop = stop\n",
    "    def __iter__(self):\n",
    "        return self\n",
    "    def __next__(self):\n",
    "        if self.current < self.stop:\n",
    "            r = self.current\n",
    "            self.current += 1\n",
    "            return r\n",
    "        else:\n",
    "            raise StopIteration"
   ]
  },
  {
   "cell_type": "code",
   "execution_count": 10,
   "id": "8f401d22",
   "metadata": {},
   "outputs": [
    {
     "data": {
      "text/plain": [
       "<__main__.Counter at 0x21f26077eb0>"
      ]
     },
     "execution_count": 10,
     "metadata": {},
     "output_type": "execute_result"
    }
   ],
   "source": [
    "Counter(5)"
   ]
  },
  {
   "cell_type": "code",
   "execution_count": 11,
   "id": "6832104d",
   "metadata": {},
   "outputs": [
    {
     "ename": "TypeError",
     "evalue": "'Counter' object is not subscriptable",
     "output_type": "error",
     "traceback": [
      "\u001b[1;31m---------------------------------------------------------------------------\u001b[0m",
      "\u001b[1;31mTypeError\u001b[0m                                 Traceback (most recent call last)",
      "\u001b[1;32m<ipython-input-11-7d6709555313>\u001b[0m in \u001b[0;36m<module>\u001b[1;34m\u001b[0m\n\u001b[1;32m----> 1\u001b[1;33m \u001b[0mCounter\u001b[0m\u001b[1;33m(\u001b[0m\u001b[1;36m5\u001b[0m\u001b[1;33m)\u001b[0m\u001b[1;33m[\u001b[0m\u001b[1;36m0\u001b[0m\u001b[1;33m]\u001b[0m\u001b[1;33m\u001b[0m\u001b[1;33m\u001b[0m\u001b[0m\n\u001b[0m",
      "\u001b[1;31mTypeError\u001b[0m: 'Counter' object is not subscriptable"
     ]
    }
   ],
   "source": [
    "Counter(5)[0]"
   ]
  },
  {
   "cell_type": "code",
   "execution_count": 12,
   "id": "f84a535b",
   "metadata": {},
   "outputs": [
    {
     "name": "stdout",
     "output_type": "stream",
     "text": [
      "0\n",
      "1\n",
      "2\n"
     ]
    }
   ],
   "source": [
    "for i in range(3):\n",
    "    print(i)"
   ]
  },
  {
   "cell_type": "code",
   "execution_count": 13,
   "id": "aaa4d016",
   "metadata": {},
   "outputs": [
    {
     "data": {
      "text/plain": [
       "0"
      ]
     },
     "execution_count": 13,
     "metadata": {},
     "output_type": "execute_result"
    }
   ],
   "source": [
    "range(3)[0]"
   ]
  },
  {
   "cell_type": "code",
   "execution_count": 14,
   "id": "4cd55101",
   "metadata": {},
   "outputs": [
    {
     "data": {
      "text/plain": [
       "1"
      ]
     },
     "execution_count": 14,
     "metadata": {},
     "output_type": "execute_result"
    }
   ],
   "source": [
    "range(3)[1]"
   ]
  },
  {
   "cell_type": "code",
   "execution_count": 15,
   "id": "448271d7",
   "metadata": {},
   "outputs": [
    {
     "data": {
      "text/plain": [
       "2"
      ]
     },
     "execution_count": 15,
     "metadata": {},
     "output_type": "execute_result"
    }
   ],
   "source": [
    "range(3)[2]"
   ]
  },
  {
   "cell_type": "code",
   "execution_count": 18,
   "id": "9eab236d",
   "metadata": {},
   "outputs": [
    {
     "data": {
      "text/plain": [
       "0"
      ]
     },
     "execution_count": 18,
     "metadata": {},
     "output_type": "execute_result"
    }
   ],
   "source": [
    "it = range(3).__iter__()\n",
    "it.__next__()"
   ]
  },
  {
   "cell_type": "code",
   "execution_count": 19,
   "id": "834e8fdd",
   "metadata": {},
   "outputs": [
    {
     "data": {
      "text/plain": [
       "0"
      ]
     },
     "execution_count": 19,
     "metadata": {},
     "output_type": "execute_result"
    }
   ],
   "source": [
    "it = iter(range(3))\n",
    "next(it)"
   ]
  },
  {
   "cell_type": "code",
   "execution_count": null,
   "id": "84d965d5",
   "metadata": {},
   "outputs": [],
   "source": [
    "* 배수 만드는 이터레이터"
   ]
  },
  {
   "cell_type": "code",
   "execution_count": 20,
   "id": "8dd03f5e",
   "metadata": {},
   "outputs": [
    {
     "name": "stdout",
     "output_type": "stream",
     "text": [
      "3 6 9 12 15 18 \n",
      "5 10 15 20 25 "
     ]
    }
   ],
   "source": [
    "class MultipleIterator:\n",
    "    def __init__(self, stop, multiple):\n",
    "        self.current = 0\n",
    "        self.stop = stop\n",
    "        self.mul = multiple\n",
    "        \n",
    "    def __iter__(self):\n",
    "        return self\n",
    "    \n",
    "    def __next__(self):\n",
    "        self.current += 1\n",
    "        tmp =  self.current * self.mul\n",
    "        if tmp >= self.stop:\n",
    "            raise StopIteration        \n",
    "        return tmp\n",
    "          \n",
    "for i in MultipleIterator(20, 3):\n",
    "    print(i, end=' ')\n",
    "print()\n",
    "for i in MultipleIterator(30, 5):\n",
    "    print(i, end= ' ')"
   ]
  },
  {
   "cell_type": "code",
   "execution_count": 21,
   "id": "2c1c053a",
   "metadata": {},
   "outputs": [
    {
     "name": "stdout",
     "output_type": "stream",
     "text": [
      "3 6 9 12 15 18 \n",
      "5 10 15 20 25 "
     ]
    }
   ],
   "source": [
    "class MultipleIterator:\n",
    "    def __init__(self, stop, multiple):\n",
    "        self.current = multiple\n",
    "        self.stop = stop\n",
    "        self.multiple = multiple\n",
    "\n",
    "    def __iter__(self):\n",
    "        return self\n",
    "\n",
    "    def __next__(self):\n",
    "        if self.current < self.stop:\n",
    "            r = self.current\n",
    "            self.current += self.multiple\n",
    "            return r\n",
    "        else:\n",
    "            raise StopIteration\n",
    "\n",
    "for i in MultipleIterator(20, 3):\n",
    "    print(i, end=' ')\n",
    "\n",
    "print()\n",
    "for i in MultipleIterator(30, 5):\n",
    "    print(i, end=' ')\n"
   ]
  },
  {
   "cell_type": "code",
   "execution_count": 26,
   "id": "dfc9cb24",
   "metadata": {},
   "outputs": [
    {
     "name": "stdout",
     "output_type": "stream",
     "text": [
      "3 6 9 12 15 18 \n",
      "5 10 15 20 25 "
     ]
    }
   ],
   "source": [
    "class MultipleIterator:\n",
    "    def __init__(self, stop, multiple):\n",
    "        self.stop = stop\n",
    "        self.multiple = multiple\n",
    "        self.current = 1\n",
    "\n",
    "    def __iter__(self):\n",
    "        return self\n",
    "\n",
    "    def __next__(self):\n",
    "        if (self.current  * self.multiple) < self.stop:\n",
    "            r = self.current * self.multiple\n",
    "            self.current += 1\n",
    "            return r\n",
    "        else:\n",
    "            raise StopIteration\n",
    "\n",
    "for i in MultipleIterator(20, 3):\n",
    "    print(i, end=' ')\n",
    "\n",
    "print()\n",
    "\n",
    "for i in MultipleIterator(30, 5):\n",
    "    print(i, end=' ')"
   ]
  },
  {
   "cell_type": "code",
   "execution_count": 31,
   "id": "5492e57a",
   "metadata": {},
   "outputs": [
    {
     "name": "stdout",
     "output_type": "stream",
     "text": [
      "StopIteration 발생 이 부분은 함수가 리턴된 부분입니다\n"
     ]
    }
   ],
   "source": [
    "def one_generator():\n",
    "    yield 1\n",
    "    return \"이 부분은 함수가 리턴된 부분입니다\"\n",
    "\n",
    "try:\n",
    "    g = one_generator()\n",
    "    next(g)\n",
    "    next(g)\n",
    "except StopIteration as e:\n",
    "    print(\"StopIteration 발생\", e)"
   ]
  },
  {
   "cell_type": "markdown",
   "id": "55be3a62",
   "metadata": {},
   "source": [
    "* 파일 읽기 제너레이터"
   ]
  },
  {
   "cell_type": "code",
   "execution_count": 32,
   "id": "d2ccaa32",
   "metadata": {},
   "outputs": [
    {
     "name": "stdout",
     "output_type": "stream",
     "text": [
      "compatibility\n",
      "experience\n",
      "photography\n",
      "spotlight\n"
     ]
    }
   ],
   "source": [
    "def file_read():\n",
    "    with open(\"words3.txt\") as file:\n",
    "        while True:\n",
    "            line = file.readline()\n",
    "            if line == \"\":\n",
    "                break\n",
    "            yield line.strip(\"\\n\")\n",
    "        \n",
    "for i in file_read():\n",
    "    print(i)"
   ]
  },
  {
   "cell_type": "code",
   "execution_count": 39,
   "id": "83b02ebd",
   "metadata": {},
   "outputs": [
    {
     "name": "stdout",
     "output_type": "stream",
     "text": [
      "compatibility\n",
      "experience\n",
      "photography\n",
      "spotlight\n"
     ]
    }
   ],
   "source": [
    "lines=[\"compatibility\\n\",\"experience\\n\",\"photography\\n\",\"spotlight\\n\"]\n",
    "\n",
    "with open ('words.txt','w') as f:\n",
    "    f.writelines(lines)\n",
    "\n",
    "def file_read():\n",
    "    with open('words.txt','r') as f:\n",
    "         a=f.readlines()\n",
    "    yield from [i[:-1] for i in a]  \n",
    "for i in file_read():\n",
    "    print(i)\n"
   ]
  },
  {
   "cell_type": "code",
   "execution_count": 37,
   "id": "5da3075d",
   "metadata": {},
   "outputs": [
    {
     "name": "stdout",
     "output_type": "stream",
     "text": [
      "compatibility\n",
      "experience\n",
      "photography\n",
      "spotlight\n"
     ]
    }
   ],
   "source": [
    "def file_read():\n",
    "    with open('words.txt', 'r') as file:\n",
    "        yield from [i.strip(\"\\n\") for i in file.readlines()]\n",
    "        \n",
    "for i in file_read():\n",
    "    print(i)\n"
   ]
  },
  {
   "cell_type": "code",
   "execution_count": 38,
   "id": "275120a8",
   "metadata": {},
   "outputs": [
    {
     "name": "stdout",
     "output_type": "stream",
     "text": [
      "compatibility\n",
      "experience\n",
      "photography\n",
      "spotlight\n"
     ]
    }
   ],
   "source": [
    "words = \"\"\"compatibility\n",
    "experience\n",
    "photography\n",
    "spotlight\n",
    "\"\"\"\n",
    "with open('words.txt', \"w\") as f:\n",
    "    f.write(words)\n",
    "\n",
    "def file_read():\n",
    "    with open('words.txt', 'r') as f:\n",
    "        wordList = f.read().split()\n",
    "        yield from wordList\n",
    "\n",
    "for i in file_read():\n",
    "    print(i)\n"
   ]
  },
  {
   "cell_type": "code",
   "execution_count": 41,
   "id": "bbda543f",
   "metadata": {},
   "outputs": [
    {
     "name": "stdout",
     "output_type": "stream",
     "text": [
      "compatibility\n",
      "experience\n",
      "photography\n",
      "spotlight\n",
      "\n"
     ]
    }
   ],
   "source": [
    "def file_read():\n",
    "    with open ('words.txt', 'r') as file:\n",
    "        yield from file.read().split('\\n')\n",
    "for i in file_read():\n",
    "    print(i)\n"
   ]
  },
  {
   "cell_type": "markdown",
   "id": "f585b28f",
   "metadata": {},
   "source": [
    "* 데코레이터로 매개변수의 자료형 검사하기"
   ]
  },
  {
   "cell_type": "code",
   "execution_count": null,
   "id": "eda7c900",
   "metadata": {},
   "outputs": [],
   "source": [
    "# 재효씨 코드(함수 활용)"
   ]
  },
  {
   "cell_type": "code",
   "execution_count": 48,
   "id": "5301d879",
   "metadata": {},
   "outputs": [
    {
     "name": "stdout",
     "output_type": "stream",
     "text": [
      "30\n"
     ]
    },
    {
     "ename": "RuntimeError",
     "evalue": "자료형이 올바르지 않습니다.",
     "output_type": "error",
     "traceback": [
      "\u001b[1;31m---------------------------------------------------------------------------\u001b[0m",
      "\u001b[1;31mRuntimeError\u001b[0m                              Traceback (most recent call last)",
      "\u001b[1;32m<ipython-input-48-c7adcbe7294c>\u001b[0m in \u001b[0;36m<module>\u001b[1;34m\u001b[0m\n\u001b[0;32m     15\u001b[0m \u001b[1;33m\u001b[0m\u001b[0m\n\u001b[0;32m     16\u001b[0m \u001b[0mprint\u001b[0m\u001b[1;33m(\u001b[0m\u001b[0madd\u001b[0m\u001b[1;33m(\u001b[0m\u001b[1;36m10\u001b[0m\u001b[1;33m,\u001b[0m \u001b[1;36m20\u001b[0m\u001b[1;33m)\u001b[0m\u001b[1;33m)\u001b[0m\u001b[1;33m\u001b[0m\u001b[1;33m\u001b[0m\u001b[0m\n\u001b[1;32m---> 17\u001b[1;33m \u001b[0mprint\u001b[0m\u001b[1;33m(\u001b[0m\u001b[0madd\u001b[0m\u001b[1;33m(\u001b[0m\u001b[1;34m'hello'\u001b[0m\u001b[1;33m,\u001b[0m \u001b[1;34m'world'\u001b[0m\u001b[1;33m)\u001b[0m\u001b[1;33m)\u001b[0m\u001b[1;33m\u001b[0m\u001b[1;33m\u001b[0m\u001b[0m\n\u001b[0m",
      "\u001b[1;32m<ipython-input-48-c7adcbe7294c>\u001b[0m in \u001b[0;36mwrapper\u001b[1;34m(a, b)\u001b[0m\n\u001b[0;32m      5\u001b[0m                 \u001b[1;32mreturn\u001b[0m \u001b[0mfunc\u001b[0m\u001b[1;33m(\u001b[0m\u001b[0ma\u001b[0m\u001b[1;33m,\u001b[0m \u001b[0mb\u001b[0m\u001b[1;33m)\u001b[0m\u001b[1;33m\u001b[0m\u001b[1;33m\u001b[0m\u001b[0m\n\u001b[0;32m      6\u001b[0m             \u001b[1;32melse\u001b[0m\u001b[1;33m:\u001b[0m\u001b[1;33m\u001b[0m\u001b[1;33m\u001b[0m\u001b[0m\n\u001b[1;32m----> 7\u001b[1;33m                 \u001b[1;32mraise\u001b[0m \u001b[0mRuntimeError\u001b[0m\u001b[1;33m(\u001b[0m\u001b[1;34m'자료형이 올바르지 않습니다.'\u001b[0m\u001b[1;33m)\u001b[0m\u001b[1;33m\u001b[0m\u001b[1;33m\u001b[0m\u001b[0m\n\u001b[0m\u001b[0;32m      8\u001b[0m \u001b[1;33m\u001b[0m\u001b[0m\n\u001b[0;32m      9\u001b[0m         \u001b[1;32mreturn\u001b[0m \u001b[0mwrapper\u001b[0m\u001b[1;33m\u001b[0m\u001b[1;33m\u001b[0m\u001b[0m\n",
      "\u001b[1;31mRuntimeError\u001b[0m: 자료형이 올바르지 않습니다."
     ]
    }
   ],
   "source": [
    "def type_check(x, y):\n",
    "    def real_decorator(func):\n",
    "        def wrapper(a, b):\n",
    "            if isinstance(a, x) and isinstance(b, y):\n",
    "                return func(a, b)\n",
    "            else:\n",
    "                raise RuntimeError('자료형이 올바르지 않습니다.')\n",
    "    \n",
    "        return wrapper\n",
    "    return real_decorator\n",
    "\n",
    "@type_check(int, int)\n",
    "def add(a, b):\n",
    "    return a + b\n",
    " \n",
    "print(add(10, 20))\n",
    "print(add('hello', 'world'))\n"
   ]
  },
  {
   "cell_type": "code",
   "execution_count": null,
   "id": "a6166c03",
   "metadata": {},
   "outputs": [],
   "source": [
    "# 찬울씨 코드(클래스 활용)"
   ]
  },
  {
   "cell_type": "code",
   "execution_count": 50,
   "id": "22bdccac",
   "metadata": {},
   "outputs": [
    {
     "name": "stdout",
     "output_type": "stream",
     "text": [
      "1020\n"
     ]
    },
    {
     "ename": "RuntimeError",
     "evalue": "자료형이 올바르지 않습니다",
     "output_type": "error",
     "traceback": [
      "\u001b[1;31m---------------------------------------------------------------------------\u001b[0m",
      "\u001b[1;31mRuntimeError\u001b[0m                              Traceback (most recent call last)",
      "\u001b[1;32m<ipython-input-50-555ac02b5a4c>\u001b[0m in \u001b[0;36m<module>\u001b[1;34m\u001b[0m\n\u001b[0;32m     10\u001b[0m     \u001b[1;32mreturn\u001b[0m\u001b[1;33m(\u001b[0m\u001b[0ma\u001b[0m\u001b[1;33m+\u001b[0m\u001b[0mb\u001b[0m\u001b[1;33m)\u001b[0m\u001b[1;33m\u001b[0m\u001b[1;33m\u001b[0m\u001b[0m\n\u001b[0;32m     11\u001b[0m \u001b[0mprint\u001b[0m\u001b[1;33m(\u001b[0m\u001b[0madd\u001b[0m\u001b[1;33m(\u001b[0m\u001b[1;36m1000\u001b[0m\u001b[1;33m,\u001b[0m \u001b[1;36m20\u001b[0m\u001b[1;33m)\u001b[0m\u001b[1;33m)\u001b[0m\u001b[1;33m\u001b[0m\u001b[1;33m\u001b[0m\u001b[0m\n\u001b[1;32m---> 12\u001b[1;33m \u001b[0mprint\u001b[0m\u001b[1;33m(\u001b[0m\u001b[0madd\u001b[0m\u001b[1;33m(\u001b[0m\u001b[1;34m'hello'\u001b[0m\u001b[1;33m,\u001b[0m \u001b[1;34m'world'\u001b[0m\u001b[1;33m)\u001b[0m\u001b[1;33m)\u001b[0m\u001b[1;33m\u001b[0m\u001b[1;33m\u001b[0m\u001b[0m\n\u001b[0m",
      "\u001b[1;32m<ipython-input-50-555ac02b5a4c>\u001b[0m in \u001b[0;36m__call__\u001b[1;34m(self, a, b)\u001b[0m\n\u001b[0;32m      4\u001b[0m     \u001b[1;32mdef\u001b[0m \u001b[0m__call__\u001b[0m\u001b[1;33m(\u001b[0m\u001b[0mself\u001b[0m\u001b[1;33m,\u001b[0m \u001b[0ma\u001b[0m\u001b[1;33m,\u001b[0m \u001b[0mb\u001b[0m\u001b[1;33m)\u001b[0m\u001b[1;33m:\u001b[0m\u001b[1;33m\u001b[0m\u001b[1;33m\u001b[0m\u001b[0m\n\u001b[0;32m      5\u001b[0m         \u001b[1;32mif\u001b[0m \u001b[0misinstance\u001b[0m\u001b[1;33m(\u001b[0m\u001b[0ma\u001b[0m\u001b[1;33m,\u001b[0m \u001b[0mint\u001b[0m\u001b[1;33m)\u001b[0m \u001b[1;33m==\u001b[0m \u001b[1;32mFalse\u001b[0m \u001b[1;32mor\u001b[0m \u001b[0misinstance\u001b[0m\u001b[1;33m(\u001b[0m\u001b[0mb\u001b[0m\u001b[1;33m,\u001b[0m \u001b[0mint\u001b[0m\u001b[1;33m)\u001b[0m \u001b[1;33m==\u001b[0m \u001b[1;32mFalse\u001b[0m\u001b[1;33m:\u001b[0m\u001b[1;33m\u001b[0m\u001b[1;33m\u001b[0m\u001b[0m\n\u001b[1;32m----> 6\u001b[1;33m             \u001b[1;32mraise\u001b[0m \u001b[0mRuntimeError\u001b[0m\u001b[1;33m(\u001b[0m\u001b[1;34m'자료형이 올바르지 않습니다'\u001b[0m\u001b[1;33m)\u001b[0m\u001b[1;33m\u001b[0m\u001b[1;33m\u001b[0m\u001b[0m\n\u001b[0m\u001b[0;32m      7\u001b[0m         \u001b[1;32mreturn\u001b[0m \u001b[0mself\u001b[0m\u001b[1;33m.\u001b[0m\u001b[0mfunc\u001b[0m\u001b[1;33m(\u001b[0m\u001b[0ma\u001b[0m\u001b[1;33m,\u001b[0m \u001b[0mb\u001b[0m\u001b[1;33m)\u001b[0m\u001b[1;33m\u001b[0m\u001b[1;33m\u001b[0m\u001b[0m\n\u001b[0;32m      8\u001b[0m \u001b[1;33m@\u001b[0m\u001b[0mtype_check\u001b[0m\u001b[1;33m\u001b[0m\u001b[1;33m\u001b[0m\u001b[0m\n",
      "\u001b[1;31mRuntimeError\u001b[0m: 자료형이 올바르지 않습니다"
     ]
    }
   ],
   "source": [
    "class type_check:\n",
    "    def __init__(self, func):\n",
    "        self.func = func\n",
    "    def __call__(self, a, b):\n",
    "        if isinstance(a, int) == False or isinstance(b, int) == False:\n",
    "            raise RuntimeError('자료형이 올바르지 않습니다')\n",
    "        return self.func(a, b)\n",
    "@type_check\n",
    "def add(a, b):\n",
    "    return(a+b)\n",
    "print(add(1000, 20))\n",
    "print(add('hello', 'world'))\n"
   ]
  },
  {
   "cell_type": "code",
   "execution_count": null,
   "id": "7dd41d72",
   "metadata": {},
   "outputs": [],
   "source": [
    "#진씨 코드(클래스 활용)"
   ]
  },
  {
   "cell_type": "code",
   "execution_count": null,
   "id": "00e90501",
   "metadata": {},
   "outputs": [],
   "source": [
    "class type_check:\n",
    "    def __init__(self, t1, t2):\n",
    "        self.t1 = t1\n",
    "        self.t2 = t2\n",
    "    \n",
    "    def __call__(self, func):\n",
    "        def wrapper(a, b):\n",
    "            r = func(a, b)\n",
    "            if not(isinstance(a, self.t1) and isinstance(b, self.t2)):\n",
    "                raise RuntimeError(\"자료형이 올바르지 않습니다.\")\n",
    "            return r\n",
    "        return wrapper\n",
    "\n",
    "@type_check(int, int)\n",
    "def add(a, b):\n",
    "    return a+b\n",
    "\n",
    "print(add(10, 20))\n",
    "print(add('hello', 'world'))\n"
   ]
  },
  {
   "cell_type": "markdown",
   "id": "8c3d900c",
   "metadata": {},
   "source": [
    "* 거리계산"
   ]
  },
  {
   "cell_type": "code",
   "execution_count": 51,
   "id": "38605248",
   "metadata": {},
   "outputs": [
    {
     "name": "stdout",
     "output_type": "stream",
     "text": [
      "[2.23606797749979, 1.4142135623730951, 5.0]\n"
     ]
    }
   ],
   "source": [
    "from math import sqrt\n",
    "\n",
    "points = [(1, 1), (3, 2), (5, 7)]\n",
    "X = (2, 3)\n",
    "\n",
    "def distMeasure(points):\n",
    "    result = []\n",
    "    for point in points:\n",
    "        result.append(sqrt((point[0] - X[0])**2 + (point[1] - X[1])**2))\n",
    "    return result\n",
    "\n",
    "l = distMeasure(points)\n",
    "print(l)"
   ]
  },
  {
   "cell_type": "code",
   "execution_count": null,
   "id": "7c912e8a",
   "metadata": {},
   "outputs": [],
   "source": [
    "import math as m\n",
    "a=(1,1)\n",
    "b=(3,2)\n",
    "c=(5,7)\n",
    "x=(2,3)\n",
    "\n",
    "def distMeasure(a=(0,0),b=(0,0)):\n",
    "    return m.sqrt(pow(a[0]-b[0],2)+pow(a[1]-b[1],2))\n",
    "print(distMeasure(a,x))\n",
    "print(distMeasure(b,x))\n",
    "print(distMeasure(c,x))"
   ]
  },
  {
   "cell_type": "code",
   "execution_count": null,
   "id": "3a9869ed",
   "metadata": {},
   "outputs": [],
   "source": [
    "import math\n",
    "\n",
    "def distMeasure(x1, x2):\n",
    "    return math.sqrt( (x1[0]-x2[0])**2 + (x1[1]-x2[1])**2 )\n",
    "\n",
    "l = [(1,1), (3,2), (5,7)]\n",
    "x = (2,3)\n",
    "for i in l:\n",
    "    print(distMeasure(x, i))\n"
   ]
  },
  {
   "cell_type": "code",
   "execution_count": null,
   "id": "b8086a24",
   "metadata": {},
   "outputs": [],
   "source": [
    "import math\n",
    " \n",
    "class Point2D:\n",
    "    def __init__(self, x, y):\n",
    "        self.x = x\n",
    "        self.y = y\n",
    "\n",
    "ap = Point2D(x=1, y=1)    # 점1\n",
    "bp = Point2D(x=3, y=2)    # 점2\n",
    "cp = Point2D(x=5, y=7)\n",
    "dp = Point2D(x=2, y=3)\n",
    "\n",
    "def distMeasure(ap, bp):\n",
    "    a = bp.x - ap.x    # 선 a의 길이\n",
    "    b = bp.y - ap.y    # 선 b의 길이\n",
    " \n",
    "    c = math.sqrt((a * a) + (b * b))    # (a * a) + (b * b)의 제곱근을 구함\n",
    "    \n",
    "    return c\n",
    "\n",
    "\n",
    "print(distMeasure(ap,dp))    \n",
    "print(distMeasure(bp,dp))\n",
    "print(distMeasure(cp,dp))\n"
   ]
  },
  {
   "cell_type": "code",
   "execution_count": null,
   "id": "66f9a579",
   "metadata": {},
   "outputs": [],
   "source": []
  },
  {
   "cell_type": "code",
   "execution_count": 52,
   "id": "6e47df5d",
   "metadata": {},
   "outputs": [
    {
     "data": {
      "text/plain": [
       "'3.8.8 (default, Apr 13 2021, 15:08:03) [MSC v.1916 64 bit (AMD64)]'"
      ]
     },
     "execution_count": 52,
     "metadata": {},
     "output_type": "execute_result"
    }
   ],
   "source": [
    "import sys as s\n",
    "s.version"
   ]
  },
  {
   "cell_type": "markdown",
   "id": "fb1205b9",
   "metadata": {},
   "source": [
    "* 모듈"
   ]
  },
  {
   "cell_type": "code",
   "execution_count": 54,
   "id": "e0bf3eb6",
   "metadata": {},
   "outputs": [
    {
     "name": "stdout",
     "output_type": "stream",
     "text": [
      "2\n",
      "1024\n"
     ]
    }
   ],
   "source": [
    "import square2\n",
    "print(square2.base)\n",
    "print(square2.square(10))"
   ]
  },
  {
   "cell_type": "code",
   "execution_count": 55,
   "id": "dcbedbd2",
   "metadata": {},
   "outputs": [
    {
     "name": "stdout",
     "output_type": "stream",
     "text": [
      "2\n",
      "1024\n"
     ]
    }
   ],
   "source": [
    "%run main.py"
   ]
  },
  {
   "cell_type": "code",
   "execution_count": 58,
   "id": "9f6280aa",
   "metadata": {},
   "outputs": [
    {
     "name": "stdout",
     "output_type": "stream",
     "text": [
      "2\n",
      "1024\n"
     ]
    }
   ],
   "source": [
    "from square2 import base, square\n",
    "\n",
    "print(base)\n",
    "print(square(10))"
   ]
  },
  {
   "cell_type": "code",
   "execution_count": 59,
   "id": "7da456d3",
   "metadata": {},
   "outputs": [
    {
     "name": "stdout",
     "output_type": "stream",
     "text": [
      "안녕하세요. 저는 장경희입니다.\n"
     ]
    }
   ],
   "source": [
    "%run main.py"
   ]
  },
  {
   "cell_type": "code",
   "execution_count": 60,
   "id": "c1fdfea0",
   "metadata": {},
   "outputs": [
    {
     "name": "stdout",
     "output_type": "stream",
     "text": [
      "hello 모듈 시작\n",
      "hello.py __name__: hello\n",
      "hello 모듈 끝\n",
      "main.py __name__: __main__\n"
     ]
    }
   ],
   "source": [
    "%run main.py"
   ]
  },
  {
   "cell_type": "code",
   "execution_count": 61,
   "id": "b7dd21cb",
   "metadata": {},
   "outputs": [
    {
     "name": "stdout",
     "output_type": "stream",
     "text": [
      "main.py __name__: __main__\n"
     ]
    }
   ],
   "source": [
    "%run main.py"
   ]
  },
  {
   "cell_type": "code",
   "execution_count": 62,
   "id": "9560ac51",
   "metadata": {},
   "outputs": [
    {
     "name": "stdout",
     "output_type": "stream",
     "text": [
      "hello 모듈 시작\n",
      "hello.py __name__: __main__\n",
      "hello 모듈 끝\n"
     ]
    }
   ],
   "source": [
    "%run hello.py"
   ]
  },
  {
   "cell_type": "code",
   "execution_count": 64,
   "id": "da9deb90",
   "metadata": {},
   "outputs": [
    {
     "name": "stdout",
     "output_type": "stream",
     "text": [
      "30\n",
      "200\n"
     ]
    }
   ],
   "source": [
    "%run calc.py"
   ]
  },
  {
   "cell_type": "code",
   "execution_count": 65,
   "id": "3f9245a8",
   "metadata": {},
   "outputs": [],
   "source": [
    "import calc"
   ]
  },
  {
   "cell_type": "code",
   "execution_count": 66,
   "id": "a56c4b91",
   "metadata": {},
   "outputs": [
    {
     "data": {
      "text/plain": [
       "30"
      ]
     },
     "execution_count": 66,
     "metadata": {},
     "output_type": "execute_result"
    }
   ],
   "source": [
    "calc.add(10,20)"
   ]
  },
  {
   "cell_type": "code",
   "execution_count": 67,
   "id": "4937cb6a",
   "metadata": {},
   "outputs": [
    {
     "data": {
      "text/plain": [
       "200"
      ]
     },
     "execution_count": 67,
     "metadata": {},
     "output_type": "execute_result"
    }
   ],
   "source": [
    "calc.mul(10,20)"
   ]
  },
  {
   "cell_type": "code",
   "execution_count": 68,
   "id": "3b7c1ecc",
   "metadata": {},
   "outputs": [],
   "source": [
    "!mkdir calkpkg"
   ]
  },
  {
   "cell_type": "code",
   "execution_count": null,
   "id": "1746fff7",
   "metadata": {},
   "outputs": [],
   "source": []
  }
 ],
 "metadata": {
  "kernelspec": {
   "display_name": "Python 3",
   "language": "python",
   "name": "python3"
  },
  "language_info": {
   "codemirror_mode": {
    "name": "ipython",
    "version": 3
   },
   "file_extension": ".py",
   "mimetype": "text/x-python",
   "name": "python",
   "nbconvert_exporter": "python",
   "pygments_lexer": "ipython3",
   "version": "3.8.8"
  }
 },
 "nbformat": 4,
 "nbformat_minor": 5
}
