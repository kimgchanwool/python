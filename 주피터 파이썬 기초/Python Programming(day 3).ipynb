{
 "cells": [
  {
   "cell_type": "markdown",
   "id": "e31c9c88",
   "metadata": {},
   "source": [
    "* for 반복문"
   ]
  },
  {
   "cell_type": "code",
   "execution_count": 1,
   "id": "a777fe9f",
   "metadata": {},
   "outputs": [
    {
     "name": "stdout",
     "output_type": "stream",
     "text": [
      "hello world 0\n",
      "hello world 1\n",
      "hello world 2\n",
      "hello world 3\n",
      "hello world 4\n",
      "hello world 5\n",
      "hello world 6\n",
      "hello world 7\n",
      "hello world 8\n",
      "hello world 9\n"
     ]
    }
   ],
   "source": [
    "for i in range(10):\n",
    "    print(\"hello world\", i)"
   ]
  },
  {
   "cell_type": "code",
   "execution_count": 2,
   "id": "7ee3357e",
   "metadata": {},
   "outputs": [
    {
     "name": "stdout",
     "output_type": "stream",
     "text": [
      "hello world 2\n",
      "hello world 3\n",
      "hello world 4\n",
      "hello world 5\n",
      "hello world 6\n",
      "hello world 7\n"
     ]
    }
   ],
   "source": [
    "for i in range(2,8):\n",
    "    print(\"hello world\", i)"
   ]
  },
  {
   "cell_type": "code",
   "execution_count": 3,
   "id": "79cf4650",
   "metadata": {},
   "outputs": [
    {
     "name": "stdout",
     "output_type": "stream",
     "text": [
      "hello world 2\n",
      "hello world 4\n",
      "hello world 6\n"
     ]
    }
   ],
   "source": [
    "for i in range(2,8, 2):\n",
    "    print(\"hello world\", i)"
   ]
  },
  {
   "cell_type": "code",
   "execution_count": 5,
   "id": "3169c497",
   "metadata": {},
   "outputs": [
    {
     "name": "stdout",
     "output_type": "stream",
     "text": [
      "hello world 10\n",
      "hello world 8\n",
      "hello world 6\n",
      "hello world 4\n",
      "hello world 2\n"
     ]
    }
   ],
   "source": [
    "for i in range(10, 0, -2):\n",
    "    print(\"hello world\", i)"
   ]
  },
  {
   "cell_type": "code",
   "execution_count": 6,
   "id": "7e4aa97b",
   "metadata": {},
   "outputs": [
    {
     "name": "stdout",
     "output_type": "stream",
     "text": [
      "hello world 9\n",
      "hello world 8\n",
      "hello world 7\n",
      "hello world 6\n",
      "hello world 5\n",
      "hello world 4\n",
      "hello world 3\n",
      "hello world 2\n",
      "hello world 1\n",
      "hello world 0\n"
     ]
    }
   ],
   "source": [
    "for i in reversed(range(10)):\n",
    "    print(\"hello world\", i)"
   ]
  },
  {
   "cell_type": "code",
   "execution_count": 10,
   "id": "d374a93f",
   "metadata": {},
   "outputs": [
    {
     "data": {
      "text/plain": [
       "[0, 1, 2, 3, 4, 5, 6, 7, 8, 9]"
      ]
     },
     "execution_count": 10,
     "metadata": {},
     "output_type": "execute_result"
    }
   ],
   "source": [
    "list(range(10))"
   ]
  },
  {
   "cell_type": "code",
   "execution_count": 9,
   "id": "6e246532",
   "metadata": {},
   "outputs": [
    {
     "data": {
      "text/plain": [
       "[9, 8, 7, 6, 5, 4, 3, 2, 1, 0]"
      ]
     },
     "execution_count": 9,
     "metadata": {},
     "output_type": "execute_result"
    }
   ],
   "source": [
    "list(reversed(range(10)))"
   ]
  },
  {
   "cell_type": "markdown",
   "id": "dc6b4147",
   "metadata": {},
   "source": [
    "* 구구단 출력하기"
   ]
  },
  {
   "cell_type": "code",
   "execution_count": 12,
   "id": "f691806c",
   "metadata": {},
   "outputs": [
    {
     "name": "stdout",
     "output_type": "stream",
     "text": [
      "2\n"
     ]
    }
   ],
   "source": [
    "n = int(input())"
   ]
  },
  {
   "cell_type": "code",
   "execution_count": 13,
   "id": "0f4877fd",
   "metadata": {},
   "outputs": [
    {
     "name": "stdout",
     "output_type": "stream",
     "text": [
      "2 * 1 = 2\n",
      "2 * 2 = 4\n",
      "2 * 3 = 6\n",
      "2 * 4 = 8\n",
      "2 * 5 = 10\n",
      "2 * 6 = 12\n",
      "2 * 7 = 14\n",
      "2 * 8 = 16\n",
      "2 * 9 = 18\n"
     ]
    }
   ],
   "source": [
    "for i in range(1,10):\n",
    "    print(n, '*', i, '=', n*i) "
   ]
  },
  {
   "cell_type": "markdown",
   "id": "670d76d0",
   "metadata": {},
   "source": [
    "* 변수 두개를 다르게 반복하기"
   ]
  },
  {
   "cell_type": "code",
   "execution_count": 16,
   "id": "0bec3f89",
   "metadata": {},
   "outputs": [
    {
     "name": "stdout",
     "output_type": "stream",
     "text": [
      "2 5\n",
      "4 4\n",
      "8 3\n",
      "16 2\n",
      "32 1\n"
     ]
    }
   ],
   "source": [
    "i = 2; j=5\n",
    "\n",
    "while i <= 32 or j >= 1:\n",
    "    print(i, j)\n",
    "    i *= 2\n",
    "    j -= 1"
   ]
  },
  {
   "cell_type": "code",
   "execution_count": 24,
   "id": "792f6d7b",
   "metadata": {},
   "outputs": [
    {
     "name": "stdout",
     "output_type": "stream",
     "text": [
      "3 13 23 33 43 53 63 73 "
     ]
    }
   ],
   "source": [
    "i =0\n",
    "while True:\n",
    "    \n",
    "        \n",
    "    if i % 10 != 3:\n",
    "        i += 1\n",
    "        continue\n",
    " \n",
    "    if i > 73:\n",
    "        break  \n",
    "        \n",
    "    print(i, end=' ')\n",
    "    i+=1\n",
    "  "
   ]
  },
  {
   "cell_type": "markdown",
   "id": "4e473811",
   "metadata": {},
   "source": [
    "* 계단식으로 별 출력하기"
   ]
  },
  {
   "cell_type": "code",
   "execution_count": 25,
   "id": "1fa3a4cd",
   "metadata": {},
   "outputs": [
    {
     "name": "stdout",
     "output_type": "stream",
     "text": [
      "*\n",
      "**\n",
      "***\n",
      "****\n",
      "*****\n"
     ]
    }
   ],
   "source": [
    "for i in range(5):\n",
    "    for j in range(5):\n",
    "        if j<=i:\n",
    "            print(\"*\", end=\"\")\n",
    "    print()"
   ]
  },
  {
   "cell_type": "markdown",
   "id": "93dda60e",
   "metadata": {},
   "source": [
    "* 역삼각형 모양으로 별 출력하기"
   ]
  },
  {
   "cell_type": "code",
   "execution_count": 26,
   "id": "65059c21",
   "metadata": {},
   "outputs": [
    {
     "name": "stdout",
     "output_type": "stream",
     "text": [
      "*****\n",
      " ****\n",
      "  ***\n",
      "   **\n",
      "    *\n"
     ]
    }
   ],
   "source": [
    "for i in range(5):\n",
    "    for j in range(5):\n",
    "        if j < i:\n",
    "            print(\" \", end=\"\")\n",
    "        else:\n",
    "            print(\"*\", end=\"\")                    \n",
    "    print()"
   ]
  },
  {
   "cell_type": "code",
   "execution_count": 35,
   "id": "143bd37d",
   "metadata": {},
   "outputs": [
    {
     "name": "stdout",
     "output_type": "stream",
     "text": [
      "*****\n",
      " ****\n",
      "  ***\n",
      "   **\n",
      "    *\n"
     ]
    }
   ],
   "source": [
    "for i in range(5):\n",
    "    for j in range(5):\n",
    "        if i <= j:\n",
    "            print('*', end='')\n",
    "        else:\n",
    "            print(' ', end='')\n",
    "    print()\n"
   ]
  },
  {
   "cell_type": "code",
   "execution_count": 36,
   "id": "e7d1341c",
   "metadata": {},
   "outputs": [
    {
     "name": "stdout",
     "output_type": "stream",
     "text": [
      "*****\n",
      " ****\n",
      "  ***\n",
      "   **\n",
      "    *\n"
     ]
    }
   ],
   "source": [
    "for i in range(5):\n",
    "    for j in range(5):\n",
    "        if j >= i:\n",
    "            print(\"\", end=\"*\")\n",
    "        else:\n",
    "            print(\" \", end=\"\")\n",
    "    print()\n"
   ]
  },
  {
   "cell_type": "markdown",
   "id": "413f91df",
   "metadata": {},
   "source": [
    "* 산 만들기"
   ]
  },
  {
   "cell_type": "code",
   "execution_count": 37,
   "id": "f784072f",
   "metadata": {},
   "outputs": [
    {
     "name": "stdout",
     "output_type": "stream",
     "text": [
      "5\n"
     ]
    }
   ],
   "source": [
    "heignt = int(input())"
   ]
  },
  {
   "cell_type": "code",
   "execution_count": 50,
   "id": "4d62161d",
   "metadata": {},
   "outputs": [
    {
     "name": "stdout",
     "output_type": "stream",
     "text": [
      "    *\n",
      "   ***\n",
      "  *****\n",
      " *******\n",
      "*********\n"
     ]
    }
   ],
   "source": [
    "for i in range(heignt):\n",
    "    for j in reversed(range(heignt)):\n",
    "    #for j in range(heignt-1, -1, -1):\n",
    "        if j > i:\n",
    "            print(\" \", end=\"\")\n",
    "        else:\n",
    "            print(\"*\", end=\"\")\n",
    "    for j in range(heignt):\n",
    "        if j < i:\n",
    "            print(\"*\", end=\"\")\n",
    "    print()            "
   ]
  },
  {
   "cell_type": "code",
   "execution_count": 49,
   "id": "a2d3317c",
   "metadata": {
    "scrolled": true
   },
   "outputs": [
    {
     "name": "stdout",
     "output_type": "stream",
     "text": [
      "5\n",
      "     *\n",
      "    ***\n",
      "   *****\n",
      "  *******\n",
      " *********\n"
     ]
    }
   ],
   "source": [
    "height = int(input())\n",
    "for i in range(height):\n",
    "  for j in range(height-i):\n",
    "    print(\" \", end=\"\")\n",
    "  for j in range(i*2+1):\n",
    "    print(\"*\", end=\"\")\n",
    "  print()\n"
   ]
  },
  {
   "cell_type": "markdown",
   "id": "2003e9d2",
   "metadata": {},
   "source": [
    "* FizzBuzz"
   ]
  },
  {
   "cell_type": "code",
   "execution_count": 51,
   "id": "9ed8294f",
   "metadata": {
    "collapsed": true
   },
   "outputs": [
    {
     "name": "stdout",
     "output_type": "stream",
     "text": [
      "1\n",
      "2\n",
      "Fizz\n",
      "4\n",
      "Buzz\n",
      "Fizz\n",
      "7\n",
      "8\n",
      "Fizz\n",
      "Buzz\n",
      "11\n",
      "Fizz\n",
      "13\n",
      "14\n",
      "FizzBuzz\n",
      "16\n",
      "17\n",
      "Fizz\n",
      "19\n",
      "Buzz\n",
      "Fizz\n",
      "22\n",
      "23\n",
      "Fizz\n",
      "Buzz\n",
      "26\n",
      "Fizz\n",
      "28\n",
      "29\n",
      "FizzBuzz\n",
      "31\n",
      "32\n",
      "Fizz\n",
      "34\n",
      "Buzz\n",
      "Fizz\n",
      "37\n",
      "38\n",
      "Fizz\n",
      "Buzz\n",
      "41\n",
      "Fizz\n",
      "43\n",
      "44\n",
      "FizzBuzz\n",
      "46\n",
      "47\n",
      "Fizz\n",
      "49\n",
      "Buzz\n",
      "Fizz\n",
      "52\n",
      "53\n",
      "Fizz\n",
      "Buzz\n",
      "56\n",
      "Fizz\n",
      "58\n",
      "59\n",
      "FizzBuzz\n",
      "61\n",
      "62\n",
      "Fizz\n",
      "64\n",
      "Buzz\n",
      "Fizz\n",
      "67\n",
      "68\n",
      "Fizz\n",
      "Buzz\n",
      "71\n",
      "Fizz\n",
      "73\n",
      "74\n",
      "FizzBuzz\n",
      "76\n",
      "77\n",
      "Fizz\n",
      "79\n",
      "Buzz\n",
      "Fizz\n",
      "82\n",
      "83\n",
      "Fizz\n",
      "Buzz\n",
      "86\n",
      "Fizz\n",
      "88\n",
      "89\n",
      "FizzBuzz\n",
      "91\n",
      "92\n",
      "Fizz\n",
      "94\n",
      "Buzz\n",
      "Fizz\n",
      "97\n",
      "98\n",
      "Fizz\n",
      "Buzz\n"
     ]
    }
   ],
   "source": [
    "for i in range(1, 101):\n",
    "    if i % 3 == 0 and i % 5 ==0:\n",
    "        print(\"FizzBuzz\")\n",
    "    elif i % 3 == 0:\n",
    "        print(\"Fizz\")\n",
    "    elif i % 5 == 0:\n",
    "        print(\"Buzz\")\n",
    "    else:\n",
    "        print(i)\n",
    "    "
   ]
  },
  {
   "cell_type": "markdown",
   "id": "5aa145ff",
   "metadata": {},
   "source": [
    "* 리스트, 튜플 응용"
   ]
  },
  {
   "cell_type": "code",
   "execution_count": 54,
   "id": "e9b79ec8",
   "metadata": {},
   "outputs": [
    {
     "data": {
      "text/plain": [
       "[10, 20, 30, 500]"
      ]
     },
     "execution_count": 54,
     "metadata": {},
     "output_type": "execute_result"
    }
   ],
   "source": [
    "a = [10, 20, 30]\n",
    "a.append(500)\n",
    "a"
   ]
  },
  {
   "cell_type": "code",
   "execution_count": 55,
   "id": "6e08de13",
   "metadata": {},
   "outputs": [
    {
     "data": {
      "text/plain": [
       "[10, 20, 30, 500, [600, 700]]"
      ]
     },
     "execution_count": 55,
     "metadata": {},
     "output_type": "execute_result"
    }
   ],
   "source": [
    "a.append([600, 700])\n",
    "a"
   ]
  },
  {
   "cell_type": "code",
   "execution_count": 56,
   "id": "f4e8b1ff",
   "metadata": {},
   "outputs": [
    {
     "data": {
      "text/plain": [
       "[10, 20, 30, 500, [600, 700], 800, 900]"
      ]
     },
     "execution_count": 56,
     "metadata": {},
     "output_type": "execute_result"
    }
   ],
   "source": [
    "a.extend([800, 900])\n",
    "a"
   ]
  },
  {
   "cell_type": "code",
   "execution_count": 57,
   "id": "3db9d0c3",
   "metadata": {},
   "outputs": [],
   "source": [
    "a = [10, 20, 30]\n",
    "b = [40, 50, 60]\n",
    "a.extend(b)"
   ]
  },
  {
   "cell_type": "code",
   "execution_count": 58,
   "id": "47418d12",
   "metadata": {},
   "outputs": [
    {
     "data": {
      "text/plain": [
       "[10, 20, 30, 40, 50, 60]"
      ]
     },
     "execution_count": 58,
     "metadata": {},
     "output_type": "execute_result"
    }
   ],
   "source": [
    "a"
   ]
  },
  {
   "cell_type": "code",
   "execution_count": 60,
   "id": "75879ea8",
   "metadata": {},
   "outputs": [
    {
     "data": {
      "text/plain": [
       "[10, 20, 30, 40, 50, 60]"
      ]
     },
     "execution_count": 60,
     "metadata": {},
     "output_type": "execute_result"
    }
   ],
   "source": [
    "a = [10, 20, 30]\n",
    "b = [40, 50, 60]\n",
    "a + b"
   ]
  },
  {
   "cell_type": "code",
   "execution_count": 61,
   "id": "f4dd7311",
   "metadata": {},
   "outputs": [
    {
     "data": {
      "text/plain": [
       "[10, 20, 30]"
      ]
     },
     "execution_count": 61,
     "metadata": {},
     "output_type": "execute_result"
    }
   ],
   "source": [
    "a"
   ]
  },
  {
   "cell_type": "code",
   "execution_count": 62,
   "id": "a9b36944",
   "metadata": {},
   "outputs": [
    {
     "data": {
      "text/plain": [
       "[40, 50, 60]"
      ]
     },
     "execution_count": 62,
     "metadata": {},
     "output_type": "execute_result"
    }
   ],
   "source": [
    "b"
   ]
  },
  {
   "cell_type": "markdown",
   "id": "6d822e0e",
   "metadata": {},
   "source": [
    "* 리스트 조작하기"
   ]
  },
  {
   "cell_type": "code",
   "execution_count": 63,
   "id": "ec8145fc",
   "metadata": {},
   "outputs": [
    {
     "data": {
      "text/plain": [
       "[500, 10, 20, 30]"
      ]
     },
     "execution_count": 63,
     "metadata": {},
     "output_type": "execute_result"
    }
   ],
   "source": [
    "a = [10, 20, 30]\n",
    "a.insert(0, 500)\n",
    "a"
   ]
  },
  {
   "cell_type": "code",
   "execution_count": 64,
   "id": "7aa2d7b1",
   "metadata": {},
   "outputs": [
    {
     "data": {
      "text/plain": [
       "[10, 20, 30, 500]"
      ]
     },
     "execution_count": 64,
     "metadata": {},
     "output_type": "execute_result"
    }
   ],
   "source": [
    "a = [10, 20, 30]\n",
    "a.insert(len(a), 500)\n",
    "a"
   ]
  },
  {
   "cell_type": "code",
   "execution_count": 65,
   "id": "a50547fe",
   "metadata": {},
   "outputs": [
    {
     "data": {
      "text/plain": [
       "[10, [500, 600], 20, 30]"
      ]
     },
     "execution_count": 65,
     "metadata": {},
     "output_type": "execute_result"
    }
   ],
   "source": [
    "a = [10, 20, 30]\n",
    "a.insert(1, [500, 600])\n",
    "a"
   ]
  },
  {
   "cell_type": "code",
   "execution_count": 68,
   "id": "c6ee50f2",
   "metadata": {},
   "outputs": [
    {
     "data": {
      "text/plain": [
       "[10, 500, 600, 20, 30]"
      ]
     },
     "execution_count": 68,
     "metadata": {},
     "output_type": "execute_result"
    }
   ],
   "source": [
    "a = [10, 20, 30]\n",
    "a[1:1] = [500, 600]\n",
    "a"
   ]
  },
  {
   "cell_type": "markdown",
   "id": "29d8b851",
   "metadata": {},
   "source": [
    "* 리스트와 반복문"
   ]
  },
  {
   "cell_type": "code",
   "execution_count": 69,
   "id": "ead6924a",
   "metadata": {},
   "outputs": [
    {
     "name": "stdout",
     "output_type": "stream",
     "text": [
      "['c', 'd']\n"
     ]
    }
   ],
   "source": [
    "# option 1\n",
    "l1 = ['a','b','c','d','a','b','a','b']\n",
    "l2 = ['b','a']\n",
    "\n",
    "l3 = []\n",
    "for i in l1:\n",
    "    if i not in l2:\n",
    "        l3.append(i)\n",
    "            \n",
    "print(l3)\n",
    "\n"
   ]
  },
  {
   "cell_type": "code",
   "execution_count": 70,
   "id": "01f25c6f",
   "metadata": {},
   "outputs": [
    {
     "name": "stdout",
     "output_type": "stream",
     "text": [
      "['c', 'd']\n"
     ]
    }
   ],
   "source": [
    "#optin 2\n",
    "l1 = ['a','b','c','d','a','b','a','b']\n",
    "l2 = ['b','a']\n",
    "\n",
    "for i in l2:\n",
    "    while i in l1:\n",
    "        l1.remove(i)\n",
    "print(l1)\n"
   ]
  },
  {
   "cell_type": "code",
   "execution_count": 71,
   "id": "4f33724a",
   "metadata": {},
   "outputs": [
    {
     "name": "stdout",
     "output_type": "stream",
     "text": [
      "['c', 'd']\n"
     ]
    }
   ],
   "source": [
    "#option 3\n",
    "l1 = ['a', 'b', 'c', 'd', 'a', 'b', 'a', 'b']\n",
    "l2 = ['b', 'a']\n",
    "\n",
    "for i in l1:\n",
    "    for i in l2:\n",
    "        l1.remove(i)\n",
    "print(l1)\n"
   ]
  },
  {
   "cell_type": "markdown",
   "id": "fc053f1b",
   "metadata": {},
   "source": [
    "* 리스트 표현식"
   ]
  },
  {
   "cell_type": "code",
   "execution_count": 74,
   "id": "b2c9f9f4",
   "metadata": {},
   "outputs": [
    {
     "data": {
      "text/plain": [
       "[0, 2, 4, 6, 8, 10, 12, 14, 16, 18]"
      ]
     },
     "execution_count": 74,
     "metadata": {},
     "output_type": "execute_result"
    }
   ],
   "source": [
    "l = []\n",
    "for i in range(10):\n",
    "    l.append(i*2)\n",
    "l    "
   ]
  },
  {
   "cell_type": "code",
   "execution_count": 75,
   "id": "7e20d63d",
   "metadata": {},
   "outputs": [
    {
     "data": {
      "text/plain": [
       "[0, 2, 4, 6, 8, 10, 12, 14, 16, 18]"
      ]
     },
     "execution_count": 75,
     "metadata": {},
     "output_type": "execute_result"
    }
   ],
   "source": [
    "#위의 코드와 아래 리스트 표현식은 동일\n",
    "[i*2 for i in range(10)]"
   ]
  },
  {
   "cell_type": "markdown",
   "id": "2a80aed2",
   "metadata": {},
   "source": [
    "* 사전 - 알파벳별 빈도수 만들기"
   ]
  },
  {
   "cell_type": "code",
   "execution_count": 76,
   "id": "70f691ab",
   "metadata": {
    "collapsed": true
   },
   "outputs": [
    {
     "name": "stdout",
     "output_type": "stream",
     "text": [
      "{'l': 1, 'i': 3, 'f': 1, 'e': 2, 's': 5, 'h': 2, 'o': 3, 'r': 1, 't': 2, 'p': 1, 'y': 2, 'n': 1, 'a': 1}\n"
     ]
    }
   ],
   "source": [
    "s = 'life is short, so python is easy.'\n",
    "d = {}\n",
    "for i in range(len(s)):\n",
    "    if s[i] != ',' and s[i] != '.' and s[i] != ' ':\n",
    "        if s[i] not in d:\n",
    "            d[s[i]] = 1\n",
    "        else:\n",
    "            d[s[i]] += 1\n",
    "print(d)\n"
   ]
  },
  {
   "cell_type": "code",
   "execution_count": 77,
   "id": "79de63e5",
   "metadata": {
    "collapsed": true
   },
   "outputs": [
    {
     "name": "stdout",
     "output_type": "stream",
     "text": [
      "{'l': 1, 'i': 3, 'f': 1, 'e': 2, 's': 5, 'h': 2, 'o': 3, 'r': 1, 't': 2, 'p': 1, 'y': 2, 'n': 1, 'a': 1}\n"
     ]
    }
   ],
   "source": [
    "s='life is short, so python is easy'\n",
    "punct=',. '\n",
    "d={}\n",
    "for i in s:\n",
    "    if i not in punct and i not in d:\n",
    "        d[i] = s.count(i)\n",
    "print(d)\n"
   ]
  },
  {
   "cell_type": "code",
   "execution_count": 78,
   "id": "9115e803",
   "metadata": {
    "collapsed": true
   },
   "outputs": [
    {
     "name": "stdout",
     "output_type": "stream",
     "text": [
      "{'l': 1, 'i': 3, 'f': 1, 'e': 2, 's': 5, 'h': 2, 'o': 3, 'r': 1, 't': 2, 'p': 1, 'y': 2, 'n': 1, 'a': 1}\n"
     ]
    }
   ],
   "source": [
    "s = 'life is short, so python is easy.'\n",
    "punct = ',. '\n",
    "d = {}\n",
    "\n",
    "for i in s:\n",
    "    if i not in punct:\n",
    "        if i not in d:\n",
    "            d[i] = 1\n",
    "        else:\n",
    "            d[i] += 1\n",
    "print(d)\n"
   ]
  },
  {
   "cell_type": "code",
   "execution_count": 80,
   "id": "c342a79d",
   "metadata": {
    "collapsed": true
   },
   "outputs": [
    {
     "data": {
      "text/plain": [
       "{'l': 1,\n",
       " 'i': 3,\n",
       " 'f': 1,\n",
       " 'e': 2,\n",
       " 's': 5,\n",
       " 'h': 2,\n",
       " 'o': 3,\n",
       " 'r': 1,\n",
       " 't': 2,\n",
       " 'p': 1,\n",
       " 'y': 2,\n",
       " 'n': 1,\n",
       " 'a': 1}"
      ]
     },
     "execution_count": 80,
     "metadata": {},
     "output_type": "execute_result"
    }
   ],
   "source": [
    "s = \"life is short, so python is easy.\"\n",
    "punct = \",. \"\n",
    "d = {}\n",
    "for i in s:\n",
    "    if i not in punct:\n",
    "        d[i] = s.count(i)\n",
    "d\n"
   ]
  },
  {
   "cell_type": "code",
   "execution_count": 81,
   "id": "1bbd3aeb",
   "metadata": {},
   "outputs": [
    {
     "name": "stdout",
     "output_type": "stream",
     "text": [
      "{'l': 1, 'i': 3, 'f': 1, 'e': 2, 's': 5, 'h': 2, 'o': 3, 'r': 1, 't': 2, 'p': 1, 'y': 2, 'n': 1, 'a': 1}\n"
     ]
    }
   ],
   "source": [
    "s='life is short, so python is easy'\n",
    "d=dict(zip([i for i in s if i not in punct],[s.count(i) for i in s if i not in punct]))\n",
    "print(d)\n"
   ]
  },
  {
   "cell_type": "code",
   "execution_count": 82,
   "id": "9150651a",
   "metadata": {},
   "outputs": [
    {
     "data": {
      "text/plain": [
       "3"
      ]
     },
     "execution_count": 82,
     "metadata": {},
     "output_type": "execute_result"
    }
   ],
   "source": [
    "import random\n",
    "random.randint(1,5)"
   ]
  },
  {
   "cell_type": "code",
   "execution_count": null,
   "id": "87906158",
   "metadata": {},
   "outputs": [],
   "source": [
    "* 지뢰 찾기"
   ]
  },
  {
   "cell_type": "code",
   "execution_count": 85,
   "id": "52571cd8",
   "metadata": {},
   "outputs": [
    {
     "name": "stdout",
     "output_type": "stream",
     "text": [
      "3 3\n"
     ]
    }
   ],
   "source": [
    "#사용자 입력으로 행, 열 저장하기\n",
    "cols, rows = map(int, input().split())"
   ]
  },
  {
   "cell_type": "code",
   "execution_count": 86,
   "id": "1c596b1d",
   "metadata": {},
   "outputs": [
    {
     "data": {
      "text/plain": [
       "(3, 3)"
      ]
     },
     "execution_count": 86,
     "metadata": {},
     "output_type": "execute_result"
    }
   ],
   "source": [
    "cols, rows"
   ]
  },
  {
   "cell_type": "code",
   "execution_count": 88,
   "id": "3b0a88c9",
   "metadata": {},
   "outputs": [
    {
     "name": "stdout",
     "output_type": "stream",
     "text": [
      "*..\n",
      ".**\n",
      "**.\n"
     ]
    }
   ],
   "source": [
    "matrix = []\n",
    "for i in  range(rows):\n",
    "    matrix.append(list(input()))"
   ]
  },
  {
   "cell_type": "code",
   "execution_count": 89,
   "id": "34ad1bd3",
   "metadata": {},
   "outputs": [
    {
     "data": {
      "text/plain": [
       "[['*', '.', '.'], ['.', '*', '*'], ['*', '*', '.']]"
      ]
     },
     "execution_count": 89,
     "metadata": {},
     "output_type": "execute_result"
    }
   ],
   "source": [
    "matrix"
   ]
  },
  {
   "cell_type": "code",
   "execution_count": null,
   "id": "e42e2370",
   "metadata": {},
   "outputs": [],
   "source": [
    "*32\n",
    "4**\n",
    "**3"
   ]
  },
  {
   "cell_type": "code",
   "execution_count": 91,
   "id": "8eb4ebb0",
   "metadata": {},
   "outputs": [
    {
     "name": "stdout",
     "output_type": "stream",
     "text": [
      "3 3\n",
      "*..\n",
      "..*\n",
      ".*.\n",
      "출력\n",
      "*00\n",
      "33*\n",
      "2*2\n"
     ]
    }
   ],
   "source": [
    "matrix=[]\n",
    "col,row = map(int,input().split())\n",
    "for i in range(row):\n",
    "    matrix.append(list(input()))\n",
    "\n",
    "d=[[-1,-1],[-1,0],[-1,1],[0,-1],[0,1],[1,-1],[1,0],[1,1]] #chk할 방향 상대 경로\n",
    "\n",
    "for i in range(row):\n",
    "    for j in range(col):\n",
    "        if matrix[i][j]=='.': \n",
    "            matrix[i][j] = 0  #0으로 초기화\n",
    "            for x,y in d:\n",
    "                if 0<= i+x <row and 0<= i+y <col: #행렬안에 있는 경우만\n",
    "                    if matrix[i+x][i+y] == '*':\n",
    "                        matrix[i][j] +=1\n",
    "\n",
    "print('출력')\n",
    "for i in matrix:\n",
    "    for j in i:\n",
    "        print(j,end='')\n",
    "    print()\n"
   ]
  },
  {
   "cell_type": "code",
   "execution_count": 94,
   "id": "de588ce3",
   "metadata": {},
   "outputs": [
    {
     "name": "stdout",
     "output_type": "stream",
     "text": [
      "3 3\n",
      "*..\n",
      "..*\n",
      ".*.\n",
      "*21\n",
      "23*\n",
      "1*2\n"
     ]
    }
   ],
   "source": [
    "n, m = map(int, input().split())\n",
    "mp = [list(input()) for _ in range(m)]\n",
    "\n",
    "dx = [-1, 0, 1, 0, 1, 1, -1, -1]\n",
    "dy = [0, -1, 0, 1, 1, -1, 1, -1]\n",
    "\n",
    "for i in range(n):\n",
    "    for j in range(m):\n",
    "        cnt = 0\n",
    "        if mp[i][j]=='.':\n",
    "            for k in range(8):\n",
    "                nx = i + dx[k]\n",
    "                ny = j + dy[k]\n",
    "                if 0 <= nx < n and 0 <= ny < m:\n",
    "                    if mp[nx][ny] == '*':\n",
    "                        cnt += 1\n",
    "            mp[i][j] = cnt\n",
    "            \n",
    "for i in range(n):\n",
    "    for j in range(m):\n",
    "        print(mp[i][j], end='')\n",
    "    print()\n"
   ]
  },
  {
   "cell_type": "code",
   "execution_count": 93,
   "id": "2a6d16ed",
   "metadata": {},
   "outputs": [
    {
     "name": "stdout",
     "output_type": "stream",
     "text": [
      "3 3\n",
      "*..\n",
      ".**\n",
      "*..\n",
      "[['*', 3, 2], [3, '*', '*'], ['*', 3, 2]]\n"
     ]
    }
   ],
   "source": [
    "n, m = map(int, input().split())\n",
    "matrix = []\n",
    "for _ in range(n):\n",
    "    matrix.append(list(input()))\n",
    "\n",
    "dx = [-1,1,0,0,-1,-1,1,1]\n",
    "dy = [0,0,-1,1,-1,1,1,-1]\n",
    "for i in range(n):\n",
    "    for j in range(m):\n",
    "        cnt = 0\n",
    "        if matrix[i][j] == '.':\n",
    "            for k in range(8):\n",
    "                nx = i + dx[k]\n",
    "                ny = j + dy[k]\n",
    "                if 0 <= nx < n and 0 <= ny < m:\n",
    "                    if matrix[nx][ny] == '*':\n",
    "                        cnt += 1\n",
    "                \n",
    "            matrix[i][j] = cnt\n",
    "            \n",
    "print(matrix)\n"
   ]
  },
  {
   "cell_type": "code",
   "execution_count": null,
   "id": "1feecf63",
   "metadata": {},
   "outputs": [],
   "source": []
  }
 ],
 "metadata": {
  "kernelspec": {
   "display_name": "Python 3",
   "language": "python",
   "name": "python3"
  },
  "language_info": {
   "codemirror_mode": {
    "name": "ipython",
    "version": 3
   },
   "file_extension": ".py",
   "mimetype": "text/x-python",
   "name": "python",
   "nbconvert_exporter": "python",
   "pygments_lexer": "ipython3",
   "version": "3.8.8"
  }
 },
 "nbformat": 4,
 "nbformat_minor": 5
}
