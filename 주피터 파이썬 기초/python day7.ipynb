{
 "cells": [
  {
   "cell_type": "code",
   "execution_count": 1,
   "id": "10d00825",
   "metadata": {},
   "outputs": [
    {
     "name": "stdout",
     "output_type": "stream",
     "text": [
      "3의 배수를 입력하세여10\n",
      "예외가 발생했습니다. 3의 배수가 아닙니다\n"
     ]
    }
   ],
   "source": [
    "try:\n",
    "    x = int(input('3의 배수를 입력하세여'))\n",
    "    if x % 3 != 0:\n",
    "        raise Exception('3의 배수가 아닙니다') #예외를 발생시킴\n",
    "    print(x)\n",
    "\n",
    "except Exception as e:\n",
    "    print('예외가 발생했습니다.', e)\n"
   ]
  },
  {
   "cell_type": "code",
   "execution_count": 2,
   "id": "f0913a27",
   "metadata": {},
   "outputs": [
    {
     "name": "stdout",
     "output_type": "stream",
     "text": [
      "3의 배수를 입력하세여10\n",
      "예외가 발생했습니다. 3의 배수가 아닙니다\n"
     ]
    }
   ],
   "source": [
    "def three_multiple():\n",
    "    x = int(input('3의 배수를 입력하세여'))\n",
    "    if x % 3 != 0:\n",
    "        raise Exception('3의 배수가 아닙니다')\n",
    "    print(x)\n",
    "    \n",
    "try:\n",
    "    three_multiple()\n",
    "\n",
    "except Exception as e:\n",
    "    print('예외가 발생했습니다.', e)"
   ]
  },
  {
   "cell_type": "code",
   "execution_count": 4,
   "id": "a3d44340",
   "metadata": {},
   "outputs": [
    {
     "name": "stdout",
     "output_type": "stream",
     "text": [
      "3의 배수를 입력하세여10\n",
      "three_multiple 함수에서 예외가 발생했습니다. 3의 배수가 아닙니다\n",
      "예외가 발생했습니다. 3의 배수가 아닙니다\n"
     ]
    }
   ],
   "source": [
    "def three_multiple():\n",
    "    try:\n",
    "        x = int(input('3의 배수를 입력하세여'))\n",
    "        if x % 3 != 0:\n",
    "            raise Exception('3의 배수가 아닙니다')\n",
    "        print(x)\n",
    "    except Exception as e:\n",
    "        print('three_multiple 함수에서 예외가 발생했습니다.', e) #이건 함수 내의 예외 발생\n",
    "        raise\n",
    "    \n",
    "try:\n",
    "    three_multiple()\n",
    "\n",
    "except Exception as e:\n",
    "    print('예외가 발생했습니다.', e) #이건 함수 밖에서 예외 발생"
   ]
  },
  {
   "cell_type": "code",
   "execution_count": 12,
   "id": "99bca90b",
   "metadata": {},
   "outputs": [
    {
     "name": "stdout",
     "output_type": "stream",
     "text": [
      "3의 배수를 입력하세여2\n",
      "예외가 발생했습니다. 3의 배수가 아닙니다.\n"
     ]
    }
   ],
   "source": [
    "class NotThreeMultipleError(Exception):\n",
    "    def __init__(self):\n",
    "        super().__init__('3의 배수가 아닙니다.')\n",
    "        \n",
    "def three_multiple():\n",
    "    try:\n",
    "        x = int(input('3의 배수를 입력하세여'))\n",
    "        if x % 3 != 0:\n",
    "            raise NotThreeMultipleError\n",
    "        print(x)\n",
    "    except Exception as e:\n",
    "        print('예외가 발생했습니다.', e) #이건 함수 밖에서 예외 발생\n",
    "three_multiple()"
   ]
  },
  {
   "cell_type": "code",
   "execution_count": 13,
   "id": "36a4f5bc",
   "metadata": {},
   "outputs": [
    {
     "ename": "NotThreeMultipleError",
     "evalue": "3의 배수가 아닙니다",
     "output_type": "error",
     "traceback": [
      "\u001b[1;31m---------------------------------------------------------------------------\u001b[0m",
      "\u001b[1;31mNotThreeMultipleError\u001b[0m                     Traceback (most recent call last)",
      "\u001b[1;32m<ipython-input-13-f47519b58b84>\u001b[0m in \u001b[0;36m<module>\u001b[1;34m\u001b[0m\n\u001b[0;32m      1\u001b[0m \u001b[1;32mclass\u001b[0m \u001b[0mNotThreeMultipleError\u001b[0m\u001b[1;33m(\u001b[0m\u001b[0mException\u001b[0m\u001b[1;33m)\u001b[0m\u001b[1;33m:\u001b[0m\u001b[1;33m\u001b[0m\u001b[1;33m\u001b[0m\u001b[0m\n\u001b[0;32m      2\u001b[0m     \u001b[1;32mpass\u001b[0m\u001b[1;33m\u001b[0m\u001b[1;33m\u001b[0m\u001b[0m\n\u001b[1;32m----> 3\u001b[1;33m \u001b[1;32mraise\u001b[0m \u001b[0mNotThreeMultipleError\u001b[0m\u001b[1;33m(\u001b[0m\u001b[1;34m'3의 배수가 아닙니다'\u001b[0m\u001b[1;33m)\u001b[0m\u001b[1;33m\u001b[0m\u001b[1;33m\u001b[0m\u001b[0m\n\u001b[0m",
      "\u001b[1;31mNotThreeMultipleError\u001b[0m: 3의 배수가 아닙니다"
     ]
    }
   ],
   "source": [
    "class NotThreeMultipleError(Exception):\n",
    "    pass\n",
    "raise NotThreeMultipleError('3의 배수가 아닙니다')"
   ]
  },
  {
   "cell_type": "markdown",
   "id": "d72e7551",
   "metadata": {},
   "source": [
    "* assert 처리하기"
   ]
  },
  {
   "cell_type": "code",
   "execution_count": 14,
   "id": "042e1b13",
   "metadata": {},
   "outputs": [
    {
     "ename": "NameError",
     "evalue": "name '조건식' is not defined",
     "output_type": "error",
     "traceback": [
      "\u001b[1;31m---------------------------------------------------------------------------\u001b[0m",
      "\u001b[1;31mNameError\u001b[0m                                 Traceback (most recent call last)",
      "\u001b[1;32m<ipython-input-14-8c12f8be07d0>\u001b[0m in \u001b[0;36m<module>\u001b[1;34m\u001b[0m\n\u001b[1;32m----> 1\u001b[1;33m \u001b[1;32massert\u001b[0m \u001b[0m조건식\u001b[0m \u001b[1;31m#조건에 맞지않으면 에러\u001b[0m\u001b[1;33m\u001b[0m\u001b[1;33m\u001b[0m\u001b[0m\n\u001b[0m",
      "\u001b[1;31mNameError\u001b[0m: name '조건식' is not defined"
     ]
    }
   ],
   "source": [
    "assert 조건식 '에러메세지' #조건에 맞지않으면 에러"
   ]
  },
  {
   "cell_type": "code",
   "execution_count": 16,
   "id": "46a7faf4",
   "metadata": {},
   "outputs": [
    {
     "ename": "SyntaxError",
     "evalue": "invalid syntax (<ipython-input-16-af0af5af8a43>, line 4)",
     "output_type": "error",
     "traceback": [
      "\u001b[1;36m  File \u001b[1;32m\"<ipython-input-16-af0af5af8a43>\"\u001b[1;36m, line \u001b[1;32m4\u001b[0m\n\u001b[1;33m    assert\u001b[0m\n\u001b[1;37m          ^\u001b[0m\n\u001b[1;31mSyntaxError\u001b[0m\u001b[1;31m:\u001b[0m invalid syntax\n"
     ]
    }
   ],
   "source": [
    "#예외발생 3가지\n",
    "Exception('')\n",
    "raise\n",
    "assert"
   ]
  },
  {
   "cell_type": "markdown",
   "id": "5184ab86",
   "metadata": {},
   "source": [
    "* 파일 예외처리하기"
   ]
  },
  {
   "cell_type": "code",
   "execution_count": 21,
   "id": "ddf6ce1f",
   "metadata": {},
   "outputs": [
    {
     "name": "stdout",
     "output_type": "stream",
     "text": [
      "파일이 없습니다.\n"
     ]
    }
   ],
   "source": [
    "try:\n",
    "    file = open('maria.txt', 'r')\n",
    "    \n",
    "except FileNotFoundError:\n",
    "    print('파일이 없습니다.')\n",
    "    \n",
    "else:\n",
    "    s = file.read()\n",
    "    file.close()"
   ]
  },
  {
   "cell_type": "code",
   "execution_count": 23,
   "id": "68b1d471",
   "metadata": {},
   "outputs": [
    {
     "data": {
      "text/plain": [
       "['__add__',\n",
       " '__class__',\n",
       " '__contains__',\n",
       " '__delattr__',\n",
       " '__delitem__',\n",
       " '__dir__',\n",
       " '__doc__',\n",
       " '__eq__',\n",
       " '__format__',\n",
       " '__ge__',\n",
       " '__getattribute__',\n",
       " '__getitem__',\n",
       " '__gt__',\n",
       " '__hash__',\n",
       " '__iadd__',\n",
       " '__imul__',\n",
       " '__init__',\n",
       " '__init_subclass__',\n",
       " '__iter__',\n",
       " '__le__',\n",
       " '__len__',\n",
       " '__lt__',\n",
       " '__mul__',\n",
       " '__ne__',\n",
       " '__new__',\n",
       " '__reduce__',\n",
       " '__reduce_ex__',\n",
       " '__repr__',\n",
       " '__reversed__',\n",
       " '__rmul__',\n",
       " '__setattr__',\n",
       " '__setitem__',\n",
       " '__sizeof__',\n",
       " '__str__',\n",
       " '__subclasshook__',\n",
       " 'append',\n",
       " 'clear',\n",
       " 'copy',\n",
       " 'count',\n",
       " 'extend',\n",
       " 'index',\n",
       " 'insert',\n",
       " 'pop',\n",
       " 'remove',\n",
       " 'reverse',\n",
       " 'sort']"
      ]
     },
     "execution_count": 23,
     "metadata": {},
     "output_type": "execute_result"
    }
   ],
   "source": [
    "# dir(객체)\n",
    "dir([1, 2, 3]) # __iter__가 있는지 봐야함"
   ]
  },
  {
   "cell_type": "code",
   "execution_count": 26,
   "id": "11a20263",
   "metadata": {},
   "outputs": [
    {
     "name": "stdout",
     "output_type": "stream",
     "text": [
      "1\n",
      "반복 가능한 객체입니다.\n"
     ]
    }
   ],
   "source": [
    "a = input().split()\n",
    "if '__iter__' in dir(a):\n",
    "    print('반복 가능한 객체입니다.')\n",
    "else:\n",
    "    print('반복 불가.')"
   ]
  },
  {
   "cell_type": "code",
   "execution_count": 27,
   "id": "9bacd9bb",
   "metadata": {},
   "outputs": [
    {
     "data": {
      "text/plain": [
       "<list_iterator at 0x1bcc92f46a0>"
      ]
     },
     "execution_count": 27,
     "metadata": {},
     "output_type": "execute_result"
    }
   ],
   "source": [
    "[1, 2, 3].__iter__()"
   ]
  },
  {
   "cell_type": "code",
   "execution_count": 47,
   "id": "2d2a3333",
   "metadata": {},
   "outputs": [
    {
     "data": {
      "text/plain": [
       "1"
      ]
     },
     "execution_count": 47,
     "metadata": {},
     "output_type": "execute_result"
    }
   ],
   "source": [
    "it = [1, 2, 3].__iter__()\n",
    "it.__next__()"
   ]
  },
  {
   "cell_type": "code",
   "execution_count": 48,
   "id": "f5a8ed7b",
   "metadata": {},
   "outputs": [
    {
     "data": {
      "text/plain": [
       "2"
      ]
     },
     "execution_count": 48,
     "metadata": {},
     "output_type": "execute_result"
    }
   ],
   "source": [
    "it.__next__()"
   ]
  },
  {
   "cell_type": "code",
   "execution_count": 50,
   "id": "351f74f0",
   "metadata": {},
   "outputs": [
    {
     "ename": "StopIteration",
     "evalue": "",
     "output_type": "error",
     "traceback": [
      "\u001b[1;31m---------------------------------------------------------------------------\u001b[0m",
      "\u001b[1;31mStopIteration\u001b[0m                             Traceback (most recent call last)",
      "\u001b[1;32m<ipython-input-50-74e64ed6c80d>\u001b[0m in \u001b[0;36m<module>\u001b[1;34m\u001b[0m\n\u001b[1;32m----> 1\u001b[1;33m \u001b[0mit\u001b[0m\u001b[1;33m.\u001b[0m\u001b[0m__next__\u001b[0m\u001b[1;33m(\u001b[0m\u001b[1;33m)\u001b[0m\u001b[1;33m\u001b[0m\u001b[1;33m\u001b[0m\u001b[0m\n\u001b[0m",
      "\u001b[1;31mStopIteration\u001b[0m: "
     ]
    }
   ],
   "source": [
    "it.__next__()"
   ]
  },
  {
   "cell_type": "code",
   "execution_count": 38,
   "id": "0c472569",
   "metadata": {},
   "outputs": [
    {
     "data": {
      "text/plain": [
       "list_iterator"
      ]
     },
     "execution_count": 38,
     "metadata": {},
     "output_type": "execute_result"
    }
   ],
   "source": [
    "type(it)"
   ]
  },
  {
   "cell_type": "code",
   "execution_count": 41,
   "id": "3e8324d5",
   "metadata": {},
   "outputs": [
    {
     "name": "stdout",
     "output_type": "stream",
     "text": [
      "2\n",
      "3\n"
     ]
    }
   ],
   "source": [
    "for i in it:\n",
    "    print(i)"
   ]
  },
  {
   "cell_type": "code",
   "execution_count": 44,
   "id": "94f5ce22",
   "metadata": {},
   "outputs": [
    {
     "data": {
      "text/plain": [
       "<list_iterator at 0x1bcca282f40>"
      ]
     },
     "execution_count": 44,
     "metadata": {},
     "output_type": "execute_result"
    }
   ],
   "source": [
    "[1, 2, 3].__iter__()"
   ]
  },
  {
   "cell_type": "code",
   "execution_count": 45,
   "id": "84c40444",
   "metadata": {},
   "outputs": [
    {
     "data": {
      "text/plain": [
       "<str_iterator at 0x1bcca282a90>"
      ]
     },
     "execution_count": 45,
     "metadata": {},
     "output_type": "execute_result"
    }
   ],
   "source": [
    "'hello'.__iter__()"
   ]
  },
  {
   "cell_type": "code",
   "execution_count": 46,
   "id": "4a200f25",
   "metadata": {},
   "outputs": [
    {
     "data": {
      "text/plain": [
       "<dict_keyiterator at 0x1bcca349b80>"
      ]
     },
     "execution_count": 46,
     "metadata": {},
     "output_type": "execute_result"
    }
   ],
   "source": [
    "{1 : 2, 2 : 3}.__iter__()"
   ]
  },
  {
   "cell_type": "code",
   "execution_count": 51,
   "id": "69b7df45",
   "metadata": {},
   "outputs": [],
   "source": [
    "# 반복가능한 객체와 이터레이터는 모습은 비슷해도 다른 객체이다."
   ]
  },
  {
   "cell_type": "code",
   "execution_count": 52,
   "id": "49478512",
   "metadata": {},
   "outputs": [],
   "source": [
    "#이터레이터 만들기\n",
    "class 이터레이터이름:\n",
    "    def __iter(self):\n",
    "        코드\n",
    "    def __next__(self):\n",
    "        코드"
   ]
  },
  {
   "cell_type": "code",
   "execution_count": 54,
   "id": "3f4f9975",
   "metadata": {},
   "outputs": [],
   "source": [
    "class Counter:\n",
    "    def __init__(self, stop): #현재숫자는 유지하고 0부터 stop까지 반복\n",
    "        self.current = 0\n",
    "        self.stop  = stop\n",
    "    def __iter__(self):\n",
    "        return self #현재 인스턴스 반환\n",
    "    def __next__(self):\n",
    "        if self.current < self.stop:\n",
    "            temp = self.current\n",
    "            self.current += 1\n",
    "            return(temp)\n",
    "        else:\n",
    "            raise StopIteration"
   ]
  },
  {
   "cell_type": "code",
   "execution_count": 56,
   "id": "1d234933",
   "metadata": {},
   "outputs": [
    {
     "name": "stdout",
     "output_type": "stream",
     "text": [
      "0 1 2 "
     ]
    }
   ],
   "source": [
    "for i in Counter(3):\n",
    "    print(i, end=' ')"
   ]
  },
  {
   "cell_type": "code",
   "execution_count": 57,
   "id": "44ff6972",
   "metadata": {},
   "outputs": [
    {
     "name": "stdout",
     "output_type": "stream",
     "text": [
      "0 1 2\n"
     ]
    }
   ],
   "source": [
    "a, b, c = Counter(3)\n",
    "print(a, b, c)"
   ]
  },
  {
   "cell_type": "code",
   "execution_count": 58,
   "id": "5982c393",
   "metadata": {},
   "outputs": [
    {
     "name": "stdout",
     "output_type": "stream",
     "text": [
      "0 1 2 3 4\n"
     ]
    }
   ],
   "source": [
    "a, b, c, d, e = Counter(5)\n",
    "print(a, b, c, d, e)"
   ]
  },
  {
   "cell_type": "code",
   "execution_count": 59,
   "id": "decb8a4c",
   "metadata": {},
   "outputs": [
    {
     "data": {
      "text/plain": [
       "range(0, 3)"
      ]
     },
     "execution_count": 59,
     "metadata": {},
     "output_type": "execute_result"
    }
   ],
   "source": [
    "range(3)"
   ]
  },
  {
   "cell_type": "code",
   "execution_count": 60,
   "id": "d78473d9",
   "metadata": {},
   "outputs": [
    {
     "data": {
      "text/plain": [
       "2"
      ]
     },
     "execution_count": 60,
     "metadata": {},
     "output_type": "execute_result"
    }
   ],
   "source": [
    "range(3)[2]"
   ]
  },
  {
   "cell_type": "code",
   "execution_count": 61,
   "id": "de304756",
   "metadata": {},
   "outputs": [
    {
     "ename": "TypeError",
     "evalue": "'Counter' object is not subscriptable",
     "output_type": "error",
     "traceback": [
      "\u001b[1;31m---------------------------------------------------------------------------\u001b[0m",
      "\u001b[1;31mTypeError\u001b[0m                                 Traceback (most recent call last)",
      "\u001b[1;32m<ipython-input-61-eda00c12b569>\u001b[0m in \u001b[0;36m<module>\u001b[1;34m\u001b[0m\n\u001b[1;32m----> 1\u001b[1;33m \u001b[0mCounter\u001b[0m\u001b[1;33m(\u001b[0m\u001b[1;36m3\u001b[0m\u001b[1;33m)\u001b[0m\u001b[1;33m[\u001b[0m\u001b[1;36m1\u001b[0m\u001b[1;33m]\u001b[0m\u001b[1;33m\u001b[0m\u001b[1;33m\u001b[0m\u001b[0m\n\u001b[0m",
      "\u001b[1;31mTypeError\u001b[0m: 'Counter' object is not subscriptable"
     ]
    }
   ],
   "source": [
    "Counter(3)[1] #이건 하나씩 만드는 거라서 안됌"
   ]
  },
  {
   "cell_type": "code",
   "execution_count": 62,
   "id": "47858938",
   "metadata": {},
   "outputs": [],
   "source": [
    "it = range(3).__iter__() == iter(range(3))"
   ]
  },
  {
   "cell_type": "code",
   "execution_count": 64,
   "id": "d661f2bb",
   "metadata": {},
   "outputs": [
    {
     "data": {
      "text/plain": [
       "False"
      ]
     },
     "execution_count": 64,
     "metadata": {},
     "output_type": "execute_result"
    }
   ],
   "source": [
    "iter(호출가능한 객체, 반복을 끝낼 값.) 호출 객체에서는 람다가 자주쓰인다. 다른 건 호출은 불가 또는 함수가 쓰임"
   ]
  },
  {
   "cell_type": "code",
   "execution_count": 92,
   "id": "78a94e61",
   "metadata": {},
   "outputs": [
    {
     "name": "stdout",
     "output_type": "stream",
     "text": [
      "5 0 4 4 0 1 5 1 0 "
     ]
    }
   ],
   "source": [
    "import random\n",
    "\n",
    "for i in iter(lambda :random.randint(0, 5), 2):\n",
    "    print(i, end=' ')"
   ]
  },
  {
   "cell_type": "code",
   "execution_count": 70,
   "id": "abe28d32",
   "metadata": {},
   "outputs": [
    {
     "name": "stdout",
     "output_type": "stream",
     "text": [
      "3\n",
      "1\n",
      "5\n",
      "5\n",
      "3\n",
      "0\n",
      "0\n"
     ]
    }
   ],
   "source": [
    "while True:\n",
    "    i = random.randint(0, 5)\n",
    "    if i == 2:\n",
    "        break\n",
    "    print(i)"
   ]
  },
  {
   "cell_type": "code",
   "execution_count": 93,
   "id": "515c60b5",
   "metadata": {},
   "outputs": [
    {
     "data": {
      "text/plain": [
       "0"
      ]
     },
     "execution_count": 93,
     "metadata": {},
     "output_type": "execute_result"
    }
   ],
   "source": [
    "it = iter(range(3))\n",
    "next(it, '예외입니다.')"
   ]
  },
  {
   "cell_type": "code",
   "execution_count": 94,
   "id": "7f0a9a2b",
   "metadata": {},
   "outputs": [
    {
     "data": {
      "text/plain": [
       "1"
      ]
     },
     "execution_count": 94,
     "metadata": {},
     "output_type": "execute_result"
    }
   ],
   "source": [
    "next(it, '예외입니다.')"
   ]
  },
  {
   "cell_type": "code",
   "execution_count": 95,
   "id": "cb51a834",
   "metadata": {},
   "outputs": [
    {
     "data": {
      "text/plain": [
       "2"
      ]
     },
     "execution_count": 95,
     "metadata": {},
     "output_type": "execute_result"
    }
   ],
   "source": [
    "next(it, '예외입니다.')"
   ]
  },
  {
   "cell_type": "code",
   "execution_count": 96,
   "id": "77f19b41",
   "metadata": {},
   "outputs": [
    {
     "data": {
      "text/plain": [
       "'예외입니다.'"
      ]
     },
     "execution_count": 96,
     "metadata": {},
     "output_type": "execute_result"
    }
   ],
   "source": [
    "next(it, '예외입니다.')"
   ]
  },
  {
   "cell_type": "code",
   "execution_count": 97,
   "id": "257fca35",
   "metadata": {},
   "outputs": [
    {
     "data": {
      "text/plain": [
       "'예외입니다.'"
      ]
     },
     "execution_count": 97,
     "metadata": {},
     "output_type": "execute_result"
    }
   ],
   "source": [
    "next(it, '예외입니다.')"
   ]
  },
  {
   "cell_type": "code",
   "execution_count": 98,
   "id": "e431f8e4",
   "metadata": {},
   "outputs": [],
   "source": [
    "#인덱스 접근 가능한 메서드는 __getitem__"
   ]
  },
  {
   "cell_type": "code",
   "execution_count": 125,
   "id": "687a0cef",
   "metadata": {},
   "outputs": [],
   "source": [
    "class MultipleIterator:\n",
    "    def __init__(self, stop, multiple):\n",
    "        self.current = 0\n",
    "        self.stop = stop\n",
    "        self.multiple = multiple\n",
    "    def __iter__(self):\n",
    "        return self\n",
    "    def __next__(self):\n",
    "        if self.current + self.multiple < self.stop:\n",
    "            self.current += self.multiple\n",
    "            r = self.current\n",
    "            return r\n",
    "        else:\n",
    "            raise StopIteration()"
   ]
  },
  {
   "cell_type": "code",
   "execution_count": 126,
   "id": "70117d2e",
   "metadata": {},
   "outputs": [
    {
     "ename": "UnboundLocalError",
     "evalue": "local variable 'r' referenced before assignment",
     "output_type": "error",
     "traceback": [
      "\u001b[1;31m---------------------------------------------------------------------------\u001b[0m",
      "\u001b[1;31mUnboundLocalError\u001b[0m                         Traceback (most recent call last)",
      "\u001b[1;32m<ipython-input-126-b3ed96c84760>\u001b[0m in \u001b[0;36m<module>\u001b[1;34m\u001b[0m\n\u001b[1;32m----> 1\u001b[1;33m \u001b[1;32mfor\u001b[0m \u001b[0mi\u001b[0m \u001b[1;32min\u001b[0m \u001b[0mMultipleIterator\u001b[0m\u001b[1;33m(\u001b[0m\u001b[1;36m20\u001b[0m\u001b[1;33m,\u001b[0m \u001b[1;36m5\u001b[0m\u001b[1;33m)\u001b[0m\u001b[1;33m:\u001b[0m\u001b[1;33m\u001b[0m\u001b[1;33m\u001b[0m\u001b[0m\n\u001b[0m\u001b[0;32m      2\u001b[0m     \u001b[0mprint\u001b[0m\u001b[1;33m(\u001b[0m\u001b[0mi\u001b[0m\u001b[1;33m)\u001b[0m\u001b[1;33m\u001b[0m\u001b[1;33m\u001b[0m\u001b[0m\n",
      "\u001b[1;32m<ipython-input-125-8b1eb3f1dbc7>\u001b[0m in \u001b[0;36m__next__\u001b[1;34m(self)\u001b[0m\n\u001b[0;32m      7\u001b[0m         \u001b[1;32mreturn\u001b[0m \u001b[0mself\u001b[0m\u001b[1;33m\u001b[0m\u001b[1;33m\u001b[0m\u001b[0m\n\u001b[0;32m      8\u001b[0m     \u001b[1;32mdef\u001b[0m \u001b[0m__next__\u001b[0m\u001b[1;33m(\u001b[0m\u001b[0mself\u001b[0m\u001b[1;33m)\u001b[0m\u001b[1;33m:\u001b[0m\u001b[1;33m\u001b[0m\u001b[1;33m\u001b[0m\u001b[0m\n\u001b[1;32m----> 9\u001b[1;33m         \u001b[1;32mif\u001b[0m \u001b[0mr\u001b[0m \u001b[1;33m<\u001b[0m \u001b[0mself\u001b[0m\u001b[1;33m.\u001b[0m\u001b[0mstop\u001b[0m\u001b[1;33m:\u001b[0m\u001b[1;33m\u001b[0m\u001b[1;33m\u001b[0m\u001b[0m\n\u001b[0m\u001b[0;32m     10\u001b[0m             \u001b[0mself\u001b[0m\u001b[1;33m.\u001b[0m\u001b[0mcurrent\u001b[0m \u001b[1;33m+=\u001b[0m \u001b[0mself\u001b[0m\u001b[1;33m.\u001b[0m\u001b[0mmultiple\u001b[0m\u001b[1;33m\u001b[0m\u001b[1;33m\u001b[0m\u001b[0m\n\u001b[0;32m     11\u001b[0m             \u001b[0mr\u001b[0m \u001b[1;33m=\u001b[0m \u001b[0mself\u001b[0m\u001b[1;33m.\u001b[0m\u001b[0mcurrent\u001b[0m\u001b[1;33m\u001b[0m\u001b[1;33m\u001b[0m\u001b[0m\n",
      "\u001b[1;31mUnboundLocalError\u001b[0m: local variable 'r' referenced before assignment"
     ]
    }
   ],
   "source": [
    "for i in MultipleIterator(20, 5):\n",
    "    print(i)"
   ]
  },
  {
   "cell_type": "code",
   "execution_count": 128,
   "id": "04b86d63",
   "metadata": {},
   "outputs": [
    {
     "name": "stdout",
     "output_type": "stream",
     "text": [
      "0\n",
      "1\n",
      "2\n"
     ]
    }
   ],
   "source": [
    "def number_generator():\n",
    "    yield 0 #여러번 쓸 수 있는 리턴값 같은 느낌 반복가능한 return 느낌 , 이터레이터를 생성해주는 함수\n",
    "    yield 1 #양보라는 뜻\n",
    "    yield 2 #2를 함수 바깥으로 전달하면서 코드 실행을 함수 바깥에 양보 위치는 유지하고 있음.\n",
    "\n",
    "for i in number_generator():\n",
    "    print(i)\n",
    "#제너레이터와 yield"
   ]
  },
  {
   "cell_type": "code",
   "execution_count": 129,
   "id": "9e9f42cd",
   "metadata": {},
   "outputs": [
    {
     "data": {
      "text/plain": [
       "<generator object number_generator at 0x000001BCCA4A8190>"
      ]
     },
     "execution_count": 129,
     "metadata": {},
     "output_type": "execute_result"
    }
   ],
   "source": [
    "i = number_generator()\n",
    "i"
   ]
  },
  {
   "cell_type": "code",
   "execution_count": 130,
   "id": "c4de81e0",
   "metadata": {},
   "outputs": [
    {
     "data": {
      "text/plain": [
       "0"
      ]
     },
     "execution_count": 130,
     "metadata": {},
     "output_type": "execute_result"
    }
   ],
   "source": [
    "i.__next__()"
   ]
  },
  {
   "cell_type": "code",
   "execution_count": 131,
   "id": "599fff2b",
   "metadata": {},
   "outputs": [
    {
     "data": {
      "text/plain": [
       "1"
      ]
     },
     "execution_count": 131,
     "metadata": {},
     "output_type": "execute_result"
    }
   ],
   "source": [
    "i.__next__()"
   ]
  },
  {
   "cell_type": "code",
   "execution_count": 132,
   "id": "92201d66",
   "metadata": {},
   "outputs": [
    {
     "data": {
      "text/plain": [
       "2"
      ]
     },
     "execution_count": 132,
     "metadata": {},
     "output_type": "execute_result"
    }
   ],
   "source": [
    "i.__next__()"
   ]
  },
  {
   "cell_type": "code",
   "execution_count": 133,
   "id": "90b5689a",
   "metadata": {},
   "outputs": [
    {
     "ename": "StopIteration",
     "evalue": "",
     "output_type": "error",
     "traceback": [
      "\u001b[1;31m---------------------------------------------------------------------------\u001b[0m",
      "\u001b[1;31mStopIteration\u001b[0m                             Traceback (most recent call last)",
      "\u001b[1;32m<ipython-input-133-aa5506447029>\u001b[0m in \u001b[0;36m<module>\u001b[1;34m\u001b[0m\n\u001b[1;32m----> 1\u001b[1;33m \u001b[0mi\u001b[0m\u001b[1;33m.\u001b[0m\u001b[0m__next__\u001b[0m\u001b[1;33m(\u001b[0m\u001b[1;33m)\u001b[0m\u001b[1;33m\u001b[0m\u001b[1;33m\u001b[0m\u001b[0m\n\u001b[0m",
      "\u001b[1;31mStopIteration\u001b[0m: "
     ]
    }
   ],
   "source": [
    "i.__next__()"
   ]
  },
  {
   "cell_type": "code",
   "execution_count": 134,
   "id": "9d28c5c7",
   "metadata": {},
   "outputs": [],
   "source": [
    "def number_generator(stop):\n",
    "    n = 0\n",
    "    while n < stop:\n",
    "        yield n\n",
    "        n+=1"
   ]
  },
  {
   "cell_type": "code",
   "execution_count": 137,
   "id": "d0ecd1c1",
   "metadata": {},
   "outputs": [
    {
     "name": "stdout",
     "output_type": "stream",
     "text": [
      "0\n",
      "1\n",
      "2\n"
     ]
    }
   ],
   "source": [
    "for i in number_generator(3):\n",
    "    print(i)"
   ]
  },
  {
   "cell_type": "code",
   "execution_count": 138,
   "id": "dabb74dd",
   "metadata": {},
   "outputs": [
    {
     "name": "stdout",
     "output_type": "stream",
     "text": [
      "APPLE\n",
      "PEAR\n",
      "GRAPE\n",
      "PINEAPPLE\n"
     ]
    }
   ],
   "source": [
    "def upper_generator(x):\n",
    "    for i in x:\n",
    "        yield i.upper() #대문자를 들고 순서 양보\n",
    "fruit = ['apple', 'pear', 'grape', 'pineapple']\n",
    "for i in upper_generator(fruit):\n",
    "    print(i)"
   ]
  },
  {
   "cell_type": "code",
   "execution_count": 139,
   "id": "c24f9e65",
   "metadata": {},
   "outputs": [
    {
     "ename": "SyntaxError",
     "evalue": "invalid syntax (<ipython-input-139-0f5949deb62d>, line 1)",
     "output_type": "error",
     "traceback": [
      "\u001b[1;36m  File \u001b[1;32m\"<ipython-input-139-0f5949deb62d>\"\u001b[1;36m, line \u001b[1;32m1\u001b[0m\n\u001b[1;33m    꿀팁 yield from은 반복가능한객체를 하나씩 내보내준다.\u001b[0m\n\u001b[1;37m       ^\u001b[0m\n\u001b[1;31mSyntaxError\u001b[0m\u001b[1;31m:\u001b[0m invalid syntax\n"
     ]
    }
   ],
   "source": [
    "꿀팁 yield from은 반복가능한객체를 하나씩 내보내준다."
   ]
  },
  {
   "cell_type": "code",
   "execution_count": 141,
   "id": "9a81bbbf",
   "metadata": {},
   "outputs": [
    {
     "name": "stdout",
     "output_type": "stream",
     "text": [
      "1\n",
      "2\n",
      "3\n"
     ]
    }
   ],
   "source": [
    "def number_generator():\n",
    "    x = [1, 2, 3]\n",
    "    yield from x #일반객체뿐만아니라 제너레이터나 이터레이터가 올 수도 있다.\n",
    "for i in number_generator():\n",
    "    print(i)"
   ]
  },
  {
   "cell_type": "code",
   "execution_count": 149,
   "id": "ee7e7862",
   "metadata": {},
   "outputs": [
    {
     "name": "stdout",
     "output_type": "stream",
     "text": [
      "compatibility\n",
      "experience\n",
      "photography\n",
      "spotlight\n"
     ]
    }
   ],
   "source": [
    "with open('words.txt', 'w') as file:\n",
    "    file.write('compatibility\\nexperience\\nphotography\\nspotlight')\n",
    "def file_read():\n",
    "    with open ('words.txt', 'r') as file:\n",
    "        yield from file.read().split()\n",
    "for i in file_read():\n",
    "    print(i)"
   ]
  },
  {
   "cell_type": "code",
   "execution_count": 148,
   "id": "af08dc8d",
   "metadata": {},
   "outputs": [
    {
     "name": "stdout",
     "output_type": "stream",
     "text": [
      "compatibility\n",
      "experience\n",
      "photography\n",
      "spotlight\n"
     ]
    }
   ],
   "source": [
    "words = \"\"\"compatibility\\n\n",
    "experience\n",
    "photography\n",
    "spotlight\n",
    "\"\"\"\n",
    "with open('words.txt', \"w\") as f:\n",
    "    f.write(words)\n",
    "\n",
    "def file_read():\n",
    "    with open('words.txt', 'r') as f:\n",
    "        wordList = f.read().split()\n",
    "        yield from wordList\n",
    "\n",
    "for i in file_read():\n",
    "    print(i)"
   ]
  },
  {
   "cell_type": "code",
   "execution_count": 151,
   "id": "5f7d49ca",
   "metadata": {},
   "outputs": [
    {
     "name": "stdout",
     "output_type": "stream",
     "text": [
      "hello 함수시작\n",
      "hello\n",
      "hello 함수끝\n",
      "hello 함수시작\n",
      "hello\n",
      "hello 함수끝\n"
     ]
    }
   ],
   "source": [
    "def hello():\n",
    "    print('hello 함수시작')\n",
    "    print('hello')\n",
    "    print('hello 함수끝')\n",
    "def world():\n",
    "    print('hello 함수시작')\n",
    "    print('hello')\n",
    "    print('hello 함수끝')\n",
    "hello()\n",
    "world()"
   ]
  },
  {
   "cell_type": "code",
   "execution_count": 152,
   "id": "cf85d17b",
   "metadata": {},
   "outputs": [
    {
     "name": "stdout",
     "output_type": "stream",
     "text": [
      "hello 함수 시작\n",
      "hello\n",
      "hello 함수 끝\n",
      "world 함수 시작\n",
      "world\n",
      "world 함수 끝\n"
     ]
    }
   ],
   "source": [
    "def trace(func):\n",
    "    def wrapper():\n",
    "        print(func.__name__, '함수 시작') #함수의 이름 인자.__name__\n",
    "        func()\n",
    "        print(func.__name__, '함수 끝')\n",
    "    return wrapper   #서전투ㅡ 함수?\n",
    "def hello():\n",
    "    print('hello')\n",
    "    \n",
    "def world():\n",
    "    print('world')\n",
    "\n",
    "trace_hello = trace(hello) #데코레이터에 함수를 넣음\n",
    "trace_hello()\n",
    "trace_world = trace(world)\n",
    "trace_world()"
   ]
  },
  {
   "cell_type": "code",
   "execution_count": 153,
   "id": "bcbf2bc1",
   "metadata": {},
   "outputs": [
    {
     "name": "stdout",
     "output_type": "stream",
     "text": [
      "hello 함수 시작\n",
      "hello\n",
      "hello 함수 끝\n",
      "world 함수 시작\n",
      "world\n",
      "world 함수 끝\n"
     ]
    }
   ],
   "source": [
    "def trace(func):\n",
    "    def wrapper():\n",
    "        print(func.__name__, '함수 시작') #함수의 이름 인자.__name__\n",
    "        func()\n",
    "        print(func.__name__, '함수 끝')\n",
    "    return wrapper   #서전투ㅡ 함수?\n",
    "\n",
    "@trace #trace의 데코레이터함수라는 뜻\n",
    "def hello():\n",
    "    print('hello')\n",
    "@trace\n",
    "def world():\n",
    "    print('world')\n",
    "\n",
    "hello()\n",
    "world()"
   ]
  },
  {
   "cell_type": "code",
   "execution_count": 157,
   "id": "80f4ec31",
   "metadata": {},
   "outputs": [
    {
     "name": "stdout",
     "output_type": "stream",
     "text": [
      "add(a=3, b=2) -> 5\n",
      "5\n"
     ]
    }
   ],
   "source": [
    "def trace(func):\n",
    "    def wrapper(a, b):\n",
    "        r = func(a, b)\n",
    "        print('{0}(a={1}, b={2}) -> {3}'.format(func.__name__, a, b, r))\n",
    "        return r\n",
    "    return(wrapper)\n",
    "\n",
    "@trace\n",
    "def add(a, b):\n",
    "    return a + b\n",
    "\n",
    "print(add(3, 2))"
   ]
  },
  {
   "cell_type": "code",
   "execution_count": 158,
   "id": "a0ab3950",
   "metadata": {},
   "outputs": [
    {
     "ename": "TypeError",
     "evalue": "'NoneType' object is not callable",
     "output_type": "error",
     "traceback": [
      "\u001b[1;31m---------------------------------------------------------------------------\u001b[0m",
      "\u001b[1;31mTypeError\u001b[0m                                 Traceback (most recent call last)",
      "\u001b[1;32m<ipython-input-158-6b482239da5d>\u001b[0m in \u001b[0;36m<module>\u001b[1;34m\u001b[0m\n\u001b[0;32m     10\u001b[0m     \u001b[1;32mreturn\u001b[0m \u001b[0mmin\u001b[0m\u001b[1;33m(\u001b[0m\u001b[0mkargs\u001b[0m\u001b[1;33m.\u001b[0m\u001b[0mvalues\u001b[0m\u001b[1;33m)\u001b[0m\u001b[1;33m\u001b[0m\u001b[1;33m\u001b[0m\u001b[0m\n\u001b[0;32m     11\u001b[0m \u001b[1;33m\u001b[0m\u001b[0m\n\u001b[1;32m---> 12\u001b[1;33m \u001b[0mprint\u001b[0m\u001b[1;33m(\u001b[0m\u001b[0mget_max\u001b[0m\u001b[1;33m(\u001b[0m\u001b[1;36m10\u001b[0m\u001b[1;33m,\u001b[0m \u001b[1;36m20\u001b[0m\u001b[1;33m,\u001b[0m \u001b[1;36m30\u001b[0m\u001b[1;33m,\u001b[0m \u001b[1;36m20\u001b[0m\u001b[1;33m)\u001b[0m\u001b[1;33m)\u001b[0m\u001b[1;33m\u001b[0m\u001b[1;33m\u001b[0m\u001b[0m\n\u001b[0m\u001b[0;32m     13\u001b[0m \u001b[0mprint\u001b[0m\u001b[1;33m(\u001b[0m\u001b[0mget_min\u001b[0m\u001b[1;33m(\u001b[0m\u001b[0mx\u001b[0m \u001b[1;33m=\u001b[0m \u001b[1;36m10\u001b[0m\u001b[1;33m,\u001b[0m \u001b[0my\u001b[0m \u001b[1;33m=\u001b[0m \u001b[1;36m20\u001b[0m\u001b[1;33m,\u001b[0m \u001b[0mz\u001b[0m \u001b[1;33m=\u001b[0m \u001b[1;36m5\u001b[0m\u001b[1;33m)\u001b[0m\u001b[1;33m)\u001b[0m\u001b[1;33m\u001b[0m\u001b[1;33m\u001b[0m\u001b[0m\n",
      "\u001b[1;31mTypeError\u001b[0m: 'NoneType' object is not callable"
     ]
    }
   ],
   "source": [
    "def trace(func):\n",
    "    def wrapper(*args, **kargs):\n",
    "        r = func(*args, **kargs)\n",
    "        print('{0}(args = {1}, kwargs = {2} -> {3})'.format(func.__name__, args, kwargs, r))\n",
    "@trace\n",
    "def get_max(*args):\n",
    "    return max(args)\n",
    "\n",
    "def get_min(**kargs):\n",
    "    return min(kargs.values)\n",
    "\n",
    "print(get_max(10, 20, 30, 20))\n",
    "print(get_min(x = 10, y = 20, z = 5))"
   ]
  },
  {
   "cell_type": "code",
   "execution_count": 164,
   "id": "737c7e3c",
   "metadata": {},
   "outputs": [
    {
     "name": "stdout",
     "output_type": "stream",
     "text": [
      "add의 반환값은 5의 배수입니다!\n",
      "add의 반환값은 5의 배수가 아닙니다 ㅠㅠ\n"
     ]
    },
    {
     "data": {
      "text/plain": [
       "41"
      ]
     },
     "execution_count": 164,
     "metadata": {},
     "output_type": "execute_result"
    }
   ],
   "source": [
    "def is_multiple(x):\n",
    "    def real_decorator(func):\n",
    "        def wrapper(a, b):\n",
    "            r = func(a, b)\n",
    "            if r % x == 0:\n",
    "                print('{0}의 반환값은 {1}의 배수입니다!'.format(func.__name__, x))\n",
    "            else:\n",
    "                print('{0}의 반환값은 {1}의 배수가 아닙니다 ㅠㅠ'.format(func.__name__, x))\n",
    "            return r\n",
    "        return wrapper\n",
    "    return real_decorator\n",
    "\n",
    "@is_multiple(5)\n",
    "def add(a, b):\n",
    "    return a + b\n",
    "\n",
    "add(10, 20)\n",
    "add(20, 21)"
   ]
  },
  {
   "cell_type": "code",
   "execution_count": 168,
   "id": "d873a91b",
   "metadata": {},
   "outputs": [
    {
     "name": "stdout",
     "output_type": "stream",
     "text": [
      "hello 함수 시작\n",
      "hello\n",
      "hello 함수 끝\n"
     ]
    }
   ],
   "source": [
    "class Trace:\n",
    "    def __init__(self, func):\n",
    "        self.func = func\n",
    "    def __call__(self):       #무조건 필요함  \n",
    "        print(self.func.__name__, '함수 시작') #함수의 이름 인자.__name__\n",
    "        self.func()\n",
    "        print(self.func.__name__, '함수 끝')\n",
    "        \n",
    "@Trace\n",
    "def hello333():\n",
    "    print('hello')\n",
    "\n",
    "hello()"
   ]
  },
  {
   "cell_type": "code",
   "execution_count": 170,
   "id": "331adfee",
   "metadata": {},
   "outputs": [
    {
     "name": "stdout",
     "output_type": "stream",
     "text": [
      "hello 함수 시작\n",
      "hello\n",
      "hello 함수 끝\n"
     ]
    }
   ],
   "source": [
    "# @데코레이터를 지정하지 않음\n",
    "\n",
    "# 직접 호출하기.\n",
    "def hello():\n",
    "    print('hello')\n",
    "trace_hello = Trace(hello)\n",
    "trace_hello()"
   ]
  },
  {
   "cell_type": "code",
   "execution_count": 173,
   "id": "beac509e",
   "metadata": {},
   "outputs": [
    {
     "name": "stdout",
     "output_type": "stream",
     "text": [
      "add(a=0, b=1) -> 12\n"
     ]
    },
    {
     "data": {
      "text/plain": [
       "12"
      ]
     },
     "execution_count": 173,
     "metadata": {},
     "output_type": "execute_result"
    }
   ],
   "source": [
    "class Trace:\n",
    "    def __init__(self, func):\n",
    "        self.func = func\n",
    "    def __call__(self, *args, **kwargs):       #무조건 필요함  \n",
    "        r = self.func(*args, **kwargs)\n",
    "        print('{0}(a={1}, b={2}) -> {3}'.format(self.func.__name__, a, b, r))\n",
    "        return r\n",
    "        \n",
    "@Trace\n",
    "def add(a, b):\n",
    "    return a + b\n",
    "\n",
    "add(a = 2, b= 10)"
   ]
  },
  {
   "cell_type": "code",
   "execution_count": 184,
   "id": "0c58d89e",
   "metadata": {},
   "outputs": [
    {
     "name": "stdout",
     "output_type": "stream",
     "text": [
      "add의 반환값은 3의 배수입니다!\n",
      "30\n"
     ]
    }
   ],
   "source": [
    "class is_Multiple:\n",
    "    def __init__(self, x):\n",
    "        self.x = x\n",
    "        \n",
    "    def __call__(self, func):\n",
    "        def wrapper(a, b):\n",
    "            r = func(a, b)\n",
    "            if r % x == 0:\n",
    "                print('{0}의 반환값은 {1}의 배수입니다!'.format(func.__name__, self.x))\n",
    "            else:\n",
    "                print('{0}의 반환값은 {1}의 배수가 아닙니다 ㅠㅠ'.format(func.__name__, self.x))\n",
    "            return r\n",
    "        return wrapper\n",
    "\n",
    "@is_Multiple(3)\n",
    "def add(a, b):\n",
    "    return a + b\n",
    "\n",
    "print(add(10, 20))"
   ]
  },
  {
   "cell_type": "code",
   "execution_count": 195,
   "id": "fadea4e0",
   "metadata": {},
   "outputs": [
    {
     "name": "stdout",
     "output_type": "stream",
     "text": [
      "30\n"
     ]
    }
   ],
   "source": [
    "def type_check(func):\n",
    "    def wrapper(a, b):\n",
    "        if type(a) != int or type(b) != int:\n",
    "            raise RuntimeError('자료형이 올바르지 않습니다')\n",
    "        return(func(a, b))\n",
    "    return wrapper\n",
    "@type_check\n",
    "def add(a, b):\n",
    "    return(a+b)\n",
    "print(add(10, 20))\n",
    "#print(add('hello', 'world'))"
   ]
  },
  {
   "cell_type": "code",
   "execution_count": 193,
   "id": "2929229d",
   "metadata": {},
   "outputs": [
    {
     "name": "stdout",
     "output_type": "stream",
     "text": [
      "30\n"
     ]
    },
    {
     "ename": "RuntimeError",
     "evalue": "자료형이 올바르지 않습니다",
     "output_type": "error",
     "traceback": [
      "\u001b[1;31m---------------------------------------------------------------------------\u001b[0m",
      "\u001b[1;31mRuntimeError\u001b[0m                              Traceback (most recent call last)",
      "\u001b[1;32m<ipython-input-193-3fbb2adc38c6>\u001b[0m in \u001b[0;36m<module>\u001b[1;34m\u001b[0m\n\u001b[0;32m      9\u001b[0m     \u001b[1;32mreturn\u001b[0m\u001b[1;33m(\u001b[0m\u001b[0ma\u001b[0m\u001b[1;33m+\u001b[0m\u001b[0mb\u001b[0m\u001b[1;33m)\u001b[0m\u001b[1;33m\u001b[0m\u001b[1;33m\u001b[0m\u001b[0m\n\u001b[0;32m     10\u001b[0m \u001b[0mprint\u001b[0m\u001b[1;33m(\u001b[0m\u001b[0madd\u001b[0m\u001b[1;33m(\u001b[0m\u001b[1;36m10\u001b[0m\u001b[1;33m,\u001b[0m \u001b[1;36m20\u001b[0m\u001b[1;33m)\u001b[0m\u001b[1;33m)\u001b[0m\u001b[1;33m\u001b[0m\u001b[1;33m\u001b[0m\u001b[0m\n\u001b[1;32m---> 11\u001b[1;33m \u001b[0mprint\u001b[0m\u001b[1;33m(\u001b[0m\u001b[0madd\u001b[0m\u001b[1;33m(\u001b[0m\u001b[1;34m'hello'\u001b[0m\u001b[1;33m,\u001b[0m \u001b[1;34m'world'\u001b[0m\u001b[1;33m)\u001b[0m\u001b[1;33m)\u001b[0m\u001b[1;33m\u001b[0m\u001b[1;33m\u001b[0m\u001b[0m\n\u001b[0m",
      "\u001b[1;32m<ipython-input-193-3fbb2adc38c6>\u001b[0m in \u001b[0;36mwrapper\u001b[1;34m(a, b)\u001b[0m\n\u001b[0;32m      2\u001b[0m     \u001b[1;32mdef\u001b[0m \u001b[0mwrapper\u001b[0m\u001b[1;33m(\u001b[0m\u001b[0ma\u001b[0m\u001b[1;33m,\u001b[0m \u001b[0mb\u001b[0m\u001b[1;33m)\u001b[0m\u001b[1;33m:\u001b[0m\u001b[1;33m\u001b[0m\u001b[1;33m\u001b[0m\u001b[0m\n\u001b[0;32m      3\u001b[0m         \u001b[1;32mif\u001b[0m \u001b[0misinstance\u001b[0m\u001b[1;33m(\u001b[0m\u001b[0ma\u001b[0m\u001b[1;33m,\u001b[0m \u001b[0mint\u001b[0m\u001b[1;33m)\u001b[0m \u001b[1;33m==\u001b[0m \u001b[1;32mFalse\u001b[0m \u001b[1;32mor\u001b[0m \u001b[0misinstance\u001b[0m\u001b[1;33m(\u001b[0m\u001b[0mb\u001b[0m\u001b[1;33m,\u001b[0m \u001b[0mint\u001b[0m\u001b[1;33m)\u001b[0m \u001b[1;33m==\u001b[0m \u001b[1;32mFalse\u001b[0m\u001b[1;33m:\u001b[0m\u001b[1;33m\u001b[0m\u001b[1;33m\u001b[0m\u001b[0m\n\u001b[1;32m----> 4\u001b[1;33m             \u001b[1;32mraise\u001b[0m \u001b[0mRuntimeError\u001b[0m\u001b[1;33m(\u001b[0m\u001b[1;34m'자료형이 올바르지 않습니다'\u001b[0m\u001b[1;33m)\u001b[0m\u001b[1;33m\u001b[0m\u001b[1;33m\u001b[0m\u001b[0m\n\u001b[0m\u001b[0;32m      5\u001b[0m         \u001b[1;32mreturn\u001b[0m\u001b[1;33m(\u001b[0m\u001b[0mfunc\u001b[0m\u001b[1;33m(\u001b[0m\u001b[0ma\u001b[0m\u001b[1;33m,\u001b[0m \u001b[0mb\u001b[0m\u001b[1;33m)\u001b[0m\u001b[1;33m)\u001b[0m\u001b[1;33m\u001b[0m\u001b[1;33m\u001b[0m\u001b[0m\n\u001b[0;32m      6\u001b[0m     \u001b[1;32mreturn\u001b[0m \u001b[0mwrapper\u001b[0m\u001b[1;33m\u001b[0m\u001b[1;33m\u001b[0m\u001b[0m\n",
      "\u001b[1;31mRuntimeError\u001b[0m: 자료형이 올바르지 않습니다"
     ]
    }
   ],
   "source": [
    "def type_check(func):\n",
    "    def wrapper(a, b):\n",
    "        if isinstance(a, int) == False or isinstance(b, int) == False:\n",
    "            raise RuntimeError('자료형이 올바르지 않습니다')\n",
    "        return(func(a, b))\n",
    "    return wrapper\n",
    "@type_check\n",
    "def add(a, b):\n",
    "    return(a+b)\n",
    "print(add(10, 20))\n",
    "print(add('hello', 'world'))"
   ]
  },
  {
   "cell_type": "code",
   "execution_count": 203,
   "id": "740adc99",
   "metadata": {},
   "outputs": [
    {
     "ename": "TypeError",
     "evalue": "__call__() missing 2 required positional arguments: 'b' and 'func'",
     "output_type": "error",
     "traceback": [
      "\u001b[1;31m---------------------------------------------------------------------------\u001b[0m",
      "\u001b[1;31mTypeError\u001b[0m                                 Traceback (most recent call last)",
      "\u001b[1;32m<ipython-input-203-e18365636aa6>\u001b[0m in \u001b[0;36m<module>\u001b[1;34m\u001b[0m\n\u001b[0;32m     10\u001b[0m         \u001b[1;32mreturn\u001b[0m \u001b[0mself\u001b[0m\u001b[1;33m.\u001b[0m\u001b[0mfunc\u001b[0m\u001b[1;33m(\u001b[0m\u001b[0ma\u001b[0m\u001b[1;33m,\u001b[0m \u001b[0mb\u001b[0m\u001b[1;33m)\u001b[0m\u001b[1;33m\u001b[0m\u001b[1;33m\u001b[0m\u001b[0m\n\u001b[0;32m     11\u001b[0m \u001b[1;33m@\u001b[0m\u001b[0mtype_check\u001b[0m\u001b[1;33m(\u001b[0m\u001b[0mint\u001b[0m\u001b[1;33m,\u001b[0m \u001b[0mint\u001b[0m\u001b[1;33m)\u001b[0m\u001b[1;33m\u001b[0m\u001b[1;33m\u001b[0m\u001b[0m\n\u001b[1;32m---> 12\u001b[1;33m \u001b[1;32mdef\u001b[0m \u001b[0madd\u001b[0m\u001b[1;33m(\u001b[0m\u001b[0ma\u001b[0m\u001b[1;33m,\u001b[0m \u001b[0mb\u001b[0m\u001b[1;33m)\u001b[0m\u001b[1;33m:\u001b[0m\u001b[1;33m\u001b[0m\u001b[1;33m\u001b[0m\u001b[0m\n\u001b[0m\u001b[0;32m     13\u001b[0m     \u001b[1;32mreturn\u001b[0m\u001b[1;33m(\u001b[0m\u001b[0ma\u001b[0m\u001b[1;33m+\u001b[0m\u001b[0mb\u001b[0m\u001b[1;33m)\u001b[0m\u001b[1;33m\u001b[0m\u001b[1;33m\u001b[0m\u001b[0m\n\u001b[0;32m     14\u001b[0m \u001b[0mprint\u001b[0m\u001b[1;33m(\u001b[0m\u001b[0madd\u001b[0m\u001b[1;33m(\u001b[0m\u001b[1;36m1000\u001b[0m\u001b[1;33m,\u001b[0m \u001b[1;36m20\u001b[0m\u001b[1;33m)\u001b[0m\u001b[1;33m)\u001b[0m\u001b[1;33m\u001b[0m\u001b[1;33m\u001b[0m\u001b[0m\n",
      "\u001b[1;31mTypeError\u001b[0m: __call__() missing 2 required positional arguments: 'b' and 'func'"
     ]
    }
   ],
   "source": [
    "class type_check:\n",
    "    def __init__(self, x, y):\n",
    "\n",
    "        self.x = x\n",
    "        self.y = y\n",
    "    def __call__(self, a, b, func):\n",
    "        self.func = func\n",
    "        if isinstance(a, x) == False or isinstance(b, y) == False:\n",
    "            raise RuntimeError('자료형이 올바르지 않습니다')\n",
    "        return self.func(a, b)\n",
    "@type_check(int, int)\n",
    "def add(a, b):\n",
    "    return(a+b)\n",
    "print(add(1000, 20))\n",
    "print(add('hello', 'world'))"
   ]
  },
  {
   "cell_type": "code",
   "execution_count": 204,
   "id": "68a7e3cb",
   "metadata": {},
   "outputs": [
    {
     "data": {
      "text/plain": [
       "3.141592653589793"
      ]
     },
     "execution_count": 204,
     "metadata": {},
     "output_type": "execute_result"
    }
   ],
   "source": [
    "import math\n",
    "math.pi"
   ]
  },
  {
   "cell_type": "code",
   "execution_count": 205,
   "id": "c2c99617",
   "metadata": {},
   "outputs": [
    {
     "data": {
      "text/plain": [
       "2.0"
      ]
     },
     "execution_count": 205,
     "metadata": {},
     "output_type": "execute_result"
    }
   ],
   "source": [
    "math.sqrt(4.0)"
   ]
  },
  {
   "cell_type": "code",
   "execution_count": 206,
   "id": "bfb31994",
   "metadata": {},
   "outputs": [
    {
     "data": {
      "text/plain": [
       "1.4142135623730951"
      ]
     },
     "execution_count": 206,
     "metadata": {},
     "output_type": "execute_result"
    }
   ],
   "source": [
    "math.sqrt(2.0)"
   ]
  },
  {
   "cell_type": "code",
   "execution_count": 224,
   "id": "36fccfb0",
   "metadata": {},
   "outputs": [
    {
     "data": {
      "text/plain": [
       "(2.23606797749979, 3.605551275463989)"
      ]
     },
     "execution_count": 224,
     "metadata": {},
     "output_type": "execute_result"
    }
   ],
   "source": [
    "import math\n",
    "a, b, c, x = [1, 1], [3, 2], [5, 7], [2, 3]\n",
    "d, f= math.sqrt((a[0] - b[0]) ** 2 + (a[1] - b[1]) ** 2), math.sqrt((x[0]) ** 2 + (x[1]) ** 2)\n",
    "d, f"
   ]
  },
  {
   "cell_type": "code",
   "execution_count": 225,
   "id": "32645e42",
   "metadata": {},
   "outputs": [
    {
     "name": "stdout",
     "output_type": "stream",
     "text": [
      "2.23606797749979\n",
      "1.4142135623730951\n",
      "5.0\n"
     ]
    }
   ],
   "source": [
    "import math\n",
    "\n",
    "def distMeasure(x1, x2):\n",
    "    return math.sqrt( (x1[0]-x2[0])**2 + (x1[1]-x2[1])**2 )\n",
    "\n",
    "l = [(1,1), (3,2), (5,7)]\n",
    "x = (2,3)\n",
    "for i in l:\n",
    "    print(distMeasure(x, i))"
   ]
  },
  {
   "cell_type": "code",
   "execution_count": 226,
   "id": "b60d59d2",
   "metadata": {},
   "outputs": [
    {
     "name": "stdout",
     "output_type": "stream",
     "text": [
      "2.23606797749979\n",
      "1.4142135623730951\n",
      "5.0\n"
     ]
    }
   ],
   "source": [
    "import math\n",
    "def goras(x1, x2):\n",
    "    return(math.sqrt((x1[0] - x2[0]) ** 2 + (x1[1] - x2[1]) ** 2))\n",
    "abc = [1, 1], [3, 2], [5, 7]\n",
    "x = [2, 3]\n",
    "for i in abc:\n",
    "    print(goras(x, i))"
   ]
  },
  {
   "cell_type": "code",
   "execution_count": 227,
   "id": "48a1852d",
   "metadata": {},
   "outputs": [],
   "source": [
    "#pow는 해당 요소를 몇제곱 하냐는 뜻 pow(요소, 제곱할 수)"
   ]
  },
  {
   "cell_type": "code",
   "execution_count": 228,
   "id": "885aa10c",
   "metadata": {},
   "outputs": [
    {
     "ename": "SyntaxError",
     "evalue": "invalid syntax (<ipython-input-228-84b91b33292e>, line 1)",
     "output_type": "error",
     "traceback": [
      "\u001b[1;36m  File \u001b[1;32m\"<ipython-input-228-84b91b33292e>\"\u001b[1;36m, line \u001b[1;32m1\u001b[0m\n\u001b[1;33m    from 모듈 import 함수 or 클래스\u001b[0m\n\u001b[1;37m                      ^\u001b[0m\n\u001b[1;31mSyntaxError\u001b[0m\u001b[1;31m:\u001b[0m invalid syntax\n"
     ]
    }
   ],
   "source": [
    "from 모듈 import 함수 or 클래스"
   ]
  },
  {
   "cell_type": "code",
   "execution_count": 229,
   "id": "6b3ad8a7",
   "metadata": {},
   "outputs": [],
   "source": [
    "from math import pi, sqrt #여러가지도 괜찮음"
   ]
  },
  {
   "cell_type": "code",
   "execution_count": 230,
   "id": "7c61e4d2",
   "metadata": {},
   "outputs": [],
   "source": [
    "import math as m # 별명화 할 수도 있음"
   ]
  },
  {
   "cell_type": "markdown",
   "id": "04959a37",
   "metadata": {},
   "source": [
    "다 가져올것이면 *을 붙인다"
   ]
  },
  {
   "cell_type": "code",
   "execution_count": 231,
   "id": "135a38bf",
   "metadata": {},
   "outputs": [
    {
     "ename": "ModuleNotFoundError",
     "evalue": "No module named '모듈'",
     "output_type": "error",
     "traceback": [
      "\u001b[1;31m---------------------------------------------------------------------------\u001b[0m",
      "\u001b[1;31mModuleNotFoundError\u001b[0m                       Traceback (most recent call last)",
      "\u001b[1;32m<ipython-input-231-a2881e699ac0>\u001b[0m in \u001b[0;36m<module>\u001b[1;34m\u001b[0m\n\u001b[1;32m----> 1\u001b[1;33m \u001b[1;32mfrom\u001b[0m \u001b[0m모듈\u001b[0m \u001b[1;32mimport\u001b[0m \u001b[1;33m*\u001b[0m\u001b[1;33m\u001b[0m\u001b[1;33m\u001b[0m\u001b[0m\n\u001b[0m",
      "\u001b[1;31mModuleNotFoundError\u001b[0m: No module named '모듈'"
     ]
    }
   ],
   "source": [
    "from 모듈 import *"
   ]
  },
  {
   "cell_type": "code",
   "execution_count": 233,
   "id": "e9ddc12c",
   "metadata": {},
   "outputs": [
    {
     "ename": "SyntaxError",
     "evalue": "invalid syntax (<ipython-input-233-823a4efe7e32>, line 1)",
     "output_type": "error",
     "traceback": [
      "\u001b[1;36m  File \u001b[1;32m\"<ipython-input-233-823a4efe7e32>\"\u001b[1;36m, line \u001b[1;32m1\u001b[0m\n\u001b[1;33m    from 모듈 import * as 별명\u001b[0m\n\u001b[1;37m                     ^\u001b[0m\n\u001b[1;31mSyntaxError\u001b[0m\u001b[1;31m:\u001b[0m invalid syntax\n"
     ]
    }
   ],
   "source": [
    "from 모듈 import * as 별명"
   ]
  },
  {
   "cell_type": "code",
   "execution_count": 236,
   "id": "6b2d2325",
   "metadata": {},
   "outputs": [
    {
     "data": {
      "text/plain": [
       "(2.0, 3.141592653589793)"
      ]
     },
     "execution_count": 236,
     "metadata": {},
     "output_type": "execute_result"
    }
   ],
   "source": [
    "from math import pi as p, sqrt as s\n",
    "s(4.0), p"
   ]
  },
  {
   "cell_type": "code",
   "execution_count": 239,
   "id": "5a1133e3",
   "metadata": {},
   "outputs": [
    {
     "data": {
      "text/plain": [
       "<http.client.HTTPResponse at 0x1bcca432760>"
      ]
     },
     "execution_count": 239,
     "metadata": {},
     "output_type": "execute_result"
    }
   ],
   "source": [
    "import urllib.request #패키지 않에서 모듈만 가져온다. 패키지는 모듈보다 상위 범위\n",
    "response = urllib.request.urlopen('http://www.google.co.kr')\n",
    "response.status"
   ]
  },
  {
   "cell_type": "code",
   "execution_count": 240,
   "id": "8d55c5d7",
   "metadata": {},
   "outputs": [
    {
     "data": {
      "text/plain": [
       "200"
      ]
     },
     "execution_count": 240,
     "metadata": {},
     "output_type": "execute_result"
    }
   ],
   "source": [
    "import urllib.request as r \n",
    "response = r.urlopen('http://www.google.co.kr')\n",
    "response.status"
   ]
  },
  {
   "cell_type": "code",
   "execution_count": 247,
   "id": "76dee60c",
   "metadata": {},
   "outputs": [
    {
     "ename": "AttributeError",
     "evalue": "type object 'Request' has no attribute 'urlopen'",
     "output_type": "error",
     "traceback": [
      "\u001b[1;31m---------------------------------------------------------------------------\u001b[0m",
      "\u001b[1;31mAttributeError\u001b[0m                            Traceback (most recent call last)",
      "\u001b[1;32m<ipython-input-247-99f28b7d9bbd>\u001b[0m in \u001b[0;36m<module>\u001b[1;34m\u001b[0m\n\u001b[0;32m      1\u001b[0m \u001b[1;32mfrom\u001b[0m \u001b[0murllib\u001b[0m\u001b[1;33m.\u001b[0m\u001b[0mrequest\u001b[0m \u001b[1;32mimport\u001b[0m \u001b[0mRequest\u001b[0m \u001b[1;32mas\u001b[0m \u001b[0mR\u001b[0m\u001b[1;33m,\u001b[0m \u001b[0murlopen\u001b[0m \u001b[1;32mas\u001b[0m \u001b[0mu\u001b[0m \u001b[1;31m#대소문자 주의  해석: urllib 패키지 안에 존재하는 모듈 request로부터 Request와 urlopen만 임포트 한다.\u001b[0m\u001b[1;33m\u001b[0m\u001b[1;33m\u001b[0m\u001b[0m\n\u001b[1;32m----> 2\u001b[1;33m \u001b[0mres\u001b[0m \u001b[1;33m=\u001b[0m \u001b[0mR\u001b[0m\u001b[1;33m.\u001b[0m\u001b[0murlopen\u001b[0m\u001b[1;33m(\u001b[0m\u001b[1;34m'http://www.google.co.kr'\u001b[0m\u001b[1;33m)\u001b[0m\u001b[1;33m\u001b[0m\u001b[1;33m\u001b[0m\u001b[0m\n\u001b[0m\u001b[0;32m      3\u001b[0m \u001b[0mres\u001b[0m\u001b[1;33m.\u001b[0m\u001b[0mstatus\u001b[0m\u001b[1;33m\u001b[0m\u001b[1;33m\u001b[0m\u001b[0m\n",
      "\u001b[1;31mAttributeError\u001b[0m: type object 'Request' has no attribute 'urlopen'"
     ]
    }
   ],
   "source": [
    "from urllib.request import Request as R, urlopen as u #대소문자 주의  해석: urllib 패키지 안에 존재하는 모듈 request로부터 Request와 urlopen만 임포트 한다.\n",
    "res = R.urlopen('http://www.google.co.kr')\n",
    "res.status"
   ]
  },
  {
   "cell_type": "markdown",
   "id": "e7135903",
   "metadata": {},
   "source": [
    "### pip설치하기"
   ]
  },
  {
   "cell_type": "code",
   "execution_count": 308,
   "id": "859c7038",
   "metadata": {},
   "outputs": [
    {
     "data": {
      "text/plain": [
       "200"
      ]
     },
     "execution_count": 308,
     "metadata": {},
     "output_type": "execute_result"
    }
   ],
   "source": [
    "import requests\n",
    "r = requests.get('http://www.google.co.kr')\n",
    "r.status_code #request랑은 조금 다른 듯."
   ]
  },
  {
   "cell_type": "code",
   "execution_count": 309,
   "id": "386b6f13",
   "metadata": {},
   "outputs": [
    {
     "data": {
      "text/plain": [
       "'3.8.8 (default, Apr 13 2021, 15:08:03) [MSC v.1916 64 bit (AMD64)]'"
      ]
     },
     "execution_count": 309,
     "metadata": {},
     "output_type": "execute_result"
    }
   ],
   "source": [
    "import sys as s\n",
    "s.version"
   ]
  },
  {
   "cell_type": "code",
   "execution_count": 310,
   "id": "f476add9",
   "metadata": {},
   "outputs": [],
   "source": [
    "from http import server"
   ]
  },
  {
   "cell_type": "code",
   "execution_count": 311,
   "id": "443bfee9",
   "metadata": {},
   "outputs": [
    {
     "data": {
      "text/plain": [
       "<module 'html' from 'C:\\\\ProgramData\\\\Anaconda3\\\\lib\\\\html\\\\__init__.py'>"
      ]
     },
     "execution_count": 311,
     "metadata": {},
     "output_type": "execute_result"
    }
   ],
   "source": [
    "server.html"
   ]
  },
  {
   "cell_type": "code",
   "execution_count": 312,
   "id": "3ee4d77c",
   "metadata": {},
   "outputs": [
    {
     "ename": "SyntaxError",
     "evalue": "invalid syntax (<ipython-input-312-73b8cfcb3924>, line 1)",
     "output_type": "error",
     "traceback": [
      "\u001b[1;36m  File \u001b[1;32m\"<ipython-input-312-73b8cfcb3924>\"\u001b[1;36m, line \u001b[1;32m1\u001b[0m\n\u001b[1;33m    python -m pip install requests\u001b[0m\n\u001b[1;37m              ^\u001b[0m\n\u001b[1;31mSyntaxError\u001b[0m\u001b[1;31m:\u001b[0m invalid syntax\n"
     ]
    }
   ],
   "source": [
    "python -m pip install requests\n",
    "==\n",
    "pip install requests"
   ]
  },
  {
   "cell_type": "markdown",
   "id": "55136a3b",
   "metadata": {},
   "source": [
    "모듈은 변수, 함수, 클래스를 모아놓은 스크립트 파일"
   ]
  },
  {
   "cell_type": "markdown",
   "id": "b7eb6906",
   "metadata": {},
   "source": [
    "# 모듈"
   ]
  },
  {
   "cell_type": "code",
   "execution_count": 3,
   "id": "563625b4",
   "metadata": {},
   "outputs": [
    {
     "name": "stdout",
     "output_type": "stream",
     "text": [
      "1024\n"
     ]
    }
   ],
   "source": [
    "import square2\n",
    "print(square2.square(10))"
   ]
  },
  {
   "cell_type": "code",
   "execution_count": 2,
   "id": "078c1f7f",
   "metadata": {},
   "outputs": [
    {
     "data": {
      "text/plain": [
       "2"
      ]
     },
     "execution_count": 2,
     "metadata": {},
     "output_type": "execute_result"
    }
   ],
   "source": [
    "square2.base"
   ]
  },
  {
   "cell_type": "code",
   "execution_count": 296,
   "id": "f6035985",
   "metadata": {},
   "outputs": [
    {
     "name": "stdout",
     "output_type": "stream",
     "text": [
      "2\n",
      "100\n"
     ]
    }
   ],
   "source": [
    "%run main.py"
   ]
  },
  {
   "cell_type": "code",
   "execution_count": 298,
   "id": "dc5d5986",
   "metadata": {},
   "outputs": [
    {
     "name": "stdout",
     "output_type": "stream",
     "text": [
      "2\n",
      "400\n"
     ]
    }
   ],
   "source": [
    "from square2 import base, square\n",
    "\n",
    "print(base)\n",
    "print(square(20))"
   ]
  },
  {
   "cell_type": "code",
   "execution_count": 307,
   "id": "5c42bb48",
   "metadata": {},
   "outputs": [
    {
     "name": "stdout",
     "output_type": "stream",
     "text": [
      "안녕하세요 저는 김찬입니다.\n"
     ]
    }
   ],
   "source": [
    "import person\n",
    "maria = person.Person('김찬', '23', '서울시 서초구 반포동')\n",
    "maria.greeting()"
   ]
  },
  {
   "cell_type": "code",
   "execution_count": 4,
   "id": "3eff3a21",
   "metadata": {},
   "outputs": [
    {
     "name": "stdout",
     "output_type": "stream",
     "text": [
      "main.py__name__: __main__\n"
     ]
    }
   ],
   "source": [
    "%run main.py #hello는 main.py에서 사용되기에 main이 아님."
   ]
  },
  {
   "cell_type": "code",
   "execution_count": 8,
   "id": "17768a4f",
   "metadata": {},
   "outputs": [
    {
     "name": "stdout",
     "output_type": "stream",
     "text": [
      "hello 모듈 시작\n",
      "hello.py __name__: __main__\n",
      "hello 모듈 끝\n"
     ]
    }
   ],
   "source": [
    "%run hello.py #실행위치가 hello라서 main 으로 나옴"
   ]
  },
  {
   "cell_type": "code",
   "execution_count": 1,
   "id": "21ca7b30",
   "metadata": {},
   "outputs": [],
   "source": [
    "%run calc.py"
   ]
  },
  {
   "cell_type": "code",
   "execution_count": 11,
   "id": "2490775b",
   "metadata": {},
   "outputs": [
    {
     "name": "stdout",
     "output_type": "stream",
     "text": [
      "30\n",
      "200\n"
     ]
    }
   ],
   "source": [
    "import calc #!=해서 가능함"
   ]
  },
  {
   "cell_type": "code",
   "execution_count": 5,
   "id": "fd30882f",
   "metadata": {},
   "outputs": [
    {
     "data": {
      "text/plain": [
       "5"
      ]
     },
     "execution_count": 5,
     "metadata": {},
     "output_type": "execute_result"
    }
   ],
   "source": [
    "calc.add(2,3) #따로 가져와서 사용할때는 main은 실행 안된다."
   ]
  },
  {
   "cell_type": "code",
   "execution_count": 6,
   "id": "3c76d9bf",
   "metadata": {},
   "outputs": [],
   "source": [
    "!mkdir calkpkg"
   ]
  },
  {
   "cell_type": "code",
   "execution_count": 7,
   "id": "7eb20590",
   "metadata": {},
   "outputs": [
    {
     "name": "stdout",
     "output_type": "stream",
     "text": [
      " C 드라이브의 볼륨에는 이름이 없습니다.\n",
      " 볼륨 일련 번호: E461-57B5\n",
      "\n",
      " C:\\Users\\sweet\\Desktop\\코딩\\python 기초(ipynb) 디렉터리\n",
      "\n",
      "2021-07-06  오후 05:35    <DIR>          .\n",
      "2021-06-29  오후 12:32    <DIR>          ..\n",
      "2021-07-06  오전 09:26    <DIR>          .ipynb_checkpoints\n",
      "2021-07-06  오후 05:34               132 calc.py\n",
      "2021-07-06  오후 05:35    <DIR>          calkpkg\n",
      "2021-07-01  오후 05:29                 0 hello! world.py\n",
      "2021-06-28  오전 11:33               747 hello, world.ipynb\n",
      "2021-07-06  오후 05:24                92 hello.py\n",
      "2021-07-06  오후 05:26                49 main.py\n",
      "2021-07-06  오후 05:19               241 person.py\n",
      "2021-06-30  오전 10:44    <DIR>          python\n",
      "2021-06-29  오후 05:43            32,993 python 2.ipynb\n",
      "2021-07-01  오전 11:17             9,279 python 3days.ipynb\n",
      "2021-07-01  오후 05:51            49,190 python 4days.ipynb\n",
      "2021-07-05  오후 05:49            49,462 python 6.ipynb\n",
      "2021-07-06  오후 05:33            61,435 python day7.ipynb\n",
      "2021-06-29  오후 05:54            38,202 Python Programming(day 2).ipynb\n",
      "2021-06-30  오후 05:56            27,656 Python Programming(day 3).ipynb\n",
      "2021-07-01  오후 05:52           286,139 Python Programming(day 4).ipynb\n",
      "2021-07-05  오후 06:12            19,603 Python Programming(day 6).ipynb\n",
      "2021-06-29  오전 09:33            47,531 python_1.ipynb\n",
      "2021-07-06  오후 05:16                45 square2.py\n",
      "2021-07-06  오후 12:49                49 words.txt\n",
      "2021-07-06  오후 05:34    <DIR>          __pycache__\n",
      "2021-07-01  오후 05:31            12,037 지뢰찾기.ipynb\n",
      "              19개 파일             634,882 바이트\n",
      "               6개 디렉터리   5,767,868,416 바이트 남음\n"
     ]
    }
   ],
   "source": [
    "!dir"
   ]
  },
  {
   "cell_type": "code",
   "execution_count": 13,
   "id": "ca5ad723",
   "metadata": {},
   "outputs": [],
   "source": [
    "!cd calkpkg"
   ]
  },
  {
   "cell_type": "code",
   "execution_count": 14,
   "id": "8a5a85f4",
   "metadata": {},
   "outputs": [
    {
     "name": "stderr",
     "output_type": "stream",
     "text": [
      "'hwd'은(는) 내부 또는 외부 명령, 실행할 수 있는 프로그램, 또는\n",
      "배치 파일이 아닙니다.\n"
     ]
    }
   ],
   "source": [
    "!hwd"
   ]
  },
  {
   "cell_type": "code",
   "execution_count": 23,
   "id": "1b82f5dd",
   "metadata": {},
   "outputs": [
    {
     "ename": "ModuleNotFoundError",
     "evalue": "No module named 'calkpkg.geometry'",
     "output_type": "error",
     "traceback": [
      "\u001b[1;31m---------------------------------------------------------------------------\u001b[0m",
      "\u001b[1;31mModuleNotFoundError\u001b[0m                       Traceback (most recent call last)",
      "\u001b[1;32m<ipython-input-23-192c00e526d8>\u001b[0m in \u001b[0;36m<module>\u001b[1;34m\u001b[0m\n\u001b[0;32m      1\u001b[0m \u001b[1;32mfrom\u001b[0m \u001b[0mcalkpkg\u001b[0m\u001b[1;33m.\u001b[0m\u001b[0moperation\u001b[0m \u001b[1;32mimport\u001b[0m \u001b[0madd\u001b[0m \u001b[1;32mas\u001b[0m \u001b[0mad\u001b[0m\u001b[1;33m,\u001b[0m \u001b[0mmul\u001b[0m \u001b[1;32mas\u001b[0m \u001b[0mmu\u001b[0m\u001b[1;33m\u001b[0m\u001b[1;33m\u001b[0m\u001b[0m\n\u001b[1;32m----> 2\u001b[1;33m \u001b[1;32mimport\u001b[0m \u001b[0mcalkpkg\u001b[0m\u001b[1;33m.\u001b[0m\u001b[0mgiometry\u001b[0m \u001b[1;32mas\u001b[0m \u001b[0mcg\u001b[0m\u001b[1;33m\u001b[0m\u001b[1;33m\u001b[0m\u001b[0m\n\u001b[0m",
      "\u001b[1;32m~\\Desktop\\코딩\\python 기초(ipynb)\\calkpkg\\__init__.py\u001b[0m in \u001b[0;36m<module>\u001b[1;34m\u001b[0m\n\u001b[0;32m      1\u001b[0m \u001b[1;32mfrom\u001b[0m \u001b[0mcalkpkg\u001b[0m\u001b[1;33m.\u001b[0m\u001b[0moperation\u001b[0m \u001b[1;32mimport\u001b[0m \u001b[1;33m*\u001b[0m\u001b[1;33m\u001b[0m\u001b[1;33m\u001b[0m\u001b[0m\n\u001b[1;32m----> 2\u001b[1;33m \u001b[1;32mfrom\u001b[0m \u001b[0mcalkpkg\u001b[0m\u001b[1;33m.\u001b[0m\u001b[0mgeometry\u001b[0m \u001b[1;32mimport\u001b[0m \u001b[1;33m*\u001b[0m\u001b[1;33m\u001b[0m\u001b[1;33m\u001b[0m\u001b[0m\n\u001b[0m",
      "\u001b[1;31mModuleNotFoundError\u001b[0m: No module named 'calkpkg.geometry'"
     ]
    }
   ],
   "source": [
    "from calkpkg.operation import add as ad, mul as mu\n",
    "import calkpkg.giometry as cg"
   ]
  },
  {
   "cell_type": "code",
   "execution_count": 40,
   "id": "60507aeb",
   "metadata": {},
   "outputs": [
    {
     "data": {
      "text/plain": [
       "3"
      ]
     },
     "execution_count": 40,
     "metadata": {},
     "output_type": "execute_result"
    }
   ],
   "source": [
    "co.add(1, 2)"
   ]
  },
  {
   "cell_type": "code",
   "execution_count": 41,
   "id": "55772ed4",
   "metadata": {},
   "outputs": [
    {
     "data": {
      "text/plain": [
       "20"
      ]
     },
     "execution_count": 41,
     "metadata": {},
     "output_type": "execute_result"
    }
   ],
   "source": [
    "co.mul(10, 2)"
   ]
  },
  {
   "cell_type": "code",
   "execution_count": 42,
   "id": "b96cf1e0",
   "metadata": {},
   "outputs": [
    {
     "data": {
      "text/plain": [
       "6.0"
      ]
     },
     "execution_count": 42,
     "metadata": {},
     "output_type": "execute_result"
    }
   ],
   "source": [
    "cg.triangle_area(3, 4)"
   ]
  },
  {
   "cell_type": "code",
   "execution_count": 43,
   "id": "cce2c1fe",
   "metadata": {},
   "outputs": [
    {
     "data": {
      "text/plain": [
       "12"
      ]
     },
     "execution_count": 43,
     "metadata": {},
     "output_type": "execute_result"
    }
   ],
   "source": [
    "cg.rectangle_area(3, 4)"
   ]
  },
  {
   "cell_type": "code",
   "execution_count": 25,
   "id": "5bbf47ee",
   "metadata": {},
   "outputs": [
    {
     "ename": "ModuleNotFoundError",
     "evalue": "No module named 'calkpkg.geometry'",
     "output_type": "error",
     "traceback": [
      "\u001b[1;31m---------------------------------------------------------------------------\u001b[0m",
      "\u001b[1;31mModuleNotFoundError\u001b[0m                       Traceback (most recent call last)",
      "\u001b[1;32m<ipython-input-25-5b5c286951d1>\u001b[0m in \u001b[0;36m<module>\u001b[1;34m\u001b[0m\n\u001b[1;32m----> 1\u001b[1;33m \u001b[1;32mimport\u001b[0m \u001b[0mcalkpkg\u001b[0m \u001b[1;31m#init에 가져오라고 했기에 패키지 그대로만으로도 사용 가능\u001b[0m\u001b[1;33m\u001b[0m\u001b[1;33m\u001b[0m\u001b[0m\n\u001b[0m",
      "\u001b[1;32m~\\Desktop\\코딩\\python 기초(ipynb)\\calkpkg\\__init__.py\u001b[0m in \u001b[0;36m<module>\u001b[1;34m\u001b[0m\n\u001b[0;32m      1\u001b[0m \u001b[1;32mfrom\u001b[0m \u001b[0mcalkpkg\u001b[0m\u001b[1;33m.\u001b[0m\u001b[0moperation\u001b[0m \u001b[1;32mimport\u001b[0m \u001b[1;33m*\u001b[0m\u001b[1;33m\u001b[0m\u001b[1;33m\u001b[0m\u001b[0m\n\u001b[1;32m----> 2\u001b[1;33m \u001b[1;32mfrom\u001b[0m \u001b[0mcalkpkg\u001b[0m\u001b[1;33m.\u001b[0m\u001b[0mgeometry\u001b[0m \u001b[1;32mimport\u001b[0m \u001b[1;33m*\u001b[0m\u001b[1;33m\u001b[0m\u001b[1;33m\u001b[0m\u001b[0m\n\u001b[0m",
      "\u001b[1;31mModuleNotFoundError\u001b[0m: No module named 'calkpkg.geometry'"
     ]
    }
   ],
   "source": [
    "import calkpkg #init에 가져오라고 했기에 패키지 그대로만으로도 사용 가능"
   ]
  },
  {
   "cell_type": "code",
   "execution_count": 47,
   "id": "1a719147",
   "metadata": {},
   "outputs": [
    {
     "data": {
      "text/plain": [
       "8"
      ]
     },
     "execution_count": 47,
     "metadata": {},
     "output_type": "execute_result"
    }
   ],
   "source": [
    "calkpkg.operation.add(3, 5)"
   ]
  },
  {
   "cell_type": "code",
   "execution_count": 48,
   "id": "09e49f49",
   "metadata": {},
   "outputs": [
    {
     "data": {
      "text/plain": [
       "50"
      ]
     },
     "execution_count": 48,
     "metadata": {},
     "output_type": "execute_result"
    }
   ],
   "source": [
    "calkpkg.giometry.rectangle_area(10, 5)"
   ]
  },
  {
   "cell_type": "code",
   "execution_count": 7,
   "id": "bf213a85",
   "metadata": {},
   "outputs": [],
   "source": [
    "from calkpkg.geometry import *"
   ]
  },
  {
   "cell_type": "code",
   "execution_count": 2,
   "id": "81f69786",
   "metadata": {},
   "outputs": [
    {
     "ename": "NameError",
     "evalue": "name 'add' is not defined",
     "output_type": "error",
     "traceback": [
      "\u001b[1;31m---------------------------------------------------------------------------\u001b[0m",
      "\u001b[1;31mNameError\u001b[0m                                 Traceback (most recent call last)",
      "\u001b[1;32m<ipython-input-2-08a26d0ee218>\u001b[0m in \u001b[0;36m<module>\u001b[1;34m\u001b[0m\n\u001b[1;32m----> 1\u001b[1;33m \u001b[0mprint\u001b[0m\u001b[1;33m(\u001b[0m\u001b[0madd\u001b[0m\u001b[1;33m(\u001b[0m\u001b[1;36m10\u001b[0m\u001b[1;33m,\u001b[0m \u001b[1;36m20\u001b[0m\u001b[1;33m)\u001b[0m\u001b[1;33m)\u001b[0m\u001b[1;33m\u001b[0m\u001b[1;33m\u001b[0m\u001b[0m\n\u001b[0m",
      "\u001b[1;31mNameError\u001b[0m: name 'add' is not defined"
     ]
    }
   ],
   "source": [
    "print(add(10, 20))"
   ]
  },
  {
   "cell_type": "code",
   "execution_count": 20,
   "id": "dd288776",
   "metadata": {},
   "outputs": [
    {
     "data": {
      "text/plain": [
       "['In',\n",
       " 'Out',\n",
       " '_',\n",
       " '__',\n",
       " '___',\n",
       " '__builtin__',\n",
       " '__builtins__',\n",
       " '__doc__',\n",
       " '__loader__',\n",
       " '__name__',\n",
       " '__package__',\n",
       " '__spec__',\n",
       " '_dh',\n",
       " '_exit_code',\n",
       " '_i',\n",
       " '_i1',\n",
       " '_i10',\n",
       " '_i11',\n",
       " '_i12',\n",
       " '_i13',\n",
       " '_i14',\n",
       " '_i15',\n",
       " '_i16',\n",
       " '_i17',\n",
       " '_i18',\n",
       " '_i19',\n",
       " '_i2',\n",
       " '_i20',\n",
       " '_i3',\n",
       " '_i4',\n",
       " '_i5',\n",
       " '_i6',\n",
       " '_i7',\n",
       " '_i8',\n",
       " '_i9',\n",
       " '_ih',\n",
       " '_ii',\n",
       " '_iii',\n",
       " '_oh',\n",
       " 'ad',\n",
       " 'add',\n",
       " 'exit',\n",
       " 'get_ipython',\n",
       " 'mu',\n",
       " 'mul',\n",
       " 'quit']"
      ]
     },
     "execution_count": 20,
     "metadata": {},
     "output_type": "execute_result"
    }
   ],
   "source": [
    "dir() "
   ]
  },
  {
   "cell_type": "code",
   "execution_count": 1,
   "id": "762b8be7",
   "metadata": {},
   "outputs": [
    {
     "ename": "ImportError",
     "evalue": "attempted relative import with no known parent package",
     "output_type": "error",
     "traceback": [
      "\u001b[1;31m---------------------------------------------------------------------------\u001b[0m",
      "\u001b[1;31mImportError\u001b[0m                               Traceback (most recent call last)",
      "\u001b[1;32m<ipython-input-1-25d7762dc242>\u001b[0m in \u001b[0;36m<module>\u001b[1;34m\u001b[0m\n\u001b[1;32m----> 1\u001b[1;33m \u001b[1;32mfrom\u001b[0m \u001b[1;33m.\u001b[0m\u001b[0moperation\u001b[0m \u001b[1;32mimport\u001b[0m \u001b[0madd\u001b[0m\u001b[1;33m,\u001b[0m \u001b[0mmul\u001b[0m\u001b[1;33m\u001b[0m\u001b[1;33m\u001b[0m\u001b[0m\n\u001b[0m\u001b[0;32m      2\u001b[0m \u001b[1;32mfrom\u001b[0m \u001b[1;33m.\u001b[0m\u001b[0mgeometry\u001b[0m \u001b[1;32mimport\u001b[0m \u001b[0mtriangle_area\u001b[0m\u001b[1;33m,\u001b[0m \u001b[0mrectangle_area\u001b[0m\u001b[1;33m\u001b[0m\u001b[1;33m\u001b[0m\u001b[0m\n",
      "\u001b[1;31mImportError\u001b[0m: attempted relative import with no known parent package"
     ]
    }
   ],
   "source": [
    "from .operation import add, mul\n",
    "from .geometry import triangle_area, rectangle_area"
   ]
  },
  {
   "cell_type": "code",
   "execution_count": 4,
   "id": "db44b163",
   "metadata": {},
   "outputs": [],
   "source": [
    "from calkpkg.operation import *\n",
    "from calkpkg.geometry import *"
   ]
  },
  {
   "cell_type": "code",
   "execution_count": 11,
   "id": "5fb01beb",
   "metadata": {},
   "outputs": [
    {
     "ename": "TypeError",
     "evalue": "'str' object is not callable",
     "output_type": "error",
     "traceback": [
      "\u001b[1;31m---------------------------------------------------------------------------\u001b[0m",
      "\u001b[1;31mTypeError\u001b[0m                                 Traceback (most recent call last)",
      "\u001b[1;32m<ipython-input-11-0a32e05d6a6f>\u001b[0m in \u001b[0;36m<module>\u001b[1;34m\u001b[0m\n\u001b[1;32m----> 1\u001b[1;33m \u001b[0mmul\u001b[0m\u001b[1;33m.\u001b[0m\u001b[0m__name__\u001b[0m\u001b[1;33m(\u001b[0m\u001b[1;33m)\u001b[0m\u001b[1;33m\u001b[0m\u001b[1;33m\u001b[0m\u001b[0m\n\u001b[0m",
      "\u001b[1;31mTypeError\u001b[0m: 'str' object is not callable"
     ]
    }
   ],
   "source": [
    "mul.__name__()"
   ]
  },
  {
   "cell_type": "code",
   "execution_count": null,
   "id": "0cabc84b",
   "metadata": {},
   "outputs": [],
   "source": []
  },
  {
   "cell_type": "code",
   "execution_count": null,
   "id": "eaca1f51",
   "metadata": {},
   "outputs": [],
   "source": []
  }
 ],
 "metadata": {
  "kernelspec": {
   "display_name": "Python 3",
   "language": "python",
   "name": "python3"
  },
  "language_info": {
   "codemirror_mode": {
    "name": "ipython",
    "version": 3
   },
   "file_extension": ".py",
   "mimetype": "text/x-python",
   "name": "python",
   "nbconvert_exporter": "python",
   "pygments_lexer": "ipython3",
   "version": "3.8.8"
  }
 },
 "nbformat": 4,
 "nbformat_minor": 5
}
