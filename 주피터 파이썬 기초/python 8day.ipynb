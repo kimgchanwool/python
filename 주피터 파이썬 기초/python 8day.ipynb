{
 "cells": [
  {
   "cell_type": "markdown",
   "id": "2fbf40b3",
   "metadata": {},
   "source": [
    "# 스택"
   ]
  },
  {
   "cell_type": "code",
   "execution_count": 5,
   "id": "a37e706c",
   "metadata": {},
   "outputs": [
    {
     "data": {
      "text/plain": [
       "[1, 2, 3, 4]"
      ]
     },
     "execution_count": 5,
     "metadata": {},
     "output_type": "execute_result"
    }
   ],
   "source": [
    "stack = []\n",
    "\n",
    "stack.append(1) #순서대로 쌓기\n",
    "stack.append(2)\n",
    "stack.append(3)\n",
    "stack.append(4)\n",
    "stack"
   ]
  },
  {
   "cell_type": "code",
   "execution_count": 6,
   "id": "d5b4e586",
   "metadata": {},
   "outputs": [
    {
     "data": {
      "text/plain": [
       "4"
      ]
     },
     "execution_count": 6,
     "metadata": {},
     "output_type": "execute_result"
    }
   ],
   "source": [
    "stack.pop() #꺼내오기"
   ]
  },
  {
   "cell_type": "code",
   "execution_count": 7,
   "id": "b004f4f9",
   "metadata": {},
   "outputs": [],
   "source": [
    "stack.append(5)\n",
    "stack.append(6)"
   ]
  },
  {
   "cell_type": "code",
   "execution_count": 10,
   "id": "542e9a72",
   "metadata": {
    "scrolled": true
   },
   "outputs": [
    {
     "data": {
      "text/plain": [
       "[1, 2, 3, 5, 6]"
      ]
     },
     "execution_count": 10,
     "metadata": {},
     "output_type": "execute_result"
    }
   ],
   "source": [
    "stack #순서대로 추가되고 추가된 역순으로 내보내진다."
   ]
  },
  {
   "cell_type": "markdown",
   "id": "75a05aad",
   "metadata": {},
   "source": [
    "# 큐"
   ]
  },
  {
   "cell_type": "markdown",
   "id": "67caad97",
   "metadata": {},
   "source": [
    "* Queue 구현 예"
   ]
  },
  {
   "cell_type": "code",
   "execution_count": null,
   "id": "e638de56",
   "metadata": {},
   "outputs": [],
   "source": [
    "pip install collecti"
   ]
  },
  {
   "cell_type": "code",
   "execution_count": 11,
   "id": "6b1254fc",
   "metadata": {},
   "outputs": [],
   "source": [
    "from collections import deque"
   ]
  },
  {
   "cell_type": "code",
   "execution_count": 35,
   "id": "0405a56d",
   "metadata": {},
   "outputs": [],
   "source": [
    "queue = deque()"
   ]
  },
  {
   "cell_type": "code",
   "execution_count": 36,
   "id": "0160f700",
   "metadata": {},
   "outputs": [],
   "source": [
    "queue.append(5)"
   ]
  },
  {
   "cell_type": "code",
   "execution_count": 37,
   "id": "e8265ed7",
   "metadata": {},
   "outputs": [],
   "source": [
    "queue.append(2)"
   ]
  },
  {
   "cell_type": "code",
   "execution_count": 38,
   "id": "93a897aa",
   "metadata": {},
   "outputs": [],
   "source": [
    "queue.append(3)"
   ]
  },
  {
   "cell_type": "code",
   "execution_count": 39,
   "id": "5422a207",
   "metadata": {},
   "outputs": [],
   "source": [
    "queue.append(7)"
   ]
  },
  {
   "cell_type": "code",
   "execution_count": 40,
   "id": "a2d65625",
   "metadata": {},
   "outputs": [
    {
     "data": {
      "text/plain": [
       "deque([5, 2, 3, 7])"
      ]
     },
     "execution_count": 40,
     "metadata": {},
     "output_type": "execute_result"
    }
   ],
   "source": [
    "queue # 5가 oldest다."
   ]
  },
  {
   "cell_type": "code",
   "execution_count": 41,
   "id": "67d26cdd",
   "metadata": {},
   "outputs": [
    {
     "data": {
      "text/plain": [
       "5"
      ]
     },
     "execution_count": 41,
     "metadata": {},
     "output_type": "execute_result"
    }
   ],
   "source": [
    "queue.popleft() #맨 왼쪽인 oldest를 꺼내온다."
   ]
  },
  {
   "cell_type": "code",
   "execution_count": 42,
   "id": "8231e149",
   "metadata": {},
   "outputs": [
    {
     "data": {
      "text/plain": [
       "deque([2, 3, 7])"
      ]
     },
     "execution_count": 42,
     "metadata": {},
     "output_type": "execute_result"
    }
   ],
   "source": [
    "queue"
   ]
  },
  {
   "cell_type": "code",
   "execution_count": 44,
   "id": "e2ce184e",
   "metadata": {},
   "outputs": [],
   "source": [
    "queue.append(1)"
   ]
  },
  {
   "cell_type": "code",
   "execution_count": 45,
   "id": "70711fc4",
   "metadata": {},
   "outputs": [],
   "source": [
    "queue.append(4)"
   ]
  },
  {
   "cell_type": "code",
   "execution_count": 46,
   "id": "03f10315",
   "metadata": {},
   "outputs": [
    {
     "data": {
      "text/plain": [
       "deque([2, 3, 7, 1, 4])"
      ]
     },
     "execution_count": 46,
     "metadata": {},
     "output_type": "execute_result"
    }
   ],
   "source": [
    "queue #append는 꼬리에 pop은 머리에서"
   ]
  },
  {
   "cell_type": "code",
   "execution_count": 48,
   "id": "87efe52a",
   "metadata": {},
   "outputs": [
    {
     "data": {
      "text/plain": [
       "2"
      ]
     },
     "execution_count": 48,
     "metadata": {},
     "output_type": "execute_result"
    }
   ],
   "source": [
    "queue.popleft()"
   ]
  },
  {
   "cell_type": "code",
   "execution_count": 49,
   "id": "07d40647",
   "metadata": {},
   "outputs": [
    {
     "data": {
      "text/plain": [
       "deque([3, 7, 1, 4])"
      ]
     },
     "execution_count": 49,
     "metadata": {},
     "output_type": "execute_result"
    }
   ],
   "source": [
    "queue"
   ]
  },
  {
   "cell_type": "markdown",
   "id": "85953748",
   "metadata": {},
   "source": [
    "# set"
   ]
  },
  {
   "cell_type": "code",
   "execution_count": null,
   "id": "794ba484",
   "metadata": {},
   "outputs": [],
   "source": [
    "# 중복이 없다"
   ]
  },
  {
   "cell_type": "markdown",
   "id": "13ebe375",
   "metadata": {},
   "source": [
    "# map"
   ]
  },
  {
   "cell_type": "markdown",
   "id": "98bfe46e",
   "metadata": {},
   "source": [
    "set의 상향화  dict와 유사"
   ]
  },
  {
   "cell_type": "markdown",
   "id": "c2baa1e3",
   "metadata": {},
   "source": [
    "## map = <key, value>\n",
    "\n",
    "## A group of keys is a set."
   ]
  },
  {
   "cell_type": "markdown",
   "id": "ea240ebf",
   "metadata": {},
   "source": [
    "map의 key는 오직 하나만 존재 중복 x"
   ]
  },
  {
   "cell_type": "code",
   "execution_count": 87,
   "id": "3c0af9b5",
   "metadata": {},
   "outputs": [],
   "source": [
    "def bubble_sort(arr):\n",
    "    i = 0\n",
    "    for i in range(len(arr)):\n",
    "        for j in range(len(arr) - i):\n",
    "            if j < len(arr) - 1 and arr[j] > arr[j+1]:\n",
    "                arr[j], arr[j + 1] = arr[j + 1], arr[j]\n",
    "            i+=1\n",
    "    print(arr)\n",
    "            \n",
    "            "
   ]
  },
  {
   "cell_type": "code",
   "execution_count": 88,
   "id": "af29024a",
   "metadata": {},
   "outputs": [
    {
     "name": "stdout",
     "output_type": "stream",
     "text": [
      "[1, 2, 2, 3, 4, 5, 10, 10, 20]\n"
     ]
    }
   ],
   "source": [
    "bubble_sort([1, 2,10, 2, 4, 10, 20, 5, 3])"
   ]
  },
  {
   "cell_type": "markdown",
   "id": "2d8006af",
   "metadata": {},
   "source": [
    "## Merge sort : efficiency"
   ]
  },
  {
   "cell_type": "markdown",
   "id": "fdcb72cc",
   "metadata": {},
   "source": [
    "그룹을 나누어서 계산 그룹끼리도 계산."
   ]
  },
  {
   "cell_type": "markdown",
   "id": "cc6aa13c",
   "metadata": {},
   "source": [
    "O(n log(n)) 정도의 복잡도"
   ]
  },
  {
   "cell_type": "code",
   "execution_count": 116,
   "id": "7f7c5445",
   "metadata": {},
   "outputs": [],
   "source": [
    "def merge(left, right):\n",
    "    i = []\n",
    "    le = ri = 0\n",
    "    while j < len(left) and k < len(right):\n",
    "        if left[j] > right[ri]:\n",
    "            i.append(right[ri])\n",
    "            k+=1\n",
    "        else:\n",
    "            i.append(left[le])\n",
    "            j+=1\n",
    "    if j == len(left): # k-1번째 까지 사용\n",
    "        i = i[:] + right[ri:]\n",
    "    elif k == len(right): #j -1번째까지 사용 \n",
    "        i = i[:] + left[le:]\n",
    "    return i\n",
    "\n",
    "def merge_sort(arr):\n",
    "    if len(arr) <= 1:    \n",
    "        return arr\n",
    "    mid = len(arr) // 2\n",
    "    left = arr[:mid]\n",
    "    right = arr[mid:]\n",
    "    left = merge_sort(left) #재귀\n",
    "    right = merge_sort(right)\n",
    "    return merge(left, right)"
   ]
  },
  {
   "cell_type": "code",
   "execution_count": 121,
   "id": "11c63fb6",
   "metadata": {},
   "outputs": [],
   "source": [
    "a = merge_sort([1, 2,3,4,10, 20, 340, 45, 59, 9,5])"
   ]
  },
  {
   "cell_type": "code",
   "execution_count": 122,
   "id": "216e19de",
   "metadata": {},
   "outputs": [
    {
     "data": {
      "text/plain": [
       "[1, 2, 3, 4, 5, 9, 10, 20, 45, 59, 340]"
      ]
     },
     "execution_count": 122,
     "metadata": {},
     "output_type": "execute_result"
    }
   ],
   "source": [
    "a"
   ]
  },
  {
   "cell_type": "code",
   "execution_count": 123,
   "id": "04e51fe5",
   "metadata": {},
   "outputs": [],
   "source": [
    "def quick_sort(arr):\n",
    "    rem = len(arr)-1\n",
    "    i = 0\n",
    "    if arr[0] < arr[-1]:\n",
    "        arr[0], arr[-1] = arr[-1], arr[0]\n",
    "    while True:\n",
    "        count = 0\n",
    "        while i < len(arr) - 1:\n",
    "            arr\n",
    "    "
   ]
  },
  {
   "cell_type": "code",
   "execution_count": 124,
   "id": "5c027873",
   "metadata": {},
   "outputs": [
    {
     "ename": "SyntaxError",
     "evalue": "invalid syntax (<ipython-input-124-41347f754de6>, line 9)",
     "output_type": "error",
     "traceback": [
      "\u001b[1;36m  File \u001b[1;32m\"<ipython-input-124-41347f754de6>\"\u001b[1;36m, line \u001b[1;32m9\u001b[0m\n\u001b[1;33m    li = [for i in arr if i[1] == 1] + [for i in arr if i[1] == 0]\u001b[0m\n\u001b[1;37m          ^\u001b[0m\n\u001b[1;31mSyntaxError\u001b[0m\u001b[1;31m:\u001b[0m invalid syntax\n"
     ]
    }
   ],
   "source": [
    "def quick_sort(arr):\n",
    "    k = 0\n",
    "    while k < len(arr):\n",
    "        for i in range(len(arr)):\n",
    "            arr[i][1] = 0\n",
    "            if arr[k] > arr[i] and k != i:\n",
    "                arr[i][1] = 1\n",
    "        k+=1\n",
    "    li = [for i in arr if i[1] == 1] + [for i in arr if i[1] == 0]"
   ]
  },
  {
   "cell_type": "code",
   "execution_count": 127,
   "id": "dca12695",
   "metadata": {},
   "outputs": [
    {
     "name": "stdout",
     "output_type": "stream",
     "text": [
      "1260\n",
      "동전은 500 : 2개, 100 : 2개, 50 : 1개, 10 : 1개 사용되어서 총 결과는 6개 입니다.\n"
     ]
    }
   ],
   "source": [
    "s = int(input())\n",
    "f_h, h, f_t, t = 0, 0, 0, 0\n",
    "while s // 500:\n",
    "    s-=500\n",
    "    f_h+=1\n",
    "while s // 100:\n",
    "    s-=100\n",
    "    h+=1\n",
    "while s // 50:\n",
    "    s-=50\n",
    "    f_t+=1\n",
    "while s // 10:\n",
    "    s-=10\n",
    "    t+=1\n",
    "count = f_h+h+f_t\n",
    "print(f'동전은 500 : {f_h}개, 100 : {h}개, 50 : {f_t}개, 10 : {t}개 사용되어서 총 결과는 {count}개 입니다.')"
   ]
  },
  {
   "cell_type": "code",
   "execution_count": 131,
   "id": "ef53d6b8",
   "metadata": {},
   "outputs": [
    {
     "name": "stdout",
     "output_type": "stream",
     "text": [
      "1260\n",
      "총 결과는 6개 입니다.\n",
      "총 경과 시간은 : 2.0621354579925537 입니다.\n"
     ]
    }
   ],
   "source": [
    "import time\n",
    "\n",
    "start= time.time()\n",
    "s = int(input())\n",
    "count = 0\n",
    "ct = [500, 100, 50, 10]\n",
    "for i in ct:\n",
    "    s, count = s-((s//i)*i), count + s//i\n",
    "print(f'총 결과는 {count}개 입니다.')\n",
    "end=time.time()\n",
    "print('총 경과 시간은 :', end-start, '입니다.')"
   ]
  },
  {
   "cell_type": "code",
   "execution_count": 141,
   "id": "7cfbc2a3",
   "metadata": {},
   "outputs": [
    {
     "name": "stdout",
     "output_type": "stream",
     "text": [
      "20 10\n",
      "2\n",
      "총 경과 시간은 : 1.587167739868164 입니다.\n"
     ]
    }
   ],
   "source": [
    "import time\n",
    "\n",
    "start= time.time()\n",
    "n, k, count = map(int, input().split()), 0\n",
    "while n != 1 and n > 1:\n",
    "    if n % k == 0:\n",
    "        n /= k\n",
    "    else:\n",
    "        n-=1\n",
    "    count+=1\n",
    "print(count)\n",
    "end=time.time()\n",
    "print('총 경과 시간은 :', end-start, '입니다.')"
   ]
  },
  {
   "cell_type": "code",
   "execution_count": 145,
   "id": "cf885691",
   "metadata": {},
   "outputs": [
    {
     "name": "stdout",
     "output_type": "stream",
     "text": [
      "10 20\n",
      "총 과정을 9 번 수행했습니다.\n",
      "총 경과 시간은 : 1.021428108215332 입니다.\n"
     ]
    }
   ],
   "source": [
    "import time\n",
    "\n",
    "start= time.time()\n",
    "n, k= map(int, input().split())\n",
    "count = 0\n",
    "while n != 1 and n > 1:\n",
    "    if n % k == 0: n /= k\n",
    "    else: n-=1; count+=1\n",
    "end=time.time()\n",
    "print('총 과정을 ',count,' 번 수행했습니다.\\n', '총 경과 시간은 : ', end-start, ' 입니다.', sep='')"
   ]
  },
  {
   "cell_type": "code",
   "execution_count": null,
   "id": "53f19988",
   "metadata": {},
   "outputs": [],
   "source": []
  }
 ],
 "metadata": {
  "kernelspec": {
   "display_name": "Python 3",
   "language": "python",
   "name": "python3"
  },
  "language_info": {
   "codemirror_mode": {
    "name": "ipython",
    "version": 3
   },
   "file_extension": ".py",
   "mimetype": "text/x-python",
   "name": "python",
   "nbconvert_exporter": "python",
   "pygments_lexer": "ipython3",
   "version": "3.8.8"
  }
 },
 "nbformat": 4,
 "nbformat_minor": 5
}
