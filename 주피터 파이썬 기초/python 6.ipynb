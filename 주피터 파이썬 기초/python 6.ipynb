{
 "cells": [
  {
   "cell_type": "code",
   "execution_count": 16,
   "id": "ad0ba7ab",
   "metadata": {},
   "outputs": [],
   "source": [
    "#import punctools"
   ]
  },
  {
   "cell_type": "code",
   "execution_count": 11,
   "id": "716122a0",
   "metadata": {},
   "outputs": [],
   "source": [
    "a = {'1': 10, '2' : 20, '3' : 30}"
   ]
  },
  {
   "cell_type": "code",
   "execution_count": 9,
   "id": "fb86de6c",
   "metadata": {},
   "outputs": [],
   "source": [
    "def play(**kwargs):\n",
    "    for  x, y in kargs.items():\n",
    "        print(x, y)"
   ]
  },
  {
   "cell_type": "code",
   "execution_count": 10,
   "id": "21979ab6",
   "metadata": {},
   "outputs": [
    {
     "ename": "TypeError",
     "evalue": "play() takes 0 positional arguments but 1 was given",
     "output_type": "error",
     "traceback": [
      "\u001b[1;31m---------------------------------------------------------------------------\u001b[0m",
      "\u001b[1;31mTypeError\u001b[0m                                 Traceback (most recent call last)",
      "\u001b[1;32m<ipython-input-10-9a6f731590d4>\u001b[0m in \u001b[0;36m<module>\u001b[1;34m\u001b[0m\n\u001b[1;32m----> 1\u001b[1;33m \u001b[0mplay\u001b[0m\u001b[1;33m(\u001b[0m\u001b[0ma\u001b[0m\u001b[1;33m)\u001b[0m\u001b[1;33m\u001b[0m\u001b[1;33m\u001b[0m\u001b[0m\n\u001b[0m",
      "\u001b[1;31mTypeError\u001b[0m: play() takes 0 positional arguments but 1 was given"
     ]
    }
   ],
   "source": [
    "play(a)"
   ]
  },
  {
   "cell_type": "code",
   "execution_count": 17,
   "id": "8d8e8e3b",
   "metadata": {},
   "outputs": [],
   "source": [
    "files = ['dsd', '1.png', '10.jpg', '11.gif']"
   ]
  },
  {
   "cell_type": "code",
   "execution_count": 20,
   "id": "8463eaf7",
   "metadata": {
    "scrolled": true
   },
   "outputs": [
    {
     "name": "stdout",
     "output_type": "stream",
     "text": [
      "['1.png', '10.jpg']\n"
     ]
    }
   ],
   "source": [
    "print(list(filter(lambda x : 'png' in x or 'jpg' in x ,files)))"
   ]
  },
  {
   "cell_type": "code",
   "execution_count": 45,
   "id": "80329e33",
   "metadata": {},
   "outputs": [
    {
     "name": "stdout",
     "output_type": "stream",
     "text": [
      "['001.jpg', '010.png', '011.png', '002.jpg', '003.png']\n"
     ]
    }
   ],
   "source": [
    "x = '1.jpg 10.png 11.png 2.jpg 3.png'\n",
    "#files = input().split()\n",
    "x = list(x.split())\n",
    "x = [i.zfill(7) for i in x]\n",
    "print(x)"
   ]
  },
  {
   "cell_type": "code",
   "execution_count": 53,
   "id": "786f3052",
   "metadata": {},
   "outputs": [
    {
     "name": "stdout",
     "output_type": "stream",
     "text": [
      "['001.jpg', '010.png', '011.png', '002.jpg', '003.png']\n"
     ]
    }
   ],
   "source": [
    "#files = input().split()\n",
    "#print(list(map(lambda x:  3 - len(x.split('.')[0])*'0' +x.split('.')[0]+'.'+x.split('.')[1], x)))\n",
    "# 위의 코드가 안된 이유는 3 - len을 안묶으면 int와 문자열이 계산되므로 len까지 묶고 0을 곱해야한다.\n",
    "print(list(map(lambda x:  (3 - len(x.split('.')[0]))*'0' +x.split('.')[0]+'.'+x.split('.')[1], x)))"
   ]
  },
  {
   "cell_type": "code",
   "execution_count": 59,
   "id": "2279b1ee",
   "metadata": {},
   "outputs": [
    {
     "name": "stdout",
     "output_type": "stream",
     "text": [
      "['001.jpg', '010.png', '011.png', '002.jpg', '003.png']\n"
     ]
    }
   ],
   "source": [
    "print(list(map(lambda x:  x.split('.')[0].zfill(3)+'.'+x.split('.')[1], x)))"
   ]
  },
  {
   "cell_type": "code",
   "execution_count": 62,
   "id": "8af4a4d9",
   "metadata": {
    "scrolled": true
   },
   "outputs": [
    {
     "ename": "SyntaxError",
     "evalue": "invalid syntax (<ipython-input-62-5fd1ab1de678>, line 4)",
     "output_type": "error",
     "traceback": [
      "\u001b[1;36m  File \u001b[1;32m\"<ipython-input-62-5fd1ab1de678>\"\u001b[1;36m, line \u001b[1;32m4\u001b[0m\n\u001b[1;33m    print(list(map(lambda x)))\u001b[0m\n\u001b[1;37m                           ^\u001b[0m\n\u001b[1;31mSyntaxError\u001b[0m\u001b[1;31m:\u001b[0m invalid syntax\n"
     ]
    }
   ],
   "source": [
    "# 요한님 코드\n",
    "files = input().split()\n",
    "print(list(map(lambda x: \"{0:0>3}.{1}\".format(x.split('.')[0], x.split('.')[1]), files)))"
   ]
  },
  {
   "cell_type": "markdown",
   "id": "fbae3ba1",
   "metadata": {},
   "source": [
    "# 지역변수와 전역변수의 범위"
   ]
  },
  {
   "cell_type": "code",
   "execution_count": 68,
   "id": "f038ecfd",
   "metadata": {},
   "outputs": [
    {
     "name": "stdout",
     "output_type": "stream",
     "text": [
      "10\n",
      "10\n"
     ]
    }
   ],
   "source": [
    "y = 10\n",
    "def foo():\n",
    "    print(y)\n",
    "\n",
    "foo()\n",
    "print(y)"
   ]
  },
  {
   "cell_type": "code",
   "execution_count": 66,
   "id": "a2c6ed73",
   "metadata": {},
   "outputs": [
    {
     "name": "stdout",
     "output_type": "stream",
     "text": [
      "10\n"
     ]
    },
    {
     "ename": "NameError",
     "evalue": "name 'X' is not defined",
     "output_type": "error",
     "traceback": [
      "\u001b[1;31m---------------------------------------------------------------------------\u001b[0m",
      "\u001b[1;31mNameError\u001b[0m                                 Traceback (most recent call last)",
      "\u001b[1;32m<ipython-input-66-33593ca2c469>\u001b[0m in \u001b[0;36m<module>\u001b[1;34m\u001b[0m\n\u001b[0;32m      3\u001b[0m     \u001b[0mprint\u001b[0m\u001b[1;33m(\u001b[0m\u001b[0mX\u001b[0m\u001b[1;33m)\u001b[0m\u001b[1;33m\u001b[0m\u001b[1;33m\u001b[0m\u001b[0m\n\u001b[0;32m      4\u001b[0m \u001b[0mfoo\u001b[0m\u001b[1;33m(\u001b[0m\u001b[1;33m)\u001b[0m\u001b[1;33m\u001b[0m\u001b[1;33m\u001b[0m\u001b[0m\n\u001b[1;32m----> 5\u001b[1;33m \u001b[0mprint\u001b[0m\u001b[1;33m(\u001b[0m\u001b[0mX\u001b[0m\u001b[1;33m)\u001b[0m\u001b[1;33m\u001b[0m\u001b[1;33m\u001b[0m\u001b[0m\n\u001b[0m",
      "\u001b[1;31mNameError\u001b[0m: name 'X' is not defined"
     ]
    }
   ],
   "source": [
    "def foo():\n",
    "    X = 10\n",
    "    print(X)\n",
    "foo()\n",
    "print(X)"
   ]
  },
  {
   "cell_type": "code",
   "execution_count": 69,
   "id": "a6d0bd1b",
   "metadata": {},
   "outputs": [
    {
     "name": "stdout",
     "output_type": "stream",
     "text": [
      "20\n",
      "10\n"
     ]
    }
   ],
   "source": [
    "s = 10\n",
    "def foo():\n",
    "    s = 20\n",
    "    print(s) # 해당 s는 전역변수의 10에서 20이 덮여지고 해당 s는 사라짐.\n",
    "\n",
    "foo()\n",
    "print(s) #이건 맨 위에 선언한 10의 s임"
   ]
  },
  {
   "cell_type": "markdown",
   "id": "2a511c16",
   "metadata": {},
   "source": [
    "# global 전역변수"
   ]
  },
  {
   "cell_type": "code",
   "execution_count": 70,
   "id": "80c0f6a0",
   "metadata": {},
   "outputs": [
    {
     "name": "stdout",
     "output_type": "stream",
     "text": [
      "20\n",
      "20\n"
     ]
    }
   ],
   "source": [
    "y = 10       #전역변수 추가적으로 이게 없어도 밖에서 사용 가능\n",
    "def foo():\n",
    "    global y #이때부터 해당 y는 지역변수 y가아니라 전역변수 y\n",
    "    y = 20   #global때문에 지역변수 y를 선언한게 아닌 전역변수 y를 재선언하게됌\n",
    "    print(y)\n",
    "\n",
    "foo()\n",
    "print(y)"
   ]
  },
  {
   "cell_type": "code",
   "execution_count": 71,
   "id": "8f0ac827",
   "metadata": {},
   "outputs": [
    {
     "name": "stdout",
     "output_type": "stream",
     "text": [
      "20\n",
      "20\n"
     ]
    }
   ],
   "source": [
    "def foo():\n",
    "    global c #c를 선언한 적이 없기에 지금 전역변수인 c를 선언한다\n",
    "    c = 20\n",
    "    print(c)\n",
    "    \n",
    "foo()\n",
    "print(c)"
   ]
  },
  {
   "cell_type": "code",
   "execution_count": 73,
   "id": "6eb97013",
   "metadata": {},
   "outputs": [
    {
     "name": "stdout",
     "output_type": "stream",
     "text": [
      "hello, world\n",
      "hello, world\n"
     ]
    }
   ],
   "source": [
    "def print_hello():\n",
    "    hello = 'hello, world'\n",
    "    def print_message():\n",
    "        print(hello) #해당 hello는 print_hello에 있는 hello가 전역변수처럼 작용해서임\n",
    "    print(hello)\n",
    "    print_message()\n",
    "print_hello()"
   ]
  },
  {
   "cell_type": "markdown",
   "id": "41dbc368",
   "metadata": {},
   "source": [
    "# 아래 코드에서 차이를 보면 x를 어디서 할당하느냐의 차이다. 간단하게 생각하면 어느 위치의 스택을 쓰느냐 이다 함수가 끝나면 스택도 사라지므로 안쪽의 스택을 사용하는 것이 좋다."
   ]
  },
  {
   "cell_type": "code",
   "execution_count": 78,
   "id": "5db5a1ef",
   "metadata": {},
   "outputs": [
    {
     "name": "stdout",
     "output_type": "stream",
     "text": [
      "10\n"
     ]
    }
   ],
   "source": [
    "def A():\n",
    "    x = 10 #이건 A가 끝나면 사라지고\n",
    "    def B():\n",
    "        x = 20 #해당 x는 B가 끝나면 사라진다. 그래서 20으로 안바뀐다.\n",
    "    B()\n",
    "    print(x)\n",
    "A()"
   ]
  },
  {
   "cell_type": "code",
   "execution_count": 77,
   "id": "f6f2f00b",
   "metadata": {},
   "outputs": [
    {
     "name": "stdout",
     "output_type": "stream",
     "text": [
      "20\n"
     ]
    }
   ],
   "source": [
    "def A():\n",
    "    x = 10\n",
    "    def B():\n",
    "        nonlocal x #새롭게 정의하는 x가 아니라 밖에 있는 함수에서 쓰는 함수다.\n",
    "        x = 20\n",
    "        \n",
    "    B()\n",
    "    print(x)\n",
    "A()"
   ]
  },
  {
   "cell_type": "markdown",
   "id": "c9417d3c",
   "metadata": {},
   "source": [
    "## nonlocal은 함수 바깥에서 가장 가까운 함수를 따온다"
   ]
  },
  {
   "cell_type": "markdown",
   "id": "8393754e",
   "metadata": {},
   "source": [
    "## golbal은 함수의 단계와 상관없이 맨 상위의 전역변수를 사용한다."
   ]
  },
  {
   "cell_type": "markdown",
   "id": "ae4d5c89",
   "metadata": {},
   "source": [
    "# 클로저 함수는 함수안의 반환값에 쓰이는 내부 함수로 외부함수에 정의된 변수들을 사용하여 동작을 실행"
   ]
  },
  {
   "cell_type": "markdown",
   "id": "d7a429b7",
   "metadata": {},
   "source": [
    "* 간단히 반환값 함수로 따로 호출하지 않고 반환할때만 쓰인다"
   ]
  },
  {
   "cell_type": "code",
   "execution_count": 86,
   "id": "2a8e19f0",
   "metadata": {},
   "outputs": [
    {
     "name": "stdout",
     "output_type": "stream",
     "text": [
      "2\n"
     ]
    }
   ],
   "source": [
    "def b():\n",
    "    c = 2\n",
    "    def a():\n",
    "        nonlocal c\n",
    "        print(c)\n",
    "    a()\n",
    "b() #지역함수의 특징인데 전역변수로 지정된 것은 nonlocal을 가져오지 못하고 함수 밖에 선언된 것이 없어도 nonlocal을 가져오지 못함"
   ]
  },
  {
   "cell_type": "code",
   "execution_count": 101,
   "id": "672d3b45",
   "metadata": {},
   "outputs": [
    {
     "name": "stdout",
     "output_type": "stream",
     "text": [
      "1 2 3 4 5 6 7 8 9 10 "
     ]
    }
   ],
   "source": [
    "def counter():\n",
    "    i = 0 #여기서 선언해서 i가 0으로만 남을 것 같지만 nonlocal이 더 우선 적용 되는 듯 초기화한 것이 무시되고 i+1된 값이 고정되는 듯\n",
    "    def count():\n",
    "        nonlocal i\n",
    "        i+=1\n",
    "        return(i) #이게 없으면 count호출할때 none만 나옴\n",
    "    return(count) #이게 없으면 count가 클로저로 사용이 안됨\n",
    "\n",
    "c = counter()\n",
    "for i in range(10):\n",
    "    print(c(), end = ' ')"
   ]
  },
  {
   "cell_type": "code",
   "execution_count": 106,
   "id": "2c54da57",
   "metadata": {},
   "outputs": [
    {
     "name": "stdout",
     "output_type": "stream",
     "text": [
      "20\n",
      "20 19 18 17 16 15 14 13 12 11 10 9 8 7 6 5 4 3 2 1 "
     ]
    }
   ],
   "source": [
    "def countdown(n):\n",
    "    i = -1\n",
    "    def count():\n",
    "        nonlocal i\n",
    "        i += 1\n",
    "        return(n-i)\n",
    "    return(count)\n",
    "n = int(input())\n",
    "\n",
    "c = countdown(n)\n",
    "for i in range(n):\n",
    "    print(c(), end=' ')"
   ]
  },
  {
   "cell_type": "code",
   "execution_count": 108,
   "id": "0d353e81",
   "metadata": {},
   "outputs": [
    {
     "name": "stdout",
     "output_type": "stream",
     "text": [
      "10\n",
      "9 8 7 6 5 4 3 2 1 0 "
     ]
    }
   ],
   "source": [
    "def countdown(n):\n",
    "    i = n + 1 #확실히 이거는 후순위에 있어서 nonlocal에서 누적되는 값이 더 선순위 인듯\n",
    "    def count():\n",
    "        nonlocal i\n",
    "        i -= 1\n",
    "        return(i)\n",
    "    return(count)\n",
    "n = int(input())\n",
    "\n",
    "c = countdown(n)\n",
    "for i in range(n):\n",
    "    print(c(), end=' ')"
   ]
  },
  {
   "cell_type": "code",
   "execution_count": 118,
   "id": "bd188393",
   "metadata": {},
   "outputs": [
    {
     "ename": "SyntaxError",
     "evalue": "unexpected EOF while parsing (<ipython-input-118-484d43931010>, line 3)",
     "output_type": "error",
     "traceback": [
      "\u001b[1;36m  File \u001b[1;32m\"<ipython-input-118-484d43931010>\"\u001b[1;36m, line \u001b[1;32m3\u001b[0m\n\u001b[1;33m    #코드\u001b[0m\n\u001b[1;37m       ^\u001b[0m\n\u001b[1;31mSyntaxError\u001b[0m\u001b[1;31m:\u001b[0m unexpected EOF while parsing\n"
     ]
    }
   ],
   "source": [
    "class 클래스이름:\n",
    "    def 메서드(self):\n",
    "        #코드"
   ]
  },
  {
   "cell_type": "code",
   "execution_count": 120,
   "id": "288d9ee5",
   "metadata": {},
   "outputs": [],
   "source": [
    "class person:\n",
    "    def greeting(self): #첫번째 매개변수는 무조건 self\n",
    "        print(\"hello\")"
   ]
  },
  {
   "cell_type": "code",
   "execution_count": 131,
   "id": "d9f5748e",
   "metadata": {},
   "outputs": [
    {
     "name": "stdout",
     "output_type": "stream",
     "text": [
      "hello\n"
     ]
    }
   ],
   "source": [
    "james = person()\n",
    "james.greeting()\n",
    "#인스턴스 = 클래스() 이런식으로 정의후\n",
    "#인스턴스.클래스내부의 메소드() 이런식으로 사용"
   ]
  },
  {
   "cell_type": "code",
   "execution_count": 133,
   "id": "d5ae63d4",
   "metadata": {},
   "outputs": [
    {
     "name": "stdout",
     "output_type": "stream",
     "text": [
      "안녕하세요.\n"
     ]
    }
   ],
   "source": [
    "class person:\n",
    "    def __init__(self): #이거는 클래스 호출시 자동 설정 스페셜메서드 통해 인스턴스(객체) 초기화를 해줌\n",
    "        self.hello = '안녕하세요.'\n",
    "    def greeting(self):\n",
    "        print(self.hello)\n",
    "james = person()\n",
    "james.greeting() #init은 main과 같이 무조건 사용되어지는 부분."
   ]
  },
  {
   "cell_type": "code",
   "execution_count": 144,
   "id": "e2eadfb5",
   "metadata": {},
   "outputs": [
    {
     "name": "stdout",
     "output_type": "stream",
     "text": [
      "안녕하세요, 저는 마리아입니다.\n",
      "마리아는 지갑에 7000원이 남았습니다.\n",
      "\n",
      "이름 : 마리아\n",
      "나이 : 20\n",
      "주소 : 서초구 반포동\n"
     ]
    }
   ],
   "source": [
    "class person:\n",
    "    def __init__(self, name, age, address, wallet): #self는 무조건 받아야하는 인자이며 추가적인 인자를 받아서 초기화 할 수 있다. 구조체 용도?\n",
    "        self.hello = '안녕하세요'\n",
    "        self.name = name\n",
    "        self.age = age\n",
    "        self.address = address\n",
    "        self.__wallet = wallet #비공개 속성은 __를 붙여야함 #오류가 나는데 갑 변경도 안되고 호출도 안된다\n",
    "         \n",
    "    def greeting(self):\n",
    "        print('{0}, 저는 {1}입니다.'.format(self.hello, self.name))\n",
    "        \n",
    "    def pay(self, amount):\n",
    "        self.__wallet -= amount\n",
    "        print('{}는 지갑에 {}원이 남았습니다.'.format(self.name, self.__wallet))\n",
    "\n",
    "maria = person('마리아', 20, '서초구 반포동', 10000)\n",
    "maria.greeting()\n",
    "maria.pay(3000)\n",
    "\n",
    "print('\\n이름 : {0}'.format(maria.name))\n",
    "print('나이 : {0}'.format(maria.age))\n",
    "print('주소 : {0}'.format(maria.address))\n",
    "#maria.__wallet -= 1000 #오류가 나는데 갑 변경도 안되고 호출도 안된다 하지만 클래스 안의 메소드에서는 사용 가능"
   ]
  },
  {
   "cell_type": "code",
   "execution_count": 147,
   "id": "440097cf",
   "metadata": {},
   "outputs": [
    {
     "name": "stdout",
     "output_type": "stream",
     "text": [
      "마리아는 지갑에 8000원이 남았습니다.\n"
     ]
    }
   ],
   "source": [
    "class person:\n",
    "    def __init__(self, name, age, address, wallet): #self는 무조건 받아야하는 인자이며 추가적인 인자를 받아서 초기화 할 수 있다. 구조체 용도?\n",
    "        self.hello = '안녕하세요'\n",
    "        self.name = name\n",
    "        self.age = age\n",
    "        self.address = address\n",
    "        self.__wallet = wallet #비공개 속성은 __를 붙여야함 #오류가 나는데 갑 변경도 안되고 호출도 안된다\n",
    "         \n",
    "    def greeting(self):\n",
    "        print('{0}, 저는 {1}입니다.'.format(self.hello, self.name))\n",
    "        \n",
    "    def pay(self, amount):\n",
    "        self.__wallet -= amount\n",
    "        if self.__wallet < amount:\n",
    "            print('돈이 모자라네..')\n",
    "            return\n",
    "        print('{}는 지갑에 {}원이 남았습니다.'.format(self.name, self.__wallet))\n",
    "\n",
    "\n",
    "maria = person('마리아', 20, '서초구 반포동', 10000)\n",
    "maria.pay(2000)\n"
   ]
  },
  {
   "cell_type": "code",
   "execution_count": 150,
   "id": "c44991cb",
   "metadata": {},
   "outputs": [
    {
     "name": "stdout",
     "output_type": "stream",
     "text": [
      "542.4 210.3 38\n",
      "베기\n"
     ]
    }
   ],
   "source": [
    "class knight:\n",
    "    def __init__(self, health, mana, armor):\n",
    "        self.health = health\n",
    "        self.mana = mana\n",
    "        self.armor = armor\n",
    "    def slash(self):\n",
    "        print(\"베기\")\n",
    "x = knight(health=542.4, mana=210.3, armor=38)\n",
    "print(x.health, x.mana, x.armor)\n",
    "x.slash()"
   ]
  },
  {
   "cell_type": "code",
   "execution_count": 155,
   "id": "128808c9",
   "metadata": {},
   "outputs": [
    {
     "name": "stdout",
     "output_type": "stream",
     "text": [
      "1 2 298\n",
      "티버: 피해량 593.7\n"
     ]
    }
   ],
   "source": [
    "class annie:\n",
    "    def __init__(self, health, mana, ability_power):\n",
    "        self.health = health\n",
    "        self.mana = mana\n",
    "        self.ability_power = ability_power\n",
    "    def tibbers(self):\n",
    "        print(\"티버: 피해량 {}\".format(self.ability_power * 0.65 + 400))\n",
    "health, mana, ability_power = map(float, input().split())\n",
    "\n",
    "x = annie(health=health, mana=mana, ability_power=ability_power)\n",
    "x.tibbers()"
   ]
  },
  {
   "cell_type": "code",
   "execution_count": 158,
   "id": "47cb4836",
   "metadata": {},
   "outputs": [
    {
     "name": "stdout",
     "output_type": "stream",
     "text": [
      "['책', '열쇠']\n",
      "['책', '열쇠']\n"
     ]
    }
   ],
   "source": [
    "# 이런식으로 되면 원하는 결과가 나오지 않는다.\n",
    "class Person:\n",
    "    bag = [] #클래스 속성은 공유되는 변수로 해당 person내의 지역변수이다. 클래스는 함수와 달리 호출 후 끝나는 객체가 아니라서 메모리를 계속 가지고 있다\n",
    "    \n",
    "    def put_bag(self, stuff):\n",
    "        #self.bag.append(stuff) 해당 코드도 돌아가지만 bag은 공용인 bag이므로 인스턴스가 아니라 person의 객체가 더 옳은 표현\n",
    "        Person.bag.append(stuff)\n",
    "        \n",
    "james = Person()\n",
    "james.put_bag('책')\n",
    "\n",
    "maria = Person()\n",
    "maria.put_bag('열쇠')\n",
    "\n",
    "print(james.bag) #클래스 내의 변수 호출 하지만 james의 가방과 maria의 가방은 Person 클래스 내에서 공유되고 있다.\n",
    "print(maria.bag)"
   ]
  },
  {
   "cell_type": "code",
   "execution_count": 159,
   "id": "d82110ac",
   "metadata": {},
   "outputs": [
    {
     "name": "stdout",
     "output_type": "stream",
     "text": [
      "['책', '열쇠']\n"
     ]
    }
   ],
   "source": [
    "print(Person.bag) #클래스 속성은 클래스.객체로 접근 가능"
   ]
  },
  {
   "cell_type": "code",
   "execution_count": 160,
   "id": "9e993e50",
   "metadata": {},
   "outputs": [
    {
     "name": "stdout",
     "output_type": "stream",
     "text": [
      "['책']\n",
      "['열쇠']\n"
     ]
    }
   ],
   "source": [
    "class Person:\n",
    "    def __init__(self):\n",
    "        self.bag = [] \n",
    "    def put_bag(self, stuff):\n",
    "        self.bag.append(stuff)\n",
    "\n",
    "        \n",
    "james = Person()\n",
    "james.put_bag('책')\n",
    "\n",
    "maria = Person()\n",
    "maria.put_bag('열쇠')\n",
    "\n",
    "print(james.bag) #바꾼 코드는 init으로 개인용 가방을 만든 것이다. 이로써 공유되던 가방이 각자에게로 주어지게 되었다\n",
    "print(maria.bag)"
   ]
  },
  {
   "cell_type": "code",
   "execution_count": 163,
   "id": "679d024a",
   "metadata": {},
   "outputs": [
    {
     "name": "stdout",
     "output_type": "stream",
     "text": [
      "10\n"
     ]
    },
    {
     "ename": "AttributeError",
     "evalue": "type object 'knight' has no attribute '__item_limit'",
     "output_type": "error",
     "traceback": [
      "\u001b[1;31m---------------------------------------------------------------------------\u001b[0m",
      "\u001b[1;31mAttributeError\u001b[0m                            Traceback (most recent call last)",
      "\u001b[1;32m<ipython-input-163-d8c54bcd7073>\u001b[0m in \u001b[0;36m<module>\u001b[1;34m\u001b[0m\n\u001b[0;32m      8\u001b[0m \u001b[0mx\u001b[0m\u001b[1;33m.\u001b[0m\u001b[0mprint_item_limit\u001b[0m\u001b[1;33m(\u001b[0m\u001b[1;33m)\u001b[0m    \u001b[1;31m# = 10이다\u001b[0m\u001b[1;33m\u001b[0m\u001b[1;33m\u001b[0m\u001b[0m\n\u001b[0;32m      9\u001b[0m \u001b[1;33m\u001b[0m\u001b[0m\n\u001b[1;32m---> 10\u001b[1;33m \u001b[0mprint\u001b[0m\u001b[1;33m(\u001b[0m\u001b[0mknight\u001b[0m\u001b[1;33m.\u001b[0m\u001b[0m__item_limit\u001b[0m\u001b[1;33m(\u001b[0m\u001b[1;33m)\u001b[0m\u001b[1;33m)\u001b[0m \u001b[1;31m#클래스 바깥에서는 접근할 수 없음\u001b[0m\u001b[1;33m\u001b[0m\u001b[1;33m\u001b[0m\u001b[0m\n\u001b[0m\u001b[0;32m     11\u001b[0m \u001b[1;31m#TypeError: print_item_limit() missing 1 required positional argument: 'self' ㅇ\u001b[0m\u001b[1;33m\u001b[0m\u001b[1;33m\u001b[0m\u001b[1;33m\u001b[0m\u001b[0m\n",
      "\u001b[1;31mAttributeError\u001b[0m: type object 'knight' has no attribute '__item_limit'"
     ]
    }
   ],
   "source": [
    "class knight:\n",
    "    __item_limit = 10 #비공개 속성\n",
    "    \n",
    "    def print_item_limit(self): \n",
    "        print(knight.__item_limit) #클래스 안에서'만' 접근할 수 있음 그리고 속성이다보니 knight로 받았다.\n",
    "        \n",
    "x = knight()\n",
    "x.print_item_limit()    # = 10이다\n",
    "\n",
    "print(knight.__item_limit()) #클래스 바깥에서는 접근할 수 없음\n",
    "#type object 'knight' has no attribute '__item_limit' 비공개라서 없다고 오류가 나온다"
   ]
  },
  {
   "cell_type": "markdown",
   "id": "279edec0",
   "metadata": {},
   "source": [
    "## 정적메서드"
   ]
  },
  {
   "cell_type": "code",
   "execution_count": 185,
   "id": "ba6d2fc4",
   "metadata": {},
   "outputs": [
    {
     "ename": "NameError",
     "evalue": "name 'el' is not defined",
     "output_type": "error",
     "traceback": [
      "\u001b[1;31m---------------------------------------------------------------------------\u001b[0m",
      "\u001b[1;31mNameError\u001b[0m                                 Traceback (most recent call last)",
      "\u001b[1;32m<ipython-input-185-4016489b8a90>\u001b[0m in \u001b[0;36m<module>\u001b[1;34m\u001b[0m\n\u001b[0;32m     10\u001b[0m         \u001b[1;32mreturn\u001b[0m \u001b[0ma\u001b[0m\u001b[1;33m*\u001b[0m\u001b[0mb\u001b[0m\u001b[1;33m\u001b[0m\u001b[1;33m\u001b[0m\u001b[0m\n\u001b[0;32m     11\u001b[0m \u001b[1;33m\u001b[0m\u001b[0m\n\u001b[1;32m---> 12\u001b[1;33m \u001b[0mCalc\u001b[0m\u001b[1;33m.\u001b[0m\u001b[0madd\u001b[0m\u001b[1;33m(\u001b[0m\u001b[1;36m10\u001b[0m\u001b[1;33m,\u001b[0m \u001b[1;36m20\u001b[0m\u001b[1;33m)\u001b[0m\u001b[1;33m\u001b[0m\u001b[1;33m\u001b[0m\u001b[0m\n\u001b[0m\u001b[0;32m     13\u001b[0m \u001b[0mCalc\u001b[0m\u001b[1;33m.\u001b[0m\u001b[0mmul\u001b[0m\u001b[1;33m(\u001b[0m\u001b[1;36m10\u001b[0m\u001b[1;33m,\u001b[0m \u001b[1;36m20\u001b[0m\u001b[1;33m)\u001b[0m\u001b[1;33m\u001b[0m\u001b[1;33m\u001b[0m\u001b[0m\n",
      "\u001b[1;32m<ipython-input-185-4016489b8a90>\u001b[0m in \u001b[0;36madd\u001b[1;34m(a, b)\u001b[0m\n\u001b[0;32m      4\u001b[0m     \u001b[1;33m@\u001b[0m\u001b[0mstaticmethod\u001b[0m\u001b[1;33m\u001b[0m\u001b[1;33m\u001b[0m\u001b[0m\n\u001b[0;32m      5\u001b[0m     \u001b[1;32mdef\u001b[0m \u001b[0madd\u001b[0m\u001b[1;33m(\u001b[0m\u001b[0ma\u001b[0m\u001b[1;33m,\u001b[0m \u001b[0mb\u001b[0m\u001b[1;33m)\u001b[0m\u001b[1;33m:\u001b[0m\u001b[1;33m\u001b[0m\u001b[1;33m\u001b[0m\u001b[0m\n\u001b[1;32m----> 6\u001b[1;33m         \u001b[1;32mreturn\u001b[0m \u001b[0ma\u001b[0m \u001b[1;33m+\u001b[0m \u001b[0mb\u001b[0m \u001b[1;33m+\u001b[0m \u001b[0mel\u001b[0m\u001b[1;33m\u001b[0m\u001b[1;33m\u001b[0m\u001b[0m\n\u001b[0m\u001b[0;32m      7\u001b[0m \u001b[1;33m\u001b[0m\u001b[0m\n\u001b[0;32m      8\u001b[0m     \u001b[1;33m@\u001b[0m\u001b[0mstaticmethod\u001b[0m\u001b[1;33m\u001b[0m\u001b[1;33m\u001b[0m\u001b[0m\n",
      "\u001b[1;31mNameError\u001b[0m: name 'el' is not defined"
     ]
    }
   ],
   "source": [
    "#self가 없다. 기본 함수와 동일한 특성.\n",
    "class Calc:\n",
    "    el = 20\n",
    "    @staticmethod\n",
    "    def add(a, b):\n",
    "        return a + b\n",
    "    \n",
    "    @staticmethod\n",
    "    def mul(a, b):\n",
    "        return a*b\n",
    "\n",
    "Calc.add(10, 20)\n",
    "Calc.mul(10, 20)"
   ]
  },
  {
   "cell_type": "markdown",
   "id": "008cda1c",
   "metadata": {},
   "source": [
    "## 클래스 메서드"
   ]
  },
  {
   "cell_type": "code",
   "execution_count": 167,
   "id": "6a224a9d",
   "metadata": {},
   "outputs": [],
   "source": [
    "#init과 비슷하게 클래스를 인스턴스로 받을때 바로 클래스 속성에 접근한다. \n",
    "#정적 메서드와 다른 점은 클래스 속성이나 클래스 메서드에 접근할때 사용한다."
   ]
  },
  {
   "cell_type": "code",
   "execution_count": 168,
   "id": "8d4d4072",
   "metadata": {},
   "outputs": [
    {
     "name": "stdout",
     "output_type": "stream",
     "text": [
      "2명이 생성되었습니다.\n"
     ]
    }
   ],
   "source": [
    "class Person:\n",
    "    count = 0 #속성 생성\n",
    "    \n",
    "    def __init__(self):\n",
    "        Person.count += 1 #인스턴스가 만들어질 때 클래스 속성 count에 1을 더함\n",
    "        \n",
    "    @classmethod\n",
    "    def print_count(cls): #cls안쓰면 오류 self와 같음\n",
    "        print('{0}명이 생성되었습니다.'.format(cls.count)) #cls 클래스 속성에 접근\n",
    "        \n",
    "james = Person()\n",
    "maria = Person()\n",
    "\n",
    "Person.print_count() #2명이 생성되었습니다."
   ]
  },
  {
   "cell_type": "markdown",
   "id": "5df27ebc",
   "metadata": {},
   "source": [
    "# 속성에 접근할때는 클래스명.속성명 으로 접근하는게 옳다. 다시 한 번 강조 !"
   ]
  },
  {
   "cell_type": "markdown",
   "id": "38a1fa4e",
   "metadata": {},
   "source": [
    "## 클래스 메서드는 그자체로 속성에 접근하기에 인스턴스없이 접근할 수 있다!"
   ]
  },
  {
   "cell_type": "code",
   "execution_count": 184,
   "id": "895161ea",
   "metadata": {},
   "outputs": [
    {
     "name": "stdout",
     "output_type": "stream",
     "text": [
      "2000\n",
      "올바른 날짜 형식입니다.\n"
     ]
    }
   ],
   "source": [
    "class Date:\n",
    "    @classmethod\n",
    "    def is_date_valid(cls, arr):\n",
    "        arr = arr.split('-')\n",
    "        if len(arr[0]) != 4 and (arr[1] < 1 or arr[1] > 12) and (arr[2] > 31 or arr[2] < 1):\n",
    "            return 0\n",
    "        return 1\n",
    "if Date.is_date_valid('2000-10-31'):\n",
    "    print('올바른 날짜 형식입니다.')\n",
    "else:\n",
    "    print('잘못된 날짜 형식입니다.')"
   ]
  },
  {
   "cell_type": "code",
   "execution_count": null,
   "id": "191c847c",
   "metadata": {},
   "outputs": [],
   "source": [
    " # 참고 (instance method bs static method)"
   ]
  },
  {
   "cell_type": "code",
   "execution_count": null,
   "id": "91d7a7f6",
   "metadata": {},
   "outputs": [],
   "source": [
    "a = {1, 2, 3}"
   ]
  },
  {
   "cell_type": "code",
   "execution_count": 190,
   "id": "186bdb9e",
   "metadata": {},
   "outputs": [
    {
     "name": "stdout",
     "output_type": "stream",
     "text": [
      "잘못된 날짜 형식입니다.\n"
     ]
    }
   ],
   "source": [
    "class Date:\n",
    "    date = []\n",
    "    month31day = [1,3,5,7,8,10,12]\n",
    "    month30day = [4,6,9,11]\n",
    "    \n",
    "    @classmethod\n",
    "    def is_data_valid(cls, date):\n",
    "        cls.date = list(map(int, date.split('-')))\n",
    "        if cls.date[1] == 2 and cls.date[0] % 4 == 0 and 1 <= cls.date[2] <= 29:\n",
    "            return True\n",
    "        elif cls.date[1] == 2 and 1 <= cls.date[2] <= 28:\n",
    "            return True\n",
    "        elif cls.date[1] in cls.month31day and 1 <= cls.date[2] <= 31:\n",
    "            return True\n",
    "        elif cls.date[1] in cls.month30day and 1 <= cls.date[2] <= 30:\n",
    "            return True\n",
    "\n",
    "        else:\n",
    "            return False\n",
    "\n",
    "if Date.is_data_valid('2001-2-29'):\n",
    "    print(\"올바른 날짜 형식입니다.\")\n",
    "else:\n",
    "    print(\"잘못된 날짜 형식입니다.\")"
   ]
  },
  {
   "cell_type": "code",
   "execution_count": 199,
   "id": "258e9c4c",
   "metadata": {},
   "outputs": [
    {
     "name": "stdout",
     "output_type": "stream",
     "text": [
      "10:20:30\n",
      "10 20 30\n"
     ]
    }
   ],
   "source": [
    "class time:\n",
    "    def __init__(self, hour, minute, second):\n",
    "        self.hour = hour\n",
    "        self.minute = minute\n",
    "        self.second = second\n",
    "    @staticmethod \n",
    "    def is_time_valid(tm): #옳은 형식인지 파악.\n",
    "        tm = tm.split(':')\n",
    "        if 0 <= int(tm[0]) <= 24 and 0 <= int(tm[1]) <= 59 and 0 <= int(tm[2]) <= 60:\n",
    "            return (True)\n",
    "        return (False)\n",
    "    @staticmethod\n",
    "    def from_string(tm): #옳은 형식이라면 if문 안에 들어와서 split 으로 나누고 \n",
    "        tm = tm.split(':')\n",
    "        return time(tm[0], tm[1], tm[2]) #나눈 것을 다시 time에 넣어서 init값 초기화\n",
    "\n",
    "            \n",
    "time_string = input()\n",
    "\n",
    "if time.is_time_valid(time_string):\n",
    "    t = time.from_string(time_string)\n",
    "    print(t.hour, t.minute, t.second)\n",
    "else:\n",
    "    print('잘못된 시간 형식입니다.')"
   ]
  },
  {
   "cell_type": "code",
   "execution_count": 207,
   "id": "53298c1e",
   "metadata": {},
   "outputs": [
    {
     "name": "stdout",
     "output_type": "stream",
     "text": [
      "30:30:30\n",
      "잘못된 시간 형식입니다.\n"
     ]
    }
   ],
   "source": [
    "class time:\n",
    "    def __init__(self, hour, minute, second):\n",
    "        self.hour = hour\n",
    "        self.minute = minute\n",
    "        self.second = second\n",
    "    def is_time_valid(self, tm): #옳은 형식인지 파악.\n",
    "        self.tm = tm.split(':')\n",
    "        if 0 <= int(self.tm[0]) <= 24 and 0 <= int(self.tm[1]) <= 59 and 0 <= int(self.tm[2]) <= 60:\n",
    "            return (True)\n",
    "        return (False)\n",
    "    def from_string(self, tm): #옳은 형식이라면 if문 안에 들어와서 split 으로 나누고 \n",
    "        self.tm = tm.split(':')\n",
    "        return time(self.tm[0], self.tm[1], self.tm[2]) #나눈 것을 다시 time에 넣어서 init값 초기화\n",
    "\n",
    "            \n",
    "time_string = input()\n",
    "ts = time(10, 20, 30)\n",
    "if ts.is_time_valid(time_string):\n",
    "    t = ts.from_string(time_string)\n",
    "    print(t.hour, t.minute, t.second)\n",
    "else:\n",
    "    print('잘못된 시간 형식입니다.')"
   ]
  },
  {
   "cell_type": "code",
   "execution_count": 203,
   "id": "46d68203",
   "metadata": {},
   "outputs": [
    {
     "name": "stdout",
     "output_type": "stream",
     "text": [
      "안녕하세요!\n",
      "학생입니다.\n"
     ]
    }
   ],
   "source": [
    "class person:\n",
    "    def greeting(self):\n",
    "        print('안녕하세요!')\n",
    "class student(person): #상속받을때만 파라미터 받기.\n",
    "    def study(self):\n",
    "        print(\"학생입니다.\")\n",
    "james = student()\n",
    "james.greeting() #상속받으면 부모 클래스의 기능을 그대로 쓸 수 있고 자기 자신도 사용 가능\n",
    "james.study()"
   ]
  },
  {
   "cell_type": "markdown",
   "id": "6b9aa351",
   "metadata": {},
   "source": [
    "# 상속받으려면 init이 없어야함!"
   ]
  },
  {
   "cell_type": "code",
   "execution_count": 219,
   "id": "3f570aee",
   "metadata": {},
   "outputs": [
    {
     "ename": "SyntaxError",
     "evalue": "invalid syntax (<ipython-input-219-a0140500693b>, line 2)",
     "output_type": "error",
     "traceback": [
      "\u001b[1;36m  File \u001b[1;32m\"<ipython-input-219-a0140500693b>\"\u001b[1;36m, line \u001b[1;32m2\u001b[0m\n\u001b[1;33m    super().__init__()을 하면 된다.\u001b[0m\n\u001b[1;37m                      ^\u001b[0m\n\u001b[1;31mSyntaxError\u001b[0m\u001b[1;31m:\u001b[0m invalid syntax\n"
     ]
    }
   ],
   "source": [
    "#하지만 이니셜라이즈 하고도 상속 받는 법이 있다.\n",
    "super().__init__()을 하면 된다."
   ]
  },
  {
   "cell_type": "code",
   "execution_count": 213,
   "id": "995e494b",
   "metadata": {},
   "outputs": [
    {
     "name": "stdout",
     "output_type": "stream",
     "text": [
      "person__init__\n"
     ]
    },
    {
     "data": {
      "text/plain": [
       "'안녕하세요'"
      ]
     },
     "execution_count": 213,
     "metadata": {},
     "output_type": "execute_result"
    }
   ],
   "source": [
    "class person:\n",
    "    def __init__(self):\n",
    "        print('person__init__')\n",
    "        self.hello = '안녕하세요'\n",
    "        \n",
    "class student(person):\n",
    "    pass\n",
    "\n",
    "james = student() #인스턴스 만들어주고\n",
    "james.hello       #부모 속성 기능 사용하기\n",
    "#해당 코드가 가능한 이유는 init이 없어서 디폴트 값으로 부모의 init을 받아왔기 때문."
   ]
  },
  {
   "cell_type": "code",
   "execution_count": 215,
   "id": "c153da1b",
   "metadata": {},
   "outputs": [
    {
     "name": "stdout",
     "output_type": "stream",
     "text": [
      "안녕하세요\n",
      "학점관리\n",
      "공부하기\n"
     ]
    }
   ],
   "source": [
    "class Person:\n",
    "    def greeting(self):\n",
    "        print('안녕하세요')\n",
    "        \n",
    "class University:\n",
    "    def manage_credit(self):\n",
    "        print('학점관리')\n",
    "        \n",
    "class Undergraduate(Person, University):\n",
    "    def study(self):\n",
    "        print('공부하기')\n",
    "        \n",
    "james = Undergraduate()\n",
    "james.greeting() #함수 건드릴때는 꼭 ()붙이기\n",
    "james.manage_credit()\n",
    "james.study()"
   ]
  },
  {
   "cell_type": "code",
   "execution_count": 216,
   "id": "e7dffae5",
   "metadata": {},
   "outputs": [],
   "source": [
    "#추상 클래스"
   ]
  },
  {
   "cell_type": "code",
   "execution_count": 218,
   "id": "a63d0473",
   "metadata": {},
   "outputs": [
    {
     "name": "stdout",
     "output_type": "stream",
     "text": [
      "공부하기\n",
      "학교가기\n"
     ]
    }
   ],
   "source": [
    "from abc import *\n",
    "\n",
    "class StudentBase(metaclass=ABCMeta): #이거는 호출해도 아무것도 못해서 인스턴스로 만들지도 못함\n",
    "    @abstractmethod #추상 클래스를 사용하면 자식클래스는 이게 붙은 모든 함수를 대신해서 구현해야함\n",
    "    def study(self):\n",
    "        pass\n",
    "    @abstractmethod\n",
    "    def go_to_school(self):\n",
    "        pass\n",
    "\n",
    "class Student(StudentBase):\n",
    "    def study(self):\n",
    "        print('공부하기')\n",
    "    def go_to_school(self): #이처럼 모두 구현해야함\n",
    "        print('학교가기')\n",
    "\n",
    "james = Student() #그렇지 않다면 만들때 에러 생긴다 파생클래스로 인스턴스를 만들때\n",
    "james.study()\n",
    "james.go_to_school()"
   ]
  },
  {
   "cell_type": "markdown",
   "id": "f5173286",
   "metadata": {},
   "source": [
    "## 메서드 오버라이딩 기반 클래스의 메서드를 활용할때 자식클래스에서 같은 이름으로 사용하는데 유사한 기능을 가질 때 주로 사용한다."
   ]
  },
  {
   "cell_type": "code",
   "execution_count": 243,
   "id": "d47a4a90",
   "metadata": {},
   "outputs": [
    {
     "name": "stdout",
     "output_type": "stream",
     "text": [
      "[100, 2, 3, 100, 2, 3, 100, 2, 3]\n"
     ]
    }
   ],
   "source": [
    "class AdvancedList(list):\n",
    "    ls = []\n",
    "    def __init__(self, ss):\n",
    "        self.ss = ss\n",
    "    def replace(self, a, z):\n",
    "        for i in self.ss:\n",
    "            if i == a:\n",
    "                self.ls.append(z)\n",
    "            else:\n",
    "                self.ls.append(i)\n",
    "x = AdvancedList([1, 2, 3, 1, 2, 3, 1, 2, 3])\n",
    "x.replace(1, 100)\n",
    "print(x)"
   ]
  },
  {
   "cell_type": "code",
   "execution_count": 250,
   "id": "6ee23b6b",
   "metadata": {},
   "outputs": [
    {
     "name": "stdout",
     "output_type": "stream",
     "text": [
      "140714910102416\n",
      "140714910102416\n",
      "140714910102416\n",
      "[100, 2, 3, 100, 2, 3, 100, 2, 3]\n",
      "140714910102416\n"
     ]
    }
   ],
   "source": [
    "class AdvancedList(list):\n",
    "    def replace(self, a, z):\n",
    "        while a in self: #if가 숨겨져 있는 것임\n",
    "            idx = self.index(a)\n",
    "            self[idx] = z\n",
    "            print(id(self[idx]))\n",
    "\n",
    "x = AdvancedList([1, 2, 3, 1, 2, 3, 1, 2, 3])\n",
    "x.replace(1, 100)\n",
    "print(x)\n",
    "print(id(x[0]))"
   ]
  },
  {
   "cell_type": "code",
   "execution_count": 246,
   "id": "348338aa",
   "metadata": {},
   "outputs": [
    {
     "name": "stdout",
     "output_type": "stream",
     "text": [
      "[100, 2, 3, 100, 2, 3, 100, 2, 3]\n"
     ]
    }
   ],
   "source": [
    "#강진님 코드\n",
    "class AdvancedList(list):\n",
    "    \n",
    "    def __init__(self, l):\n",
    "        self.l = l\n",
    "    \n",
    "    def replace(self, a, b):\n",
    "        for i in range(len(self.l)):\n",
    "            if self.l[i] == a:\n",
    "                self.l[i] = b\n",
    "        return self.l\n",
    "     \n",
    "    def __str__(self):\n",
    "        return str(self.l)\n",
    "\n",
    "x = AdvancedList([1,2,3,1,2,3,1,2,3])\n",
    "x.replace(1, 100)\n",
    "print(x)\n"
   ]
  },
  {
   "cell_type": "code",
   "execution_count": 255,
   "id": "3d9e4902",
   "metadata": {},
   "outputs": [
    {
     "name": "stdout",
     "output_type": "stream",
     "text": [
      "1731203851456\n",
      "1731212075552\n"
     ]
    }
   ],
   "source": [
    "class AdvancedList(list):\n",
    "    def replace(self,b,a):\n",
    "        self=[i if i!=b else a  for i in self]\n",
    "        print(id(self))\n",
    "x=AdvancedList([1,2,3,1,2,3,1,2,3])\n",
    "x.replace(1,100)\n",
    "print(id(x))"
   ]
  },
  {
   "cell_type": "markdown",
   "id": "fb67deb5",
   "metadata": {},
   "source": []
  },
  {
   "cell_type": "markdown",
   "id": "e4f560a1",
   "metadata": {},
   "source": [
    "# try except"
   ]
  },
  {
   "cell_type": "code",
   "execution_count": 260,
   "id": "411f4ad4",
   "metadata": {},
   "outputs": [
    {
     "name": "stdout",
     "output_type": "stream",
     "text": [
      "나눌 숫자를 입력하세요9\n",
      "1.1111111111111112\n"
     ]
    }
   ],
   "source": [
    "try: #실행한다.\n",
    "    x = int(input('나눌 숫자를 입력하세요'))\n",
    "    y = 10 / x #예외가 발생하면 발생한 순서에서 코드 중단하고 아래 코드 버리고 except로 간다\n",
    "    print(y)\n",
    "except: #예외상황\n",
    "    print('예외가 발생했습니다.')"
   ]
  },
  {
   "cell_type": "code",
   "execution_count": 261,
   "id": "71fa9491",
   "metadata": {},
   "outputs": [
    {
     "ename": "SyntaxError",
     "evalue": "invalid syntax (<ipython-input-261-e967ffdbfb68>, line 2)",
     "output_type": "error",
     "traceback": [
      "\u001b[1;36m  File \u001b[1;32m\"<ipython-input-261-e967ffdbfb68>\"\u001b[1;36m, line \u001b[1;32m2\u001b[0m\n\u001b[1;33m    실행할 코드\u001b[0m\n\u001b[1;37m        ^\u001b[0m\n\u001b[1;31mSyntaxError\u001b[0m\u001b[1;31m:\u001b[0m invalid syntax\n"
     ]
    }
   ],
   "source": [
    "try:\n",
    "    실행할 코드\n",
    "except:\n",
    "    예외가 발생했을 때 처리하는 코드"
   ]
  },
  {
   "cell_type": "code",
   "execution_count": 270,
   "id": "d4060a08",
   "metadata": {},
   "outputs": [
    {
     "name": "stdout",
     "output_type": "stream",
     "text": [
      "인덱스와 나눌 숫자를 입력하세요: 3 0\n",
      "잘못된 인덱스입니다\n"
     ]
    }
   ],
   "source": [
    "y = [10, 20, 30]\n",
    "\n",
    "try:\n",
    "    index, x = map(int, input('인덱스와 나눌 숫자를 입력하세요: ').split())\n",
    "    print(y[index] / x)\n",
    "except ZeroDivisionError:\n",
    "    print('숫자를 0으로 나눌 수 없습니다') #에러메세지 대신 출력 except 뒤의 문자열은 정해져있는 error메세지중 선택.\n",
    "except IndexError:\n",
    "    print('잘못된 인덱스입니다')"
   ]
  },
  {
   "cell_type": "code",
   "execution_count": 271,
   "id": "55a17515",
   "metadata": {},
   "outputs": [
    {
     "ename": "SyntaxError",
     "evalue": "invalid syntax (<ipython-input-271-668415acf0cc>, line 2)",
     "output_type": "error",
     "traceback": [
      "\u001b[1;36m  File \u001b[1;32m\"<ipython-input-271-668415acf0cc>\"\u001b[1;36m, line \u001b[1;32m2\u001b[0m\n\u001b[1;33m    실행할 코드\u001b[0m\n\u001b[1;37m        ^\u001b[0m\n\u001b[1;31mSyntaxError\u001b[0m\u001b[1;31m:\u001b[0m invalid syntax\n"
     ]
    }
   ],
   "source": [
    "try:\n",
    "    실행할 코드\n",
    "except 예외 as e: #e는 예외명인데 as e로 고정되어 있다.\n",
    "    예외가 발생했을 때 처리하는 코드"
   ]
  },
  {
   "cell_type": "code",
   "execution_count": 275,
   "id": "17cc2231",
   "metadata": {},
   "outputs": [
    {
     "name": "stdout",
     "output_type": "stream",
     "text": [
      "인덱스와 나눌 숫자를 입력하세요: 10 0\n",
      "잘못된 인덱스입니다 list index out of range\n"
     ]
    }
   ],
   "source": [
    "y = [10, 20, 30]\n",
    "\n",
    "try:\n",
    "    index, x = map(int, input('인덱스와 나눌 숫자를 입력하세요: ').split())\n",
    "    print(y[index] / x)\n",
    "except ZeroDivisionError as e:\n",
    "    print('숫자를 0으로 나눌 수 없습니다.', e) #에러메세지 대신 출력 except 뒤의 문자열은 정해져있는 error메세지중 선택.\n",
    "except IndexError as e:\n",
    "    print('잘못된 인덱스입니다.', e)    \n",
    "# 예외에도 우선순위가 있다."
   ]
  },
  {
   "cell_type": "code",
   "execution_count": 276,
   "id": "594b9144",
   "metadata": {},
   "outputs": [
    {
     "ename": "SyntaxError",
     "evalue": "invalid syntax (<ipython-input-276-bc559772826d>, line 2)",
     "output_type": "error",
     "traceback": [
      "\u001b[1;36m  File \u001b[1;32m\"<ipython-input-276-bc559772826d>\"\u001b[1;36m, line \u001b[1;32m2\u001b[0m\n\u001b[1;33m    실행할 코드\u001b[0m\n\u001b[1;37m        ^\u001b[0m\n\u001b[1;31mSyntaxError\u001b[0m\u001b[1;31m:\u001b[0m invalid syntax\n"
     ]
    }
   ],
   "source": [
    "try:\n",
    "    실행할 코드\n",
    "except:\n",
    "    예외가 발생했을 때 처리하는 코드\n",
    "else:\n",
    "    예외가 발생하지 않았을 때 처리하는 코드"
   ]
  },
  {
   "cell_type": "code",
   "execution_count": 279,
   "id": "0e41c179",
   "metadata": {},
   "outputs": [
    {
     "name": "stdout",
     "output_type": "stream",
     "text": [
      "인덱스와 나눌 숫자를 입력하세요: 0\n",
      "숫자를 0으로 나눌 수 없습니다. division by zero\n"
     ]
    }
   ],
   "source": [
    "y = [10, 20, 30]\n",
    "\n",
    "try:\n",
    "    x = int(input('인덱스와 나눌 숫자를 입력하세요: '))\n",
    "    y = 10 / x\n",
    "except ZeroDivisionError as e:\n",
    "    print('숫자를 0으로 나눌 수 없습니다.', e) #에러메세지 대신 출력 except 뒤의 문자열은 정해져있는 error메세지중 선택.\n",
    "except IndexError as e:\n",
    "    print('잘못된 인덱스입니다.', e)    \n",
    "# 예외에도 우선순위가 있다.\n",
    "else:\n",
    "    print(y)"
   ]
  },
  {
   "cell_type": "code",
   "execution_count": null,
   "id": "1a0f57e4",
   "metadata": {},
   "outputs": [],
   "source": [
    "try:\n",
    "    실행할 코드\n",
    "except:\n",
    "    예외가 발생했을 때 처리하는 코드\n",
    "else:\n",
    "    예외가 발생하지 않았을 때 처리하는 코드\n",
    "finally:\n",
    "    예외 발생 여부와 상관없이 학상 실행할 코드"
   ]
  },
  {
   "cell_type": "code",
   "execution_count": 281,
   "id": "b0e2cc58",
   "metadata": {},
   "outputs": [
    {
     "name": "stdout",
     "output_type": "stream",
     "text": [
      "인덱스와 나눌 숫자를 입력하세요: 0\n",
      "숫자를 0으로 나눌 수 없습니다. division by zero\n",
      "실행되었습니다\n"
     ]
    }
   ],
   "source": [
    "y = [10, 20, 30]\n",
    "\n",
    "try:\n",
    "    x = int(input('인덱스와 나눌 숫자를 입력하세요: '))\n",
    "    y = 10 / x\n",
    "except ZeroDivisionError as e:\n",
    "    print('숫자를 0으로 나눌 수 없습니다.', e) #에러메세지 대신 출력 except 뒤의 문자열은 정해져있는 error메세지중 선택.\n",
    "except IndexError as e:\n",
    "    print('잘못된 인덱스입니다.', e)    \n",
    "# 예외에도 우선순위가 있다.\n",
    "else:\n",
    "    print(y)\n",
    "finally:\n",
    "    print('코드 실행이 끝났습니다.')"
   ]
  },
  {
   "cell_type": "markdown",
   "id": "95ad2075",
   "metadata": {},
   "source": [
    "예외 발생시키기\n",
    "raise 예외('예외메세지')"
   ]
  },
  {
   "cell_type": "code",
   "execution_count": null,
   "id": "2176bb64",
   "metadata": {},
   "outputs": [],
   "source": []
  }
 ],
 "metadata": {
  "kernelspec": {
   "display_name": "Python 3",
   "language": "python",
   "name": "python3"
  },
  "language_info": {
   "codemirror_mode": {
    "name": "ipython",
    "version": 3
   },
   "file_extension": ".py",
   "mimetype": "text/x-python",
   "name": "python",
   "nbconvert_exporter": "python",
   "pygments_lexer": "ipython3",
   "version": "3.8.8"
  }
 },
 "nbformat": 4,
 "nbformat_minor": 5
}
