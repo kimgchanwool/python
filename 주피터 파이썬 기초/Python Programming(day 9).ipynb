{
 "cells": [
  {
   "cell_type": "code",
   "execution_count": null,
   "id": "f14454fe",
   "metadata": {},
   "outputs": [],
   "source": [
    "* 시뮬레이션 - 상하좌우"
   ]
  },
  {
   "cell_type": "code",
   "execution_count": 1,
   "id": "fd9042c7",
   "metadata": {},
   "outputs": [
    {
     "name": "stdout",
     "output_type": "stream",
     "text": [
      "5\n",
      "R R R U D D\n",
      "3 4\n"
     ]
    }
   ],
   "source": [
    "n = int(input())\n",
    "plan = input().split()\n",
    "\n",
    "# R, U, L, D\n",
    "dx = [0, -1, 0, 1]\n",
    "dy = [1, 0 ,-1, 0]\n",
    "\n",
    "x , y = 1,1\n",
    "\n",
    "for i in plan:\n",
    "    if i =='R':\n",
    "        nx = x + dx[0]\n",
    "        ny = y + dy[0]\n",
    "    elif i =='U':\n",
    "        nx = x +dx[1]\n",
    "        ny = y + dy[1]\n",
    "    elif i == 'L':\n",
    "        nx = x + dx[2]\n",
    "        ny = y + dy[2]\n",
    "    elif i == 'D':\n",
    "        nx = x + dx[3]\n",
    "        ny = y + dy[3]\n",
    "    if 1<=nx<=n and 1<=ny<=n:\n",
    "        x = nx\n",
    "        y = ny\n",
    "\n",
    "print(x, y)\n"
   ]
  },
  {
   "cell_type": "code",
   "execution_count": 2,
   "id": "9f2693be",
   "metadata": {},
   "outputs": [
    {
     "name": "stdout",
     "output_type": "stream",
     "text": [
      "5\n",
      "R R R U D D\n",
      "3 4\n"
     ]
    }
   ],
   "source": [
    "n = int(input())\n",
    "plan = input().split()\n",
    "\n",
    "r = c = 1\n",
    "\n",
    "d = {'R': (0, 1), 'U': (-1, 0), 'L': (0, -1), 'D': (1,0)}\n",
    "\n",
    "for p in plan:\n",
    "    nr = r + d[p][0]\n",
    "    nc = c + d[p][1]\n",
    "\n",
    "    if 1 <= nr <= n and 1 <= nc <= n:\n",
    "        r = nr\n",
    "        c = nc\n",
    "\n",
    "print(r, c)\n"
   ]
  },
  {
   "cell_type": "code",
   "execution_count": 3,
   "id": "5f0f81b5",
   "metadata": {},
   "outputs": [
    {
     "name": "stdout",
     "output_type": "stream",
     "text": [
      "5\n",
      "R R R U D D\n",
      "3 4\n"
     ]
    }
   ],
   "source": [
    "dx = [0, 0, -1, 1]\n",
    "dy = [-1, 1, 0, 0]\n",
    "sx = 1\n",
    "sy = 1\n",
    "\n",
    "N = int(input())\n",
    "move = input().split()\n",
    "\n",
    "for i in range(len(move)):\n",
    "    if move[i] == 'L': move[i] = 0\n",
    "    elif move[i] == 'R': move[i] = 1\n",
    "    elif move[i] == 'U': move[i] = 2\n",
    "    else: move[i] = 3\n",
    "        \n",
    "for i in range(len(move)):\n",
    "    if 1 <= sx + dx[move[i]] <= N and 1 <= sy + dy[move[i]] <= N:\n",
    "        sx += dx[move[i]]\n",
    "        sy += dy[move[i]]\n",
    "print(sx, sy)\n"
   ]
  },
  {
   "cell_type": "code",
   "execution_count": 4,
   "id": "d329c562",
   "metadata": {},
   "outputs": [
    {
     "name": "stdout",
     "output_type": "stream",
     "text": [
      "5\n",
      "R R R U D D\n",
      "[3, 4]\n"
     ]
    }
   ],
   "source": [
    "import copy\n",
    "\n",
    "Map = int(input())\n",
    "go = input().split()\n",
    "r, u, d, l = [0, 1], [-1, 0], [1, 0], [1, 0]\n",
    "location = [1, 1]\n",
    "for i in go:\n",
    "    l_t = [i for i in location]\n",
    "    if i == 'R':\n",
    "        location = [location[j] + r[j] for j in range(2)]\n",
    "    elif i == 'U':\n",
    "        location = [location[j] + u[j] for j in range(2)]\n",
    "    elif i == 'D':\n",
    "        location = [location[j] + d[j] for j in range(2)]\n",
    "    elif i == 'L':\n",
    "        location = [location[j] + l[j] for j in range(2)]\n",
    "    else:\n",
    "        break\n",
    "        \n",
    "    if (location[0] == 0 or location[1] == 0 or location[0] == Map + 1or location[1] == Map + 1):\n",
    "        location = [i for i in l_t]\n",
    "        \n",
    "print(location)\n"
   ]
  },
  {
   "cell_type": "markdown",
   "id": "51a99f4b",
   "metadata": {},
   "source": [
    "* 문자열 재정렬"
   ]
  },
  {
   "cell_type": "code",
   "execution_count": null,
   "id": "1c58c37f",
   "metadata": {},
   "outputs": [],
   "source": [
    "inp = input()\n",
    "strings = []\n",
    "num = 0\n",
    "\n",
    "for i in inp:\n",
    "    if 48 <= ord(i) <= 57:\n",
    "        num+=int(i)\n",
    "    else:\n",
    "        strings.append(i)\n",
    "strings.sort()\n",
    "if num != 0:\n",
    "    strings.append(str(num))\n",
    "o_p = \"\".join(strings)\n",
    "print(a)\n"
   ]
  },
  {
   "cell_type": "code",
   "execution_count": null,
   "id": "2ee8a85d",
   "metadata": {},
   "outputs": [],
   "source": [
    "s = list(input())\n",
    "nums = [str(i) for i in range(1, 11)]\n",
    "s_s = []\n",
    "s_num = []\n",
    "for i in range(len(s)):\n",
    "    if s[i] in nums:\n",
    "        s_num.append(int(s[i]))\n",
    "    else:\n",
    "        s_s.append(s[i])\n",
    "s_s.sort()\n",
    "sm = sum(s_num)\n",
    "result = ''\n",
    "for i in s_s:\n",
    "    result += i\n",
    "\n",
    "result += str(sm)\n",
    "print(result)\n"
   ]
  },
  {
   "cell_type": "markdown",
   "id": "3e0ae462",
   "metadata": {},
   "source": [
    "* 두 배열의 원소 교체"
   ]
  },
  {
   "cell_type": "code",
   "execution_count": 6,
   "id": "31b19212",
   "metadata": {},
   "outputs": [
    {
     "name": "stdout",
     "output_type": "stream",
     "text": [
      "5 3\n",
      "1 2 5 4 3\n",
      "5 5 6 6 5\n"
     ]
    }
   ],
   "source": [
    "n, k = map(int, input().split())\n",
    "a = list(map(int, input().split()))\n",
    "b = list(map(int, input().split()))\n",
    "\n",
    "a.sort()\n",
    "b.sort(reverse=True)\n",
    "\n",
    "for i in range(k):\n",
    "    if a[i] < b[i]:\n",
    "        a[i],b[i] = b[i],a[i]\n",
    "        \n",
    "    else:\n",
    "        break\n",
    "        \n",
    "print(sum(a))"
   ]
  },
  {
   "cell_type": "code",
   "execution_count": null,
   "id": "d35ba613",
   "metadata": {},
   "outputs": [],
   "source": [
    "N, K = map(int, input().split()) \n",
    "A = list(map(int, input().split()))\n",
    "B = list(map(int, input().split()))\n",
    "\n",
    "for i in range(K):\n",
    "    min_idx = A.index(min(A))\n",
    "    max_idx = B.index(max(B))\n",
    "    \n",
    "    if min(A) < max(B):\n",
    "        A[min_idx], B[max_idx] = B[max_idx], A[min_idx]\n",
    "\n",
    "print(sum(A))\n"
   ]
  },
  {
   "cell_type": "code",
   "execution_count": null,
   "id": "58f2f4ae",
   "metadata": {},
   "outputs": [],
   "source": [
    "n, k = list(map(int, input().split()))\n",
    "l1 = list(map(int, input().split()))\n",
    "l2 = list(map(int, input().split()))\n",
    "\n",
    "l2.sort(reverse=True)\n",
    "\n",
    "result = l1 + l2[:k]\n",
    "result.sort(reverse=True)\n",
    "sum(result[:n])\n"
   ]
  },
  {
   "cell_type": "code",
   "execution_count": null,
   "id": "6fdc51e2",
   "metadata": {},
   "outputs": [],
   "source": [
    "n=5\n",
    "k=3\n",
    "swap=0\n",
    "w=1\n",
    "ai=0\n",
    "bi=0\n",
    "\n",
    "a=[1,2,5,4,3]\n",
    "b=[5,5,6,6,5]\n",
    "\n",
    "for i in range(k):\n",
    "    amin=min(a)\n",
    "    bmax=max(b)\n",
    "    for j in a:\n",
    "        if(amin==j):\n",
    "            break\n",
    "        ai+=1\n",
    "    for k in b:\n",
    "        if(bmax==k):\n",
    "            break\n",
    "        bi+=1\n",
    "    print(ai,bi)\n",
    "    a[ai]=bmax\n",
    "    b[bi]=amin\n",
    "    ai=0\n",
    "    bi=0\n",
    "\n",
    "print(a)\n"
   ]
  },
  {
   "cell_type": "code",
   "execution_count": null,
   "id": "5948ffa2",
   "metadata": {},
   "outputs": [],
   "source": [
    "* bisect (참고)"
   ]
  },
  {
   "cell_type": "code",
   "execution_count": 10,
   "id": "a08160a3",
   "metadata": {},
   "outputs": [],
   "source": [
    "import bisect"
   ]
  },
  {
   "cell_type": "code",
   "execution_count": 11,
   "id": "75024e32",
   "metadata": {},
   "outputs": [
    {
     "data": {
      "text/plain": [
       "3"
      ]
     },
     "execution_count": 11,
     "metadata": {},
     "output_type": "execute_result"
    }
   ],
   "source": [
    "a = [1, 2, 2, 3, 4, 7]\n",
    "bisect.bisect(a, 2)"
   ]
  },
  {
   "cell_type": "code",
   "execution_count": 13,
   "id": "39427a35",
   "metadata": {},
   "outputs": [],
   "source": [
    "from bisect import bisect_left, bisect_right"
   ]
  },
  {
   "cell_type": "code",
   "execution_count": 14,
   "id": "1999afb8",
   "metadata": {},
   "outputs": [
    {
     "data": {
      "text/plain": [
       "3"
      ]
     },
     "execution_count": 14,
     "metadata": {},
     "output_type": "execute_result"
    }
   ],
   "source": [
    "bisect_right(a, 2)"
   ]
  },
  {
   "cell_type": "code",
   "execution_count": 15,
   "id": "4ae6c13b",
   "metadata": {},
   "outputs": [
    {
     "data": {
      "text/plain": [
       "1"
      ]
     },
     "execution_count": 15,
     "metadata": {},
     "output_type": "execute_result"
    }
   ],
   "source": [
    "bisect_left(a, 2)"
   ]
  },
  {
   "cell_type": "code",
   "execution_count": 16,
   "id": "eda37860",
   "metadata": {},
   "outputs": [],
   "source": [
    "bisect.insort(a, 2)"
   ]
  },
  {
   "cell_type": "code",
   "execution_count": 17,
   "id": "c20b500d",
   "metadata": {},
   "outputs": [
    {
     "data": {
      "text/plain": [
       "[1, 2, 2, 2, 3, 4, 7]"
      ]
     },
     "execution_count": 17,
     "metadata": {},
     "output_type": "execute_result"
    }
   ],
   "source": [
    "a"
   ]
  },
  {
   "cell_type": "markdown",
   "id": "de68d869",
   "metadata": {},
   "source": [
    "* 값이 특정 범위에 속하는 데이터 개수 구하기(예제)"
   ]
  },
  {
   "cell_type": "code",
   "execution_count": 18,
   "id": "0dc9953e",
   "metadata": {},
   "outputs": [
    {
     "name": "stdout",
     "output_type": "stream",
     "text": [
      "2\n",
      "6\n"
     ]
    }
   ],
   "source": [
    "from bisect import bisect_left, bisect_right\n",
    "\n",
    "# 값이 [left_value, right_value]인 데이터의 개수를 반환하는 함수\n",
    "def count_by_range(a, left_value, right_value):\n",
    "    right_index = bisect_right(a, right_value)\n",
    "    left_index = bisect_left(a, left_value)\n",
    "    return right_index - left_index\n",
    "\n",
    "# 배열 선언\n",
    "a = [1, 2, 3, 3, 3, 3, 4, 4, 8, 9] \n",
    "\n",
    "# 값이 4인 데이터 개수 출력\n",
    "print(count_by_range(a, 4, 4))\n",
    "\n",
    "# 값이 [-1, 3] 범위에 있는 데이터 개수 출력\n",
    "print(count_by_range(a, -1, 3))"
   ]
  },
  {
   "cell_type": "code",
   "execution_count": null,
   "id": "e01fe2ea",
   "metadata": {},
   "outputs": [],
   "source": [
    "* 정렬된 배열에서 특정 수의 개수 구하기"
   ]
  },
  {
   "cell_type": "code",
   "execution_count": 20,
   "id": "088f2d3c",
   "metadata": {},
   "outputs": [
    {
     "name": "stdout",
     "output_type": "stream",
     "text": [
      "7 5\n",
      "1 1 2 2 2 2 3\n",
      "-1\n"
     ]
    }
   ],
   "source": [
    "import bisect\n",
    "N, x = map(int, input().split())\n",
    "\n",
    "A = list(map(int, input().split()))\n",
    "\n",
    "val = bisect.bisect_right(A, x) - bisect.bisect_left(A, x)\n",
    "if val == 0: print(-1)\n",
    "else: print(val)\n"
   ]
  },
  {
   "cell_type": "code",
   "execution_count": 21,
   "id": "4c0a9149",
   "metadata": {},
   "outputs": [
    {
     "data": {
      "text/plain": [
       "4"
      ]
     },
     "execution_count": 21,
     "metadata": {},
     "output_type": "execute_result"
    }
   ],
   "source": [
    "from bisect import bisect_left, bisect_right\n",
    "\n",
    "def count_by_range(a, left_value, right_value):\n",
    "    right_index = bisect_right(a, right_value)\n",
    "    left_index = bisect_left(a, left_value)\n",
    "    return right_index - left_index\n",
    "\n",
    "n=7\n",
    "x=2\n",
    "l=[1,1,2,2,2,2,3]\n",
    "count_by_range(l,2,2)\n"
   ]
  },
  {
   "cell_type": "code",
   "execution_count": 31,
   "id": "460304bc",
   "metadata": {},
   "outputs": [
    {
     "name": "stdout",
     "output_type": "stream",
     "text": [
      "7 3\n",
      "1 1 2 2 2 2 3\n"
     ]
    }
   ],
   "source": [
    "from bisect import bisect_left, bisect_right\n",
    " \n",
    "def count_by_range(a, left_value, right_value):\n",
    "    right_index = bisect_right(a,right_value)\n",
    "    left_index = bisect_left(a,left_value)\n",
    "\n",
    "    if right_index - left_index == 0:\n",
    "        return -1\n",
    "    else:\n",
    "        return right_index - left_index\n",
    "\n",
    "n, x = map(int, input().split())\n",
    "a = list(map(int, input().split()))\n",
    "\n",
    "\n",
    "print(count_by_range(a,x,x))\n"
   ]
  },
  {
   "cell_type": "code",
   "execution_count": null,
   "id": "874df41a",
   "metadata": {},
   "outputs": [],
   "source": []
  }
 ],
 "metadata": {
  "kernelspec": {
   "display_name": "Python 3",
   "language": "python",
   "name": "python3"
  },
  "language_info": {
   "codemirror_mode": {
    "name": "ipython",
    "version": 3
   },
   "file_extension": ".py",
   "mimetype": "text/x-python",
   "name": "python",
   "nbconvert_exporter": "python",
   "pygments_lexer": "ipython3",
   "version": "3.8.8"
  }
 },
 "nbformat": 4,
 "nbformat_minor": 5
}
