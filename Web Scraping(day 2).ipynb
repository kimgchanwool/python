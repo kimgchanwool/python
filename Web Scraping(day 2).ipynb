{
 "cells": [
  {
   "cell_type": "markdown",
   "id": "dc42aae5",
   "metadata": {},
   "source": [
    "* User Agent"
   ]
  },
  {
   "cell_type": "code",
   "execution_count": null,
   "id": "5c2f8472",
   "metadata": {},
   "outputs": [],
   "source": [
    "Mozilla/5.0 (Windows NT 10.0; Win64; x64) AppleWebKit/537.36 (KHTML, like Gecko) Chrome/91.0.4472.124 Safari/537.36 Edg/91.0.864.67"
   ]
  },
  {
   "cell_type": "code",
   "execution_count": null,
   "id": "cfa33be3",
   "metadata": {},
   "outputs": [],
   "source": [
    "import requests\n",
    "\n",
    "url = \"https://google.com\"\n",
    "\n",
    "headers = {\"User-Agent\" : \"Mozilla/5.0 (Windows NT 10.0; Win64; x64) AppleWebKit/537.36 (KHTML, like Gecko) Chrome/91.0.4472.124 Safari/537.36 Edg/91.0.864.67\"}\n",
    "res = requests.get(url, headers)\n",
    "res.raise_for_status()\n"
   ]
  },
  {
   "cell_type": "markdown",
   "id": "2f8dbbaf",
   "metadata": {},
   "source": [
    "* 네이버 웹툰"
   ]
  },
  {
   "cell_type": "code",
   "execution_count": null,
   "id": "c86a9350",
   "metadata": {},
   "outputs": [],
   "source": [
    "import requests\n",
    "from bs4 import BeautifulSoup\n",
    "\n",
    "url =\"https://comic.naver.com/webtoon/weekday\"\n",
    "res = requests.get(url)\n",
    "res.raise_for_status()\n",
    "\n",
    "\n",
    "soup = BeautifulSoup(res.text, \"lxml\")"
   ]
  },
  {
   "cell_type": "code",
   "execution_count": null,
   "id": "8daa516d",
   "metadata": {},
   "outputs": [],
   "source": [
    "print(soup.title)\n",
    "print(soup.title.get_text())"
   ]
  },
  {
   "cell_type": "code",
   "execution_count": null,
   "id": "3a372ecf",
   "metadata": {},
   "outputs": [],
   "source": [
    "print(soup.a)\n",
    "print(soup.find(\"a\"))\n",
    "print(soup.find_all(\"a\"))"
   ]
  },
  {
   "cell_type": "code",
   "execution_count": null,
   "id": "2a798cc8",
   "metadata": {},
   "outputs": [],
   "source": [
    "print(soup.a.attrs)\n",
    "print(soup.a[\"href\"])\n",
    "print(soup.a[\"onclick\"])"
   ]
  },
  {
   "cell_type": "code",
   "execution_count": null,
   "id": "d24e3ead",
   "metadata": {},
   "outputs": [],
   "source": [
    "# <a href=\"/mypage/myActivity\" class=\"Nbtn_upload\" onclick=\"nclk_v2(event,'olk.upload');\">웹툰 올리기</a>"
   ]
  },
  {
   "cell_type": "code",
   "execution_count": null,
   "id": "84512c21",
   "metadata": {},
   "outputs": [],
   "source": [
    "print(soup.find(\"a\", {\"class\":\"Nbtn_upload\"}))\n",
    "print(soup.find(\"a\", attrs = {\"class\":\"Nbtn_upload\"}))\n",
    "print(soup.select(\"a.Nbtn_upload\")) #find_all 유사"
   ]
  },
  {
   "cell_type": "code",
   "execution_count": null,
   "id": "6c2a79b3",
   "metadata": {},
   "outputs": [],
   "source": [
    "# 인기 순위 가져오기"
   ]
  },
  {
   "cell_type": "code",
   "execution_count": null,
   "id": "14fe8c09",
   "metadata": {},
   "outputs": [],
   "source": [
    "rank1 = soup.find(\"li\", {\"class\":\"rank01\"})\n",
    "print(rank1.get_text())\n",
    "\n",
    "rank2 = rank1.next_sibling.next_sibling\n",
    "print(rank2.get_text())\n",
    "\n",
    "rank3 = rank2.next_sibling.next_sibling\n",
    "print(rank3.get_text())\n",
    "\n",
    "rank4 = rank3.next_sibling.next_sibling\n",
    "rank5 = rank4.next_sibling.next_sibling\n",
    "\n",
    "rank4 = rank5.previous_sibling.previous_sibling\n",
    "print(rank4.get_text())"
   ]
  },
  {
   "cell_type": "code",
   "execution_count": null,
   "id": "88fbf777",
   "metadata": {},
   "outputs": [],
   "source": [
    "rank1 = soup.find(\"li\", {\"class\":\"rank01\"})\n",
    "print(rank1.find_next_siblings(\"li\"))\n",
    "\n",
    "print(soup.find(\"a\", text=\"사신소년\"))"
   ]
  },
  {
   "cell_type": "code",
   "execution_count": null,
   "id": "932c9da6",
   "metadata": {},
   "outputs": [],
   "source": [
    "# a 태그로 시작해서 class가 title인 모든 text"
   ]
  },
  {
   "cell_type": "code",
   "execution_count": null,
   "id": "f15b08fb",
   "metadata": {},
   "outputs": [],
   "source": [
    "import requests\n",
    "from bs4 import BeautifulSoup\n",
    "\n",
    "url =\"https://comic.naver.com/webtoon/weekday\"\n",
    "res = requests.get(url)\n",
    "res.raise_for_status()\n",
    "\n",
    "\n",
    "soup = BeautifulSoup(res.text, \"lxml\")\n",
    "\n",
    "cartoons = soup.find_all(\"a\", {\"class\" : \"title\"})\n",
    "\n",
    "for cartoon in cartoons:\n",
    "    print(cartoon.get_text())"
   ]
  },
  {
   "cell_type": "code",
   "execution_count": null,
   "id": "f6b182b8",
   "metadata": {},
   "outputs": [],
   "source": [
    "# 실시간 순위"
   ]
  },
  {
   "cell_type": "code",
   "execution_count": null,
   "id": "9ba51e1e",
   "metadata": {},
   "outputs": [],
   "source": [
    "import requests\n",
    "from bs4 import BeautifulSoup\n",
    "\n",
    "url =\"https://comic.naver.com/webtoon/weekday\"\n",
    "res = requests.get(url)\n",
    "res.raise_for_status()\n",
    "\n",
    "soup = BeautifulSoup(res.text, \"lxml\")\n",
    "\n",
    "ol = soup.find(\"ol\", {\"id\": \"realTimeRankFavorite\"})\n",
    "\n",
    "lis = ol.find_all(\"li\")\n",
    "\n",
    "for li in lis:\n",
    "    a = li.find(\"a\")\n",
    "    print(a.get_text())"
   ]
  },
  {
   "cell_type": "markdown",
   "id": "0310f052",
   "metadata": {},
   "source": [
    "* 만화 한편"
   ]
  },
  {
   "cell_type": "code",
   "execution_count": null,
   "id": "1b2ee7f3",
   "metadata": {},
   "outputs": [],
   "source": [
    "import requests\n",
    "from bs4 import BeautifulSoup\n",
    "\n",
    "url =\"https://comic.naver.com/webtoon/list?titleId=675554\"\n",
    "res = requests.get(url)\n",
    "res.raise_for_status()\n",
    "\n",
    "soup = BeautifulSoup(res.text, \"lxml\")"
   ]
  },
  {
   "cell_type": "code",
   "execution_count": null,
   "id": "82852b52",
   "metadata": {},
   "outputs": [],
   "source": [
    "# 만화 제목, 링크 가져오기 (한편)\n",
    "td = soup.find(\"td\", {\"class\":\"title\"})\n",
    "a = td.find(\"a\")\n",
    "a.get_text()\n",
    "#soup.find(\"td\", {\"class\":\"title\"}).find(\"a\").get_text()\n",
    "\n",
    "td = soup.find(\"td\", {\"class\":\"title\"})\n",
    "a = td.find(\"a\")\n",
    "link = \"https://comic.naver.com\" + a[\"href\"]\n",
    "#\"https://comic.naver.com\" + soup.find(\"td\", {\"class\":\"title\"}).td.find(\"a\")[\"href\"]"
   ]
  },
  {
   "cell_type": "code",
   "execution_count": null,
   "id": "d86e0b25",
   "metadata": {},
   "outputs": [],
   "source": [
    "# 만화 제목, 링크 가져오기 (전체)\n",
    "cartoons = soup.find_all(\"td\", {\"class\":\"title\"})\n",
    "for cartoon in cartoons:\n",
    "    title = cartoon.find(\"a\").get_text()\n",
    "    link = \"https://comic.naver.com\" + cartoon.find(\"a\")[\"href\"]\n",
    "    print(title, link)"
   ]
  },
  {
   "cell_type": "code",
   "execution_count": null,
   "id": "05635e6f",
   "metadata": {},
   "outputs": [],
   "source": [
    "# 평점 구하기"
   ]
  },
  {
   "cell_type": "code",
   "execution_count": null,
   "id": "f2e522e7",
   "metadata": {},
   "outputs": [],
   "source": [
    "# 평점 한개\n",
    "float(soup.find(\"div\", {\"class\" : \"rating_type\"}).find(\"strong\").get_text())"
   ]
  },
  {
   "cell_type": "code",
   "execution_count": null,
   "id": "0b9e9564",
   "metadata": {},
   "outputs": [],
   "source": [
    "# 평점 전체 + 평균\n",
    "total_rate = 0\n",
    "ratings = soup.find_all(\"div\", {\"class\" : \"rating_type\"})\n",
    "for rating in ratings:\n",
    "    rate = rating.find(\"strong\").get_text()\n",
    "    #print(rate)\n",
    "    total_rate += float(rate)\n",
    "print(\"평균 : \", total_rate/len(ratings))"
   ]
  },
  {
   "cell_type": "markdown",
   "id": "4f1fc37f",
   "metadata": {},
   "source": [
    "* 노트북 검색"
   ]
  },
  {
   "cell_type": "code",
   "execution_count": 1,
   "id": "b766a5b8",
   "metadata": {},
   "outputs": [],
   "source": [
    "import requests\n",
    "from bs4 import BeautifulSoup\n",
    "\n",
    "url = \"https://www.coupang.com/np/search?q=%EB%85%B8%ED%8A%B8%EB%B6%81&channel=user&component=&eventCategory=SRP&trcid=&traid=&sorter=scoreDesc&minPrice=&maxPrice=&priceRange=&filterType=&listSize=36&filter=&isPriceRange=false&brand=&offerCondition=&rating=0&page=1&rocketAll=false&searchIndexingToken=&backgroundColor=\"\n",
    "\n",
    "headers = {\"User-Agent\" : \"Mozilla/5.0 (Windows NT 10.0; Win64; x64) AppleWebKit/537.36 (KHTML, like Gecko) Chrome/91.0.4472.124 Safari/537.36 Edg/91.0.864.67\"}\n",
    "res = requests.get(url, headers = headers)\n",
    "res.raise_for_status()\n",
    "\n",
    "soup = BeautifulSoup(res.text, \"lxml\")"
   ]
  },
  {
   "cell_type": "code",
   "execution_count": 4,
   "id": "0e483182",
   "metadata": {
    "collapsed": true
   },
   "outputs": [
    {
     "data": {
      "text/plain": [
       "[<div class=\"name\">마이크로소프트 서피스 랩탑4 노트북 매트블랙 5EB-00020 (i7-1185G7 34.29cm WIN10 Home), 코어i7 11세대, 512GB, 16GB, WIN10 Home</div>,\n",
       " <div class=\"name\">에이서 스위프트3 씬스틸러2 노트북 실버 SF314-43 (라이젠7-5700U 35.56cm), 윈도우 미포함, NVMe 512GB, 16GB</div>,\n",
       " <div class=\"name\">삼성전자 - 2021 - 플러스2 - 15.6, NT550XDA-K14AW, 퓨어 화이트, 셀러론, 128GB, 8GB, WIN10 Pro</div>,\n",
       " <div class=\"name\">삼성전자 플러스2 미스틱그레이 노트북 NT550XDA-K14AG (샐러론 6305 39.6cm WIN10 Pro), 미스틱 그레이, 셀러론, 128GB, 8GB, WIN10 Pro</div>,\n",
       " <div class=\"name\">에이수스 슬레이트 그레이 노트북 D515UA -CP103 (라이젠5-5500U 39.6cm), 라이젠5 5세대, 512GB, 8GB, Free DOS</div>,\n",
       " <div class=\"name\">초고속부팅SSD탑재!!LENOVO 노트북 ThinkPad X260 FULL HD[6세대 윈10 웹캠]</div>,\n",
       " <div class=\"name\">LG전자 울트라 PC 화이트 노트북 13U70P-GA76K (라이젠7-4700U 33.78cm WIN10 Home), 라이젠7 4세대, 256GB, 16GB, WIN10 Home</div>,\n",
       " <div class=\"name\">LG전자 울트라 화이트 노트북 13U70P-GR56K (라이젠5-4500U 33.7cm WIN10 Home), 라이젠5 4세대, 256GB, 8GB, WIN10 Home</div>,\n",
       " <div class=\"name\">LG전자 10세대 코어i7 윈10탑재 17형 LG 그램 2020년형 17Z90N 그레이 정품키스킨 증정, 16GB, SSD 512GB, 포함</div>,\n",
       " <div class=\"name\">LG전자 울트라 PC 화이트 노트북 15U50P-GR36K(i3-1115G4 39.6cm WIN10 Home), 15U50P-GR36K, 코어i3 11세대, 256GB, 8GB, WIN10 Home</div>,\n",
       " <div class=\"name\">삼성전자 노트북9 METAL NT901X5L 가볍고 슬림한 1.29kg 코어i5 윈10 탑재, 포함, SSD 256GB, 8GB</div>,\n",
       " <div class=\"name\">HP 2020 HP 15.6, 15s-fq2516TU, white snow, 코어i5 11세대, 512GB, 8GB, WIN10 Home</div>,\n",
       " <div class=\"name\">HP 파빌리온 x360 14 Forest Teal 노트북 dw1053TU (i7-1165G7 35.56cm WIN10 Home), 코어i7 11세대, 512GB, 16GB, WIN10 Home</div>,\n",
       " <div class=\"name\">에이수스 슬레이트 그레이 노트북 D515UA -CP103 (라이젠5-5500U 39.6cm), 라이젠5 5세대, 512GB, 8GB, Free DOS</div>,\n",
       " <div class=\"name\">삼성전자 플러스2 퓨어화이트 노트북 NT550XDA-K14AW (샐러론 6305 39.6cm WIN10 Pro Edu), 퓨어 화이트, 셀러론, 378GB, 8GB</div>,\n",
       " <div class=\"name\">이태원클라쓰북 그램스타일 노트북 풀패키지미개봉 NB141LTN41 8세대 14 IPS FHD 윈10탑재, 화이트, NB133LTN40 [32G+SD64G]</div>,\n",
       " <div class=\"name\">LG전자 - 2020 - 울트라PC - 15, 15U40N-GR36K, 화이트, 라이젠3 4세대, 256GB, 8GB, WIN10 Home</div>,\n",
       " <div class=\"name\">LG전자 2021 그램17 옵시디안블랙 노트북 17ZD90P-GX5BK (i5-1135G7 43.1cm), 17Z90P, 옵시디안 블랙, 코어i5 11세대, 256GB, 8GB, Free DOS</div>,\n",
       " <div class=\"name\">삼성전자 갤럭시북 프로 NT950XDC-X71AB + 512GB (i7-1165G7 39.6cm WIN10 16GB 1TB GeForce MX450 미스틱블루), 미스틱 블루, 코어i7 11세대, 1024GB, WIN10 Home</div>,\n",
       " <div class=\"name\">에이수스 노트북 이클립스 그레이 TUF FA706QM-HX007(라이젠7-5800H 43.94cm RTX 3060), FA706QM-HX007, 라이젠7 5세대, 512GB, 8GB, Free DOS</div>,\n",
       " <div class=\"name\">LG전자 2021 그램 360 토파즈 그린 노트북 14TD90P-GX50K(i5-1135G7 35.5cm), 14TD90P-GX50K, 코어i5 11세대, 256GB, 8GB, Free DOS</div>,\n",
       " <div class=\"name\">LG전자 울트라PC 노트북 13U50N-GR56K (i5-10210U 33.7cm UHD graphics WIN10), 윈도우 포함, 256GB, 8GB</div>,\n",
       " <div class=\"name\">삼성전자 갤럭시북 플렉스 2 미스틱 블랙 노트북 NT950QDA-X71AB (i7-1165G7 39.6cm MX450 WIN10 Home), NT950QDA-X71OB, 코어i7 11세대, 1TB, 16GB, WIN10 Home</div>,\n",
       " <div class=\"name\">삼성전자 갤럭시북 프로 NT950XDY-A38A + Win10설치 (i3-1115G4 39.6cm WIN10 8GB 256GB 미스틱실버), 미스틱 실버, 코어i3 11세대, WIN10 Home</div>,\n",
       " <div class=\"name\">LG전자 울트라PC 화이트 노트북 13UD70P-GX70K (라이젠7-4700U 33.7cm) + 무선 마우스 + 마우스 패드 + HDMI, 라이젠7 4세대, 256GB, 16GB, Free DOS</div>,\n",
       " <div class=\"name\">LG전자 울트라PC 화이트 노트북 13UD70P-GX70K (라이젠7-4700U 33.7cm WIN10 Home), 13UD70PGX70K, 라이젠7 4세대, 512GB, 16GB, WIN10 Home</div>,\n",
       " <div class=\"name\">에이수스 ROG 제피러스 문라이트 화이트 게이밍 노트북 GA503QR-HQ017 (라이젠9-5900HS 39.6cm RTX 3070), 라이젠9 5세대, 1TB, 16GB, Free DOS</div>,\n",
       " <div class=\"name\">기가바이트 AORUS 5 게이밍 노트북 블랙 MB i5 E (i5-10200H 39.6cm GTX 1650Ti), AORUS 5 MB I5 C, 코어i5 10세대, 512GB, 16GB, Free DOS</div>,\n",
       " <div class=\"name\">MSI 게이밍 노트북 GF75 Thin 9SC-i7 파워팩, SSD 1TB, WINDOW10PRO, 32GB</div>,\n",
       " <div class=\"name\">삼성전자 플러스2 미스틱그레이 노트북 NT550XDA-K14AG (샐러론 6305 39.6cm WIN10 Pro), 미스틱 그레이, 셀러론, 378GB, 8GB, WIN10 Pro</div>,\n",
       " <div class=\"name\">대용량 SSD512G탑재! 가볍고 슬림한 삼성전자 노트북9 (코어i5 RAM 8G SSD 512G 무게1.29kg 15.6인치 윈도우10 실버), SSD 512GB</div>,\n",
       " <div class=\"name\">LG전자 울트라기어 다크실버 노트북 17U70P-FA76K (i7-1165G7 43.1cm WIN10 Home), 다크 실버, 코어i7 11세대, 768GB, 16GB, WIN10 Home</div>,\n",
       " <div class=\"name\">LG전자 울트라PC 15U50N-LR26K 노트북 (인텔 펜티엄 6405U 39.6cm WIN10 Home), 화이트, 256GB, 4GB, WIN10 Home</div>,\n",
       " <div class=\"name\">삼성전자 플러스 퓨어 화이트 노트북 NT350XCR-AD3AW (i3-10110U), 코어i3 10세대, 256GB, 8GB, WIN10 Home</div>,\n",
       " <div class=\"name\">MSI 모던 15 노트북 카본그레이 A11M-i7 (i7-1165G7 39.62cm), 윈도우 미포함, NVMe 512GB, 8GB</div>,\n",
       " <div class=\"name\">레노버 아이디어패드 Platinum Grey 노트북 S150-11 81VT (Intel Celeron N4020 29.5cm WIN10 Home S), 셀러론, 64GB, 4GB</div>]"
      ]
     },
     "execution_count": 4,
     "metadata": {},
     "output_type": "execute_result"
    }
   ],
   "source": [
    "# 제품 정보\n",
    "soup.find_all(\"div\", {\"class\":\"name\"})"
   ]
  },
  {
   "cell_type": "code",
   "execution_count": 8,
   "id": "01841bf1",
   "metadata": {},
   "outputs": [],
   "source": [
    "# 가격정보\n",
    "div = soup.find(\"div\", {\"class\":\"price\"})\n",
    "div.find(\"strong\" , {\"class\":\"price-value\"}).get_text()\n",
    "\n",
    "#soup.find(\"div\", {\"class\":\"price\"}).find(\"strong\" , {\"class\":\"price-value\"}).get_text()"
   ]
  },
  {
   "cell_type": "code",
   "execution_count": 15,
   "id": "a0179466",
   "metadata": {},
   "outputs": [
    {
     "data": {
      "text/plain": [
       "'5.0'"
      ]
     },
     "execution_count": 15,
     "metadata": {},
     "output_type": "execute_result"
    }
   ],
   "source": [
    "# 평점 정보\n",
    "soup.find(\"div\", {\"class\" : \"rating-star\"}).find(\"em\").get_text()"
   ]
  },
  {
   "cell_type": "code",
   "execution_count": 17,
   "id": "9e483dfa",
   "metadata": {},
   "outputs": [
    {
     "data": {
      "text/plain": [
       "'(2)'"
      ]
     },
     "execution_count": 17,
     "metadata": {},
     "output_type": "execute_result"
    }
   ],
   "source": [
    "# 리뷰수\n",
    "soup.find(\"div\", {\"class\" : \"rating-star\"}).find(\"span\", {\"class\":\"rating-total-count\"}).get_text()"
   ]
  },
  {
   "cell_type": "code",
   "execution_count": null,
   "id": "477d9fdc",
   "metadata": {},
   "outputs": [],
   "source": [
    "* 평점이 없거나 리뷰가 없는 제품 제외\n",
    "* 평점이 >= 4.5 이상이고 리뷰수 >= 100 이상인 제품만 추출\n",
    "* 특정 회사 제품 제외 또는 원하는 회사 제품만\n",
    "* 출력양식 : 제품명, 가격, 평점, 리뷰수"
   ]
  },
  {
   "cell_type": "code",
   "execution_count": 49,
   "id": "7a7f29f7",
   "metadata": {},
   "outputs": [
    {
     "name": "stdout",
     "output_type": "stream",
     "text": [
      "제품명 : 삼성전자 - 2021 - 플러스2 - 15.6, NT550XDA-K14AW, 퓨어 화이트, 셀러론, 128GB, 8GB, WIN10 Pro\n",
      "가격 :  549,000\n",
      "평점 :  5.0\n",
      "리뷰수 :  237\n",
      "****************************************************************************************************\n",
      "제품명 : 삼성전자 플러스2 미스틱그레이 노트북 NT550XDA-K14AG (샐러론 6305 39.6cm WIN10 Pro), 미스틱 그레이, 셀러론, 128GB, 8GB, WIN10 Pro\n",
      "가격 :  548,000\n",
      "평점 :  5.0\n",
      "리뷰수 :  186\n",
      "****************************************************************************************************\n",
      "제품명 : LG전자 울트라 PC 화이트 노트북 13U70P-GA76K (라이젠7-4700U 33.78cm WIN10 Home), 라이젠7 4세대, 256GB, 16GB, WIN10 Home\n",
      "가격 :  1,066,990\n",
      "평점 :  5.0\n",
      "리뷰수 :  118\n",
      "****************************************************************************************************\n",
      "제품명 : 삼성전자 노트북9 METAL NT901X5L 가볍고 슬림한 1.29kg 코어i5 윈10 탑재, 포함, SSD 256GB, 8GB\n",
      "가격 :  619,000\n",
      "평점 :  4.5\n",
      "리뷰수 :  741\n",
      "****************************************************************************************************\n",
      "제품명 : 삼성전자 플러스2 퓨어화이트 노트북 NT550XDA-K14AW (샐러론 6305 39.6cm WIN10 Pro Edu), 퓨어 화이트, 셀러론, 378GB, 8GB\n",
      "가격 :  618,000\n",
      "평점 :  5.0\n",
      "리뷰수 :  237\n",
      "****************************************************************************************************\n",
      "제품명 : 삼성전자 갤럭시북 플렉스 2 미스틱 블랙 노트북 NT950QDA-X71AB (i7-1165G7 39.6cm MX450 WIN10 Home), NT950QDA-X71OB, 코어i7 11세대, 1TB, 16GB, WIN10 Home\n",
      "가격 :  2,448,000\n",
      "평점 :  5.0\n",
      "리뷰수 :  127\n",
      "****************************************************************************************************\n",
      "제품명 : 삼성전자 플러스2 미스틱그레이 노트북 NT550XDA-K14AG (샐러론 6305 39.6cm WIN10 Pro), 미스틱 그레이, 셀러론, 378GB, 8GB, WIN10 Pro\n",
      "가격 :  618,000\n",
      "평점 :  5.0\n",
      "리뷰수 :  186\n",
      "****************************************************************************************************\n",
      "제품명 : 대용량 SSD512G탑재! 가볍고 슬림한 삼성전자 노트북9 (코어i5 RAM 8G SSD 512G 무게1.29kg 15.6인치 윈도우10 실버), SSD 512GB\n",
      "가격 :  639,000\n",
      "평점 :  4.5\n",
      "리뷰수 :  216\n",
      "****************************************************************************************************\n",
      "제품명 : 삼성전자 플러스 퓨어 화이트 노트북 NT350XCR-AD3AW (i3-10110U), 코어i3 10세대, 256GB, 8GB, WIN10 Home\n",
      "가격 :  697,000\n",
      "평점 :  5.0\n",
      "리뷰수 :  603\n",
      "****************************************************************************************************\n"
     ]
    }
   ],
   "source": [
    "import requests\n",
    "from bs4 import BeautifulSoup\n",
    "\n",
    "url = \"https://www.coupang.com/np/search?q=%EB%85%B8%ED%8A%B8%EB%B6%81&channel=user&component=&eventCategory=SRP&trcid=&traid=&sorter=scoreDesc&minPrice=&maxPrice=&priceRange=&filterType=&listSize=36&filter=&isPriceRange=false&brand=&offerCondition=&rating=0&page=1&rocketAll=false&searchIndexingToken=&backgroundColor=\"\n",
    "\n",
    "headers = {\"User-Agent\" : \"Mozilla/5.0 (Windows NT 10.0; Win64; x64) AppleWebKit/537.36 (KHTML, like Gecko) Chrome/91.0.4472.124 Safari/537.36 Edg/91.0.864.67\"}\n",
    "res = requests.get(url, headers = headers)\n",
    "res.raise_for_status()\n",
    "\n",
    "soup = BeautifulSoup(res.text, \"lxml\")\n",
    "\n",
    "items = soup.find_all(\"li\", {\"class\" : \"search-product\"})\n",
    "\n",
    "rate = 0\n",
    "review = 0\n",
    "for item in items:\n",
    "    # 광고 상품 제외\n",
    "    ad_item = item.find(\"span\", {\"class\" : \"ad-badge-text\"})\n",
    "    \n",
    "    if ad_item:\n",
    "        #print(\"광고 상품 제외\")\n",
    "        continue\n",
    "    \n",
    "    # 제품명\n",
    "    name  =  item.find(\"div\", {\"class\" : \"name\"}).get_text()\n",
    "    \n",
    "    # 가격\n",
    "    price = item.find(\"strong\", {\"class\" : \"price-value\"}).get_text()\n",
    "    \n",
    "    # 평점\n",
    "    rate = item.find(\"em\", {\"class\" : \"rating\"})\n",
    "    if rate:\n",
    "        rate = float(rate.get_text())\n",
    "    else:\n",
    "        rate = 0\n",
    "        \n",
    "    # 리뷰수\n",
    "    review = item.find(\"span\", {\"class\" : \"rating-total-count\"})\n",
    "    if review:\n",
    "        review = int(review.get_text()[1:-1])\n",
    "    else:\n",
    "        review = 0\n",
    "    \n",
    "    \n",
    "    if rate >= 4.5 and review >= 100 and (\"삼성전자\" in name or \"LG\" in name):    \n",
    "        print(\"제품명 :\" , name)\n",
    "        print(\"가격 : \", price)\n",
    "        print(\"평점 : \", rate)\n",
    "        print(\"리뷰수 : \", review)\n",
    "        print('*' * 100)\n"
   ]
  },
  {
   "cell_type": "code",
   "execution_count": null,
   "id": "c6574bcc",
   "metadata": {},
   "outputs": [],
   "source": [
    "* 1 ~ 5 page 까지 검색, 링크 정보도 같이 보이게"
   ]
  },
  {
   "cell_type": "code",
   "execution_count": 52,
   "id": "79924c47",
   "metadata": {},
   "outputs": [
    {
     "name": "stdout",
     "output_type": "stream",
     "text": [
      "페이지(1)\n",
      "제품명 : 삼성전자 - 2021 - 플러스2 - 15.6, NT550XDA-K14AW, 퓨어 화이트, 셀러론, 128GB, 8GB, WIN10 Pro\n",
      "가격 :  549,000\n",
      "평점 :  5.0\n",
      "리뷰수 :  237\n",
      "****************************************************************************************************\n",
      "페이지(1)\n",
      "제품명 : 삼성전자 플러스2 미스틱그레이 노트북 NT550XDA-K14AG (샐러론 6305 39.6cm WIN10 Pro), 미스틱 그레이, 셀러론, 128GB, 8GB, WIN10 Pro\n",
      "가격 :  548,000\n",
      "평점 :  5.0\n",
      "리뷰수 :  186\n",
      "****************************************************************************************************\n",
      "페이지(1)\n",
      "제품명 : LG전자 울트라 PC 화이트 노트북 13U70P-GA76K (라이젠7-4700U 33.78cm WIN10 Home), 라이젠7 4세대, 256GB, 16GB, WIN10 Home\n",
      "가격 :  1,066,990\n",
      "평점 :  5.0\n",
      "리뷰수 :  118\n",
      "****************************************************************************************************\n",
      "페이지(1)\n",
      "제품명 : 삼성전자 노트북9 METAL NT901X5L 가볍고 슬림한 1.29kg 코어i5 윈10 탑재, 포함, SSD 256GB, 8GB\n",
      "가격 :  619,000\n",
      "평점 :  4.5\n",
      "리뷰수 :  742\n",
      "****************************************************************************************************\n",
      "페이지(1)\n",
      "제품명 : 삼성전자 갤럭시북 플렉스 2 미스틱 블랙 노트북 NT950QDA-X71AB (i7-1165G7 39.6cm MX450 WIN10 Home), NT950QDA-X71OB, 코어i7 11세대, 1TB, 16GB, WIN10 Home\n",
      "가격 :  2,448,000\n",
      "평점 :  5.0\n",
      "리뷰수 :  127\n",
      "****************************************************************************************************\n",
      "페이지(1)\n",
      "제품명 : 삼성전자 플러스2 미스틱그레이 노트북 NT550XDA-K14AG (샐러론 6305 39.6cm WIN10 Pro), 미스틱 그레이, 셀러론, 378GB, 8GB, WIN10 Pro\n",
      "가격 :  618,000\n",
      "평점 :  5.0\n",
      "리뷰수 :  186\n",
      "****************************************************************************************************\n",
      "페이지(1)\n",
      "제품명 : 대용량 SSD512G탑재! 가볍고 슬림한 삼성전자 노트북9 (코어i5 RAM 8G SSD 512G 무게1.29kg 15.6인치 윈도우10 실버), SSD 512GB\n",
      "가격 :  639,000\n",
      "평점 :  4.5\n",
      "리뷰수 :  216\n",
      "****************************************************************************************************\n",
      "페이지(1)\n",
      "제품명 : 삼성전자 플러스 퓨어 화이트 노트북 NT350XCR-AD3AW (i3-10110U), 코어i3 10세대, 256GB, 8GB, WIN10 Home\n",
      "가격 :  697,000\n",
      "평점 :  5.0\n",
      "리뷰수 :  603\n",
      "****************************************************************************************************\n",
      "페이지(2)\n",
      "제품명 : 삼성전자 플러스 퓨어 화이트 노트북 NT350XCR-AD3AW (i3-10110U), 코어i3 10세대, 256GB, 16GB, Free DOS\n",
      "가격 :  523,760\n",
      "평점 :  5.0\n",
      "리뷰수 :  603\n",
      "****************************************************************************************************\n",
      "페이지(2)\n",
      "제품명 : LG전자 울트라PC 노트북 15U40N-GR56K (라이젠5-4500U 39.6cm WIN10 Home), 화이트, 라이젠5 4세대, 256GB, 8GB, WIN10 Home\n",
      "가격 :  928,720\n",
      "평점 :  5.0\n",
      "리뷰수 :  261\n",
      "****************************************************************************************************\n",
      "페이지(2)\n",
      "제품명 : 삼성전자 플러스 플래티넘 티탄 노트북 NT350XCR-AD3AS (i3-10110U), 코어i3, 256GB, 8GB, WIN10 Home\n",
      "가격 :  697,000\n",
      "평점 :  5.0\n",
      "리뷰수 :  191\n",
      "****************************************************************************************************\n",
      "페이지(2)\n",
      "제품명 : LG전자 울트라PC 화이트 노트북 15UD40N-GX56K (라이젠5-4500U 39.6cm), 라이젠5 4세대, 256GB, 8GB, Free DOS\n",
      "가격 :  740,830\n",
      "평점 :  5.0\n",
      "리뷰수 :  218\n",
      "****************************************************************************************************\n",
      "페이지(2)\n",
      "제품명 : 삼성전자 갤럭시북 플렉스 알파 노트북 NT750QCR-A38A (i3-10110U 39.6cm WIN10 Home), 머큐리 그레이, 코어i3 10세대, 256GB, 8GB, WIN10 Home\n",
      "가격 :  1,359,000\n",
      "평점 :  5.0\n",
      "리뷰수 :  351\n",
      "****************************************************************************************************\n",
      "페이지(2)\n",
      "제품명 : 삼성전자 플러스 퓨어 화이트 노트북 NT350XCR-AD3AW (i3-10110U), 코어i3 10세대, 256GB, 16GB, WIN10 Home\n",
      "가격 :  766,000\n",
      "평점 :  5.0\n",
      "리뷰수 :  603\n",
      "****************************************************************************************************\n",
      "페이지(2)\n",
      "제품명 : 삼성전자 플러스 플래티넘 티탄 노트북 NT350XCR-AD3AS (i3-10110U), 코어i3 10세대, 256GB, 16GB, Free DOS\n",
      "가격 :  523,760\n",
      "평점 :  5.0\n",
      "리뷰수 :  191\n",
      "****************************************************************************************************\n",
      "페이지(3)\n",
      "제품명 : 삼성전자 플러스2 퓨어화이트 노트북 NT550XDA-K78AW (i7-1165G7 39.6cm WIN10 Home), 퓨어 화이트, 코어i7 11세대, 256GB, 16GB, WIN10 Home\n",
      "가격 :  1,017,530\n",
      "평점 :  5.0\n",
      "리뷰수 :  1003\n",
      "****************************************************************************************************\n",
      "페이지(4)\n",
      "제품명 : 삼성전자 플러스 플래티넘 티탄 노트북 NT350XCR-AD3AS (i3-10110U), 코어i3 10세대, 256GB, 16GB, WIN10 Home\n",
      "가격 :  766,000\n",
      "평점 :  5.0\n",
      "리뷰수 :  191\n",
      "****************************************************************************************************\n",
      "페이지(4)\n",
      "제품명 : LG전자 그램17 스노우 화이트 노트북 17ZD90P-GX70K (i7-1165G7 43.1cm), 코어i7 11세대, 256GB, 8GB, Free DOS\n",
      "가격 :  1,742,190\n",
      "평점 :  5.0\n",
      "리뷰수 :  128\n",
      "****************************************************************************************************\n",
      "페이지(4)\n",
      "제품명 : 삼성전자 갤럭시북 플렉스 알파 노트북 NT750QCR-A38A (i3-10110U 39.6cm WIN10 Home), 머큐리 그레이, 코어i3 10세대, 256GB, 16GB, WIN10 Home\n",
      "가격 :  1,399,000\n",
      "평점 :  5.0\n",
      "리뷰수 :  351\n",
      "****************************************************************************************************\n",
      "페이지(4)\n",
      "제품명 : 삼성전자 플러스 플래티넘 티탄 노트북 NT350XCR-AD5AS (i5-10210U 39.6cm), 코어i5 10세대, 256GB, 16GB, WIN10 Home\n",
      "가격 :  887,000\n",
      "평점 :  5.0\n",
      "리뷰수 :  351\n",
      "****************************************************************************************************\n",
      "페이지(5)\n",
      "제품명 : LG전자 그램17 스노우 화이트 노트북 17ZD90P-GX70K (i7-1165G7 43.1cm), 코어i7 11세대, 256GB, 8GB, Free DOS\n",
      "가격 :  1,742,190\n",
      "평점 :  5.0\n",
      "리뷰수 :  128\n",
      "****************************************************************************************************\n"
     ]
    }
   ],
   "source": [
    "import requests\n",
    "from bs4 import BeautifulSoup\n",
    "\n",
    "\n",
    "for i in range(1, 6):\n",
    "    url = \"https://www.coupang.com/np/search?q=%EB%85%B8%ED%8A%B8%EB%B6%81&channel=user&component=&eventCategory=SRP&trcid=&traid=&sorter=scoreDesc&minPrice=&maxPrice=&priceRange=&filterType=&listSize=36&filter=&isPriceRange=false&brand=&offerCondition=&rating=0&page={0}&rocketAll=false&searchIndexingToken=&backgroundColor=\".format(i)\n",
    "\n",
    "    headers = {\"User-Agent\" : \"Mozilla/5.0 (Windows NT 10.0; Win64; x64) AppleWebKit/537.36 (KHTML, like Gecko) Chrome/91.0.4472.124 Safari/537.36 Edg/91.0.864.67\"}\n",
    "    res = requests.get(url, headers = headers)\n",
    "    res.raise_for_status()\n",
    "\n",
    "    soup = BeautifulSoup(res.text, \"lxml\")\n",
    "\n",
    "    items = soup.find_all(\"li\", {\"class\" : \"search-product\"})\n",
    "\n",
    "    rate = 0\n",
    "    review = 0\n",
    "    for item in items:\n",
    "        # 광고 상품 제외\n",
    "        ad_item = item.find(\"span\", {\"class\" : \"ad-badge-text\"})\n",
    "\n",
    "        if ad_item:\n",
    "            #print(\"광고 상품 제외\")\n",
    "            continue\n",
    "\n",
    "        # 제품명\n",
    "        name  =  item.find(\"div\", {\"class\" : \"name\"}).get_text()\n",
    "\n",
    "        # 가격\n",
    "        price = item.find(\"strong\", {\"class\" : \"price-value\"}).get_text()\n",
    "\n",
    "        # 평점\n",
    "        rate = item.find(\"em\", {\"class\" : \"rating\"})\n",
    "        if rate:\n",
    "            rate = float(rate.get_text())\n",
    "        else:\n",
    "            rate = 0\n",
    "\n",
    "        # 리뷰수\n",
    "        review = item.find(\"span\", {\"class\" : \"rating-total-count\"})\n",
    "        if review:\n",
    "            review = int(review.get_text()[1:-1])\n",
    "        else:\n",
    "            review = 0\n",
    "\n",
    "\n",
    "        if rate >= 4.5 and review >= 100 and (\"삼성전자\" in name or \"LG\" in name):    \n",
    "            print(\"페이지({})\".format(i))\n",
    "            print(\"제품명 :\" , name)\n",
    "            print(\"가격 : \", price)\n",
    "            print(\"평점 : \", rate)\n",
    "            print(\"리뷰수 : \", review)\n",
    "            print('*' * 100)\n"
   ]
  },
  {
   "cell_type": "markdown",
   "id": "5905e66a",
   "metadata": {},
   "source": [
    "* 다음사이트에서 이미지 가져오기"
   ]
  },
  {
   "cell_type": "code",
   "execution_count": 53,
   "id": "56df2eb5",
   "metadata": {},
   "outputs": [],
   "source": [
    "import requests\n",
    "from bs4 import BeautifulSoup\n",
    "\n",
    "url = \"https://search.daum.net/search?w=tot&q=2020%EB%85%84%EC%98%81%ED%99%94%EC%88%9C%EC%9C%84&DA=MOR&rtmaxcoll=MOR\"\n",
    "\n",
    "headers = {\"User-Agent\" : \"Mozilla/5.0 (Windows NT 10.0; Win64; x64) AppleWebKit/537.36 (KHTML, like Gecko) Chrome/91.0.4472.124 Safari/537.36 Edg/91.0.864.67\"}\n",
    "res = requests.get(url, headers = headers)\n",
    "res.raise_for_status()\n",
    "\n",
    "soup = BeautifulSoup(res.text, \"lxml\")\n",
    "\n",
    "images = soup.find_all(\"img\", {\"class\" : \"thumb_img\"})\n",
    "for i, image in enumerate(images):\n",
    "    image_url = image[\"src\"]\n",
    "    image_res = requests.get(image_url)\n",
    "    image_res.raise_for_status()\n",
    "    \n",
    "    with open(\"movie_{}\".format(i), \"wb\") as f:\n",
    "        f.write(image_res.content)\n",
    "    \n",
    "    "
   ]
  },
  {
   "cell_type": "code",
   "execution_count": null,
   "id": "a3505f19",
   "metadata": {},
   "outputs": [],
   "source": [
    "* 연도별 상위 5개 이미지를 2016~2020 (25개)"
   ]
  },
  {
   "cell_type": "code",
   "execution_count": 61,
   "id": "6a8fc669",
   "metadata": {},
   "outputs": [],
   "source": [
    "import requests\n",
    "from bs4 import BeautifulSoup\n",
    "\n",
    "for year in range(2016, 2021):\n",
    "    url = \"https://search.daum.net/search?w=tot&q={0}%EB%85%84%EC%98%81%ED%99%94%EC%88%9C%EC%9C%84&DA=MOR&rtmaxcoll=MOR\".format(year)\n",
    "\n",
    "    headers = {\"User-Agent\" : \"Mozilla/5.0 (Windows NT 10.0; Win64; x64) AppleWebKit/537.36 (KHTML, like Gecko) Chrome/91.0.4472.124 Safari/537.36 Edg/91.0.864.67\"}\n",
    "    res = requests.get(url, headers = headers)\n",
    "    res.raise_for_status()\n",
    "\n",
    "    soup = BeautifulSoup(res.text, \"lxml\")\n",
    "\n",
    "    images = soup.find_all(\"img\", {\"class\" : \"thumb_img\"})\n",
    "    for i, image in enumerate(images):\n",
    "        image_url = image[\"src\"]\n",
    "        image_res = requests.get(image_url)\n",
    "        image_res.raise_for_status()\n",
    "\n",
    "        with open(\"movie_{0}_{1}\".format(year, i+1), \"wb\") as f:\n",
    "            f.write(image_res.content)\n",
    "            \n",
    "        if i>=4 :\n",
    "            break"
   ]
  },
  {
   "cell_type": "markdown",
   "id": "68ec51d3",
   "metadata": {},
   "source": [
    "* 네이버 금융(시가총액)"
   ]
  },
  {
   "cell_type": "code",
   "execution_count": 85,
   "id": "5adbd094",
   "metadata": {},
   "outputs": [],
   "source": [
    "import requests\n",
    "from bs4 import BeautifulSoup\n",
    "import csv\n",
    "\n",
    "filename =\"시가총액.csv\"\n",
    "f = open(filename, \"w\", encoding=\"utf-8\", newline=\"\")\n",
    "\n",
    "writer = csv.writer(f)\n",
    "\n",
    "url = \"https://finance.naver.com/sise/sise_market_sum.nhn?sosok=0&page=1\"\n",
    "\n",
    "headers = {\"User-Agent\" : \"Mozilla/5.0 (Windows NT 10.0; Win64; x64) AppleWebKit/537.36 (KHTML, like Gecko) Chrome/91.0.4472.124 Safari/537.36 Edg/91.0.864.67\"}\n",
    "res = requests.get(url, headers = headers)\n",
    "res.raise_for_status()\n",
    "\n",
    "soup = BeautifulSoup(res.text, \"lxml\")\n",
    "\n",
    "table = soup.find(\"table\", {\"class\" : \"type_2\"})\n",
    "tbody = table.find(\"tbody\")\n",
    "rows = tbody.find_all(\"tr\")\n",
    "\n",
    "for row in rows:\n",
    "    columns = row.find_all(\"td\")\n",
    "    if len(columns) <= 1:\n",
    "        continue\n",
    "    \n",
    "    data = [column.get_text().strip() for column in columns]\n",
    "    writer.writerow(data)\n",
    "    \n",
    "f.close()"
   ]
  },
  {
   "cell_type": "code",
   "execution_count": 88,
   "id": "3bba7a58",
   "metadata": {},
   "outputs": [],
   "source": [
    "import requests\n",
    "from bs4 import BeautifulSoup\n",
    "\n",
    "\n",
    "filename =\"시가총액2.csv\"\n",
    "f = open(filename, \"w\", encoding=\"utf-8\")\n",
    "\n",
    "url = \"https://finance.naver.com/sise/sise_market_sum.nhn?sosok=0&page=1\"\n",
    "\n",
    "headers = {\"User-Agent\" : \"Mozilla/5.0 (Windows NT 10.0; Win64; x64) AppleWebKit/537.36 (KHTML, like Gecko) Chrome/91.0.4472.124 Safari/537.36 Edg/91.0.864.67\"}\n",
    "res = requests.get(url, headers = headers)\n",
    "res.raise_for_status()\n",
    "\n",
    "soup = BeautifulSoup(res.text, \"lxml\")\n",
    "\n",
    "table = soup.find(\"table\", {\"class\" : \"type_2\"})\n",
    "tbody = table.find(\"tbody\")\n",
    "rows = tbody.find_all(\"tr\")\n",
    "\n",
    "for row in rows:\n",
    "    columns = row.find_all(\"td\")\n",
    "    if len(columns) <= 1:\n",
    "        continue\n",
    "    \n",
    "    for column in columns:\n",
    "        f.write(column.get_text().strip())\n",
    "        f.write(\",\")\n",
    "    f.write(\"\\n\")\n",
    "    \n",
    "f.close()"
   ]
  },
  {
   "cell_type": "code",
   "execution_count": null,
   "id": "ecce14df",
   "metadata": {},
   "outputs": [],
   "source": []
  },
  {
   "cell_type": "code",
   "execution_count": null,
   "id": "c858b37d",
   "metadata": {},
   "outputs": [],
   "source": []
  },
  {
   "cell_type": "code",
   "execution_count": null,
   "id": "4d9e8a85",
   "metadata": {},
   "outputs": [],
   "source": []
  },
  {
   "cell_type": "code",
   "execution_count": null,
   "id": "86996c03",
   "metadata": {},
   "outputs": [],
   "source": []
  },
  {
   "cell_type": "code",
   "execution_count": null,
   "id": "1232ba45",
   "metadata": {},
   "outputs": [],
   "source": []
  },
  {
   "cell_type": "code",
   "execution_count": null,
   "id": "a544720b",
   "metadata": {},
   "outputs": [],
   "source": []
  },
  {
   "cell_type": "code",
   "execution_count": null,
   "id": "b6db7c98",
   "metadata": {},
   "outputs": [],
   "source": []
  }
 ],
 "metadata": {
  "kernelspec": {
   "display_name": "Python 3",
   "language": "python",
   "name": "python3"
  },
  "language_info": {
   "codemirror_mode": {
    "name": "ipython",
    "version": 3
   },
   "file_extension": ".py",
   "mimetype": "text/x-python",
   "name": "python",
   "nbconvert_exporter": "python",
   "pygments_lexer": "ipython3",
   "version": "3.8.8"
  }
 },
 "nbformat": 4,
 "nbformat_minor": 5
}
