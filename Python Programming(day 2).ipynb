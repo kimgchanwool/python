{
 "cells": [
  {
   "cell_type": "markdown",
   "id": "ddaeaed6",
   "metadata": {},
   "source": [
    "* bool, 비교연산, 논리연산"
   ]
  },
  {
   "cell_type": "code",
   "execution_count": 22,
   "id": "9cbd4a70",
   "metadata": {},
   "outputs": [],
   "source": [
    "a = 260"
   ]
  },
  {
   "cell_type": "code",
   "execution_count": 23,
   "id": "99ac6aa9",
   "metadata": {},
   "outputs": [],
   "source": [
    "b = 260"
   ]
  },
  {
   "cell_type": "code",
   "execution_count": 24,
   "id": "afd36ece",
   "metadata": {},
   "outputs": [
    {
     "data": {
      "text/plain": [
       "True"
      ]
     },
     "execution_count": 24,
     "metadata": {},
     "output_type": "execute_result"
    }
   ],
   "source": [
    "a == b"
   ]
  },
  {
   "cell_type": "code",
   "execution_count": 25,
   "id": "bdeaec86",
   "metadata": {},
   "outputs": [
    {
     "data": {
      "text/plain": [
       "False"
      ]
     },
     "execution_count": 25,
     "metadata": {},
     "output_type": "execute_result"
    }
   ],
   "source": [
    "a is b"
   ]
  },
  {
   "cell_type": "code",
   "execution_count": 26,
   "id": "35547acc",
   "metadata": {},
   "outputs": [
    {
     "data": {
      "text/plain": [
       "1428810456304"
      ]
     },
     "execution_count": 26,
     "metadata": {},
     "output_type": "execute_result"
    }
   ],
   "source": [
    "id(a)"
   ]
  },
  {
   "cell_type": "code",
   "execution_count": 27,
   "id": "2f7fa1cd",
   "metadata": {},
   "outputs": [
    {
     "data": {
      "text/plain": [
       "1428810456432"
      ]
     },
     "execution_count": 27,
     "metadata": {},
     "output_type": "execute_result"
    }
   ],
   "source": [
    "id(b)"
   ]
  },
  {
   "cell_type": "markdown",
   "id": "a0178e4b",
   "metadata": {},
   "source": [
    "* 합격 여부 출력하기"
   ]
  },
  {
   "cell_type": "code",
   "execution_count": 28,
   "id": "09cb4553",
   "metadata": {},
   "outputs": [
    {
     "name": "stdout",
     "output_type": "stream",
     "text": [
      "False\n"
     ]
    }
   ],
   "source": [
    "korean = 92\n",
    "english = 47\n",
    "mathmatics = 86\n",
    "science = 81\n",
    "print( korean >= 50 and english >= 50 and mathmatics >= 86 and science >= 50)"
   ]
  },
  {
   "cell_type": "markdown",
   "id": "d0a4edcf",
   "metadata": {},
   "source": [
    "* 문자열"
   ]
  },
  {
   "cell_type": "code",
   "execution_count": 30,
   "id": "dcd7faf9",
   "metadata": {},
   "outputs": [],
   "source": [
    "s1 = 'hello' \n",
    "s2 = \"hello\"\n",
    "s3 = '''hello'''\n",
    "s4 = \"\"\"hello\"\"\""
   ]
  },
  {
   "cell_type": "code",
   "execution_count": 31,
   "id": "53ee6e7f",
   "metadata": {},
   "outputs": [
    {
     "name": "stdout",
     "output_type": "stream",
     "text": [
      "hello\n",
      "hello\n",
      "hello\n",
      "hello\n"
     ]
    }
   ],
   "source": [
    "print(s1, s2, s3, s4, sep='\\n')"
   ]
  },
  {
   "cell_type": "code",
   "execution_count": null,
   "id": "81ba0e12",
   "metadata": {},
   "outputs": [],
   "source": []
  },
  {
   "cell_type": "code",
   "execution_count": 32,
   "id": "8515749b",
   "metadata": {},
   "outputs": [
    {
     "name": "stdout",
     "output_type": "stream",
     "text": [
      "hello 'python'\n"
     ]
    }
   ],
   "source": [
    "# hello 'python'\n",
    "s1 = \"hello 'python'\"\n",
    "print(s1)"
   ]
  },
  {
   "cell_type": "code",
   "execution_count": null,
   "id": "cb8d5f51",
   "metadata": {},
   "outputs": [],
   "source": [
    "hello \"python\""
   ]
  },
  {
   "cell_type": "code",
   "execution_count": 33,
   "id": "b1f0744f",
   "metadata": {},
   "outputs": [
    {
     "name": "stdout",
     "output_type": "stream",
     "text": [
      "hello \"python\"\n"
     ]
    }
   ],
   "source": [
    "s2 = 'hello \"python\"'\n",
    "print(s2)"
   ]
  },
  {
   "cell_type": "code",
   "execution_count": 38,
   "id": "1d3458e1",
   "metadata": {},
   "outputs": [
    {
     "name": "stdout",
     "output_type": "stream",
     "text": [
      "hello 'python' \n"
     ]
    }
   ],
   "source": [
    "s3 = '''hello 'python' '''\n",
    "print(s3)"
   ]
  },
  {
   "cell_type": "code",
   "execution_count": 42,
   "id": "930113b5",
   "metadata": {},
   "outputs": [
    {
     "name": "stdout",
     "output_type": "stream",
     "text": [
      "hello \"python\" \n"
     ]
    }
   ],
   "source": [
    "s4 = \"\"\"hello \"python\" \"\"\"\n",
    "print(s4)"
   ]
  },
  {
   "cell_type": "code",
   "execution_count": 34,
   "id": "19bf9e49",
   "metadata": {},
   "outputs": [
    {
     "name": "stdout",
     "output_type": "stream",
     "text": [
      "here is \n",
      "python world\n",
      "it is\n",
      "real!!!!\n"
     ]
    }
   ],
   "source": [
    "s5 = '''here is \n",
    "python world\n",
    "it is\n",
    "real!!!!'''\n",
    "print(s5)"
   ]
  },
  {
   "cell_type": "code",
   "execution_count": 35,
   "id": "26bc46a0",
   "metadata": {},
   "outputs": [
    {
     "name": "stdout",
     "output_type": "stream",
     "text": [
      "here is \n",
      "python world\n",
      "it is\n",
      "real!!!!\n"
     ]
    }
   ],
   "source": [
    "s6 = \"\"\"here is \n",
    "python world\n",
    "it is\n",
    "real!!!!\"\"\"\n",
    "print(s6)"
   ]
  },
  {
   "cell_type": "code",
   "execution_count": 36,
   "id": "461b44c7",
   "metadata": {},
   "outputs": [
    {
     "data": {
      "text/plain": [
       "3"
      ]
     },
     "execution_count": 36,
     "metadata": {},
     "output_type": "execute_result"
    }
   ],
   "source": [
    "s6.count('\\n')"
   ]
  },
  {
   "cell_type": "code",
   "execution_count": 37,
   "id": "40500280",
   "metadata": {},
   "outputs": [
    {
     "name": "stdout",
     "output_type": "stream",
     "text": [
      "here is\n",
      " python world\n",
      "it is\n",
      "real!!!!\n"
     ]
    }
   ],
   "source": [
    "s7 = \"\"\"here is\\n python world\\nit is\\nreal!!!!\"\"\"\n",
    "print(s7)"
   ]
  },
  {
   "cell_type": "code",
   "execution_count": 43,
   "id": "bd28414b",
   "metadata": {},
   "outputs": [
    {
     "name": "stdout",
     "output_type": "stream",
     "text": [
      "\"hello\" python\n"
     ]
    }
   ],
   "source": [
    "s = \"\"\"\"hello\" python\"\"\"\n",
    "print(s)"
   ]
  },
  {
   "cell_type": "code",
   "execution_count": 45,
   "id": "9ee3c70e",
   "metadata": {},
   "outputs": [
    {
     "name": "stdout",
     "output_type": "stream",
     "text": [
      "hello \"python\" \n"
     ]
    }
   ],
   "source": [
    "s = \"\"\"hello \"python\"\"\"\"\n",
    "print(s)\n"
   ]
  },
  {
   "cell_type": "code",
   "execution_count": 47,
   "id": "ae858786",
   "metadata": {},
   "outputs": [],
   "source": [
    "s = \"\"\"'Python' is a \"programming language\"\n",
    "that lets you work quicky\n",
    "and\n",
    "integrate systems more effectively.\n",
    "\"\"\""
   ]
  },
  {
   "cell_type": "code",
   "execution_count": 48,
   "id": "3ca71ec7",
   "metadata": {},
   "outputs": [
    {
     "name": "stdout",
     "output_type": "stream",
     "text": [
      "'Python' is a \"programming language\"\n",
      "that lets you work quicky\n",
      "and\n",
      "integrate systems more effectively.\n",
      "\n"
     ]
    }
   ],
   "source": [
    "print(s)"
   ]
  },
  {
   "cell_type": "markdown",
   "id": "2a59b381",
   "metadata": {},
   "source": [
    "* 리스트"
   ]
  },
  {
   "cell_type": "code",
   "execution_count": 49,
   "id": "ed855f5b",
   "metadata": {},
   "outputs": [
    {
     "data": {
      "text/plain": [
       "range(0, 10)"
      ]
     },
     "execution_count": 49,
     "metadata": {},
     "output_type": "execute_result"
    }
   ],
   "source": [
    "range(10)"
   ]
  },
  {
   "cell_type": "code",
   "execution_count": 50,
   "id": "06f5d404",
   "metadata": {},
   "outputs": [
    {
     "data": {
      "text/plain": [
       "range"
      ]
     },
     "execution_count": 50,
     "metadata": {},
     "output_type": "execute_result"
    }
   ],
   "source": [
    "type(range(10))"
   ]
  },
  {
   "cell_type": "code",
   "execution_count": 51,
   "id": "704e7864",
   "metadata": {},
   "outputs": [
    {
     "data": {
      "text/plain": [
       "[0, 1, 2, 3, 4, 5, 6, 7, 8, 9]"
      ]
     },
     "execution_count": 51,
     "metadata": {},
     "output_type": "execute_result"
    }
   ],
   "source": [
    "list(range(10))"
   ]
  },
  {
   "cell_type": "code",
   "execution_count": 52,
   "id": "7baaa336",
   "metadata": {},
   "outputs": [
    {
     "data": {
      "text/plain": [
       "range(5, 12)"
      ]
     },
     "execution_count": 52,
     "metadata": {},
     "output_type": "execute_result"
    }
   ],
   "source": [
    "range(5, 12)"
   ]
  },
  {
   "cell_type": "code",
   "execution_count": 53,
   "id": "e83397cc",
   "metadata": {},
   "outputs": [
    {
     "data": {
      "text/plain": [
       "[5, 6, 7, 8, 9, 10, 11]"
      ]
     },
     "execution_count": 53,
     "metadata": {},
     "output_type": "execute_result"
    }
   ],
   "source": [
    "list(range(5, 12))"
   ]
  },
  {
   "cell_type": "code",
   "execution_count": 54,
   "id": "79027110",
   "metadata": {},
   "outputs": [
    {
     "data": {
      "text/plain": [
       "[5, 7, 9, 11]"
      ]
     },
     "execution_count": 54,
     "metadata": {},
     "output_type": "execute_result"
    }
   ],
   "source": [
    "list(range(5, 12, 2))"
   ]
  },
  {
   "cell_type": "code",
   "execution_count": 55,
   "id": "1562a3ab",
   "metadata": {},
   "outputs": [
    {
     "data": {
      "text/plain": [
       "range(12, 5, -1)"
      ]
     },
     "execution_count": 55,
     "metadata": {},
     "output_type": "execute_result"
    }
   ],
   "source": [
    "range(12, 5, -1)"
   ]
  },
  {
   "cell_type": "code",
   "execution_count": 56,
   "id": "11be193a",
   "metadata": {},
   "outputs": [
    {
     "data": {
      "text/plain": [
       "[12, 11, 10, 9, 8, 7, 6]"
      ]
     },
     "execution_count": 56,
     "metadata": {},
     "output_type": "execute_result"
    }
   ],
   "source": [
    "list(range(12, 5, -1))"
   ]
  },
  {
   "cell_type": "code",
   "execution_count": 58,
   "id": "990a6955",
   "metadata": {},
   "outputs": [
    {
     "data": {
      "text/plain": [
       "[12, 10, 8, 6]"
      ]
     },
     "execution_count": 58,
     "metadata": {},
     "output_type": "execute_result"
    }
   ],
   "source": [
    "list(range(12, 5, -2))"
   ]
  },
  {
   "cell_type": "markdown",
   "id": "19dda90c",
   "metadata": {},
   "source": [
    "* 튜플"
   ]
  },
  {
   "cell_type": "code",
   "execution_count": 59,
   "id": "8ab96a07",
   "metadata": {},
   "outputs": [
    {
     "data": {
      "text/plain": [
       "(1, 2, 3)"
      ]
     },
     "execution_count": 59,
     "metadata": {},
     "output_type": "execute_result"
    }
   ],
   "source": [
    "t = (1,2,3)\n",
    "t"
   ]
  },
  {
   "cell_type": "code",
   "execution_count": 60,
   "id": "e6b0ea5b",
   "metadata": {},
   "outputs": [
    {
     "data": {
      "text/plain": [
       "tuple"
      ]
     },
     "execution_count": 60,
     "metadata": {},
     "output_type": "execute_result"
    }
   ],
   "source": [
    "type(t)"
   ]
  },
  {
   "cell_type": "code",
   "execution_count": 61,
   "id": "0478f723",
   "metadata": {},
   "outputs": [
    {
     "data": {
      "text/plain": [
       "(1, 'python', 1.5, True)"
      ]
     },
     "execution_count": 61,
     "metadata": {},
     "output_type": "execute_result"
    }
   ],
   "source": [
    "t = (1, \"python\", 1.5, True)\n",
    "t"
   ]
  },
  {
   "cell_type": "code",
   "execution_count": 63,
   "id": "b2c714ca",
   "metadata": {},
   "outputs": [
    {
     "data": {
      "text/plain": [
       "(1,)"
      ]
     },
     "execution_count": 63,
     "metadata": {},
     "output_type": "execute_result"
    }
   ],
   "source": [
    "t1 = (1,)\n",
    "t1"
   ]
  },
  {
   "cell_type": "code",
   "execution_count": 64,
   "id": "6f00f05b",
   "metadata": {},
   "outputs": [
    {
     "data": {
      "text/plain": [
       "tuple"
      ]
     },
     "execution_count": 64,
     "metadata": {},
     "output_type": "execute_result"
    }
   ],
   "source": [
    "type(t1)"
   ]
  },
  {
   "cell_type": "code",
   "execution_count": 67,
   "id": "1fdfade6",
   "metadata": {},
   "outputs": [
    {
     "data": {
      "text/plain": [
       "1"
      ]
     },
     "execution_count": 67,
     "metadata": {},
     "output_type": "execute_result"
    }
   ],
   "source": [
    "t2 = (1)\n",
    "t2"
   ]
  },
  {
   "cell_type": "code",
   "execution_count": 68,
   "id": "fbcaf563",
   "metadata": {},
   "outputs": [
    {
     "data": {
      "text/plain": [
       "int"
      ]
     },
     "execution_count": 68,
     "metadata": {},
     "output_type": "execute_result"
    }
   ],
   "source": [
    "type(t2)"
   ]
  },
  {
   "cell_type": "code",
   "execution_count": 69,
   "id": "5f4128e1",
   "metadata": {},
   "outputs": [
    {
     "data": {
      "text/plain": [
       "range(0, 10)"
      ]
     },
     "execution_count": 69,
     "metadata": {},
     "output_type": "execute_result"
    }
   ],
   "source": [
    "range(10)"
   ]
  },
  {
   "cell_type": "code",
   "execution_count": 70,
   "id": "ef408313",
   "metadata": {},
   "outputs": [
    {
     "data": {
      "text/plain": [
       "[0, 1, 2, 3, 4, 5, 6, 7, 8, 9]"
      ]
     },
     "execution_count": 70,
     "metadata": {},
     "output_type": "execute_result"
    }
   ],
   "source": [
    "list(range(10))"
   ]
  },
  {
   "cell_type": "code",
   "execution_count": 71,
   "id": "d074a810",
   "metadata": {},
   "outputs": [
    {
     "data": {
      "text/plain": [
       "(0, 1, 2, 3, 4, 5, 6, 7, 8, 9)"
      ]
     },
     "execution_count": 71,
     "metadata": {},
     "output_type": "execute_result"
    }
   ],
   "source": [
    "tuple(range(10))"
   ]
  },
  {
   "cell_type": "code",
   "execution_count": 72,
   "id": "88960b08",
   "metadata": {},
   "outputs": [
    {
     "name": "stdout",
     "output_type": "stream",
     "text": [
      "3\n",
      "(-10, -7, -4, -1, 2, 5, 8)\n"
     ]
    }
   ],
   "source": [
    "a = int(input())\n",
    "b = tuple(range(-10,10,a))\n",
    "print(b)\n"
   ]
  },
  {
   "cell_type": "code",
   "execution_count": 75,
   "id": "c77b9a52",
   "metadata": {},
   "outputs": [
    {
     "name": "stdout",
     "output_type": "stream",
     "text": [
      "3\n",
      "(-10, -7, -4, -1, 2, 5, 8)\n"
     ]
    }
   ],
   "source": [
    "step = int(input())\n",
    "t = tuple(range(-10, 10, step))\n",
    "print(t)"
   ]
  },
  {
   "cell_type": "markdown",
   "id": "1d0dc7b1",
   "metadata": {},
   "source": [
    "* 시퀀스 자료형"
   ]
  },
  {
   "cell_type": "code",
   "execution_count": 76,
   "id": "36b2b39a",
   "metadata": {},
   "outputs": [],
   "source": [
    "a = [0, 10, 20, 30, 40, 50, 60, 70, 80, 90]"
   ]
  },
  {
   "cell_type": "code",
   "execution_count": 77,
   "id": "eb3028ec",
   "metadata": {},
   "outputs": [
    {
     "data": {
      "text/plain": [
       "10"
      ]
     },
     "execution_count": 77,
     "metadata": {},
     "output_type": "execute_result"
    }
   ],
   "source": [
    "len(a)"
   ]
  },
  {
   "cell_type": "code",
   "execution_count": 78,
   "id": "0a659d84",
   "metadata": {},
   "outputs": [
    {
     "data": {
      "text/plain": [
       "0"
      ]
     },
     "execution_count": 78,
     "metadata": {},
     "output_type": "execute_result"
    }
   ],
   "source": [
    "a[0]"
   ]
  },
  {
   "cell_type": "code",
   "execution_count": 79,
   "id": "1ed31165",
   "metadata": {},
   "outputs": [
    {
     "data": {
      "text/plain": [
       "90"
      ]
     },
     "execution_count": 79,
     "metadata": {},
     "output_type": "execute_result"
    }
   ],
   "source": [
    "a[9]"
   ]
  },
  {
   "cell_type": "code",
   "execution_count": null,
   "id": "be4a6fee",
   "metadata": {},
   "outputs": [],
   "source": [
    "#전체를 다 가져올 수 있는 방법\n",
    "a[:]\n",
    "a[::]\n",
    "a[:len(a)]\n",
    "a[0:len(a)]"
   ]
  },
  {
   "cell_type": "code",
   "execution_count": 80,
   "id": "73028d33",
   "metadata": {},
   "outputs": [
    {
     "data": {
      "text/plain": [
       "[0, 10, 20, 30, 40, 50, 60, 70, 80, 90]"
      ]
     },
     "execution_count": 80,
     "metadata": {},
     "output_type": "execute_result"
    }
   ],
   "source": [
    "a[0:len(a)]"
   ]
  },
  {
   "cell_type": "markdown",
   "id": "84d1a1c3",
   "metadata": {},
   "source": [
    "* 최근 3년간 인구 출력하기"
   ]
  },
  {
   "cell_type": "code",
   "execution_count": 82,
   "id": "7ada8bf2",
   "metadata": {},
   "outputs": [],
   "source": [
    "year = [2011, 2012, 2013, 2014, 2015, 2016, 2017, 2018]\n",
    "population = [1000000, 2000000, 3000000, 4000000, 5000000, 6000000, 7000000, 8000000]"
   ]
  },
  {
   "cell_type": "code",
   "execution_count": 83,
   "id": "18c2db44",
   "metadata": {},
   "outputs": [
    {
     "data": {
      "text/plain": [
       "[2016, 2017, 2018]"
      ]
     },
     "execution_count": 83,
     "metadata": {},
     "output_type": "execute_result"
    }
   ],
   "source": [
    "year[-3:]"
   ]
  },
  {
   "cell_type": "code",
   "execution_count": 84,
   "id": "42566dfb",
   "metadata": {},
   "outputs": [
    {
     "data": {
      "text/plain": [
       "[6000000, 7000000, 8000000]"
      ]
     },
     "execution_count": 84,
     "metadata": {},
     "output_type": "execute_result"
    }
   ],
   "source": [
    "population[-3:]"
   ]
  },
  {
   "cell_type": "markdown",
   "id": "d15af309",
   "metadata": {},
   "source": [
    "* 리스트의 마지막 요소 5개 출력하기"
   ]
  },
  {
   "cell_type": "code",
   "execution_count": 85,
   "id": "03e51193",
   "metadata": {},
   "outputs": [
    {
     "name": "stdout",
     "output_type": "stream",
     "text": [
      "1 2 3 4 5 6 7 8 9 10\n"
     ]
    }
   ],
   "source": [
    "x = input().split()"
   ]
  },
  {
   "cell_type": "code",
   "execution_count": 86,
   "id": "fbb01830",
   "metadata": {},
   "outputs": [
    {
     "data": {
      "text/plain": [
       "['1', '2', '3', '4', '5', '6', '7', '8', '9', '10']"
      ]
     },
     "execution_count": 86,
     "metadata": {},
     "output_type": "execute_result"
    }
   ],
   "source": [
    "x"
   ]
  },
  {
   "cell_type": "code",
   "execution_count": 87,
   "id": "e97b89af",
   "metadata": {},
   "outputs": [],
   "source": [
    "del x[-5:]"
   ]
  },
  {
   "cell_type": "code",
   "execution_count": 88,
   "id": "6f9016ff",
   "metadata": {},
   "outputs": [
    {
     "name": "stdout",
     "output_type": "stream",
     "text": [
      "('1', '2', '3', '4', '5')\n"
     ]
    }
   ],
   "source": [
    "print(tuple(x))"
   ]
  },
  {
   "cell_type": "markdown",
   "id": "8a4088b1",
   "metadata": {},
   "source": [
    "* 주민번호로 성별 구분하기"
   ]
  },
  {
   "cell_type": "code",
   "execution_count": 89,
   "id": "bce236b9",
   "metadata": {},
   "outputs": [],
   "source": [
    "pin = '88120-1068234'"
   ]
  },
  {
   "cell_type": "code",
   "execution_count": 92,
   "id": "ca7ed3ad",
   "metadata": {},
   "outputs": [
    {
     "data": {
      "text/plain": [
       "['88120', '1068234']"
      ]
     },
     "execution_count": 92,
     "metadata": {},
     "output_type": "execute_result"
    }
   ],
   "source": [
    "l = pin.split('-')\n",
    "l"
   ]
  },
  {
   "cell_type": "code",
   "execution_count": 93,
   "id": "465afa6a",
   "metadata": {},
   "outputs": [
    {
     "data": {
      "text/plain": [
       "'88120'"
      ]
     },
     "execution_count": 93,
     "metadata": {},
     "output_type": "execute_result"
    }
   ],
   "source": [
    "l[0]"
   ]
  },
  {
   "cell_type": "code",
   "execution_count": 95,
   "id": "13bb444e",
   "metadata": {},
   "outputs": [],
   "source": [
    "s = l[1]"
   ]
  },
  {
   "cell_type": "code",
   "execution_count": 96,
   "id": "19567c72",
   "metadata": {},
   "outputs": [
    {
     "data": {
      "text/plain": [
       "'1'"
      ]
     },
     "execution_count": 96,
     "metadata": {},
     "output_type": "execute_result"
    }
   ],
   "source": [
    "s[0]"
   ]
  },
  {
   "cell_type": "code",
   "execution_count": 97,
   "id": "d01ec338",
   "metadata": {},
   "outputs": [
    {
     "name": "stdout",
     "output_type": "stream",
     "text": [
      "male\n"
     ]
    }
   ],
   "source": [
    "if s[0] == '1':\n",
    "    print(\"male\")\n",
    "else:\n",
    "    print(\"female\")"
   ]
  },
  {
   "cell_type": "code",
   "execution_count": 98,
   "id": "2359517f",
   "metadata": {},
   "outputs": [
    {
     "name": "stdout",
     "output_type": "stream",
     "text": [
      "male\n"
     ]
    }
   ],
   "source": [
    "if pin.split('-')[1][0] == '1':\n",
    "    print(\"male\")\n",
    "else:\n",
    "    print(\"female\")"
   ]
  },
  {
   "cell_type": "code",
   "execution_count": null,
   "id": "bd98d6a2",
   "metadata": {},
   "outputs": [],
   "source": [
    "# -5 ~ 256 "
   ]
  },
  {
   "cell_type": "code",
   "execution_count": 100,
   "id": "0251cd3b",
   "metadata": {},
   "outputs": [
    {
     "data": {
      "text/plain": [
       "False"
      ]
     },
     "execution_count": 100,
     "metadata": {},
     "output_type": "execute_result"
    }
   ],
   "source": [
    "a = 257\n",
    "b = 257\n",
    "a is b"
   ]
  },
  {
   "cell_type": "code",
   "execution_count": null,
   "id": "2a5cc936",
   "metadata": {},
   "outputs": [],
   "source": [
    "# 값을 비교할 때는 \"==\" 사용!!\n",
    "\n",
    "# is를 사용한다는 것의 의미 : if id(a) == id(b), 값을 비교하는 것은 아님\n",
    "# -5 ~ 256 은 파이썬 인터프리터에서 예약이 되어 있어서 예외"
   ]
  },
  {
   "cell_type": "code",
   "execution_count": null,
   "id": "15bc3142",
   "metadata": {},
   "outputs": [],
   "source": []
  },
  {
   "cell_type": "markdown",
   "id": "7492396b",
   "metadata": {},
   "source": [
    "* 핸드폰 번호 가리기"
   ]
  },
  {
   "cell_type": "code",
   "execution_count": 111,
   "id": "0bda1f5a",
   "metadata": {},
   "outputs": [
    {
     "data": {
      "text/plain": [
       "'#######5678'"
      ]
     },
     "execution_count": 111,
     "metadata": {},
     "output_type": "execute_result"
    }
   ],
   "source": [
    "#phone_number = input()\n",
    "phone_number = \"01012345678\"\n",
    "# result = \"*******5678\"\n",
    "#result1 = phone_number[0:len(phone_number)-4]\n",
    "result1 = (len(phone_number)-4) * '#'\n",
    "result2 = phone_number[-4:]\n",
    "result1 + result2"
   ]
  },
  {
   "cell_type": "code",
   "execution_count": 112,
   "id": "48948a8a",
   "metadata": {},
   "outputs": [
    {
     "data": {
      "text/plain": [
       "'#######'"
      ]
     },
     "execution_count": 112,
     "metadata": {},
     "output_type": "execute_result"
    }
   ],
   "source": [
    "result1"
   ]
  },
  {
   "cell_type": "code",
   "execution_count": 113,
   "id": "3cfff33b",
   "metadata": {},
   "outputs": [
    {
     "data": {
      "text/plain": [
       "'5678'"
      ]
     },
     "execution_count": 113,
     "metadata": {},
     "output_type": "execute_result"
    }
   ],
   "source": [
    "result2"
   ]
  },
  {
   "cell_type": "code",
   "execution_count": 114,
   "id": "dbc5e380",
   "metadata": {},
   "outputs": [
    {
     "data": {
      "text/plain": [
       "'#######5678'"
      ]
     },
     "execution_count": 114,
     "metadata": {},
     "output_type": "execute_result"
    }
   ],
   "source": [
    "(len(phone_number)-4) * '#' + phone_number[-4:]"
   ]
  },
  {
   "cell_type": "code",
   "execution_count": null,
   "id": "5cd9d020",
   "metadata": {},
   "outputs": [],
   "source": [
    "#option1 "
   ]
  },
  {
   "cell_type": "code",
   "execution_count": 115,
   "id": "c1231d01",
   "metadata": {},
   "outputs": [
    {
     "name": "stdout",
     "output_type": "stream",
     "text": [
      "01012345678\n"
     ]
    },
    {
     "data": {
      "text/plain": [
       "'#######5678'"
      ]
     },
     "execution_count": 115,
     "metadata": {},
     "output_type": "execute_result"
    }
   ],
   "source": [
    "def hide_numbers(s):\n",
    "    return (len(s)-4) * '#' + s[-4:]\n",
    "\n",
    "phone_number = input()\n",
    "hide_numbers(phone_number)"
   ]
  },
  {
   "cell_type": "code",
   "execution_count": null,
   "id": "45b1717f",
   "metadata": {},
   "outputs": [],
   "source": [
    "#option2"
   ]
  },
  {
   "cell_type": "code",
   "execution_count": 116,
   "id": "f609e546",
   "metadata": {},
   "outputs": [
    {
     "name": "stdout",
     "output_type": "stream",
     "text": [
      "01012345678\n"
     ]
    },
    {
     "data": {
      "text/plain": [
       "'*******5678'"
      ]
     },
     "execution_count": 116,
     "metadata": {},
     "output_type": "execute_result"
    }
   ],
   "source": [
    "def hide_numbers(s):\n",
    "    return len(s[:-4]) *'*' + s[-4:]\n",
    "\n",
    "phone_number = input()\n",
    "hide_numbers(phone_number)\n"
   ]
  },
  {
   "cell_type": "markdown",
   "id": "d1c6ab90",
   "metadata": {},
   "source": [
    "* 딕셔너리"
   ]
  },
  {
   "cell_type": "code",
   "execution_count": 117,
   "id": "66e0ff36",
   "metadata": {},
   "outputs": [],
   "source": [
    "lux = {'health' : 490, 'mana' : 334, 'melee': 550, 'armor' : 18.72}"
   ]
  },
  {
   "cell_type": "code",
   "execution_count": 118,
   "id": "40ff4a34",
   "metadata": {},
   "outputs": [
    {
     "data": {
      "text/plain": [
       "490"
      ]
     },
     "execution_count": 118,
     "metadata": {},
     "output_type": "execute_result"
    }
   ],
   "source": [
    "lux['health']"
   ]
  },
  {
   "cell_type": "code",
   "execution_count": 122,
   "id": "7ada4df5",
   "metadata": {},
   "outputs": [],
   "source": [
    "lux = {'health' : 490, 'health' : 800, 'mana' : 334, 'melee': 550, 'armor' : 18.72}"
   ]
  },
  {
   "cell_type": "code",
   "execution_count": 124,
   "id": "68e2a8ef",
   "metadata": {},
   "outputs": [
    {
     "data": {
      "text/plain": [
       "800"
      ]
     },
     "execution_count": 124,
     "metadata": {},
     "output_type": "execute_result"
    }
   ],
   "source": [
    "lux['health']"
   ]
  },
  {
   "cell_type": "code",
   "execution_count": 125,
   "id": "32954757",
   "metadata": {},
   "outputs": [
    {
     "data": {
      "text/plain": [
       "{'health': 800, 'mana': 334, 'melee': 550, 'armor': 18.72}"
      ]
     },
     "execution_count": 125,
     "metadata": {},
     "output_type": "execute_result"
    }
   ],
   "source": [
    "lux"
   ]
  },
  {
   "cell_type": "code",
   "execution_count": null,
   "id": "d3c018c1",
   "metadata": {},
   "outputs": [],
   "source": []
  },
  {
   "cell_type": "code",
   "execution_count": 126,
   "id": "f9406145",
   "metadata": {},
   "outputs": [],
   "source": [
    "x = {100 : 'hudred', False : 0, 3.5 : [3.5, 3.5]}"
   ]
  },
  {
   "cell_type": "code",
   "execution_count": 127,
   "id": "009a593d",
   "metadata": {},
   "outputs": [
    {
     "data": {
      "text/plain": [
       "{100: 'hudred', False: 0, 3.5: [3.5, 3.5]}"
      ]
     },
     "execution_count": 127,
     "metadata": {},
     "output_type": "execute_result"
    }
   ],
   "source": [
    "x"
   ]
  },
  {
   "cell_type": "code",
   "execution_count": 128,
   "id": "47b02a57",
   "metadata": {},
   "outputs": [
    {
     "ename": "TypeError",
     "evalue": "unhashable type: 'list'",
     "output_type": "error",
     "traceback": [
      "\u001b[1;31m---------------------------------------------------------------------------\u001b[0m",
      "\u001b[1;31mTypeError\u001b[0m                                 Traceback (most recent call last)",
      "\u001b[1;32m<ipython-input-128-fc1d7c719707>\u001b[0m in \u001b[0;36m<module>\u001b[1;34m\u001b[0m\n\u001b[1;32m----> 1\u001b[1;33m \u001b[0mx\u001b[0m \u001b[1;33m=\u001b[0m \u001b[1;33m{\u001b[0m\u001b[1;33m[\u001b[0m\u001b[1;36m10\u001b[0m\u001b[1;33m,\u001b[0m \u001b[1;36m20\u001b[0m\u001b[1;33m]\u001b[0m \u001b[1;33m:\u001b[0m \u001b[1;36m100\u001b[0m\u001b[1;33m}\u001b[0m\u001b[1;33m\u001b[0m\u001b[1;33m\u001b[0m\u001b[0m\n\u001b[0m",
      "\u001b[1;31mTypeError\u001b[0m: unhashable type: 'list'"
     ]
    }
   ],
   "source": [
    "x = {[10, 20] : 100}"
   ]
  },
  {
   "cell_type": "code",
   "execution_count": null,
   "id": "40074b60",
   "metadata": {},
   "outputs": [],
   "source": []
  },
  {
   "cell_type": "code",
   "execution_count": null,
   "id": "0b685f5c",
   "metadata": {},
   "outputs": [],
   "source": [
    "# 딕셔너리의 키 값에는 리스트와 딕셔너리가 올 수 없음"
   ]
  },
  {
   "cell_type": "code",
   "execution_count": 132,
   "id": "721b4d20",
   "metadata": {},
   "outputs": [
    {
     "data": {
      "text/plain": [
       "100"
      ]
     },
     "execution_count": 132,
     "metadata": {},
     "output_type": "execute_result"
    }
   ],
   "source": [
    "# key값으로 사용할 수 있는 자료형\n",
    "hash(100)"
   ]
  },
  {
   "cell_type": "code",
   "execution_count": 131,
   "id": "42aa488d",
   "metadata": {},
   "outputs": [
    {
     "ename": "TypeError",
     "evalue": "unhashable type: 'dict'",
     "output_type": "error",
     "traceback": [
      "\u001b[1;31m---------------------------------------------------------------------------\u001b[0m",
      "\u001b[1;31mTypeError\u001b[0m                                 Traceback (most recent call last)",
      "\u001b[1;32m<ipython-input-131-eaaca4bb914d>\u001b[0m in \u001b[0;36m<module>\u001b[1;34m\u001b[0m\n\u001b[1;32m----> 1\u001b[1;33m \u001b[0mhash\u001b[0m\u001b[1;33m(\u001b[0m\u001b[0mlux\u001b[0m\u001b[1;33m)\u001b[0m\u001b[1;33m\u001b[0m\u001b[1;33m\u001b[0m\u001b[0m\n\u001b[0m",
      "\u001b[1;31mTypeError\u001b[0m: unhashable type: 'dict'"
     ]
    }
   ],
   "source": [
    "# key값으로 사용할 수 없는 자료형\n",
    "hash(lux)"
   ]
  },
  {
   "cell_type": "code",
   "execution_count": 129,
   "id": "c82bb96c",
   "metadata": {},
   "outputs": [
    {
     "ename": "TypeError",
     "evalue": "unhashable type: 'list'",
     "output_type": "error",
     "traceback": [
      "\u001b[1;31m---------------------------------------------------------------------------\u001b[0m",
      "\u001b[1;31mTypeError\u001b[0m                                 Traceback (most recent call last)",
      "\u001b[1;32m<ipython-input-129-0a692b773a36>\u001b[0m in \u001b[0;36m<module>\u001b[1;34m\u001b[0m\n\u001b[1;32m----> 1\u001b[1;33m \u001b[0mhash\u001b[0m\u001b[1;33m(\u001b[0m\u001b[1;33m[\u001b[0m\u001b[1;36m10\u001b[0m\u001b[1;33m,\u001b[0m \u001b[1;36m20\u001b[0m\u001b[1;33m]\u001b[0m\u001b[1;33m)\u001b[0m\u001b[1;33m\u001b[0m\u001b[1;33m\u001b[0m\u001b[0m\n\u001b[0m",
      "\u001b[1;31mTypeError\u001b[0m: unhashable type: 'list'"
     ]
    }
   ],
   "source": [
    "# key값으로 사용할 수 없는 자료형\n",
    "hash([10, 20])"
   ]
  },
  {
   "cell_type": "markdown",
   "id": "8939587b",
   "metadata": {},
   "source": [
    "* 빈 딕셔너리 만들기"
   ]
  },
  {
   "cell_type": "code",
   "execution_count": 134,
   "id": "91cee257",
   "metadata": {},
   "outputs": [
    {
     "name": "stdout",
     "output_type": "stream",
     "text": [
      "<class 'dict'> <class 'dict'>\n"
     ]
    }
   ],
   "source": [
    "x = {}\n",
    "y = dict()\n",
    "\n",
    "print(type(x), type(y))"
   ]
  },
  {
   "cell_type": "markdown",
   "id": "9e73046b",
   "metadata": {},
   "source": [
    "* dict 함수로 딕셔너리 만들기"
   ]
  },
  {
   "cell_type": "code",
   "execution_count": 137,
   "id": "3b8e5376",
   "metadata": {},
   "outputs": [
    {
     "data": {
      "text/plain": [
       "{'health': 490, 'mana': 334, 'melee': 550, 'armor': 18.72}"
      ]
     },
     "execution_count": 137,
     "metadata": {},
     "output_type": "execute_result"
    }
   ],
   "source": [
    "lux = {'health' : 490, 'mana' : 334, 'melee': 550, 'armor' : 18.72}\n",
    "lux"
   ]
  },
  {
   "cell_type": "code",
   "execution_count": 135,
   "id": "fd023dd7",
   "metadata": {},
   "outputs": [
    {
     "data": {
      "text/plain": [
       "{'health': 490, 'mana': 334, 'melee': 550, 'armor': 18.72}"
      ]
     },
     "execution_count": 135,
     "metadata": {},
     "output_type": "execute_result"
    }
   ],
   "source": [
    "#option 1\n",
    "lux1 = dict(health=490, mana=334, melee=550, armor=18.72)\n",
    "lux1"
   ]
  },
  {
   "cell_type": "code",
   "execution_count": 138,
   "id": "7bc31aff",
   "metadata": {},
   "outputs": [
    {
     "data": {
      "text/plain": [
       "{'health': 490, 'mana': 334, 'melee': 550, 'armor': 18.72}"
      ]
     },
     "execution_count": 138,
     "metadata": {},
     "output_type": "execute_result"
    }
   ],
   "source": [
    "#option 2\n",
    "lux2 = dict(zip(['health', 'mana', 'melee', 'armor'], [490, 334, 550, 18.72]))\n",
    "lux2"
   ]
  },
  {
   "cell_type": "code",
   "execution_count": 145,
   "id": "f95472bf",
   "metadata": {},
   "outputs": [
    {
     "data": {
      "text/plain": [
       "<zip at 0x14cacbdbf40>"
      ]
     },
     "execution_count": 145,
     "metadata": {},
     "output_type": "execute_result"
    }
   ],
   "source": [
    "#참고\n",
    "zip(['health', 'mana', 'melee', 'armor'], [490, 334, 550, 18.72])"
   ]
  },
  {
   "cell_type": "code",
   "execution_count": null,
   "id": "83c3f77e",
   "metadata": {},
   "outputs": [],
   "source": [
    "#option 3"
   ]
  },
  {
   "cell_type": "code",
   "execution_count": 147,
   "id": "30259cf7",
   "metadata": {},
   "outputs": [
    {
     "data": {
      "text/plain": [
       "{'health': 490, 'mana': 334, 'melee': 550, 'armor': 18.72}"
      ]
     },
     "execution_count": 147,
     "metadata": {},
     "output_type": "execute_result"
    }
   ],
   "source": [
    "lux3 = dict([(\"health\", 490), (\"mana\", 334), (\"melee\", 550), (\"armor\", 18.72)])\n",
    "lux3"
   ]
  },
  {
   "cell_type": "code",
   "execution_count": null,
   "id": "ca0e7750",
   "metadata": {},
   "outputs": [],
   "source": [
    "#option 4"
   ]
  },
  {
   "cell_type": "code",
   "execution_count": 148,
   "id": "87d9b6dd",
   "metadata": {},
   "outputs": [
    {
     "data": {
      "text/plain": [
       "{'health': 490, 'mana': 334, 'melee': 550, 'armor': 18.72}"
      ]
     },
     "execution_count": 148,
     "metadata": {},
     "output_type": "execute_result"
    }
   ],
   "source": [
    "lux4 = dict({'health' : 490, 'mana' : 334, 'melee': 550, 'armor' : 18.72})\n",
    "lux4"
   ]
  },
  {
   "cell_type": "markdown",
   "id": "96874543",
   "metadata": {},
   "source": [
    "* 게임 캐릭터 능력 저장"
   ]
  },
  {
   "cell_type": "code",
   "execution_count": 151,
   "id": "34968d4c",
   "metadata": {},
   "outputs": [
    {
     "name": "stdout",
     "output_type": "stream",
     "text": [
      "health health_regen mana manaregen\n",
      "573.6 1.7 338.8 1.63\n"
     ]
    },
    {
     "data": {
      "text/plain": [
       "{'health': 573.6, 'health_regen': 1.7, 'mana': 338.8, 'manaregen': 1.63}"
      ]
     },
     "execution_count": 151,
     "metadata": {},
     "output_type": "execute_result"
    }
   ],
   "source": [
    "keys = input().split()\n",
    "values = map(float, input().split())\n",
    "d = {}\n",
    "\n",
    "zipped = zip(keys, values)\n",
    "dict(zipped)"
   ]
  },
  {
   "cell_type": "markdown",
   "id": "b79f244d",
   "metadata": {},
   "source": [
    "* 온라인 할인쿠폰"
   ]
  },
  {
   "cell_type": "code",
   "execution_count": 154,
   "id": "82704e45",
   "metadata": {},
   "outputs": [
    {
     "name": "stdout",
     "output_type": "stream",
     "text": [
      "27000\n",
      "\n",
      "27000\n"
     ]
    }
   ],
   "source": [
    "price = int(input())\n",
    "coupon = input()\n",
    "\n",
    "if coupon ==\"Cash3000\":\n",
    "    price-=3000\n",
    "elif coupon == \"Cash5000\":\n",
    "    price-=5000\n",
    "else:\n",
    "    pass\n",
    "\n",
    "print(price)"
   ]
  },
  {
   "cell_type": "code",
   "execution_count": null,
   "id": "043f4f8f",
   "metadata": {},
   "outputs": [],
   "source": []
  },
  {
   "cell_type": "code",
   "execution_count": null,
   "id": "3da16055",
   "metadata": {},
   "outputs": [],
   "source": []
  },
  {
   "cell_type": "code",
   "execution_count": null,
   "id": "32cdc6c6",
   "metadata": {},
   "outputs": [],
   "source": []
  },
  {
   "cell_type": "code",
   "execution_count": null,
   "id": "01284855",
   "metadata": {},
   "outputs": [],
   "source": []
  },
  {
   "cell_type": "code",
   "execution_count": null,
   "id": "def39304",
   "metadata": {},
   "outputs": [],
   "source": []
  },
  {
   "cell_type": "code",
   "execution_count": null,
   "id": "99544dac",
   "metadata": {},
   "outputs": [],
   "source": []
  },
  {
   "cell_type": "code",
   "execution_count": null,
   "id": "8a77b238",
   "metadata": {},
   "outputs": [],
   "source": []
  },
  {
   "cell_type": "code",
   "execution_count": null,
   "id": "66bb1481",
   "metadata": {},
   "outputs": [],
   "source": []
  },
  {
   "cell_type": "code",
   "execution_count": null,
   "id": "307e8dca",
   "metadata": {},
   "outputs": [],
   "source": []
  }
 ],
 "metadata": {
  "kernelspec": {
   "display_name": "Python 3",
   "language": "python",
   "name": "python3"
  },
  "language_info": {
   "codemirror_mode": {
    "name": "ipython",
    "version": 3
   },
   "file_extension": ".py",
   "mimetype": "text/x-python",
   "name": "python",
   "nbconvert_exporter": "python",
   "pygments_lexer": "ipython3",
   "version": "3.8.8"
  }
 },
 "nbformat": 4,
 "nbformat_minor": 5
}
