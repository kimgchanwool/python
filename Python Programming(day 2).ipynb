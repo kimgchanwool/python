{
 "cells": [
  {
   "cell_type": "markdown",
   "id": "ddaeaed6",
   "metadata": {},
   "source": [
    "* bool, 비교연산, 논리연산"
   ]
  },
  {
   "cell_type": "code",
   "execution_count": 22,
   "id": "9cbd4a70",
   "metadata": {},
   "outputs": [],
   "source": [
    "a = 260"
   ]
  },
  {
   "cell_type": "code",
   "execution_count": 23,
   "id": "99ac6aa9",
   "metadata": {},
   "outputs": [],
   "source": [
    "b = 260"
   ]
  },
  {
   "cell_type": "code",
   "execution_count": 24,
   "id": "afd36ece",
   "metadata": {},
   "outputs": [
    {
     "data": {
      "text/plain": [
       "True"
      ]
     },
     "execution_count": 24,
     "metadata": {},
     "output_type": "execute_result"
    }
   ],
   "source": [
    "a == b"
   ]
  },
  {
   "cell_type": "code",
   "execution_count": 25,
   "id": "bdeaec86",
   "metadata": {},
   "outputs": [
    {
     "data": {
      "text/plain": [
       "False"
      ]
     },
     "execution_count": 25,
     "metadata": {},
     "output_type": "execute_result"
    }
   ],
   "source": [
    "a is b"
   ]
  },
  {
   "cell_type": "code",
   "execution_count": 26,
   "id": "35547acc",
   "metadata": {},
   "outputs": [
    {
     "data": {
      "text/plain": [
       "1428810456304"
      ]
     },
     "execution_count": 26,
     "metadata": {},
     "output_type": "execute_result"
    }
   ],
   "source": [
    "id(a)"
   ]
  },
  {
   "cell_type": "code",
   "execution_count": 27,
   "id": "2f7fa1cd",
   "metadata": {},
   "outputs": [
    {
     "data": {
      "text/plain": [
       "1428810456432"
      ]
     },
     "execution_count": 27,
     "metadata": {},
     "output_type": "execute_result"
    }
   ],
   "source": [
    "id(b)"
   ]
  },
  {
   "cell_type": "markdown",
   "id": "a0178e4b",
   "metadata": {},
   "source": [
    "* 합격 여부 출력하기"
   ]
  },
  {
   "cell_type": "code",
   "execution_count": 28,
   "id": "09cb4553",
   "metadata": {},
   "outputs": [
    {
     "name": "stdout",
     "output_type": "stream",
     "text": [
      "False\n"
     ]
    }
   ],
   "source": [
    "korean = 92\n",
    "english = 47\n",
    "mathmatics = 86\n",
    "science = 81\n",
    "print( korean >= 50 and english >= 50 and mathmatics >= 86 and science >= 50)"
   ]
  },
  {
   "cell_type": "markdown",
   "id": "d0a4edcf",
   "metadata": {},
   "source": [
    "* 문자열"
   ]
  },
  {
   "cell_type": "code",
   "execution_count": 30,
   "id": "dcd7faf9",
   "metadata": {},
   "outputs": [],
   "source": [
    "s1 = 'hello' \n",
    "s2 = \"hello\"\n",
    "s3 = '''hello'''\n",
    "s4 = \"\"\"hello\"\"\""
   ]
  },
  {
   "cell_type": "code",
   "execution_count": 31,
   "id": "53ee6e7f",
   "metadata": {},
   "outputs": [
    {
     "name": "stdout",
     "output_type": "stream",
     "text": [
      "hello\n",
      "hello\n",
      "hello\n",
      "hello\n"
     ]
    }
   ],
   "source": [
    "print(s1, s2, s3, s4, sep='\\n')"
   ]
  },
  {
   "cell_type": "code",
   "execution_count": null,
   "id": "81ba0e12",
   "metadata": {},
   "outputs": [],
   "source": []
  },
  {
   "cell_type": "code",
   "execution_count": 32,
   "id": "8515749b",
   "metadata": {},
   "outputs": [
    {
     "name": "stdout",
     "output_type": "stream",
     "text": [
      "hello 'python'\n"
     ]
    }
   ],
   "source": [
    "# hello 'python'\n",
    "s1 = \"hello 'python'\"\n",
    "print(s1)"
   ]
  },
  {
   "cell_type": "code",
   "execution_count": null,
   "id": "cb8d5f51",
   "metadata": {},
   "outputs": [],
   "source": [
    "hello \"python\""
   ]
  },
  {
   "cell_type": "code",
   "execution_count": 33,
   "id": "b1f0744f",
   "metadata": {},
   "outputs": [
    {
     "name": "stdout",
     "output_type": "stream",
     "text": [
      "hello \"python\"\n"
     ]
    }
   ],
   "source": [
    "s2 = 'hello \"python\"'\n",
    "print(s2)"
   ]
  },
  {
   "cell_type": "code",
   "execution_count": 38,
   "id": "1d3458e1",
   "metadata": {},
   "outputs": [
    {
     "name": "stdout",
     "output_type": "stream",
     "text": [
      "hello 'python' \n"
     ]
    }
   ],
   "source": [
    "s3 = '''hello 'python' '''\n",
    "print(s3)"
   ]
  },
  {
   "cell_type": "code",
   "execution_count": 42,
   "id": "930113b5",
   "metadata": {},
   "outputs": [
    {
     "name": "stdout",
     "output_type": "stream",
     "text": [
      "hello \"python\" \n"
     ]
    }
   ],
   "source": [
    "s4 = \"\"\"hello \"python\" \"\"\"\n",
    "print(s4)"
   ]
  },
  {
   "cell_type": "code",
   "execution_count": 34,
   "id": "19bf9e49",
   "metadata": {},
   "outputs": [
    {
     "name": "stdout",
     "output_type": "stream",
     "text": [
      "here is \n",
      "python world\n",
      "it is\n",
      "real!!!!\n"
     ]
    }
   ],
   "source": [
    "s5 = '''here is \n",
    "python world\n",
    "it is\n",
    "real!!!!'''\n",
    "print(s5)"
   ]
  },
  {
   "cell_type": "code",
   "execution_count": 35,
   "id": "26bc46a0",
   "metadata": {},
   "outputs": [
    {
     "name": "stdout",
     "output_type": "stream",
     "text": [
      "here is \n",
      "python world\n",
      "it is\n",
      "real!!!!\n"
     ]
    }
   ],
   "source": [
    "s6 = \"\"\"here is \n",
    "python world\n",
    "it is\n",
    "real!!!!\"\"\"\n",
    "print(s6)"
   ]
  },
  {
   "cell_type": "code",
   "execution_count": 36,
   "id": "461b44c7",
   "metadata": {},
   "outputs": [
    {
     "data": {
      "text/plain": [
       "3"
      ]
     },
     "execution_count": 36,
     "metadata": {},
     "output_type": "execute_result"
    }
   ],
   "source": [
    "s6.count('\\n')"
   ]
  },
  {
   "cell_type": "code",
   "execution_count": 37,
   "id": "40500280",
   "metadata": {},
   "outputs": [
    {
     "name": "stdout",
     "output_type": "stream",
     "text": [
      "here is\n",
      " python world\n",
      "it is\n",
      "real!!!!\n"
     ]
    }
   ],
   "source": [
    "s7 = \"\"\"here is\\n python world\\nit is\\nreal!!!!\"\"\"\n",
    "print(s7)"
   ]
  },
  {
   "cell_type": "code",
   "execution_count": 43,
   "id": "bd28414b",
   "metadata": {},
   "outputs": [
    {
     "name": "stdout",
     "output_type": "stream",
     "text": [
      "\"hello\" python\n"
     ]
    }
   ],
   "source": [
    "s = \"\"\"\"hello\" python\"\"\"\n",
    "print(s)"
   ]
  },
  {
   "cell_type": "code",
   "execution_count": 45,
   "id": "9ee3c70e",
   "metadata": {},
   "outputs": [
    {
     "name": "stdout",
     "output_type": "stream",
     "text": [
      "hello \"python\" \n"
     ]
    }
   ],
   "source": [
    "s = \"\"\"hello \"python\"\"\"\"\n",
    "print(s)\n"
   ]
  },
  {
   "cell_type": "code",
   "execution_count": 47,
   "id": "ae858786",
   "metadata": {},
   "outputs": [],
   "source": [
    "s = \"\"\"'Python' is a \"programming language\"\n",
    "that lets you work quicky\n",
    "and\n",
    "integrate systems more effectively.\n",
    "\"\"\""
   ]
  },
  {
   "cell_type": "code",
   "execution_count": 48,
   "id": "3ca71ec7",
   "metadata": {},
   "outputs": [
    {
     "name": "stdout",
     "output_type": "stream",
     "text": [
      "'Python' is a \"programming language\"\n",
      "that lets you work quicky\n",
      "and\n",
      "integrate systems more effectively.\n",
      "\n"
     ]
    }
   ],
   "source": [
    "print(s)"
   ]
  },
  {
   "cell_type": "markdown",
   "id": "2a59b381",
   "metadata": {},
   "source": [
    "* 리스트"
   ]
  },
  {
   "cell_type": "code",
   "execution_count": 49,
   "id": "ed855f5b",
   "metadata": {},
   "outputs": [
    {
     "data": {
      "text/plain": [
       "range(0, 10)"
      ]
     },
     "execution_count": 49,
     "metadata": {},
     "output_type": "execute_result"
    }
   ],
   "source": [
    "range(10)"
   ]
  },
  {
   "cell_type": "code",
   "execution_count": 50,
   "id": "06f5d404",
   "metadata": {},
   "outputs": [
    {
     "data": {
      "text/plain": [
       "range"
      ]
     },
     "execution_count": 50,
     "metadata": {},
     "output_type": "execute_result"
    }
   ],
   "source": [
    "type(range(10))"
   ]
  },
  {
   "cell_type": "code",
   "execution_count": 51,
   "id": "704e7864",
   "metadata": {},
   "outputs": [
    {
     "data": {
      "text/plain": [
       "[0, 1, 2, 3, 4, 5, 6, 7, 8, 9]"
      ]
     },
     "execution_count": 51,
     "metadata": {},
     "output_type": "execute_result"
    }
   ],
   "source": [
    "list(range(10))"
   ]
  },
  {
   "cell_type": "code",
   "execution_count": 52,
   "id": "7baaa336",
   "metadata": {},
   "outputs": [
    {
     "data": {
      "text/plain": [
       "range(5, 12)"
      ]
     },
     "execution_count": 52,
     "metadata": {},
     "output_type": "execute_result"
    }
   ],
   "source": [
    "range(5, 12)"
   ]
  },
  {
   "cell_type": "code",
   "execution_count": 53,
   "id": "e83397cc",
   "metadata": {},
   "outputs": [
    {
     "data": {
      "text/plain": [
       "[5, 6, 7, 8, 9, 10, 11]"
      ]
     },
     "execution_count": 53,
     "metadata": {},
     "output_type": "execute_result"
    }
   ],
   "source": [
    "list(range(5, 12))"
   ]
  },
  {
   "cell_type": "code",
   "execution_count": 54,
   "id": "79027110",
   "metadata": {},
   "outputs": [
    {
     "data": {
      "text/plain": [
       "[5, 7, 9, 11]"
      ]
     },
     "execution_count": 54,
     "metadata": {},
     "output_type": "execute_result"
    }
   ],
   "source": [
    "list(range(5, 12, 2))"
   ]
  },
  {
   "cell_type": "code",
   "execution_count": 55,
   "id": "1562a3ab",
   "metadata": {},
   "outputs": [
    {
     "data": {
      "text/plain": [
       "range(12, 5, -1)"
      ]
     },
     "execution_count": 55,
     "metadata": {},
     "output_type": "execute_result"
    }
   ],
   "source": [
    "range(12, 5, -1)"
   ]
  },
  {
   "cell_type": "code",
   "execution_count": 56,
   "id": "11be193a",
   "metadata": {},
   "outputs": [
    {
     "data": {
      "text/plain": [
       "[12, 11, 10, 9, 8, 7, 6]"
      ]
     },
     "execution_count": 56,
     "metadata": {},
     "output_type": "execute_result"
    }
   ],
   "source": [
    "list(range(12, 5, -1))"
   ]
  },
  {
   "cell_type": "code",
   "execution_count": 58,
   "id": "990a6955",
   "metadata": {},
   "outputs": [
    {
     "data": {
      "text/plain": [
       "[12, 10, 8, 6]"
      ]
     },
     "execution_count": 58,
     "metadata": {},
     "output_type": "execute_result"
    }
   ],
   "source": [
    "list(range(12, 5, -2))"
   ]
  },
  {
   "cell_type": "markdown",
   "id": "19dda90c",
   "metadata": {},
   "source": [
    "* 튜플"
   ]
  },
  {
   "cell_type": "code",
   "execution_count": 59,
   "id": "8ab96a07",
   "metadata": {},
   "outputs": [
    {
     "data": {
      "text/plain": [
       "(1, 2, 3)"
      ]
     },
     "execution_count": 59,
     "metadata": {},
     "output_type": "execute_result"
    }
   ],
   "source": [
    "t = (1,2,3)\n",
    "t"
   ]
  },
  {
   "cell_type": "code",
   "execution_count": 60,
   "id": "e6b0ea5b",
   "metadata": {},
   "outputs": [
    {
     "data": {
      "text/plain": [
       "tuple"
      ]
     },
     "execution_count": 60,
     "metadata": {},
     "output_type": "execute_result"
    }
   ],
   "source": [
    "type(t)"
   ]
  },
  {
   "cell_type": "code",
   "execution_count": 61,
   "id": "0478f723",
   "metadata": {},
   "outputs": [
    {
     "data": {
      "text/plain": [
       "(1, 'python', 1.5, True)"
      ]
     },
     "execution_count": 61,
     "metadata": {},
     "output_type": "execute_result"
    }
   ],
   "source": [
    "t = (1, \"python\", 1.5, True)\n",
    "t"
   ]
  },
  {
   "cell_type": "code",
   "execution_count": 63,
   "id": "b2c714ca",
   "metadata": {},
   "outputs": [
    {
     "data": {
      "text/plain": [
       "(1,)"
      ]
     },
     "execution_count": 63,
     "metadata": {},
     "output_type": "execute_result"
    }
   ],
   "source": [
    "t1 = (1,)\n",
    "t1"
   ]
  },
  {
   "cell_type": "code",
   "execution_count": 64,
   "id": "6f00f05b",
   "metadata": {},
   "outputs": [
    {
     "data": {
      "text/plain": [
       "tuple"
      ]
     },
     "execution_count": 64,
     "metadata": {},
     "output_type": "execute_result"
    }
   ],
   "source": [
    "type(t1)"
   ]
  },
  {
   "cell_type": "code",
   "execution_count": 67,
   "id": "1fdfade6",
   "metadata": {},
   "outputs": [
    {
     "data": {
      "text/plain": [
       "1"
      ]
     },
     "execution_count": 67,
     "metadata": {},
     "output_type": "execute_result"
    }
   ],
   "source": [
    "t2 = (1)\n",
    "t2"
   ]
  },
  {
   "cell_type": "code",
   "execution_count": 68,
   "id": "fbcaf563",
   "metadata": {},
   "outputs": [
    {
     "data": {
      "text/plain": [
       "int"
      ]
     },
     "execution_count": 68,
     "metadata": {},
     "output_type": "execute_result"
    }
   ],
   "source": [
    "type(t2)"
   ]
  },
  {
   "cell_type": "code",
   "execution_count": 69,
   "id": "5f4128e1",
   "metadata": {},
   "outputs": [
    {
     "data": {
      "text/plain": [
       "range(0, 10)"
      ]
     },
     "execution_count": 69,
     "metadata": {},
     "output_type": "execute_result"
    }
   ],
   "source": [
    "range(10)"
   ]
  },
  {
   "cell_type": "code",
   "execution_count": 70,
   "id": "ef408313",
   "metadata": {},
   "outputs": [
    {
     "data": {
      "text/plain": [
       "[0, 1, 2, 3, 4, 5, 6, 7, 8, 9]"
      ]
     },
     "execution_count": 70,
     "metadata": {},
     "output_type": "execute_result"
    }
   ],
   "source": [
    "list(range(10))"
   ]
  },
  {
   "cell_type": "code",
   "execution_count": 71,
   "id": "d074a810",
   "metadata": {},
   "outputs": [
    {
     "data": {
      "text/plain": [
       "(0, 1, 2, 3, 4, 5, 6, 7, 8, 9)"
      ]
     },
     "execution_count": 71,
     "metadata": {},
     "output_type": "execute_result"
    }
   ],
   "source": [
    "tuple(range(10))"
   ]
  },
  {
   "cell_type": "code",
   "execution_count": 72,
   "id": "88960b08",
   "metadata": {},
   "outputs": [
    {
     "name": "stdout",
     "output_type": "stream",
     "text": [
      "3\n",
      "(-10, -7, -4, -1, 2, 5, 8)\n"
     ]
    }
   ],
   "source": [
    "a = int(input())\n",
    "b = tuple(range(-10,10,a))\n",
    "print(b)\n"
   ]
  },
  {
   "cell_type": "code",
   "execution_count": 75,
   "id": "c77b9a52",
   "metadata": {},
   "outputs": [
    {
     "name": "stdout",
     "output_type": "stream",
     "text": [
      "3\n",
      "(-10, -7, -4, -1, 2, 5, 8)\n"
     ]
    }
   ],
   "source": [
    "step = int(input())\n",
    "t = tuple(range(-10, 10, step))\n",
    "print(t)"
   ]
  },
  {
   "cell_type": "markdown",
   "id": "1d0dc7b1",
   "metadata": {},
   "source": [
    "* 시퀀스 자료형"
   ]
  },
  {
   "cell_type": "code",
   "execution_count": 76,
   "id": "36b2b39a",
   "metadata": {},
   "outputs": [],
   "source": [
    "a = [0, 10, 20, 30, 40, 50, 60, 70, 80, 90]"
   ]
  },
  {
   "cell_type": "code",
   "execution_count": 77,
   "id": "eb3028ec",
   "metadata": {},
   "outputs": [
    {
     "data": {
      "text/plain": [
       "10"
      ]
     },
     "execution_count": 77,
     "metadata": {},
     "output_type": "execute_result"
    }
   ],
   "source": [
    "len(a)"
   ]
  },
  {
   "cell_type": "code",
   "execution_count": 78,
   "id": "0a659d84",
   "metadata": {},
   "outputs": [
    {
     "data": {
      "text/plain": [
       "0"
      ]
     },
     "execution_count": 78,
     "metadata": {},
     "output_type": "execute_result"
    }
   ],
   "source": [
    "a[0]"
   ]
  },
  {
   "cell_type": "code",
   "execution_count": 79,
   "id": "1ed31165",
   "metadata": {},
   "outputs": [
    {
     "data": {
      "text/plain": [
       "90"
      ]
     },
     "execution_count": 79,
     "metadata": {},
     "output_type": "execute_result"
    }
   ],
   "source": [
    "a[9]"
   ]
  },
  {
   "cell_type": "code",
   "execution_count": null,
   "id": "be4a6fee",
   "metadata": {},
   "outputs": [],
   "source": [
    "#전체를 다 가져올 수 있는 방법\n",
    "a[:]\n",
    "a[::]\n",
    "a[:len(a)]\n",
    "a[0:len(a)]"
   ]
  },
  {
   "cell_type": "code",
   "execution_count": 80,
   "id": "73028d33",
   "metadata": {},
   "outputs": [
    {
     "data": {
      "text/plain": [
       "[0, 10, 20, 30, 40, 50, 60, 70, 80, 90]"
      ]
     },
     "execution_count": 80,
     "metadata": {},
     "output_type": "execute_result"
    }
   ],
   "source": [
    "a[0:len(a)]"
   ]
  },
  {
   "cell_type": "markdown",
   "id": "84d1a1c3",
   "metadata": {},
   "source": [
    "* 최근 3년간 인구 출력하기"
   ]
  },
  {
   "cell_type": "code",
   "execution_count": 82,
   "id": "7ada8bf2",
   "metadata": {},
   "outputs": [],
   "source": [
    "year = [2011, 2012, 2013, 2014, 2015, 2016, 2017, 2018]\n",
    "population = [1000000, 2000000, 3000000, 4000000, 5000000, 6000000, 7000000, 8000000]"
   ]
  },
  {
   "cell_type": "code",
   "execution_count": 83,
   "id": "18c2db44",
   "metadata": {},
   "outputs": [
    {
     "data": {
      "text/plain": [
       "[2016, 2017, 2018]"
      ]
     },
     "execution_count": 83,
     "metadata": {},
     "output_type": "execute_result"
    }
   ],
   "source": [
    "year[-3:]"
   ]
  },
  {
   "cell_type": "code",
   "execution_count": 84,
   "id": "42566dfb",
   "metadata": {},
   "outputs": [
    {
     "data": {
      "text/plain": [
       "[6000000, 7000000, 8000000]"
      ]
     },
     "execution_count": 84,
     "metadata": {},
     "output_type": "execute_result"
    }
   ],
   "source": [
    "population[-3:]"
   ]
  },
  {
   "cell_type": "markdown",
   "id": "d15af309",
   "metadata": {},
   "source": [
    "* 리스트의 마지막 요소 5개 출력하기"
   ]
  },
  {
   "cell_type": "code",
   "execution_count": 85,
   "id": "03e51193",
   "metadata": {},
   "outputs": [
    {
     "name": "stdout",
     "output_type": "stream",
     "text": [
      "1 2 3 4 5 6 7 8 9 10\n"
     ]
    }
   ],
   "source": [
    "x = input().split()"
   ]
  },
  {
   "cell_type": "code",
   "execution_count": 86,
   "id": "fbb01830",
   "metadata": {},
   "outputs": [
    {
     "data": {
      "text/plain": [
       "['1', '2', '3', '4', '5', '6', '7', '8', '9', '10']"
      ]
     },
     "execution_count": 86,
     "metadata": {},
     "output_type": "execute_result"
    }
   ],
   "source": [
    "x"
   ]
  },
  {
   "cell_type": "code",
   "execution_count": 87,
   "id": "e97b89af",
   "metadata": {},
   "outputs": [],
   "source": [
    "del x[-5:]"
   ]
  },
  {
   "cell_type": "code",
   "execution_count": 88,
   "id": "6f9016ff",
   "metadata": {},
   "outputs": [
    {
     "name": "stdout",
     "output_type": "stream",
     "text": [
      "('1', '2', '3', '4', '5')\n"
     ]
    }
   ],
   "source": [
    "print(tuple(x))"
   ]
  },
  {
   "cell_type": "markdown",
   "id": "8a4088b1",
   "metadata": {},
   "source": [
    "* 주민번호로 성별 구분하기"
   ]
  },
  {
   "cell_type": "code",
   "execution_count": 89,
   "id": "bce236b9",
   "metadata": {},
   "outputs": [],
   "source": [
    "pin = '88120-1068234'"
   ]
  },
  {
   "cell_type": "code",
   "execution_count": 92,
   "id": "ca7ed3ad",
   "metadata": {},
   "outputs": [
    {
     "data": {
      "text/plain": [
       "['88120', '1068234']"
      ]
     },
     "execution_count": 92,
     "metadata": {},
     "output_type": "execute_result"
    }
   ],
   "source": [
    "l = pin.split('-')\n",
    "l"
   ]
  },
  {
   "cell_type": "code",
   "execution_count": 93,
   "id": "465afa6a",
   "metadata": {},
   "outputs": [
    {
     "data": {
      "text/plain": [
       "'88120'"
      ]
     },
     "execution_count": 93,
     "metadata": {},
     "output_type": "execute_result"
    }
   ],
   "source": [
    "l[0]"
   ]
  },
  {
   "cell_type": "code",
   "execution_count": 95,
   "id": "13bb444e",
   "metadata": {},
   "outputs": [],
   "source": [
    "s = l[1]"
   ]
  },
  {
   "cell_type": "code",
   "execution_count": 96,
   "id": "19567c72",
   "metadata": {},
   "outputs": [
    {
     "data": {
      "text/plain": [
       "'1'"
      ]
     },
     "execution_count": 96,
     "metadata": {},
     "output_type": "execute_result"
    }
   ],
   "source": [
    "s[0]"
   ]
  },
  {
   "cell_type": "code",
   "execution_count": 97,
   "id": "d01ec338",
   "metadata": {},
   "outputs": [
    {
     "name": "stdout",
     "output_type": "stream",
     "text": [
      "male\n"
     ]
    }
   ],
   "source": [
    "if s[0] == '1':\n",
    "    print(\"male\")\n",
    "else:\n",
    "    print(\"female\")"
   ]
  },
  {
   "cell_type": "code",
   "execution_count": 98,
   "id": "2359517f",
   "metadata": {},
   "outputs": [
    {
     "name": "stdout",
     "output_type": "stream",
     "text": [
      "male\n"
     ]
    }
   ],
   "source": [
    "if pin.split('-')[1][0] == '1':\n",
    "    print(\"male\")\n",
    "else:\n",
    "    print(\"female\")"
   ]
  },
  {
   "cell_type": "code",
   "execution_count": null,
   "id": "bd98d6a2",
   "metadata": {},
   "outputs": [],
   "source": [
    "# -5 ~ 256 "
   ]
  },
  {
   "cell_type": "code",
   "execution_count": 100,
   "id": "0251cd3b",
   "metadata": {},
   "outputs": [
    {
     "data": {
      "text/plain": [
       "False"
      ]
     },
     "execution_count": 100,
     "metadata": {},
     "output_type": "execute_result"
    }
   ],
   "source": [
    "a = 257\n",
    "b = 257\n",
    "a is b"
   ]
  },
  {
   "cell_type": "code",
   "execution_count": null,
   "id": "2a5cc936",
   "metadata": {},
   "outputs": [],
   "source": [
    "# 값을 비교할 때는 \"==\" 사용!!\n",
    "\n",
    "# is를 사용한다는 것의 의미 : if id(a) == id(b), 값을 비교하는 것은 아님\n",
    "# -5 ~ 256 은 파이썬 인터프리터에서 예약이 되어 있어서 예외"
   ]
  },
  {
   "cell_type": "code",
   "execution_count": null,
   "id": "15bc3142",
   "metadata": {},
   "outputs": [],
   "source": []
  },
  {
   "cell_type": "markdown",
   "id": "7492396b",
   "metadata": {},
   "source": [
    "* 핸드폰 번호 가리기"
   ]
  },
  {
   "cell_type": "code",
   "execution_count": 111,
   "id": "0bda1f5a",
   "metadata": {},
   "outputs": [
    {
     "data": {
      "text/plain": [
       "'#######5678'"
      ]
     },
     "execution_count": 111,
     "metadata": {},
     "output_type": "execute_result"
    }
   ],
   "source": [
    "#phone_number = input()\n",
    "phone_number = \"01012345678\"\n",
    "# result = \"*******5678\"\n",
    "#result1 = phone_number[0:len(phone_number)-4]\n",
    "result1 = (len(phone_number)-4) * '#'\n",
    "result2 = phone_number[-4:]\n",
    "result1 + result2"
   ]
  },
  {
   "cell_type": "code",
   "execution_count": 112,
   "id": "48948a8a",
   "metadata": {},
   "outputs": [
    {
     "data": {
      "text/plain": [
       "'#######'"
      ]
     },
     "execution_count": 112,
     "metadata": {},
     "output_type": "execute_result"
    }
   ],
   "source": [
    "result1"
   ]
  },
  {
   "cell_type": "code",
   "execution_count": 113,
   "id": "3cfff33b",
   "metadata": {},
   "outputs": [
    {
     "data": {
      "text/plain": [
       "'5678'"
      ]
     },
     "execution_count": 113,
     "metadata": {},
     "output_type": "execute_result"
    }
   ],
   "source": [
    "result2"
   ]
  },
  {
   "cell_type": "code",
   "execution_count": 114,
   "id": "dbc5e380",
   "metadata": {},
   "outputs": [
    {
     "data": {
      "text/plain": [
       "'#######5678'"
      ]
     },
     "execution_count": 114,
     "metadata": {},
     "output_type": "execute_result"
    }
   ],
   "source": [
    "(len(phone_number)-4) * '#' + phone_number[-4:]"
   ]
  },
  {
   "cell_type": "code",
   "execution_count": null,
   "id": "5cd9d020",
   "metadata": {},
   "outputs": [],
   "source": [
    "#option1 "
   ]
  },
  {
   "cell_type": "code",
   "execution_count": 115,
   "id": "c1231d01",
   "metadata": {},
   "outputs": [
    {
     "name": "stdout",
     "output_type": "stream",
     "text": [
      "01012345678\n"
     ]
    },
    {
     "data": {
      "text/plain": [
       "'#######5678'"
      ]
     },
     "execution_count": 115,
     "metadata": {},
     "output_type": "execute_result"
    }
   ],
   "source": [
    "def hide_numbers(s):\n",
    "    return (len(s)-4) * '#' + s[-4:]\n",
    "\n",
    "phone_number = input()\n",
    "hide_numbers(phone_number)"
   ]
  },
  {
   "cell_type": "code",
   "execution_count": null,
   "id": "45b1717f",
   "metadata": {},
   "outputs": [],
   "source": [
    "#option2"
   ]
  },
  {
   "cell_type": "code",
   "execution_count": 116,
   "id": "f609e546",
   "metadata": {},
   "outputs": [
    {
     "name": "stdout",
     "output_type": "stream",
     "text": [
      "01012345678\n"
     ]
    },
    {
     "data": {
      "text/plain": [
       "'*******5678'"
      ]
     },
     "execution_count": 116,
     "metadata": {},
     "output_type": "execute_result"
    }
   ],
   "source": [
    "def hide_numbers(s):\n",
    "    return len(s[:-4]) *'*' + s[-4:]\n",
    "\n",
    "phone_number = input()\n",
    "hide_numbers(phone_number)\n"
   ]
  },
  {
   "cell_type": "markdown",
   "id": "d1c6ab90",
   "metadata": {},
   "source": [
    "* 딕셔너리"
   ]
  },
  {
   "cell_type": "code",
   "execution_count": 117,
   "id": "66e0ff36",
   "metadata": {},
   "outputs": [],
   "source": [
    "lux = {'health' : 490, 'mana' : 334, 'melee': 550, 'armor' : 18.72}"
   ]
  },
  {
   "cell_type": "code",
   "execution_count": 118,
   "id": "40ff4a34",
   "metadata": {},
   "outputs": [
    {
     "data": {
      "text/plain": [
       "490"
      ]
     },
     "execution_count": 118,
     "metadata": {},
     "output_type": "execute_result"
    }
   ],
   "source": [
    "lux['health']"
   ]
  },
  {
   "cell_type": "code",
   "execution_count": 122,
   "id": "7ada4df5",
   "metadata": {},
   "outputs": [],
   "source": [
    "lux = {'health' : 490, 'health' : 800, 'mana' : 334, 'melee': 550, 'armor' : 18.72}"
   ]
  },
  {
   "cell_type": "code",
   "execution_count": 124,
   "id": "68e2a8ef",
   "metadata": {},
   "outputs": [
    {
     "data": {
      "text/plain": [
       "800"
      ]
     },
     "execution_count": 124,
     "metadata": {},
     "output_type": "execute_result"
    }
   ],
   "source": [
    "lux['health']"
   ]
  },
  {
   "cell_type": "code",
   "execution_count": 125,
   "id": "32954757",
   "metadata": {},
   "outputs": [
    {
     "data": {
      "text/plain": [
       "{'health': 800, 'mana': 334, 'melee': 550, 'armor': 18.72}"
      ]
     },
     "execution_count": 125,
     "metadata": {},
     "output_type": "execute_result"
    }
   ],
   "source": [
    "lux"
   ]
  },
  {
   "cell_type": "code",
   "execution_count": null,
   "id": "d3c018c1",
   "metadata": {},
   "outputs": [],
   "source": []
  },
  {
   "cell_type": "code",
   "execution_count": 126,
   "id": "f9406145",
   "metadata": {},
   "outputs": [],
   "source": [
    "x = {100 : 'hudred', False : 0, 3.5 : [3.5, 3.5]}"
   ]
  },
  {
   "cell_type": "code",
   "execution_count": 127,
   "id": "009a593d",
   "metadata": {},
   "outputs": [
    {
     "data": {
      "text/plain": [
       "{100: 'hudred', False: 0, 3.5: [3.5, 3.5]}"
      ]
     },
     "execution_count": 127,
     "metadata": {},
     "output_type": "execute_result"
    }
   ],
   "source": [
    "x"
   ]
  },
  {
   "cell_type": "code",
   "execution_count": 128,
   "id": "47b02a57",
   "metadata": {},
   "outputs": [
    {
     "ename": "TypeError",
     "evalue": "unhashable type: 'list'",
     "output_type": "error",
     "traceback": [
      "\u001b[1;31m---------------------------------------------------------------------------\u001b[0m",
      "\u001b[1;31mTypeError\u001b[0m                                 Traceback (most recent call last)",
      "\u001b[1;32m<ipython-input-128-fc1d7c719707>\u001b[0m in \u001b[0;36m<module>\u001b[1;34m\u001b[0m\n\u001b[1;32m----> 1\u001b[1;33m \u001b[0mx\u001b[0m \u001b[1;33m=\u001b[0m \u001b[1;33m{\u001b[0m\u001b[1;33m[\u001b[0m\u001b[1;36m10\u001b[0m\u001b[1;33m,\u001b[0m \u001b[1;36m20\u001b[0m\u001b[1;33m]\u001b[0m \u001b[1;33m:\u001b[0m \u001b[1;36m100\u001b[0m\u001b[1;33m}\u001b[0m\u001b[1;33m\u001b[0m\u001b[1;33m\u001b[0m\u001b[0m\n\u001b[0m",
      "\u001b[1;31mTypeError\u001b[0m: unhashable type: 'list'"
     ]
    }
   ],
   "source": [
    "x = {[10, 20] : 100}"
   ]
  },
  {
   "cell_type": "code",
   "execution_count": null,
   "id": "40074b60",
   "metadata": {},
   "outputs": [],
   "source": []
  },
  {
   "cell_type": "code",
   "execution_count": null,
   "id": "0b685f5c",
   "metadata": {},
   "outputs": [],
   "source": [
    "# 딕셔너리의 키 값에는 리스트와 딕셔너리가 올 수 없음"
   ]
  },
  {
   "cell_type": "code",
   "execution_count": 132,
   "id": "721b4d20",
   "metadata": {},
   "outputs": [
    {
     "data": {
      "text/plain": [
       "100"
      ]
     },
     "execution_count": 132,
     "metadata": {},
     "output_type": "execute_result"
    }
   ],
   "source": [
    "# key값으로 사용할 수 있는 자료형\n",
    "hash(100)"
   ]
  },
  {
   "cell_type": "code",
   "execution_count": 131,
   "id": "42aa488d",
   "metadata": {},
   "outputs": [
    {
     "ename": "TypeError",
     "evalue": "unhashable type: 'dict'",
     "output_type": "error",
     "traceback": [
      "\u001b[1;31m---------------------------------------------------------------------------\u001b[0m",
      "\u001b[1;31mTypeError\u001b[0m                                 Traceback (most recent call last)",
      "\u001b[1;32m<ipython-input-131-eaaca4bb914d>\u001b[0m in \u001b[0;36m<module>\u001b[1;34m\u001b[0m\n\u001b[1;32m----> 1\u001b[1;33m \u001b[0mhash\u001b[0m\u001b[1;33m(\u001b[0m\u001b[0mlux\u001b[0m\u001b[1;33m)\u001b[0m\u001b[1;33m\u001b[0m\u001b[1;33m\u001b[0m\u001b[0m\n\u001b[0m",
      "\u001b[1;31mTypeError\u001b[0m: unhashable type: 'dict'"
     ]
    }
   ],
   "source": [
    "# key값으로 사용할 수 없는 자료형\n",
    "hash(lux)"
   ]
  },
  {
   "cell_type": "code",
   "execution_count": 129,
   "id": "c82bb96c",
   "metadata": {},
   "outputs": [
    {
     "ename": "TypeError",
     "evalue": "unhashable type: 'list'",
     "output_type": "error",
     "traceback": [
      "\u001b[1;31m---------------------------------------------------------------------------\u001b[0m",
      "\u001b[1;31mTypeError\u001b[0m                                 Traceback (most recent call last)",
      "\u001b[1;32m<ipython-input-129-0a692b773a36>\u001b[0m in \u001b[0;36m<module>\u001b[1;34m\u001b[0m\n\u001b[1;32m----> 1\u001b[1;33m \u001b[0mhash\u001b[0m\u001b[1;33m(\u001b[0m\u001b[1;33m[\u001b[0m\u001b[1;36m10\u001b[0m\u001b[1;33m,\u001b[0m \u001b[1;36m20\u001b[0m\u001b[1;33m]\u001b[0m\u001b[1;33m)\u001b[0m\u001b[1;33m\u001b[0m\u001b[1;33m\u001b[0m\u001b[0m\n\u001b[0m",
      "\u001b[1;31mTypeError\u001b[0m: unhashable type: 'list'"
     ]
    }
   ],
   "source": [
    "# key값으로 사용할 수 없는 자료형\n",
    "hash([10, 20])"
   ]
  },
  {
   "cell_type": "markdown",
   "id": "8939587b",
   "metadata": {},
   "source": [
    "* 빈 딕셔너리 만들기"
   ]
  },
  {
   "cell_type": "code",
   "execution_count": 134,
   "id": "91cee257",
   "metadata": {},
   "outputs": [
    {
     "name": "stdout",
     "output_type": "stream",
     "text": [
      "<class 'dict'> <class 'dict'>\n"
     ]
    }
   ],
   "source": [
    "x = {}\n",
    "y = dict()\n",
    "\n",
    "print(type(x), type(y))"
   ]
  },
  {
   "cell_type": "markdown",
   "id": "9e73046b",
   "metadata": {},
   "source": [
    "* dict 함수로 딕셔너리 만들기"
   ]
  },
  {
   "cell_type": "code",
   "execution_count": 137,
   "id": "3b8e5376",
   "metadata": {},
   "outputs": [
    {
     "data": {
      "text/plain": [
       "{'health': 490, 'mana': 334, 'melee': 550, 'armor': 18.72}"
      ]
     },
     "execution_count": 137,
     "metadata": {},
     "output_type": "execute_result"
    }
   ],
   "source": [
    "lux = {'health' : 490, 'mana' : 334, 'melee': 550, 'armor' : 18.72}\n",
    "lux"
   ]
  },
  {
   "cell_type": "code",
   "execution_count": 135,
   "id": "fd023dd7",
   "metadata": {},
   "outputs": [
    {
     "data": {
      "text/plain": [
       "{'health': 490, 'mana': 334, 'melee': 550, 'armor': 18.72}"
      ]
     },
     "execution_count": 135,
     "metadata": {},
     "output_type": "execute_result"
    }
   ],
   "source": [
    "#option 1\n",
    "lux1 = dict(health=490, mana=334, melee=550, armor=18.72)\n",
    "lux1"
   ]
  },
  {
   "cell_type": "code",
   "execution_count": 138,
   "id": "7bc31aff",
   "metadata": {},
   "outputs": [
    {
     "data": {
      "text/plain": [
       "{'health': 490, 'mana': 334, 'melee': 550, 'armor': 18.72}"
      ]
     },
     "execution_count": 138,
     "metadata": {},
     "output_type": "execute_result"
    }
   ],
   "source": [
    "#option 2\n",
    "lux2 = dict(zip(['health', 'mana', 'melee', 'armor'], [490, 334, 550, 18.72]))\n",
    "lux2"
   ]
  },
  {
   "cell_type": "code",
   "execution_count": 145,
   "id": "f95472bf",
   "metadata": {},
   "outputs": [
    {
     "data": {
      "text/plain": [
       "<zip at 0x14cacbdbf40>"
      ]
     },
     "execution_count": 145,
     "metadata": {},
     "output_type": "execute_result"
    }
   ],
   "source": [
    "#참고\n",
    "zip(['health', 'mana', 'melee', 'armor'], [490, 334, 550, 18.72])"
   ]
  },
  {
   "cell_type": "code",
   "execution_count": null,
   "id": "83c3f77e",
   "metadata": {},
   "outputs": [],
   "source": [
    "#option 3"
   ]
  },
  {
   "cell_type": "code",
   "execution_count": 147,
   "id": "30259cf7",
   "metadata": {},
   "outputs": [
    {
     "data": {
      "text/plain": [
       "{'health': 490, 'mana': 334, 'melee': 550, 'armor': 18.72}"
      ]
     },
     "execution_count": 147,
     "metadata": {},
     "output_type": "execute_result"
    }
   ],
   "source": [
    "lux3 = dict([(\"health\", 490), (\"mana\", 334), (\"melee\", 550), (\"armor\", 18.72)])\n",
    "lux3"
   ]
  },
  {
   "cell_type": "code",
   "execution_count": null,
   "id": "ca0e7750",
   "metadata": {},
   "outputs": [],
   "source": [
    "#option 4"
   ]
  },
  {
   "cell_type": "code",
   "execution_count": 148,
   "id": "87d9b6dd",
   "metadata": {},
   "outputs": [
    {
     "data": {
      "text/plain": [
       "{'health': 490, 'mana': 334, 'melee': 550, 'armor': 18.72}"
      ]
     },
     "execution_count": 148,
     "metadata": {},
     "output_type": "execute_result"
    }
   ],
   "source": [
    "lux4 = dict({'health' : 490, 'mana' : 334, 'melee': 550, 'armor' : 18.72})\n",
    "lux4"
   ]
  },
  {
   "cell_type": "markdown",
   "id": "96874543",
   "metadata": {},
   "source": [
    "* 게임 캐릭터 능력 저장"
   ]
  },
  {
   "cell_type": "code",
   "execution_count": 151,
   "id": "34968d4c",
   "metadata": {},
   "outputs": [
    {
     "name": "stdout",
     "output_type": "stream",
     "text": [
      "health health_regen mana manaregen\n",
      "573.6 1.7 338.8 1.63\n"
     ]
    },
    {
     "data": {
      "text/plain": [
       "{'health': 573.6, 'health_regen': 1.7, 'mana': 338.8, 'manaregen': 1.63}"
      ]
     },
     "execution_count": 151,
     "metadata": {},
     "output_type": "execute_result"
    }
   ],
   "source": [
    "keys = input().split()\n",
    "values = map(float, input().split())\n",
    "d = {}\n",
    "\n",
    "zipped = zip(keys, values)\n",
    "dict(zipped)"
   ]
  },
  {
   "cell_type": "markdown",
   "id": "b79f244d",
   "metadata": {},
   "source": [
    "* 온라인 할인쿠폰"
   ]
  },
  {
   "cell_type": "code",
   "execution_count": 154,
   "id": "82704e45",
   "metadata": {},
   "outputs": [
    {
     "name": "stdout",
     "output_type": "stream",
     "text": [
      "27000\n",
      "\n",
      "27000\n"
     ]
    }
   ],
   "source": [
    "price = int(input())\n",
    "coupon = input()\n",
    "\n",
    "if coupon ==\"Cash3000\":\n",
    "    price-=3000\n",
    "elif coupon == \"Cash5000\":\n",
    "    price-=5000\n",
    "else:\n",
    "    pass\n",
    "\n",
    "print(price)"
   ]
  },
  {
   "cell_type": "code",
   "execution_count": null,
   "id": "043f4f8f",
   "metadata": {},
   "outputs": [],
   "source": []
  },
  {
   "cell_type": "code",
   "execution_count": null,
   "id": "3da16055",
   "metadata": {},
   "outputs": [],
   "source": []
  },
  {
   "cell_type": "code",
   "execution_count": null,
   "id": "32cdc6c6",
   "metadata": {},
   "outputs": [],
   "source": []
  },
  {
   "cell_type": "code",
   "execution_count": null,
   "id": "01284855",
   "metadata": {},
   "outputs": [],
   "source": []
  },
  {
   "cell_type": "code",
   "execution_count": null,
   "id": "def39304",
   "metadata": {},
   "outputs": [],
   "source": []
  },
  {
   "cell_type": "code",
   "execution_count": null,
   "id": "99544dac",
   "metadata": {},
   "outputs": [],
   "source": []
  },
  {
   "cell_type": "code",
   "execution_count": null,
   "id": "8a77b238",
   "metadata": {},
   "outputs": [],
   "source": []
  },
  {
   "cell_type": "code",
   "execution_count": null,
   "id": "66bb1481",
   "metadata": {},
   "outputs": [],
   "source": []
  },
  {
   "cell_type": "code",
   "execution_count": 37,
   "id": "307e8dca",
   "metadata": {},
   "outputs": [],
   "source": [
    "with open('python 6.ipynb', 'r', encoding='utf-8') as file:\n",
    "    a = file.readlines()"
   ]
  },
  {
   "cell_type": "code",
   "execution_count": 53,
   "id": "48bb0e52",
   "metadata": {},
   "outputs": [],
   "source": [
    "i = 0\n",
    "li = []\n",
    "while i < len(a):\n",
    "    if \"source\" not in a[i]:\n",
    "        i+=1\n",
    "    else:\n",
    "        while i < len(a) and \"cell_type\" not in a[i]:\n",
    "            if \"source\" not in a[i]:\n",
    "                li.append(a[i])\n",
    "            i+=1\n",
    "            "
   ]
  },
  {
   "cell_type": "code",
   "execution_count": 57,
   "id": "065e4479",
   "metadata": {},
   "outputs": [],
   "source": [
    "for i in range(len(li)):\n",
    "    for j in range(len(li[i])):\n",
    "        if li[i] == '\\'':\n",
    "            remove('\\'')\n",
    "        \n",
    "    "
   ]
  },
  {
   "cell_type": "code",
   "execution_count": 58,
   "id": "ef43e620",
   "metadata": {},
   "outputs": [
    {
     "data": {
      "text/plain": [
       "['    \"#import punctools\"\\n',\n",
       " '   ]\\n',\n",
       " '  },\\n',\n",
       " '  {\\n',\n",
       " '    \"a = {\\'1\\': 10, \\'2\\' : 20, \\'3\\' : 30}\"\\n',\n",
       " '   ]\\n',\n",
       " '  },\\n',\n",
       " '  {\\n',\n",
       " '    \"def play(**kwargs):\\\\n\",\\n',\n",
       " '    \"    for  x, y in kargs.items():\\\\n\",\\n',\n",
       " '    \"        print(x, y)\"\\n',\n",
       " '   ]\\n',\n",
       " '  },\\n',\n",
       " '  {\\n',\n",
       " '    \"play(a)\"\\n',\n",
       " '   ]\\n',\n",
       " '  },\\n',\n",
       " '  {\\n',\n",
       " '    \"files = [\\'dsd\\', \\'1.png\\', \\'10.jpg\\', \\'11.gif\\']\"\\n',\n",
       " '   ]\\n',\n",
       " '  },\\n',\n",
       " '  {\\n',\n",
       " '    \"print(list(filter(lambda x : \\'png\\' in x or \\'jpg\\' in x ,files)))\"\\n',\n",
       " '   ]\\n',\n",
       " '  },\\n',\n",
       " '  {\\n',\n",
       " '    \"x = \\'1.jpg 10.png 11.png 2.jpg 3.png\\'\\\\n\",\\n',\n",
       " '    \"#files = input().split()\\\\n\",\\n',\n",
       " '    \"x = list(x.split())\\\\n\",\\n',\n",
       " '    \"x = [i.zfill(7) for i in x]\\\\n\",\\n',\n",
       " '    \"print(x)\"\\n',\n",
       " '   ]\\n',\n",
       " '  },\\n',\n",
       " '  {\\n',\n",
       " '    \"#files = input().split()\\\\n\",\\n',\n",
       " '    \"#print(list(map(lambda x:  3 - len(x.split(\\'.\\')[0])*\\'0\\' +x.split(\\'.\\')[0]+\\'.\\'+x.split(\\'.\\')[1], x)))\\\\n\",\\n',\n",
       " '    \"# 위의 코드가 안된 이유는 3 - len을 안묶으면 int와 문자열이 계산되므로 len까지 묶고 0을 곱해야한다.\\\\n\",\\n',\n",
       " '    \"print(list(map(lambda x:  (3 - len(x.split(\\'.\\')[0]))*\\'0\\' +x.split(\\'.\\')[0]+\\'.\\'+x.split(\\'.\\')[1], x)))\"\\n',\n",
       " '   ]\\n',\n",
       " '  },\\n',\n",
       " '  {\\n',\n",
       " '    \"print(list(map(lambda x:  x.split(\\'.\\')[0].zfill(3)+\\'.\\'+x.split(\\'.\\')[1], x)))\"\\n',\n",
       " '   ]\\n',\n",
       " '  },\\n',\n",
       " '  {\\n',\n",
       " '    \"# 요한님 코드\\\\n\",\\n',\n",
       " '    \"files = input().split()\\\\n\",\\n',\n",
       " '    \"print(list(map(lambda x: \\\\\"{0:0>3}.{1}\\\\\".format(x.split(\\'.\\')[0], x.split(\\'.\\')[1]), files)))\"\\n',\n",
       " '   ]\\n',\n",
       " '  },\\n',\n",
       " '  {\\n',\n",
       " '    \"# 지역변수와 전역변수의 범위\"\\n',\n",
       " '   ]\\n',\n",
       " '  },\\n',\n",
       " '  {\\n',\n",
       " '    \"y = 10\\\\n\",\\n',\n",
       " '    \"def foo():\\\\n\",\\n',\n",
       " '    \"    print(y)\\\\n\",\\n',\n",
       " '    \"\\\\n\",\\n',\n",
       " '    \"foo()\\\\n\",\\n',\n",
       " '    \"print(y)\"\\n',\n",
       " '   ]\\n',\n",
       " '  },\\n',\n",
       " '  {\\n',\n",
       " '    \"def foo():\\\\n\",\\n',\n",
       " '    \"    X = 10\\\\n\",\\n',\n",
       " '    \"    print(X)\\\\n\",\\n',\n",
       " '    \"foo()\\\\n\",\\n',\n",
       " '    \"print(X)\"\\n',\n",
       " '   ]\\n',\n",
       " '  },\\n',\n",
       " '  {\\n',\n",
       " '    \"s = 10\\\\n\",\\n',\n",
       " '    \"def foo():\\\\n\",\\n',\n",
       " '    \"    s = 20\\\\n\",\\n',\n",
       " '    \"    print(s) # 해당 s는 전역변수의 10에서 20이 덮여지고 해당 s는 사라짐.\\\\n\",\\n',\n",
       " '    \"\\\\n\",\\n',\n",
       " '    \"foo()\\\\n\",\\n',\n",
       " '    \"print(s) #이건 맨 위에 선언한 10의 s임\"\\n',\n",
       " '   ]\\n',\n",
       " '  },\\n',\n",
       " '  {\\n',\n",
       " '    \"# global 전역변수\"\\n',\n",
       " '   ]\\n',\n",
       " '  },\\n',\n",
       " '  {\\n',\n",
       " '    \"y = 10       #전역변수 추가적으로 이게 없어도 밖에서 사용 가능\\\\n\",\\n',\n",
       " '    \"def foo():\\\\n\",\\n',\n",
       " '    \"    global y #이때부터 해당 y는 지역변수 y가아니라 전역변수 y\\\\n\",\\n',\n",
       " '    \"    y = 20   #global때문에 지역변수 y를 선언한게 아닌 전역변수 y를 재선언하게됌\\\\n\",\\n',\n",
       " '    \"    print(y)\\\\n\",\\n',\n",
       " '    \"\\\\n\",\\n',\n",
       " '    \"foo()\\\\n\",\\n',\n",
       " '    \"print(y)\"\\n',\n",
       " '   ]\\n',\n",
       " '  },\\n',\n",
       " '  {\\n',\n",
       " '    \"def foo():\\\\n\",\\n',\n",
       " '    \"    global c #c를 선언한 적이 없기에 지금 전역변수인 c를 선언한다\\\\n\",\\n',\n",
       " '    \"    c = 20\\\\n\",\\n',\n",
       " '    \"    print(c)\\\\n\",\\n',\n",
       " '    \"    \\\\n\",\\n',\n",
       " '    \"foo()\\\\n\",\\n',\n",
       " '    \"print(c)\"\\n',\n",
       " '   ]\\n',\n",
       " '  },\\n',\n",
       " '  {\\n',\n",
       " '    \"def print_hello():\\\\n\",\\n',\n",
       " '    \"    hello = \\'hello, world\\'\\\\n\",\\n',\n",
       " '    \"    def print_message():\\\\n\",\\n',\n",
       " '    \"        print(hello) #해당 hello는 print_hello에 있는 hello가 전역변수처럼 작용해서임\\\\n\",\\n',\n",
       " '    \"    print(hello)\\\\n\",\\n',\n",
       " '    \"    print_message()\\\\n\",\\n',\n",
       " '    \"print_hello()\"\\n',\n",
       " '   ]\\n',\n",
       " '  },\\n',\n",
       " '  {\\n',\n",
       " '    \"# 아래 코드에서 차이를 보면 x를 어디서 할당하느냐의 차이다. 간단하게 생각하면 어느 위치의 스택을 쓰느냐 이다 함수가 끝나면 스택도 사라지므로 안쪽의 스택을 사용하는 것이 좋다.\"\\n',\n",
       " '   ]\\n',\n",
       " '  },\\n',\n",
       " '  {\\n',\n",
       " '    \"def A():\\\\n\",\\n',\n",
       " '    \"    x = 10 #이건 A가 끝나면 사라지고\\\\n\",\\n',\n",
       " '    \"    def B():\\\\n\",\\n',\n",
       " '    \"        x = 20 #해당 x는 B가 끝나면 사라진다. 그래서 20으로 안바뀐다.\\\\n\",\\n',\n",
       " '    \"    B()\\\\n\",\\n',\n",
       " '    \"    print(x)\\\\n\",\\n',\n",
       " '    \"A()\"\\n',\n",
       " '   ]\\n',\n",
       " '  },\\n',\n",
       " '  {\\n',\n",
       " '    \"def A():\\\\n\",\\n',\n",
       " '    \"    x = 10\\\\n\",\\n',\n",
       " '    \"    def B():\\\\n\",\\n',\n",
       " '    \"        nonlocal x #새롭게 정의하는 x가 아니라 밖에 있는 함수에서 쓰는 함수다.\\\\n\",\\n',\n",
       " '    \"        x = 20\\\\n\",\\n',\n",
       " '    \"        \\\\n\",\\n',\n",
       " '    \"    B()\\\\n\",\\n',\n",
       " '    \"    print(x)\\\\n\",\\n',\n",
       " '    \"A()\"\\n',\n",
       " '   ]\\n',\n",
       " '  },\\n',\n",
       " '  {\\n',\n",
       " '    \"## nonlocal은 함수 바깥에서 가장 가까운 함수를 따온다\"\\n',\n",
       " '   ]\\n',\n",
       " '  },\\n',\n",
       " '  {\\n',\n",
       " '    \"## golbal은 함수의 단계와 상관없이 맨 상위의 전역변수를 사용한다.\"\\n',\n",
       " '   ]\\n',\n",
       " '  },\\n',\n",
       " '  {\\n',\n",
       " '    \"# 클로저 함수는 함수안의 반환값에 쓰이는 내부 함수로 외부함수에 정의된 변수들을 사용하여 동작을 실행\"\\n',\n",
       " '   ]\\n',\n",
       " '  },\\n',\n",
       " '  {\\n',\n",
       " '    \"* 간단히 반환값 함수로 따로 호출하지 않고 반환할때만 쓰인다\"\\n',\n",
       " '   ]\\n',\n",
       " '  },\\n',\n",
       " '  {\\n',\n",
       " '    \"def b():\\\\n\",\\n',\n",
       " '    \"    c = 2\\\\n\",\\n',\n",
       " '    \"    def a():\\\\n\",\\n',\n",
       " '    \"        nonlocal c\\\\n\",\\n',\n",
       " '    \"        print(c)\\\\n\",\\n',\n",
       " '    \"    a()\\\\n\",\\n',\n",
       " '    \"b() #지역함수의 특징인데 전역변수로 지정된 것은 nonlocal을 가져오지 못하고 함수 밖에 선언된 것이 없어도 nonlocal을 가져오지 못함\"\\n',\n",
       " '   ]\\n',\n",
       " '  },\\n',\n",
       " '  {\\n',\n",
       " '    \"def counter():\\\\n\",\\n',\n",
       " '    \"    i = 0 #여기서 선언해서 i가 0으로만 남을 것 같지만 nonlocal이 더 우선 적용 되는 듯 초기화한 것이 무시되고 i+1된 값이 고정되는 듯\\\\n\",\\n',\n",
       " '    \"    def count():\\\\n\",\\n',\n",
       " '    \"        nonlocal i\\\\n\",\\n',\n",
       " '    \"        i+=1\\\\n\",\\n',\n",
       " '    \"        return(i) #이게 없으면 count호출할때 none만 나옴\\\\n\",\\n',\n",
       " '    \"    return(count) #이게 없으면 count가 클로저로 사용이 안됨\\\\n\",\\n',\n",
       " '    \"\\\\n\",\\n',\n",
       " '    \"c = counter()\\\\n\",\\n',\n",
       " '    \"for i in range(10):\\\\n\",\\n',\n",
       " '    \"    print(c(), end = \\' \\')\"\\n',\n",
       " '   ]\\n',\n",
       " '  },\\n',\n",
       " '  {\\n',\n",
       " '    \"def countdown(n):\\\\n\",\\n',\n",
       " '    \"    i = -1\\\\n\",\\n',\n",
       " '    \"    def count():\\\\n\",\\n',\n",
       " '    \"        nonlocal i\\\\n\",\\n',\n",
       " '    \"        i += 1\\\\n\",\\n',\n",
       " '    \"        return(n-i)\\\\n\",\\n',\n",
       " '    \"    return(count)\\\\n\",\\n',\n",
       " '    \"n = int(input())\\\\n\",\\n',\n",
       " '    \"\\\\n\",\\n',\n",
       " '    \"c = countdown(n)\\\\n\",\\n',\n",
       " '    \"for i in range(n):\\\\n\",\\n',\n",
       " '    \"    print(c(), end=\\' \\')\"\\n',\n",
       " '   ]\\n',\n",
       " '  },\\n',\n",
       " '  {\\n',\n",
       " '    \"def countdown(n):\\\\n\",\\n',\n",
       " '    \"    i = n + 1 #확실히 이거는 후순위에 있어서 nonlocal에서 누적되는 값이 더 선순위 인듯\\\\n\",\\n',\n",
       " '    \"    def count():\\\\n\",\\n',\n",
       " '    \"        nonlocal i\\\\n\",\\n',\n",
       " '    \"        i -= 1\\\\n\",\\n',\n",
       " '    \"        return(i)\\\\n\",\\n',\n",
       " '    \"    return(count)\\\\n\",\\n',\n",
       " '    \"n = int(input())\\\\n\",\\n',\n",
       " '    \"\\\\n\",\\n',\n",
       " '    \"c = countdown(n)\\\\n\",\\n',\n",
       " '    \"for i in range(n):\\\\n\",\\n',\n",
       " '    \"    print(c(), end=\\' \\')\"\\n',\n",
       " '   ]\\n',\n",
       " '  },\\n',\n",
       " '  {\\n',\n",
       " '    \"class 클래스이름:\\\\n\",\\n',\n",
       " '    \"    def 메서드(self):\\\\n\",\\n',\n",
       " '    \"        #코드\"\\n',\n",
       " '   ]\\n',\n",
       " '  },\\n',\n",
       " '  {\\n',\n",
       " '    \"class person:\\\\n\",\\n',\n",
       " '    \"    def greeting(self): #첫번째 매개변수는 무조건 self\\\\n\",\\n',\n",
       " '    \"        print(\\\\\"hello\\\\\")\"\\n',\n",
       " '   ]\\n',\n",
       " '  },\\n',\n",
       " '  {\\n',\n",
       " '    \"james = person()\\\\n\",\\n',\n",
       " '    \"james.greeting()\\\\n\",\\n',\n",
       " '    \"#인스턴스 = 클래스() 이런식으로 정의후\\\\n\",\\n',\n",
       " '    \"#인스턴스.클래스내부의 메소드() 이런식으로 사용\"\\n',\n",
       " '   ]\\n',\n",
       " '  },\\n',\n",
       " '  {\\n',\n",
       " '    \"class person:\\\\n\",\\n',\n",
       " '    \"    def __init__(self): #이거는 클래스 호출시 자동 설정 스페셜메서드 통해 인스턴스(객체) 초기화를 해줌\\\\n\",\\n',\n",
       " '    \"        self.hello = \\'안녕하세요.\\'\\\\n\",\\n',\n",
       " '    \"    def greeting(self):\\\\n\",\\n',\n",
       " '    \"        print(self.hello)\\\\n\",\\n',\n",
       " '    \"james = person()\\\\n\",\\n',\n",
       " '    \"james.greeting() #init은 main과 같이 무조건 사용되어지는 부분.\"\\n',\n",
       " '   ]\\n',\n",
       " '  },\\n',\n",
       " '  {\\n',\n",
       " '    \"class person:\\\\n\",\\n',\n",
       " '    \"    def __init__(self, name, age, address, wallet): #self는 무조건 받아야하는 인자이며 추가적인 인자를 받아서 초기화 할 수 있다. 구조체 용도?\\\\n\",\\n',\n",
       " '    \"        self.hello = \\'안녕하세요\\'\\\\n\",\\n',\n",
       " '    \"        self.name = name\\\\n\",\\n',\n",
       " '    \"        self.age = age\\\\n\",\\n',\n",
       " '    \"        self.address = address\\\\n\",\\n',\n",
       " '    \"        self.__wallet = wallet #비공개 속성은 __를 붙여야함 #오류가 나는데 갑 변경도 안되고 호출도 안된다\\\\n\",\\n',\n",
       " '    \"         \\\\n\",\\n',\n",
       " '    \"    def greeting(self):\\\\n\",\\n',\n",
       " '    \"        print(\\'{0}, 저는 {1}입니다.\\'.format(self.hello, self.name))\\\\n\",\\n',\n",
       " '    \"        \\\\n\",\\n',\n",
       " '    \"    def pay(self, amount):\\\\n\",\\n',\n",
       " '    \"        self.__wallet -= amount\\\\n\",\\n',\n",
       " '    \"        print(\\'{}는 지갑에 {}원이 남았습니다.\\'.format(self.name, self.__wallet))\\\\n\",\\n',\n",
       " '    \"\\\\n\",\\n',\n",
       " '    \"maria = person(\\'마리아\\', 20, \\'서초구 반포동\\', 10000)\\\\n\",\\n',\n",
       " '    \"maria.greeting()\\\\n\",\\n',\n",
       " '    \"maria.pay(3000)\\\\n\",\\n',\n",
       " '    \"\\\\n\",\\n',\n",
       " '    \"print(\\'\\\\\\\\n이름 : {0}\\'.format(maria.name))\\\\n\",\\n',\n",
       " '    \"print(\\'나이 : {0}\\'.format(maria.age))\\\\n\",\\n',\n",
       " '    \"print(\\'주소 : {0}\\'.format(maria.address))\\\\n\",\\n',\n",
       " '    \"#maria.__wallet -= 1000 #오류가 나는데 갑 변경도 안되고 호출도 안된다 하지만 클래스 안의 메소드에서는 사용 가능\"\\n',\n",
       " '   ]\\n',\n",
       " '  },\\n',\n",
       " '  {\\n',\n",
       " '    \"class person:\\\\n\",\\n',\n",
       " '    \"    def __init__(self, name, age, address, wallet): #self는 무조건 받아야하는 인자이며 추가적인 인자를 받아서 초기화 할 수 있다. 구조체 용도?\\\\n\",\\n',\n",
       " '    \"        self.hello = \\'안녕하세요\\'\\\\n\",\\n',\n",
       " '    \"        self.name = name\\\\n\",\\n',\n",
       " '    \"        self.age = age\\\\n\",\\n',\n",
       " '    \"        self.address = address\\\\n\",\\n',\n",
       " '    \"        self.__wallet = wallet #비공개 속성은 __를 붙여야함 #오류가 나는데 갑 변경도 안되고 호출도 안된다\\\\n\",\\n',\n",
       " '    \"         \\\\n\",\\n',\n",
       " '    \"    def greeting(self):\\\\n\",\\n',\n",
       " '    \"        print(\\'{0}, 저는 {1}입니다.\\'.format(self.hello, self.name))\\\\n\",\\n',\n",
       " '    \"        \\\\n\",\\n',\n",
       " '    \"    def pay(self, amount):\\\\n\",\\n',\n",
       " '    \"        self.__wallet -= amount\\\\n\",\\n',\n",
       " '    \"        if self.__wallet < amount:\\\\n\",\\n',\n",
       " '    \"            print(\\'돈이 모자라네..\\')\\\\n\",\\n',\n",
       " '    \"            return\\\\n\",\\n',\n",
       " '    \"        print(\\'{}는 지갑에 {}원이 남았습니다.\\'.format(self.name, self.__wallet))\\\\n\",\\n',\n",
       " '    \"\\\\n\",\\n',\n",
       " '    \"\\\\n\",\\n',\n",
       " '    \"maria = person(\\'마리아\\', 20, \\'서초구 반포동\\', 10000)\\\\n\",\\n',\n",
       " '    \"maria.pay(2000)\\\\n\"\\n',\n",
       " '   ]\\n',\n",
       " '  },\\n',\n",
       " '  {\\n',\n",
       " '    \"class knight:\\\\n\",\\n',\n",
       " '    \"    def __init__(self, health, mana, armor):\\\\n\",\\n',\n",
       " '    \"        self.health = health\\\\n\",\\n',\n",
       " '    \"        self.mana = mana\\\\n\",\\n',\n",
       " '    \"        self.armor = armor\\\\n\",\\n',\n",
       " '    \"    def slash(self):\\\\n\",\\n',\n",
       " '    \"        print(\\\\\"베기\\\\\")\\\\n\",\\n',\n",
       " '    \"x = knight(health=542.4, mana=210.3, armor=38)\\\\n\",\\n',\n",
       " '    \"print(x.health, x.mana, x.armor)\\\\n\",\\n',\n",
       " '    \"x.slash()\"\\n',\n",
       " '   ]\\n',\n",
       " '  },\\n',\n",
       " '  {\\n',\n",
       " '    \"class annie:\\\\n\",\\n',\n",
       " '    \"    def __init__(self, health, mana, ability_power):\\\\n\",\\n',\n",
       " '    \"        self.health = health\\\\n\",\\n',\n",
       " '    \"        self.mana = mana\\\\n\",\\n',\n",
       " '    \"        self.ability_power = ability_power\\\\n\",\\n',\n",
       " '    \"    def tibbers(self):\\\\n\",\\n',\n",
       " '    \"        print(\\\\\"티버: 피해량 {}\\\\\".format(self.ability_power * 0.65 + 400))\\\\n\",\\n',\n",
       " '    \"health, mana, ability_power = map(float, input().split())\\\\n\",\\n',\n",
       " '    \"\\\\n\",\\n',\n",
       " '    \"x = annie(health=health, mana=mana, ability_power=ability_power)\\\\n\",\\n',\n",
       " '    \"x.tibbers()\"\\n',\n",
       " '   ]\\n',\n",
       " '  },\\n',\n",
       " '  {\\n',\n",
       " '    \"# 이런식으로 되면 원하는 결과가 나오지 않는다.\\\\n\",\\n',\n",
       " '    \"class Person:\\\\n\",\\n',\n",
       " '    \"    bag = [] #클래스 속성은 공유되는 변수로 해당 person내의 지역변수이다. 클래스는 함수와 달리 호출 후 끝나는 객체가 아니라서 메모리를 계속 가지고 있다\\\\n\",\\n',\n",
       " '    \"    \\\\n\",\\n',\n",
       " '    \"    def put_bag(self, stuff):\\\\n\",\\n',\n",
       " '    \"        #self.bag.append(stuff) 해당 코드도 돌아가지만 bag은 공용인 bag이므로 인스턴스가 아니라 person의 객체가 더 옳은 표현\\\\n\",\\n',\n",
       " '    \"        Person.bag.append(stuff)\\\\n\",\\n',\n",
       " '    \"        \\\\n\",\\n',\n",
       " '    \"james = Person()\\\\n\",\\n',\n",
       " '    \"james.put_bag(\\'책\\')\\\\n\",\\n',\n",
       " '    \"\\\\n\",\\n',\n",
       " '    \"maria = Person()\\\\n\",\\n',\n",
       " '    \"maria.put_bag(\\'열쇠\\')\\\\n\",\\n',\n",
       " '    \"\\\\n\",\\n',\n",
       " '    \"print(james.bag) #클래스 내의 변수 호출 하지만 james의 가방과 maria의 가방은 Person 클래스 내에서 공유되고 있다.\\\\n\",\\n',\n",
       " '    \"print(maria.bag)\"\\n',\n",
       " '   ]\\n',\n",
       " '  },\\n',\n",
       " '  {\\n',\n",
       " '    \"print(Person.bag) #클래스 속성은 클래스.객체로 접근 가능\"\\n',\n",
       " '   ]\\n',\n",
       " '  },\\n',\n",
       " '  {\\n',\n",
       " '    \"class Person:\\\\n\",\\n',\n",
       " '    \"    def __init__(self):\\\\n\",\\n',\n",
       " '    \"        self.bag = [] \\\\n\",\\n',\n",
       " '    \"    def put_bag(self, stuff):\\\\n\",\\n',\n",
       " '    \"        self.bag.append(stuff)\\\\n\",\\n',\n",
       " '    \"\\\\n\",\\n',\n",
       " '    \"        \\\\n\",\\n',\n",
       " '    \"james = Person()\\\\n\",\\n',\n",
       " '    \"james.put_bag(\\'책\\')\\\\n\",\\n',\n",
       " '    \"\\\\n\",\\n',\n",
       " '    \"maria = Person()\\\\n\",\\n',\n",
       " '    \"maria.put_bag(\\'열쇠\\')\\\\n\",\\n',\n",
       " '    \"\\\\n\",\\n',\n",
       " '    \"print(james.bag) #바꾼 코드는 init으로 개인용 가방을 만든 것이다. 이로써 공유되던 가방이 각자에게로 주어지게 되었다\\\\n\",\\n',\n",
       " '    \"print(maria.bag)\"\\n',\n",
       " '   ]\\n',\n",
       " '  },\\n',\n",
       " '  {\\n',\n",
       " '    \"class knight:\\\\n\",\\n',\n",
       " '    \"    __item_limit = 10 #비공개 속성\\\\n\",\\n',\n",
       " '    \"    \\\\n\",\\n',\n",
       " '    \"    def print_item_limit(self): \\\\n\",\\n',\n",
       " '    \"        print(knight.__item_limit) #클래스 안에서\\'만\\' 접근할 수 있음 그리고 속성이다보니 knight로 받았다.\\\\n\",\\n',\n",
       " '    \"        \\\\n\",\\n',\n",
       " '    \"x = knight()\\\\n\",\\n',\n",
       " '    \"x.print_item_limit()    # = 10이다\\\\n\",\\n',\n",
       " '    \"\\\\n\",\\n',\n",
       " '    \"print(knight.__item_limit()) #클래스 바깥에서는 접근할 수 없음\\\\n\",\\n',\n",
       " '    \"#type object \\'knight\\' has no attribute \\'__item_limit\\' 비공개라서 없다고 오류가 나온다\"\\n',\n",
       " '   ]\\n',\n",
       " '  },\\n',\n",
       " '  {\\n',\n",
       " '    \"## 정적메서드\"\\n',\n",
       " '   ]\\n',\n",
       " '  },\\n',\n",
       " '  {\\n',\n",
       " '    \"#self가 없다. 기본 함수와 동일한 특성.\\\\n\",\\n',\n",
       " '    \"class Calc:\\\\n\",\\n',\n",
       " '    \"    el = 20\\\\n\",\\n',\n",
       " '    \"    @staticmethod\\\\n\",\\n',\n",
       " '    \"    def add(a, b):\\\\n\",\\n',\n",
       " '    \"        return a + b\\\\n\",\\n',\n",
       " '    \"    \\\\n\",\\n',\n",
       " '    \"    @staticmethod\\\\n\",\\n',\n",
       " '    \"    def mul(a, b):\\\\n\",\\n',\n",
       " '    \"        return a*b\\\\n\",\\n',\n",
       " '    \"\\\\n\",\\n',\n",
       " '    \"Calc.add(10, 20)\\\\n\",\\n',\n",
       " '    \"Calc.mul(10, 20)\"\\n',\n",
       " '   ]\\n',\n",
       " '  },\\n',\n",
       " '  {\\n',\n",
       " '    \"## 클래스 메서드\"\\n',\n",
       " '   ]\\n',\n",
       " '  },\\n',\n",
       " '  {\\n',\n",
       " '    \"#init과 비슷하게 클래스를 인스턴스로 받을때 바로 클래스 속성에 접근한다. \\\\n\",\\n',\n",
       " '    \"#정적 메서드와 다른 점은 클래스 속성이나 클래스 메서드에 접근할때 사용한다.\"\\n',\n",
       " '   ]\\n',\n",
       " '  },\\n',\n",
       " '  {\\n',\n",
       " '    \"class Person:\\\\n\",\\n',\n",
       " '    \"    count = 0 #속성 생성\\\\n\",\\n',\n",
       " '    \"    \\\\n\",\\n',\n",
       " '    \"    def __init__(self):\\\\n\",\\n',\n",
       " '    \"        Person.count += 1 #인스턴스가 만들어질 때 클래스 속성 count에 1을 더함\\\\n\",\\n',\n",
       " '    \"        \\\\n\",\\n',\n",
       " '    \"    @classmethod\\\\n\",\\n',\n",
       " '    \"    def print_count(cls): #cls안쓰면 오류 self와 같음\\\\n\",\\n',\n",
       " '    \"        print(\\'{0}명이 생성되었습니다.\\'.format(cls.count)) #cls 클래스 속성에 접근\\\\n\",\\n',\n",
       " '    \"        \\\\n\",\\n',\n",
       " '    \"james = Person()\\\\n\",\\n',\n",
       " '    \"maria = Person()\\\\n\",\\n',\n",
       " '    \"\\\\n\",\\n',\n",
       " '    \"Person.print_count() #2명이 생성되었습니다.\"\\n',\n",
       " '   ]\\n',\n",
       " '  },\\n',\n",
       " '  {\\n',\n",
       " '    \"# 속성에 접근할때는 클래스명.속성명 으로 접근하는게 옳다. 다시 한 번 강조 !\"\\n',\n",
       " '   ]\\n',\n",
       " '  },\\n',\n",
       " '  {\\n',\n",
       " '    \"## 클래스 메서드는 그자체로 속성에 접근하기에 인스턴스없이 접근할 수 있다!\"\\n',\n",
       " '   ]\\n',\n",
       " '  },\\n',\n",
       " '  {\\n',\n",
       " '    \"class Date:\\\\n\",\\n',\n",
       " '    \"    @classmethod\\\\n\",\\n',\n",
       " '    \"    def is_date_valid(cls, arr):\\\\n\",\\n',\n",
       " '    \"        arr = arr.split(\\'-\\')\\\\n\",\\n',\n",
       " '    \"        if len(arr[0]) != 4 and (arr[1] < 1 or arr[1] > 12) and (arr[2] > 31 or arr[2] < 1):\\\\n\",\\n',\n",
       " '    \"            return 0\\\\n\",\\n',\n",
       " '    \"        return 1\\\\n\",\\n',\n",
       " '    \"if Date.is_date_valid(\\'2000-10-31\\'):\\\\n\",\\n',\n",
       " '    \"    print(\\'올바른 날짜 형식입니다.\\')\\\\n\",\\n',\n",
       " '    \"else:\\\\n\",\\n',\n",
       " '    \"    print(\\'잘못된 날짜 형식입니다.\\')\"\\n',\n",
       " '   ]\\n',\n",
       " '  },\\n',\n",
       " '  {\\n',\n",
       " '    \" # 참고 (instance method bs static method)\"\\n',\n",
       " '   ]\\n',\n",
       " '  },\\n',\n",
       " '  {\\n',\n",
       " '    \"a = {1, 2, 3}\"\\n',\n",
       " '   ]\\n',\n",
       " '  },\\n',\n",
       " '  {\\n',\n",
       " '    \"class Date:\\\\n\",\\n',\n",
       " '    \"    date = []\\\\n\",\\n',\n",
       " '    \"    month31day = [1,3,5,7,8,10,12]\\\\n\",\\n',\n",
       " '    \"    month30day = [4,6,9,11]\\\\n\",\\n',\n",
       " '    \"    \\\\n\",\\n',\n",
       " '    \"    @classmethod\\\\n\",\\n',\n",
       " '    \"    def is_data_valid(cls, date):\\\\n\",\\n',\n",
       " '    \"        cls.date = list(map(int, date.split(\\'-\\')))\\\\n\",\\n',\n",
       " '    \"        if cls.date[1] == 2 and cls.date[0] % 4 == 0 and 1 <= cls.date[2] <= 29:\\\\n\",\\n',\n",
       " '    \"            return True\\\\n\",\\n',\n",
       " '    \"        elif cls.date[1] == 2 and 1 <= cls.date[2] <= 28:\\\\n\",\\n',\n",
       " '    \"            return True\\\\n\",\\n',\n",
       " '    \"        elif cls.date[1] in cls.month31day and 1 <= cls.date[2] <= 31:\\\\n\",\\n',\n",
       " '    \"            return True\\\\n\",\\n',\n",
       " '    \"        elif cls.date[1] in cls.month30day and 1 <= cls.date[2] <= 30:\\\\n\",\\n',\n",
       " '    \"            return True\\\\n\",\\n',\n",
       " '    \"\\\\n\",\\n',\n",
       " '    \"        else:\\\\n\",\\n',\n",
       " '    \"            return False\\\\n\",\\n',\n",
       " '    \"\\\\n\",\\n',\n",
       " '    \"if Date.is_data_valid(\\'2001-2-29\\'):\\\\n\",\\n',\n",
       " '    \"    print(\\\\\"올바른 날짜 형식입니다.\\\\\")\\\\n\",\\n',\n",
       " '    \"else:\\\\n\",\\n',\n",
       " '    \"    print(\\\\\"잘못된 날짜 형식입니다.\\\\\")\"\\n',\n",
       " '   ]\\n',\n",
       " '  },\\n',\n",
       " '  {\\n',\n",
       " '    \"class time:\\\\n\",\\n',\n",
       " '    \"    def __init__(self, hour, minute, second):\\\\n\",\\n',\n",
       " '    \"        self.hour = hour\\\\n\",\\n',\n",
       " '    \"        self.minute = minute\\\\n\",\\n',\n",
       " '    \"        self.second = second\\\\n\",\\n',\n",
       " '    \"    @staticmethod \\\\n\",\\n',\n",
       " '    \"    def is_time_valid(tm): #옳은 형식인지 파악.\\\\n\",\\n',\n",
       " '    \"        tm = tm.split(\\':\\')\\\\n\",\\n',\n",
       " '    \"        if 0 <= int(tm[0]) <= 24 and 0 <= int(tm[1]) <= 59 and 0 <= int(tm[2]) <= 60:\\\\n\",\\n',\n",
       " '    \"            return (True)\\\\n\",\\n',\n",
       " '    \"        return (False)\\\\n\",\\n',\n",
       " '    \"    @staticmethod\\\\n\",\\n',\n",
       " '    \"    def from_string(tm): #옳은 형식이라면 if문 안에 들어와서 split 으로 나누고 \\\\n\",\\n',\n",
       " '    \"        tm = tm.split(\\':\\')\\\\n\",\\n',\n",
       " '    \"        return time(tm[0], tm[1], tm[2]) #나눈 것을 다시 time에 넣어서 init값 초기화\\\\n\",\\n',\n",
       " '    \"\\\\n\",\\n',\n",
       " '    \"            \\\\n\",\\n',\n",
       " '    \"time_string = input()\\\\n\",\\n',\n",
       " '    \"\\\\n\",\\n',\n",
       " '    \"if time.is_time_valid(time_string):\\\\n\",\\n',\n",
       " '    \"    t = time.from_string(time_string)\\\\n\",\\n',\n",
       " '    \"    print(t.hour, t.minute, t.second)\\\\n\",\\n',\n",
       " '    \"else:\\\\n\",\\n',\n",
       " '    \"    print(\\'잘못된 시간 형식입니다.\\')\"\\n',\n",
       " '   ]\\n',\n",
       " '  },\\n',\n",
       " '  {\\n',\n",
       " '    \"class time:\\\\n\",\\n',\n",
       " '    \"    def __init__(self, hour, minute, second):\\\\n\",\\n',\n",
       " '    \"        self.hour = hour\\\\n\",\\n',\n",
       " '    \"        self.minute = minute\\\\n\",\\n',\n",
       " '    \"        self.second = second\\\\n\",\\n',\n",
       " '    \"    def is_time_valid(self, tm): #옳은 형식인지 파악.\\\\n\",\\n',\n",
       " '    \"        self.tm = tm.split(\\':\\')\\\\n\",\\n',\n",
       " '    \"        if 0 <= int(self.tm[0]) <= 24 and 0 <= int(self.tm[1]) <= 59 and 0 <= int(self.tm[2]) <= 60:\\\\n\",\\n',\n",
       " '    \"            return (True)\\\\n\",\\n',\n",
       " '    \"        return (False)\\\\n\",\\n',\n",
       " '    \"    def from_string(self, tm): #옳은 형식이라면 if문 안에 들어와서 split 으로 나누고 \\\\n\",\\n',\n",
       " '    \"        self.tm = tm.split(\\':\\')\\\\n\",\\n',\n",
       " '    \"        return time(self.tm[0], self.tm[1], self.tm[2]) #나눈 것을 다시 time에 넣어서 init값 초기화\\\\n\",\\n',\n",
       " '    \"\\\\n\",\\n',\n",
       " '    \"            \\\\n\",\\n',\n",
       " '    \"time_string = input()\\\\n\",\\n',\n",
       " '    \"ts = time(10, 20, 30)\\\\n\",\\n',\n",
       " '    \"if ts.is_time_valid(time_string):\\\\n\",\\n',\n",
       " '    \"    t = ts.from_string(time_string)\\\\n\",\\n',\n",
       " '    \"    print(t.hour, t.minute, t.second)\\\\n\",\\n',\n",
       " '    \"else:\\\\n\",\\n',\n",
       " '    \"    print(\\'잘못된 시간 형식입니다.\\')\"\\n',\n",
       " '   ]\\n',\n",
       " '  },\\n',\n",
       " '  {\\n',\n",
       " '    \"class person:\\\\n\",\\n',\n",
       " '    \"    def greeting(self):\\\\n\",\\n',\n",
       " '    \"        print(\\'안녕하세요!\\')\\\\n\",\\n',\n",
       " '    \"class student(person): #상속받을때만 파라미터 받기.\\\\n\",\\n',\n",
       " '    \"    def study(self):\\\\n\",\\n',\n",
       " '    \"        print(\\\\\"학생입니다.\\\\\")\\\\n\",\\n',\n",
       " '    \"james = student()\\\\n\",\\n',\n",
       " '    \"james.greeting() #상속받으면 부모 클래스의 기능을 그대로 쓸 수 있고 자기 자신도 사용 가능\\\\n\",\\n',\n",
       " '    \"james.study()\"\\n',\n",
       " '   ]\\n',\n",
       " '  },\\n',\n",
       " '  {\\n',\n",
       " '    \"# 상속받으려면 init이 없어야함!\"\\n',\n",
       " '   ]\\n',\n",
       " '  },\\n',\n",
       " '  {\\n',\n",
       " '    \"#하지만 이니셜라이즈 하고도 상속 받는 법이 있다.\\\\n\",\\n',\n",
       " '    \"super().__init__()을 하면 된다.\"\\n',\n",
       " '   ]\\n',\n",
       " '  },\\n',\n",
       " '  {\\n',\n",
       " '    \"class person:\\\\n\",\\n',\n",
       " '    \"    def __init__(self):\\\\n\",\\n',\n",
       " '    \"        print(\\'person__init__\\')\\\\n\",\\n',\n",
       " '    \"        self.hello = \\'안녕하세요\\'\\\\n\",\\n',\n",
       " '    \"        \\\\n\",\\n',\n",
       " '    \"class student(person):\\\\n\",\\n',\n",
       " '    \"    pass\\\\n\",\\n',\n",
       " '    \"\\\\n\",\\n',\n",
       " '    \"james = student() #인스턴스 만들어주고\\\\n\",\\n',\n",
       " '    \"james.hello       #부모 속성 기능 사용하기\\\\n\",\\n',\n",
       " '    \"#해당 코드가 가능한 이유는 init이 없어서 디폴트 값으로 부모의 init을 받아왔기 때문.\"\\n',\n",
       " '   ]\\n',\n",
       " '  },\\n',\n",
       " '  {\\n',\n",
       " '    \"class Person:\\\\n\",\\n',\n",
       " '    \"    def greeting(self):\\\\n\",\\n',\n",
       " '    \"        print(\\'안녕하세요\\')\\\\n\",\\n',\n",
       " '    \"        \\\\n\",\\n',\n",
       " '    \"class University:\\\\n\",\\n',\n",
       " '    \"    def manage_credit(self):\\\\n\",\\n',\n",
       " '    \"        print(\\'학점관리\\')\\\\n\",\\n',\n",
       " '    \"        \\\\n\",\\n',\n",
       " '    \"class Undergraduate(Person, University):\\\\n\",\\n',\n",
       " '    \"    def study(self):\\\\n\",\\n',\n",
       " '    \"        print(\\'공부하기\\')\\\\n\",\\n',\n",
       " '    \"        \\\\n\",\\n',\n",
       " '    \"james = Undergraduate()\\\\n\",\\n',\n",
       " '    \"james.greeting() #함수 건드릴때는 꼭 ()붙이기\\\\n\",\\n',\n",
       " '    \"james.manage_credit()\\\\n\",\\n',\n",
       " '    \"james.study()\"\\n',\n",
       " '   ]\\n',\n",
       " '  },\\n',\n",
       " '  {\\n',\n",
       " '    \"#추상 클래스\"\\n',\n",
       " '   ]\\n',\n",
       " '  },\\n',\n",
       " '  {\\n',\n",
       " '    \"from abc import *\\\\n\",\\n',\n",
       " '    \"\\\\n\",\\n',\n",
       " '    \"class StudentBase(metaclass=ABCMeta): #이거는 호출해도 아무것도 못해서 인스턴스로 만들지도 못함\\\\n\",\\n',\n",
       " '    \"    @abstractmethod #추상 클래스를 사용하면 자식클래스는 이게 붙은 모든 함수를 대신해서 구현해야함\\\\n\",\\n',\n",
       " '    \"    def study(self):\\\\n\",\\n',\n",
       " '    \"        pass\\\\n\",\\n',\n",
       " '    \"    @abstractmethod\\\\n\",\\n',\n",
       " '    \"    def go_to_school(self):\\\\n\",\\n',\n",
       " '    \"        pass\\\\n\",\\n',\n",
       " '    \"\\\\n\",\\n',\n",
       " '    \"class Student(StudentBase):\\\\n\",\\n',\n",
       " '    \"    def study(self):\\\\n\",\\n',\n",
       " '    \"        print(\\'공부하기\\')\\\\n\",\\n',\n",
       " '    \"    def go_to_school(self): #이처럼 모두 구현해야함\\\\n\",\\n',\n",
       " '    \"        print(\\'학교가기\\')\\\\n\",\\n',\n",
       " '    \"\\\\n\",\\n',\n",
       " '    \"james = Student() #그렇지 않다면 만들때 에러 생긴다 파생클래스로 인스턴스를 만들때\\\\n\",\\n',\n",
       " '    \"james.study()\\\\n\",\\n',\n",
       " '    \"james.go_to_school()\"\\n',\n",
       " '   ]\\n',\n",
       " '  },\\n',\n",
       " '  {\\n',\n",
       " '    \"## 메서드 오버라이딩 기반 클래스의 메서드를 활용할때 자식클래스에서 같은 이름으로 사용하는데 유사한 기능을 가질 때 주로 사용한다.\"\\n',\n",
       " '   ]\\n',\n",
       " '  },\\n',\n",
       " '  {\\n',\n",
       " '    \"class AdvancedList(list):\\\\n\",\\n',\n",
       " '    \"    ls = []\\\\n\",\\n',\n",
       " '    \"    def __init__(self, ss):\\\\n\",\\n',\n",
       " '    \"        self.ss = ss\\\\n\",\\n',\n",
       " '    \"    def replace(self, a, z):\\\\n\",\\n',\n",
       " '    \"        for i in self.ss:\\\\n\",\\n',\n",
       " '    \"            if i == a:\\\\n\",\\n',\n",
       " '    \"                self.ls.append(z)\\\\n\",\\n',\n",
       " '    \"            else:\\\\n\",\\n',\n",
       " '    \"                self.ls.append(i)\\\\n\",\\n',\n",
       " '    \"x = AdvancedList([1, 2, 3, 1, 2, 3, 1, 2, 3])\\\\n\",\\n',\n",
       " '    \"x.replace(1, 100)\\\\n\",\\n',\n",
       " '    \"print(x)\"\\n',\n",
       " '   ]\\n',\n",
       " '  },\\n',\n",
       " '  {\\n',\n",
       " '    \"class AdvancedList(list):\\\\n\",\\n',\n",
       " '    \"    def replace(self, a, z):\\\\n\",\\n',\n",
       " '    \"        while a in self: #if가 숨겨져 있는 것임\\\\n\",\\n',\n",
       " '    \"            idx = self.index(a)\\\\n\",\\n',\n",
       " '    \"            self[idx] = z\\\\n\",\\n',\n",
       " '    \"            print(id(self[idx]))\\\\n\",\\n',\n",
       " '    \"\\\\n\",\\n',\n",
       " '    \"x = AdvancedList([1, 2, 3, 1, 2, 3, 1, 2, 3])\\\\n\",\\n',\n",
       " '    \"x.replace(1, 100)\\\\n\",\\n',\n",
       " '    \"print(x)\\\\n\",\\n',\n",
       " '    \"print(id(x[0]))\"\\n',\n",
       " '   ]\\n',\n",
       " '  },\\n',\n",
       " '  {\\n',\n",
       " '    \"#강진님 코드\\\\n\",\\n',\n",
       " '    \"class AdvancedList(list):\\\\n\",\\n',\n",
       " '    \"    \\\\n\",\\n',\n",
       " '    \"    def __init__(self, l):\\\\n\",\\n',\n",
       " '    \"        self.l = l\\\\n\",\\n',\n",
       " '    \"    \\\\n\",\\n',\n",
       " '    \"    def replace(self, a, b):\\\\n\",\\n',\n",
       " '    \"        for i in range(len(self.l)):\\\\n\",\\n',\n",
       " '    \"            if self.l[i] == a:\\\\n\",\\n',\n",
       " '    \"                self.l[i] = b\\\\n\",\\n',\n",
       " '    \"        return self.l\\\\n\",\\n',\n",
       " '    \"     \\\\n\",\\n',\n",
       " '    \"    def __str__(self):\\\\n\",\\n',\n",
       " '    \"        return str(self.l)\\\\n\",\\n',\n",
       " '    \"\\\\n\",\\n',\n",
       " '    \"x = AdvancedList([1,2,3,1,2,3,1,2,3])\\\\n\",\\n',\n",
       " '    \"x.replace(1, 100)\\\\n\",\\n',\n",
       " '    \"print(x)\\\\n\"\\n',\n",
       " '   ]\\n',\n",
       " '  },\\n',\n",
       " '  {\\n',\n",
       " '    \"class AdvancedList(list):\\\\n\",\\n',\n",
       " '    \"    def replace(self,b,a):\\\\n\",\\n',\n",
       " '    \"        self=[i if i!=b else a  for i in self]\\\\n\",\\n',\n",
       " '    \"        print(id(self))\\\\n\",\\n',\n",
       " '    \"x=AdvancedList([1,2,3,1,2,3,1,2,3])\\\\n\",\\n',\n",
       " '    \"x.replace(1,100)\\\\n\",\\n',\n",
       " '    \"print(id(x))\"\\n',\n",
       " '   ]\\n',\n",
       " '  },\\n',\n",
       " '  {\\n',\n",
       " '  },\\n',\n",
       " '  {\\n',\n",
       " '    \"# try except\"\\n',\n",
       " '   ]\\n',\n",
       " '  },\\n',\n",
       " '  {\\n',\n",
       " '    \"try: #실행한다.\\\\n\",\\n',\n",
       " '    \"    x = int(input(\\'나눌 숫자를 입력하세요\\'))\\\\n\",\\n',\n",
       " '    \"    y = 10 / x #예외가 발생하면 발생한 순서에서 코드 중단하고 아래 코드 버리고 except로 간다\\\\n\",\\n',\n",
       " '    \"    print(y)\\\\n\",\\n',\n",
       " '    \"except: #예외상황\\\\n\",\\n',\n",
       " '    \"    print(\\'예외가 발생했습니다.\\')\"\\n',\n",
       " '   ]\\n',\n",
       " '  },\\n',\n",
       " '  {\\n',\n",
       " '    \"try:\\\\n\",\\n',\n",
       " '    \"    실행할 코드\\\\n\",\\n',\n",
       " '    \"except:\\\\n\",\\n',\n",
       " '    \"    예외가 발생했을 때 처리하는 코드\"\\n',\n",
       " '   ]\\n',\n",
       " '  },\\n',\n",
       " '  {\\n',\n",
       " '    \"y = [10, 20, 30]\\\\n\",\\n',\n",
       " '    \"\\\\n\",\\n',\n",
       " '    \"try:\\\\n\",\\n',\n",
       " '    \"    index, x = map(int, input(\\'인덱스와 나눌 숫자를 입력하세요: \\').split())\\\\n\",\\n',\n",
       " '    \"    print(y[index] / x)\\\\n\",\\n',\n",
       " '    \"except ZeroDivisionError:\\\\n\",\\n',\n",
       " '    \"    print(\\'숫자를 0으로 나눌 수 없습니다\\') #에러메세지 대신 출력 except 뒤의 문자열은 정해져있는 error메세지중 선택.\\\\n\",\\n',\n",
       " '    \"except IndexError:\\\\n\",\\n',\n",
       " '    \"    print(\\'잘못된 인덱스입니다\\')\"\\n',\n",
       " '   ]\\n',\n",
       " '  },\\n',\n",
       " '  {\\n',\n",
       " '    \"try:\\\\n\",\\n',\n",
       " '    \"    실행할 코드\\\\n\",\\n',\n",
       " '    \"except 예외 as e: #e는 예외명인데 as e로 고정되어 있다.\\\\n\",\\n',\n",
       " '    \"    예외가 발생했을 때 처리하는 코드\"\\n',\n",
       " '   ]\\n',\n",
       " '  },\\n',\n",
       " '  {\\n',\n",
       " '    \"y = [10, 20, 30]\\\\n\",\\n',\n",
       " '    \"\\\\n\",\\n',\n",
       " '    \"try:\\\\n\",\\n',\n",
       " '    \"    index, x = map(int, input(\\'인덱스와 나눌 숫자를 입력하세요: \\').split())\\\\n\",\\n',\n",
       " '    \"    print(y[index] / x)\\\\n\",\\n',\n",
       " '    \"except ZeroDivisionError as e:\\\\n\",\\n',\n",
       " '    \"    print(\\'숫자를 0으로 나눌 수 없습니다.\\', e) #에러메세지 대신 출력 except 뒤의 문자열은 정해져있는 error메세지중 선택.\\\\n\",\\n',\n",
       " '    \"except IndexError as e:\\\\n\",\\n',\n",
       " '    \"    print(\\'잘못된 인덱스입니다.\\', e)    \\\\n\",\\n',\n",
       " '    \"# 예외에도 우선순위가 있다.\"\\n',\n",
       " '   ]\\n',\n",
       " '  },\\n',\n",
       " '  {\\n',\n",
       " '    \"try:\\\\n\",\\n',\n",
       " '    \"    실행할 코드\\\\n\",\\n',\n",
       " '    \"except:\\\\n\",\\n',\n",
       " '    \"    예외가 발생했을 때 처리하는 코드\\\\n\",\\n',\n",
       " '    \"else:\\\\n\",\\n',\n",
       " '    \"    예외가 발생하지 않았을 때 처리하는 코드\"\\n',\n",
       " '   ]\\n',\n",
       " '  },\\n',\n",
       " '  {\\n',\n",
       " '    \"y = [10, 20, 30]\\\\n\",\\n',\n",
       " '    \"\\\\n\",\\n',\n",
       " '    \"try:\\\\n\",\\n',\n",
       " '    \"    x = int(input(\\'인덱스와 나눌 숫자를 입력하세요: \\'))\\\\n\",\\n',\n",
       " '    \"    y = 10 / x\\\\n\",\\n',\n",
       " '    \"except ZeroDivisionError as e:\\\\n\",\\n',\n",
       " '    \"    print(\\'숫자를 0으로 나눌 수 없습니다.\\', e) #에러메세지 대신 출력 except 뒤의 문자열은 정해져있는 error메세지중 선택.\\\\n\",\\n',\n",
       " '    \"except IndexError as e:\\\\n\",\\n',\n",
       " '    \"    print(\\'잘못된 인덱스입니다.\\', e)    \\\\n\",\\n',\n",
       " '    \"# 예외에도 우선순위가 있다.\\\\n\",\\n',\n",
       " '    \"else:\\\\n\",\\n',\n",
       " '    \"    print(y)\"\\n',\n",
       " '   ]\\n',\n",
       " '  },\\n',\n",
       " '  {\\n',\n",
       " '    \"try:\\\\n\",\\n',\n",
       " '    \"    실행할 코드\\\\n\",\\n',\n",
       " '    \"except:\\\\n\",\\n',\n",
       " '    \"    예외가 발생했을 때 처리하는 코드\\\\n\",\\n',\n",
       " '    \"else:\\\\n\",\\n',\n",
       " '    \"    예외가 발생하지 않았을 때 처리하는 코드\\\\n\",\\n',\n",
       " '    \"finally:\\\\n\",\\n',\n",
       " '    \"    예외 발생 여부와 상관없이 학상 실행할 코드\"\\n',\n",
       " '   ]\\n',\n",
       " '  },\\n',\n",
       " '  {\\n',\n",
       " '    \"y = [10, 20, 30]\\\\n\",\\n',\n",
       " '    \"\\\\n\",\\n',\n",
       " '    \"try:\\\\n\",\\n',\n",
       " '    \"    x = int(input(\\'인덱스와 나눌 숫자를 입력하세요: \\'))\\\\n\",\\n',\n",
       " '    \"    y = 10 / x\\\\n\",\\n',\n",
       " '    \"except ZeroDivisionError as e:\\\\n\",\\n',\n",
       " '    \"    print(\\'숫자를 0으로 나눌 수 없습니다.\\', e) #에러메세지 대신 출력 except 뒤의 문자열은 정해져있는 error메세지중 선택.\\\\n\",\\n',\n",
       " '    \"except IndexError as e:\\\\n\",\\n',\n",
       " '    \"    print(\\'잘못된 인덱스입니다.\\', e)    \\\\n\",\\n',\n",
       " '    \"# 예외에도 우선순위가 있다.\\\\n\",\\n',\n",
       " '    \"else:\\\\n\",\\n',\n",
       " '    \"    print(y)\\\\n\",\\n',\n",
       " '    \"finally:\\\\n\",\\n',\n",
       " '    \"    print(\\'코드 실행이 끝났습니다.\\')\"\\n',\n",
       " '   ]\\n',\n",
       " '  },\\n',\n",
       " '  {\\n',\n",
       " '    \"예외 발생시키기\\\\n\",\\n',\n",
       " '    \"raise 예외(\\'예외메세지\\')\"\\n',\n",
       " '   ]\\n',\n",
       " '  },\\n',\n",
       " '  {\\n',\n",
       " '  }\\n',\n",
       " ' ],\\n',\n",
       " ' \"metadata\": {\\n',\n",
       " '  \"kernelspec\": {\\n',\n",
       " '   \"display_name\": \"Python 3\",\\n',\n",
       " '   \"language\": \"python\",\\n',\n",
       " '   \"name\": \"python3\"\\n',\n",
       " '  },\\n',\n",
       " '  \"language_info\": {\\n',\n",
       " '   \"codemirror_mode\": {\\n',\n",
       " '    \"name\": \"ipython\",\\n',\n",
       " '    \"version\": 3\\n',\n",
       " '   },\\n',\n",
       " '   \"file_extension\": \".py\",\\n',\n",
       " '   \"mimetype\": \"text/x-python\",\\n',\n",
       " '   \"name\": \"python\",\\n',\n",
       " '   \"nbconvert_exporter\": \"python\",\\n',\n",
       " '   \"pygments_lexer\": \"ipython3\",\\n',\n",
       " '   \"version\": \"3.8.8\"\\n',\n",
       " '  }\\n',\n",
       " ' },\\n',\n",
       " ' \"nbformat\": 4,\\n',\n",
       " ' \"nbformat_minor\": 5\\n',\n",
       " '}\\n']"
      ]
     },
     "execution_count": 58,
     "metadata": {},
     "output_type": "execute_result"
    }
   ],
   "source": [
    "li"
   ]
  },
  {
   "cell_type": "code",
   "execution_count": null,
   "id": "330cea56",
   "metadata": {},
   "outputs": [],
   "source": []
  }
 ],
 "metadata": {
  "kernelspec": {
   "display_name": "Python 3",
   "language": "python",
   "name": "python3"
  },
  "language_info": {
   "codemirror_mode": {
    "name": "ipython",
    "version": 3
   },
   "file_extension": ".py",
   "mimetype": "text/x-python",
   "name": "python",
   "nbconvert_exporter": "python",
   "pygments_lexer": "ipython3",
   "version": "3.8.8"
  }
 },
 "nbformat": 4,
 "nbformat_minor": 5
}
