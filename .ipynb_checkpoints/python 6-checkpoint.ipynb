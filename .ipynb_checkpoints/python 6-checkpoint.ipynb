{
 "cells": [
  {
   "cell_type": "code",
   "execution_count": 16,
   "id": "5bffbaf1",
   "metadata": {},
   "outputs": [],
   "source": [
    "#import punctools"
   ]
  },
  {
   "cell_type": "code",
   "execution_count": 11,
   "id": "ed1ebc76",
   "metadata": {},
   "outputs": [],
   "source": [
    "a = {'1': 10, '2' : 20, '3' : 30}"
   ]
  },
  {
   "cell_type": "code",
   "execution_count": 9,
   "id": "ee3f07d1",
   "metadata": {},
   "outputs": [],
   "source": [
    "def play(**kwargs):\n",
    "    for  x, y in kargs.items():\n",
    "        print(x, y)"
   ]
  },
  {
   "cell_type": "code",
   "execution_count": 10,
   "id": "5ba14477",
   "metadata": {},
   "outputs": [
    {
     "ename": "TypeError",
     "evalue": "play() takes 0 positional arguments but 1 was given",
     "output_type": "error",
     "traceback": [
      "\u001b[1;31m---------------------------------------------------------------------------\u001b[0m",
      "\u001b[1;31mTypeError\u001b[0m                                 Traceback (most recent call last)",
      "\u001b[1;32m<ipython-input-10-9a6f731590d4>\u001b[0m in \u001b[0;36m<module>\u001b[1;34m\u001b[0m\n\u001b[1;32m----> 1\u001b[1;33m \u001b[0mplay\u001b[0m\u001b[1;33m(\u001b[0m\u001b[0ma\u001b[0m\u001b[1;33m)\u001b[0m\u001b[1;33m\u001b[0m\u001b[1;33m\u001b[0m\u001b[0m\n\u001b[0m",
      "\u001b[1;31mTypeError\u001b[0m: play() takes 0 positional arguments but 1 was given"
     ]
    }
   ],
   "source": [
    "play(a)"
   ]
  },
  {
   "cell_type": "code",
   "execution_count": 17,
   "id": "650ca1a1",
   "metadata": {},
   "outputs": [],
   "source": [
    "files = ['dsd', '1.png', '10.jpg', '11.gif']"
   ]
  },
  {
   "cell_type": "code",
   "execution_count": 20,
   "id": "532ebd50",
   "metadata": {
    "scrolled": true
   },
   "outputs": [
    {
     "name": "stdout",
     "output_type": "stream",
     "text": [
      "['1.png', '10.jpg']\n"
     ]
    }
   ],
   "source": [
    "print(list(filter(lambda x : 'png' in x or 'jpg' in x ,files)))"
   ]
  },
  {
   "cell_type": "code",
   "execution_count": 45,
   "id": "ae462cf1",
   "metadata": {},
   "outputs": [
    {
     "name": "stdout",
     "output_type": "stream",
     "text": [
      "['001.jpg', '010.png', '011.png', '002.jpg', '003.png']\n"
     ]
    }
   ],
   "source": [
    "x = '1.jpg 10.png 11.png 2.jpg 3.png'\n",
    "#files = input().split()\n",
    "x = list(x.split())\n",
    "x = [i.zfill(7) for i in x]\n",
    "print(x)"
   ]
  },
  {
   "cell_type": "code",
   "execution_count": 53,
   "id": "ef7cbcb8",
   "metadata": {},
   "outputs": [
    {
     "name": "stdout",
     "output_type": "stream",
     "text": [
      "['001.jpg', '010.png', '011.png', '002.jpg', '003.png']\n"
     ]
    }
   ],
   "source": [
    "#files = input().split()\n",
    "#print(list(map(lambda x:  3 - len(x.split('.')[0])*'0' +x.split('.')[0]+'.'+x.split('.')[1], x)))\n",
    "# 위의 코드가 안된 이유는 3 - len을 안묶으면 int와 문자열이 계산되므로 len까지 묶고 0을 곱해야한다.\n",
    "print(list(map(lambda x:  (3 - len(x.split('.')[0]))*'0' +x.split('.')[0]+'.'+x.split('.')[1], x)))"
   ]
  },
  {
   "cell_type": "code",
   "execution_count": 59,
   "id": "64a08dd0",
   "metadata": {},
   "outputs": [
    {
     "name": "stdout",
     "output_type": "stream",
     "text": [
      "['001.jpg', '010.png', '011.png', '002.jpg', '003.png']\n"
     ]
    }
   ],
   "source": [
    "print(list(map(lambda x:  x.split('.')[0].zfill(3)+'.'+x.split('.')[1], x)))"
   ]
  },
  {
   "cell_type": "code",
   "execution_count": 62,
   "id": "00d3611a",
   "metadata": {
    "scrolled": true
   },
   "outputs": [
    {
     "ename": "SyntaxError",
     "evalue": "invalid syntax (<ipython-input-62-5fd1ab1de678>, line 4)",
     "output_type": "error",
     "traceback": [
      "\u001b[1;36m  File \u001b[1;32m\"<ipython-input-62-5fd1ab1de678>\"\u001b[1;36m, line \u001b[1;32m4\u001b[0m\n\u001b[1;33m    print(list(map(lambda x)))\u001b[0m\n\u001b[1;37m                           ^\u001b[0m\n\u001b[1;31mSyntaxError\u001b[0m\u001b[1;31m:\u001b[0m invalid syntax\n"
     ]
    }
   ],
   "source": [
    "# 요한님 코드\n",
    "files = input().split()\n",
    "print(list(map(lambda x: \"{0:0>3}.{1}\".format(x.split('.')[0], x.split('.')[1]), files)))"
   ]
  },
  {
   "cell_type": "markdown",
   "id": "87433055",
   "metadata": {},
   "source": [
    "# 지역변수와 전역변수의 범위"
   ]
  },
  {
   "cell_type": "code",
   "execution_count": 68,
   "id": "5ac5b0b4",
   "metadata": {},
   "outputs": [
    {
     "name": "stdout",
     "output_type": "stream",
     "text": [
      "10\n",
      "10\n"
     ]
    }
   ],
   "source": [
    "y = 10\n",
    "def foo():\n",
    "    print(y)\n",
    "\n",
    "foo()\n",
    "print(y)"
   ]
  },
  {
   "cell_type": "code",
   "execution_count": 66,
   "id": "aa0d0c99",
   "metadata": {},
   "outputs": [
    {
     "name": "stdout",
     "output_type": "stream",
     "text": [
      "10\n"
     ]
    },
    {
     "ename": "NameError",
     "evalue": "name 'X' is not defined",
     "output_type": "error",
     "traceback": [
      "\u001b[1;31m---------------------------------------------------------------------------\u001b[0m",
      "\u001b[1;31mNameError\u001b[0m                                 Traceback (most recent call last)",
      "\u001b[1;32m<ipython-input-66-33593ca2c469>\u001b[0m in \u001b[0;36m<module>\u001b[1;34m\u001b[0m\n\u001b[0;32m      3\u001b[0m     \u001b[0mprint\u001b[0m\u001b[1;33m(\u001b[0m\u001b[0mX\u001b[0m\u001b[1;33m)\u001b[0m\u001b[1;33m\u001b[0m\u001b[1;33m\u001b[0m\u001b[0m\n\u001b[0;32m      4\u001b[0m \u001b[0mfoo\u001b[0m\u001b[1;33m(\u001b[0m\u001b[1;33m)\u001b[0m\u001b[1;33m\u001b[0m\u001b[1;33m\u001b[0m\u001b[0m\n\u001b[1;32m----> 5\u001b[1;33m \u001b[0mprint\u001b[0m\u001b[1;33m(\u001b[0m\u001b[0mX\u001b[0m\u001b[1;33m)\u001b[0m\u001b[1;33m\u001b[0m\u001b[1;33m\u001b[0m\u001b[0m\n\u001b[0m",
      "\u001b[1;31mNameError\u001b[0m: name 'X' is not defined"
     ]
    }
   ],
   "source": [
    "def foo():\n",
    "    X = 10\n",
    "    print(X)\n",
    "foo()\n",
    "print(X)"
   ]
  },
  {
   "cell_type": "code",
   "execution_count": 69,
   "id": "26268df5",
   "metadata": {},
   "outputs": [
    {
     "name": "stdout",
     "output_type": "stream",
     "text": [
      "20\n",
      "10\n"
     ]
    }
   ],
   "source": [
    "s = 10\n",
    "def foo():\n",
    "    s = 20\n",
    "    print(s) # 해당 s는 전역변수의 10에서 20이 덮여지고 해당 s는 사라짐.\n",
    "\n",
    "foo()\n",
    "print(s) #이건 맨 위에 선언한 10의 s임"
   ]
  },
  {
   "cell_type": "markdown",
   "id": "947d7108",
   "metadata": {},
   "source": [
    "# global 전역변수"
   ]
  },
  {
   "cell_type": "code",
   "execution_count": 70,
   "id": "4968ce54",
   "metadata": {},
   "outputs": [
    {
     "name": "stdout",
     "output_type": "stream",
     "text": [
      "20\n",
      "20\n"
     ]
    }
   ],
   "source": [
    "y = 10       #전역변수 추가적으로 이게 없어도 밖에서 사용 가능\n",
    "def foo():\n",
    "    global y #이때부터 해당 y는 지역변수 y가아니라 전역변수 y\n",
    "    y = 20   #global때문에 지역변수 y를 선언한게 아닌 전역변수 y를 재선언하게됌\n",
    "    print(y)\n",
    "\n",
    "foo()\n",
    "print(y)"
   ]
  },
  {
   "cell_type": "code",
   "execution_count": 71,
   "id": "f3aa1053",
   "metadata": {},
   "outputs": [
    {
     "name": "stdout",
     "output_type": "stream",
     "text": [
      "20\n",
      "20\n"
     ]
    }
   ],
   "source": [
    "def foo():\n",
    "    global c #c를 선언한 적이 없기에 지금 전역변수인 c를 선언한다\n",
    "    c = 20\n",
    "    print(c)\n",
    "    \n",
    "foo()\n",
    "print(c)"
   ]
  },
  {
   "cell_type": "code",
   "execution_count": 73,
   "id": "55669232",
   "metadata": {},
   "outputs": [
    {
     "name": "stdout",
     "output_type": "stream",
     "text": [
      "hello, world\n",
      "hello, world\n"
     ]
    }
   ],
   "source": [
    "def print_hello():\n",
    "    hello = 'hello, world'\n",
    "    def print_message():\n",
    "        print(hello) #해당 hello는 print_hello에 있는 hello가 전역변수처럼 작용해서임\n",
    "    print(hello)\n",
    "    print_message()\n",
    "print_hello()"
   ]
  },
  {
   "cell_type": "markdown",
   "id": "97cea4cd",
   "metadata": {},
   "source": [
    "# 아래 코드에서 차이를 보면 x를 어디서 할당하느냐의 차이다. 간단하게 생각하면 어느 위치의 스택을 쓰느냐 이다 함수가 끝나면 스택도 사라지므로 안쪽의 스택을 사용하는 것이 좋다."
   ]
  },
  {
   "cell_type": "code",
   "execution_count": 78,
   "id": "5174f988",
   "metadata": {},
   "outputs": [
    {
     "name": "stdout",
     "output_type": "stream",
     "text": [
      "10\n"
     ]
    }
   ],
   "source": [
    "def A():\n",
    "    x = 10 #이건 A가 끝나면 사라지고\n",
    "    def B():\n",
    "        x = 20 #해당 x는 B가 끝나면 사라진다. 그래서 20으로 안바뀐다.\n",
    "    B()\n",
    "    print(x)\n",
    "A()"
   ]
  },
  {
   "cell_type": "code",
   "execution_count": 77,
   "id": "4b0bc729",
   "metadata": {},
   "outputs": [
    {
     "name": "stdout",
     "output_type": "stream",
     "text": [
      "20\n"
     ]
    }
   ],
   "source": [
    "def A():\n",
    "    x = 10\n",
    "    def B():\n",
    "        nonlocal x #새롭게 정의하는 x가 아니라 밖에 있는 함수에서 쓰는 함수다.\n",
    "        x = 20\n",
    "        \n",
    "    B()\n",
    "    print(x)\n",
    "A()"
   ]
  },
  {
   "cell_type": "markdown",
   "id": "aacc5695",
   "metadata": {},
   "source": [
    "## nonlocal은 함수 바깥에서 가장 가까운 함수를 따온다"
   ]
  },
  {
   "cell_type": "markdown",
   "id": "9699b9f4",
   "metadata": {},
   "source": [
    "## golbal은 함수의 단계와 상관없이 맨 상위의 전역변수를 사용한다."
   ]
  },
  {
   "cell_type": "markdown",
   "id": "00263744",
   "metadata": {},
   "source": [
    "# 클로저 함수는 함수안의 반환값에 쓰이는 내부 함수로 외부함수에 정의된 변수들을 사용하여 동작을 실행"
   ]
  },
  {
   "cell_type": "markdown",
   "id": "746f32a7",
   "metadata": {},
   "source": [
    "* 간단히 반환값 함수로 따로 호출하지 않고 반환할때만 쓰인다"
   ]
  },
  {
   "cell_type": "code",
   "execution_count": null,
   "id": "da6cdc10",
   "metadata": {},
   "outputs": [],
   "source": []
  }
 ],
 "metadata": {
  "kernelspec": {
   "display_name": "Python 3",
   "language": "python",
   "name": "python3"
  },
  "language_info": {
   "codemirror_mode": {
    "name": "ipython",
    "version": 3
   },
   "file_extension": ".py",
   "mimetype": "text/x-python",
   "name": "python",
   "nbconvert_exporter": "python",
   "pygments_lexer": "ipython3",
   "version": "3.8.8"
  }
 },
 "nbformat": 4,
 "nbformat_minor": 5
}
