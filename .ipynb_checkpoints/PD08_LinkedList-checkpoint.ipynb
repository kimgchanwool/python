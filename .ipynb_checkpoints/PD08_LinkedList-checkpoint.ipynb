{
 "cells": [
  {
   "cell_type": "markdown",
   "metadata": {
    "id": "q6WC8nG4oK1_"
   },
   "source": [
    "# 링크드리스트"
   ]
  },
  {
   "cell_type": "code",
   "execution_count": 38,
   "metadata": {
    "executionInfo": {
     "elapsed": 277,
     "status": "ok",
     "timestamp": 1625624466609,
     "user": {
      "displayName": "KJ",
      "photoUrl": "https://lh3.googleusercontent.com/a-/AOh14GjOMv18maR-zHJGUEZXC6B1jOWzLJZ007BH4_L4=s64",
      "userId": "12843794636223844496"
     },
     "user_tz": -540
    },
    "id": "Rje4JSSMTYuc"
   },
   "outputs": [],
   "source": [
    "class Element:\n",
    "    def __init__(self, value):\n",
    "        self.value = value\n",
    "        self.next = None\n",
    "\n",
    "class LinkedList:\n",
    "    def __init__(self, head=None):\n",
    "        self.head = head\n",
    "    \n",
    "    def append(self, new_element):\n",
    "        current = self.head\n",
    "        if current: #head가 존재하는 경우\n",
    "            while current.next:\n",
    "                current = current.next\n",
    "            current.next = new_element\n",
    "        else: #head조차 없는 경우\n",
    "            self.head = new_element\n",
    "\n",
    "        \n",
    "    def get_position(self, position):\n",
    "        if position < 1:    \n",
    "            return None #head가 없음\n",
    "\n",
    "        current = self.head\n",
    "        for i in range(1, position): #d이전값까지 돈다.\n",
    "            if current is None:     # position이 초과할 때 #list로따지면 out of range\n",
    "                break\n",
    "            current = current.next #position 전까지 하였음. 그다음 next를 리턴하는 것.\n",
    "        return current\n",
    "\n",
    "\n",
    "    def insert(self, new_element, position): #새로운 값을 지정한 장소에 넣기.\n",
    "        if position == 1:\n",
    "            new_element.next = self.head.next #\n",
    "        else:\n",
    "            prev = self.get_position(position-1)    # 전 요소의 위치는 지정한 포지션보다 1개 전임.\n",
    "            new_element.next = prev.next #새 요소와 원래 있던자리의 요소 연결\n",
    "            prev.next = new_element #전 요소의 다음요소에는 새로운 요소 넣음으로 이전 요소와 원래 있던 요소와 연결된 새로운 요소를 넣는다\n",
    "            #코드를 보면 뒤먼저 연결하고 앞을 연결함.\n",
    "\n",
    "\n",
    "    def delete(self, value):\n",
    "        prev = self.head\n",
    "        if prev.value == value:   # head일 때\n",
    "            self.head = prev.next #head위치에 다음꺼 넣기.\n",
    "\n",
    "        while prev.next: #사실 위 if에서 내보내야함\n",
    "            if prev.next.value == value: #해당 값을 만났을때.\n",
    "                prev.next = prev.next.next    # 전 요소를 다음다음꺼 연결하여 기존 prev.next는 사라짐.\n",
    "            else:\n",
    "                prev = prev.next #값을 못만남.\n",
    "\n"
   ]
  },
  {
   "cell_type": "code",
   "execution_count": 39,
   "metadata": {
    "executionInfo": {
     "elapsed": 280,
     "status": "ok",
     "timestamp": 1625624468167,
     "user": {
      "displayName": "KJ",
      "photoUrl": "https://lh3.googleusercontent.com/a-/AOh14GjOMv18maR-zHJGUEZXC6B1jOWzLJZ007BH4_L4=s64",
      "userId": "12843794636223844496"
     },
     "user_tz": -540
    },
    "id": "dK6TFBAotiIR"
   },
   "outputs": [],
   "source": [
    "# Test cases\n",
    "# Set up some Elements\n",
    "e1 = Element(1)\n",
    "e2 = Element(2)\n",
    "e3 = Element(3)\n",
    "e4 = Element(4)\n",
    "e5 = Element(5)\n",
    "\n",
    "# Start setting up a LinkedList\n",
    "ll = LinkedList(e1)\n",
    "ll.append(e2)\n",
    "ll.append(e3)\n"
   ]
  },
  {
   "cell_type": "code",
   "execution_count": 40,
   "metadata": {
    "colab": {
     "base_uri": "https://localhost:8080/"
    },
    "executionInfo": {
     "elapsed": 7,
     "status": "ok",
     "timestamp": 1625624469499,
     "user": {
      "displayName": "KJ",
      "photoUrl": "https://lh3.googleusercontent.com/a-/AOh14GjOMv18maR-zHJGUEZXC6B1jOWzLJZ007BH4_L4=s64",
      "userId": "12843794636223844496"
     },
     "user_tz": -540
    },
    "id": "oPYt787Vtj7W",
    "outputId": "0c0b6fa6-6bbe-48c0-cbe2-6de3ec417d64"
   },
   "outputs": [
    {
     "name": "stdout",
     "output_type": "stream",
     "text": [
      "3\n"
     ]
    }
   ],
   "source": [
    "# Test get_position\n",
    "# Should print 3\n",
    "print(ll.head.next.next.value)"
   ]
  },
  {
   "cell_type": "code",
   "execution_count": 41,
   "metadata": {
    "colab": {
     "base_uri": "https://localhost:8080/"
    },
    "executionInfo": {
     "elapsed": 4,
     "status": "ok",
     "timestamp": 1625624470523,
     "user": {
      "displayName": "KJ",
      "photoUrl": "https://lh3.googleusercontent.com/a-/AOh14GjOMv18maR-zHJGUEZXC6B1jOWzLJZ007BH4_L4=s64",
      "userId": "12843794636223844496"
     },
     "user_tz": -540
    },
    "id": "ADKjy_cxtoKc",
    "outputId": "8a3ab20c-2c35-4401-b14b-474b25609ea9"
   },
   "outputs": [
    {
     "name": "stdout",
     "output_type": "stream",
     "text": [
      "3\n"
     ]
    }
   ],
   "source": [
    "# Should also print 3\n",
    "print(ll.get_position(3).value)"
   ]
  },
  {
   "cell_type": "code",
   "execution_count": 42,
   "metadata": {
    "colab": {
     "base_uri": "https://localhost:8080/"
    },
    "executionInfo": {
     "elapsed": 4,
     "status": "ok",
     "timestamp": 1625624471747,
     "user": {
      "displayName": "KJ",
      "photoUrl": "https://lh3.googleusercontent.com/a-/AOh14GjOMv18maR-zHJGUEZXC6B1jOWzLJZ007BH4_L4=s64",
      "userId": "12843794636223844496"
     },
     "user_tz": -540
    },
    "id": "hCDIQbnitn4Y",
    "outputId": "8cecfdd1-057e-4723-a42f-388ecb89ccc2"
   },
   "outputs": [
    {
     "name": "stdout",
     "output_type": "stream",
     "text": [
      "4\n"
     ]
    }
   ],
   "source": [
    "# Test insert\n",
    "ll.insert(e4,3)\n",
    "# Should print 4 now\n",
    "print(ll.get_position(3).value)"
   ]
  },
  {
   "cell_type": "code",
   "execution_count": 43,
   "metadata": {
    "executionInfo": {
     "elapsed": 3,
     "status": "ok",
     "timestamp": 1625624472856,
     "user": {
      "displayName": "KJ",
      "photoUrl": "https://lh3.googleusercontent.com/a-/AOh14GjOMv18maR-zHJGUEZXC6B1jOWzLJZ007BH4_L4=s64",
      "userId": "12843794636223844496"
     },
     "user_tz": -540
    },
    "id": "-o92wrbRvr5q"
   },
   "outputs": [],
   "source": [
    "# Test delete\n",
    "ll.delete(1)"
   ]
  },
  {
   "cell_type": "code",
   "execution_count": 44,
   "metadata": {
    "colab": {
     "base_uri": "https://localhost:8080/"
    },
    "executionInfo": {
     "elapsed": 266,
     "status": "ok",
     "timestamp": 1625624484436,
     "user": {
      "displayName": "KJ",
      "photoUrl": "https://lh3.googleusercontent.com/a-/AOh14GjOMv18maR-zHJGUEZXC6B1jOWzLJZ007BH4_L4=s64",
      "userId": "12843794636223844496"
     },
     "user_tz": -540
    },
    "id": "IPrJVuSaxPZX",
    "outputId": "210a5a0d-c768-4a7e-f32c-1d23019d9550"
   },
   "outputs": [
    {
     "name": "stdout",
     "output_type": "stream",
     "text": [
      "2\n"
     ]
    }
   ],
   "source": [
    "# Should print 2 now\n",
    "print(ll.get_position(1).value)"
   ]
  },
  {
   "cell_type": "code",
   "execution_count": 45,
   "metadata": {
    "colab": {
     "base_uri": "https://localhost:8080/"
    },
    "executionInfo": {
     "elapsed": 334,
     "status": "ok",
     "timestamp": 1625624492933,
     "user": {
      "displayName": "KJ",
      "photoUrl": "https://lh3.googleusercontent.com/a-/AOh14GjOMv18maR-zHJGUEZXC6B1jOWzLJZ007BH4_L4=s64",
      "userId": "12843794636223844496"
     },
     "user_tz": -540
    },
    "id": "x7apXxE-xTR8",
    "outputId": "57392a65-cce2-41bf-94d3-1f55b6938f02"
   },
   "outputs": [
    {
     "name": "stdout",
     "output_type": "stream",
     "text": [
      "4\n"
     ]
    }
   ],
   "source": [
    "# Should print 4 now\n",
    "print(ll.get_position(2).value)"
   ]
  },
  {
   "cell_type": "code",
   "execution_count": 46,
   "metadata": {
    "colab": {
     "base_uri": "https://localhost:8080/"
    },
    "executionInfo": {
     "elapsed": 279,
     "status": "ok",
     "timestamp": 1625624500953,
     "user": {
      "displayName": "KJ",
      "photoUrl": "https://lh3.googleusercontent.com/a-/AOh14GjOMv18maR-zHJGUEZXC6B1jOWzLJZ007BH4_L4=s64",
      "userId": "12843794636223844496"
     },
     "user_tz": -540
    },
    "id": "Z61zB0J-xVNX",
    "outputId": "3975435f-7ef6-4f77-9570-5eb68c39f83d"
   },
   "outputs": [
    {
     "name": "stdout",
     "output_type": "stream",
     "text": [
      "3\n"
     ]
    }
   ],
   "source": [
    "# Should print 3 now\n",
    "print(ll.get_position(3).value)"
   ]
  },
  {
   "cell_type": "code",
   "execution_count": null,
   "metadata": {
    "id": "4-p7jM-ysjZl"
   },
   "outputs": [],
   "source": []
  }
 ],
 "metadata": {
  "colab": {
   "authorship_tag": "ABX9TyOUZq9vFvKFjlxqoPfxi5RO",
   "collapsed_sections": [],
   "name": "PD08.ipynb",
   "provenance": []
  },
  "kernelspec": {
   "display_name": "Python 3",
   "language": "python",
   "name": "python3"
  },
  "language_info": {
   "codemirror_mode": {
    "name": "ipython",
    "version": 3
   },
   "file_extension": ".py",
   "mimetype": "text/x-python",
   "name": "python",
   "nbconvert_exporter": "python",
   "pygments_lexer": "ipython3",
   "version": "3.8.8"
  }
 },
 "nbformat": 4,
 "nbformat_minor": 1
}
