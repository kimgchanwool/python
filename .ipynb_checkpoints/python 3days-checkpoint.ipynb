{
 "cells": [
  {
   "cell_type": "code",
   "execution_count": 1,
   "id": "1107496b",
   "metadata": {},
   "outputs": [],
   "source": [
    "a = 1"
   ]
  },
  {
   "cell_type": "code",
   "execution_count": 6,
   "id": "a6543dc5",
   "metadata": {},
   "outputs": [
    {
     "data": {
      "text/plain": [
       "140722430400336"
      ]
     },
     "execution_count": 6,
     "metadata": {},
     "output_type": "execute_result"
    }
   ],
   "source": [
    "id(a)"
   ]
  },
  {
   "cell_type": "code",
   "execution_count": 5,
   "id": "afe780b6",
   "metadata": {},
   "outputs": [
    {
     "data": {
      "text/plain": [
       "True"
      ]
     },
     "execution_count": 5,
     "metadata": {},
     "output_type": "execute_result"
    }
   ],
   "source": [
    "#bool에서 빈문자열과 0을 제외하면 모두 true\n",
    "#and 연산에서는 첫번째 값이 거짓이면 바로 거짓\n",
    "#or 연산에서는 첫번째 값이 참이면 바로 참"
   ]
  },
  {
   "cell_type": "code",
   "execution_count": 25,
   "id": "45b51167",
   "metadata": {},
   "outputs": [
    {
     "name": "stdout",
     "output_type": "stream",
     "text": [
      "9\n",
      "7\n",
      "5\n",
      "3\n",
      "1\n"
     ]
    },
    {
     "data": {
      "text/plain": [
       "[5, 4, 3, 2, 1]"
      ]
     },
     "execution_count": 25,
     "metadata": {},
     "output_type": "execute_result"
    }
   ],
   "source": [
    "for i in reversed(range(1, 10, 2)): # reversed() 해당 배열을 뒤집어준다.\n",
    "    print(i)\n",
    "a = (1, 2, 3, 4, 5)\n",
    "a = list(reversed(a))\n",
    "a\n",
    "#reversed에서 나오면 reversed 형태 객체(range처럼 형태없는 범위?)이므로 다시 사용하려면 리스트로 감싸줘야한다.\n",
    "#편하게 list에서 사용한다면 list.reverse()"
   ]
  },
  {
   "cell_type": "code",
   "execution_count": 22,
   "id": "4f014cd7",
   "metadata": {},
   "outputs": [],
   "source": [
    "a = reversed(a)"
   ]
  },
  {
   "cell_type": "code",
   "execution_count": 26,
   "id": "1a15b172",
   "metadata": {},
   "outputs": [
    {
     "name": "stdout",
     "output_type": "stream",
     "text": [
      "n o h t y p "
     ]
    }
   ],
   "source": [
    "for letter in reversed('python'):\n",
    "    print(letter, end=' ')"
   ]
  },
  {
   "cell_type": "code",
   "execution_count": 32,
   "id": "16aaaea6",
   "metadata": {},
   "outputs": [
    {
     "name": "stdout",
     "output_type": "stream",
     "text": [
      "10 20 30 "
     ]
    }
   ],
   "source": [
    "for i in [1, 2, 3]:\n",
    "    print(10 * i, end=' ') #주의할 것 for문에서는 sep이 아니라 end를 설정해주기."
   ]
  },
  {
   "cell_type": "code",
   "execution_count": 44,
   "id": "d637f88f",
   "metadata": {},
   "outputs": [
    {
     "name": "stdout",
     "output_type": "stream",
     "text": [
      "3\n",
      "3 * 1 = 3\n",
      "3 * 2 = 6\n",
      "3 * 3 = 9\n",
      "3 * 4 = 12\n",
      "3 * 5 = 15\n",
      "3 * 6 = 18\n",
      "3 * 7 = 21\n",
      "3 * 8 = 24\n",
      "3 * 9 = 27\n"
     ]
    }
   ],
   "source": [
    "num = int(input())\n",
    "for i in range(1,10):\n",
    "    print(num,'*', i, '=', num*i)"
   ]
  },
  {
   "cell_type": "code",
   "execution_count": 48,
   "id": "8eb5faac",
   "metadata": {},
   "outputs": [
    {
     "name": "stdout",
     "output_type": "stream",
     "text": [
      "3\n",
      "3 * 1 = 3\n",
      "3 * 2 = 6\n",
      "3 * 3 = 9\n",
      "3 * 4 = 12\n",
      "3 * 5 = 15\n",
      "3 * 6 = 18\n",
      "3 * 7 = 21\n",
      "3 * 8 = 24\n",
      "3 * 9 = 27\n"
     ]
    }
   ],
   "source": [
    "#효율적인 코드짜기. {}를 설정하면 .format을 통해 값 넣기 가능. '' 줄을 줄일 수 있다는 장점!\n",
    "num = int(input())\n",
    "for i in range(1,10):\n",
    "    print(\"{} * {} =\".format(num, i), i*num) "
   ]
  },
  {
   "cell_type": "code",
   "execution_count": 51,
   "id": "cb56f063",
   "metadata": {},
   "outputs": [
    {
     "name": "stdout",
     "output_type": "stream",
     "text": [
      "hello, world! 1\n",
      "hello, world! 2\n",
      "hello, world! 3\n",
      "hello, world! 4\n",
      "hello, world! 5\n",
      "hello, world! 6\n",
      "hello, world! 7\n",
      "hello, world! 8\n",
      "hello, world! 9\n",
      "hello, world! 10\n"
     ]
    }
   ],
   "source": [
    "#while문은 참, 거짓의 조건을 가지고 반복. true or false 로만 동작함.\n",
    "i = 1\n",
    "while i <= 10:\n",
    "    print('hello, world!', i)\n",
    "    i += 1 #또는 i를 10으로두고 -1해서 0보다 클때로 바꿔도 됌.\n"
   ]
  },
  {
   "cell_type": "code",
   "execution_count": 52,
   "id": "ac1cd2bf",
   "metadata": {},
   "outputs": [],
   "source": [
    "#random.random, rnadom.randint(a, b)\n"
   ]
  },
  {
   "cell_type": "code",
   "execution_count": 57,
   "id": "672768c2",
   "metadata": {},
   "outputs": [
    {
     "name": "stdout",
     "output_type": "stream",
     "text": [
      "2 5\n",
      "4 4\n",
      "8 3\n",
      "16 2\n",
      "32 1\n"
     ]
    }
   ],
   "source": [
    "i = 2\n",
    "j = 5\n",
    "while i <= 32 or j >= 1:\n",
    "    print(i, j)\n",
    "    i *=2\n",
    "    j -=1"
   ]
  },
  {
   "cell_type": "code",
   "execution_count": null,
   "id": "6c6219bd",
   "metadata": {},
   "outputs": [],
   "source": [
    "num = int(input())\n",
    "for i in range(1,10):\n",
    "    print(\"{} * {} =\".format(num, i), i*num) "
   ]
  },
  {
   "cell_type": "code",
   "execution_count": null,
   "id": "f25cf6dd",
   "metadata": {},
   "outputs": [],
   "source": [
    "i = 1\n",
    "while True:\n",
    "    if i % 10 != 3:\n",
    "        continue\n",
    "    if i > 73:\n",
    "        break\n",
    "    print(i)\n",
    "    i += 1"
   ]
  },
  {
   "cell_type": "code",
   "execution_count": 3,
   "id": "3ca3271a",
   "metadata": {},
   "outputs": [
    {
     "ename": "SyntaxError",
     "evalue": "EOL while scanning string literal (<ipython-input-3-b3aa655a1bc8>, line 1)",
     "output_type": "error",
     "traceback": [
      "\u001b[1;36m  File \u001b[1;32m\"<ipython-input-3-b3aa655a1bc8>\"\u001b[1;36m, line \u001b[1;32m1\u001b[0m\n\u001b[1;33m    a, b = \"the grown-ups' response, this time, was to advise me to lay aside my drawings of boa constrictors, whether from the inside or the outside, and devote myself instead to geography, history, arithmetic, and grammar. That is why, at the, age of six, I gave up what might have been a magnificent career as a painter. I had been disheartened by the failure of my Drawing Number One and my Drawing Number Two. Grown-ups never understand anything by themselves, and it is tiresome for children to be always and forever explaining things to the.\u001b[0m\n\u001b[1;37m                                                                                                                                                                                                                                                                                                                                                                                                                                                                                                                                                                    ^\u001b[0m\n\u001b[1;31mSyntaxError\u001b[0m\u001b[1;31m:\u001b[0m EOL while scanning string literal\n"
     ]
    }
   ],
   "source": [
    "a, b = \"the grown-ups' response, this time, was to advise me to lay\n",
    "aside my drawings of boa constrictors, whether from the inside or the outside, and devote m\n",
    "yself instead to geography, history, arithmetic, and grammar. That is why, at the, age of six, I \n",
    "gave up what might have been a magnificent career as a painter. I had been disheartened by the fai\n",
    "lure of my Drawing Number One and my Drawing Number Two. Grown-ups never understand anything by thems\n",
    "elves, and it is tiresome for children to be always and forever explaining things to the.''\n",
    "\".count(' the', 'the ')"
   ]
  },
  {
   "cell_type": "code",
   "execution_count": null,
   "id": "d8bc7ce9",
   "metadata": {},
   "outputs": [],
   "source": []
  }
 ],
 "metadata": {
  "kernelspec": {
   "display_name": "Python 3",
   "language": "python",
   "name": "python3"
  },
  "language_info": {
   "codemirror_mode": {
    "name": "ipython",
    "version": 3
   },
   "file_extension": ".py",
   "mimetype": "text/x-python",
   "name": "python",
   "nbconvert_exporter": "python",
   "pygments_lexer": "ipython3",
   "version": "3.8.8"
  }
 },
 "nbformat": 4,
 "nbformat_minor": 5
}
