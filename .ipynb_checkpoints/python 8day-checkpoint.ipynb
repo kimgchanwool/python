{
 "cells": [
  {
   "cell_type": "markdown",
   "id": "344ce5ba",
   "metadata": {},
   "source": [
    "# 스택"
   ]
  },
  {
   "cell_type": "code",
   "execution_count": 5,
   "id": "92721507",
   "metadata": {},
   "outputs": [
    {
     "data": {
      "text/plain": [
       "[1, 2, 3, 4]"
      ]
     },
     "execution_count": 5,
     "metadata": {},
     "output_type": "execute_result"
    }
   ],
   "source": [
    "stack = []\n",
    "\n",
    "stack.append(1) #순서대로 쌓기\n",
    "stack.append(2)\n",
    "stack.append(3)\n",
    "stack.append(4)\n",
    "stack"
   ]
  },
  {
   "cell_type": "code",
   "execution_count": 6,
   "id": "ee727498",
   "metadata": {},
   "outputs": [
    {
     "data": {
      "text/plain": [
       "4"
      ]
     },
     "execution_count": 6,
     "metadata": {},
     "output_type": "execute_result"
    }
   ],
   "source": [
    "stack.pop() #꺼내오기"
   ]
  },
  {
   "cell_type": "code",
   "execution_count": 7,
   "id": "1f21146e",
   "metadata": {},
   "outputs": [],
   "source": [
    "stack.append(5)\n",
    "stack.append(6)"
   ]
  },
  {
   "cell_type": "code",
   "execution_count": 10,
   "id": "4f2772b7",
   "metadata": {
    "scrolled": true
   },
   "outputs": [
    {
     "data": {
      "text/plain": [
       "[1, 2, 3, 5, 6]"
      ]
     },
     "execution_count": 10,
     "metadata": {},
     "output_type": "execute_result"
    }
   ],
   "source": [
    "stack #순서대로 추가되고 추가된 역순으로 내보내진다."
   ]
  },
  {
   "cell_type": "markdown",
   "id": "55606724",
   "metadata": {},
   "source": [
    "# 큐"
   ]
  },
  {
   "cell_type": "markdown",
   "id": "04c5eef0",
   "metadata": {},
   "source": [
    "* Queue 구현 예"
   ]
  },
  {
   "cell_type": "code",
   "execution_count": null,
   "id": "25aed624",
   "metadata": {},
   "outputs": [],
   "source": [
    "pip install collecti"
   ]
  },
  {
   "cell_type": "code",
   "execution_count": 11,
   "id": "128c553b",
   "metadata": {},
   "outputs": [],
   "source": [
    "from collections import deque"
   ]
  },
  {
   "cell_type": "code",
   "execution_count": 35,
   "id": "cd29594d",
   "metadata": {},
   "outputs": [],
   "source": [
    "queue = deque()"
   ]
  },
  {
   "cell_type": "code",
   "execution_count": 36,
   "id": "470c45e7",
   "metadata": {},
   "outputs": [],
   "source": [
    "queue.append(5)"
   ]
  },
  {
   "cell_type": "code",
   "execution_count": 37,
   "id": "90654708",
   "metadata": {},
   "outputs": [],
   "source": [
    "queue.append(2)"
   ]
  },
  {
   "cell_type": "code",
   "execution_count": 38,
   "id": "154ab4b5",
   "metadata": {},
   "outputs": [],
   "source": [
    "queue.append(3)"
   ]
  },
  {
   "cell_type": "code",
   "execution_count": 39,
   "id": "4255aefb",
   "metadata": {},
   "outputs": [],
   "source": [
    "queue.append(7)"
   ]
  },
  {
   "cell_type": "code",
   "execution_count": 40,
   "id": "1da7a496",
   "metadata": {},
   "outputs": [
    {
     "data": {
      "text/plain": [
       "deque([5, 2, 3, 7])"
      ]
     },
     "execution_count": 40,
     "metadata": {},
     "output_type": "execute_result"
    }
   ],
   "source": [
    "queue # 5가 oldest다."
   ]
  },
  {
   "cell_type": "code",
   "execution_count": 41,
   "id": "8e5237d1",
   "metadata": {},
   "outputs": [
    {
     "data": {
      "text/plain": [
       "5"
      ]
     },
     "execution_count": 41,
     "metadata": {},
     "output_type": "execute_result"
    }
   ],
   "source": [
    "queue.popleft() #맨 왼쪽인 oldest를 꺼내온다."
   ]
  },
  {
   "cell_type": "code",
   "execution_count": 42,
   "id": "0d15fb95",
   "metadata": {},
   "outputs": [
    {
     "data": {
      "text/plain": [
       "deque([2, 3, 7])"
      ]
     },
     "execution_count": 42,
     "metadata": {},
     "output_type": "execute_result"
    }
   ],
   "source": [
    "queue"
   ]
  },
  {
   "cell_type": "code",
   "execution_count": 44,
   "id": "1c524db6",
   "metadata": {},
   "outputs": [],
   "source": [
    "queue.append(1)"
   ]
  },
  {
   "cell_type": "code",
   "execution_count": 45,
   "id": "ee8a1a15",
   "metadata": {},
   "outputs": [],
   "source": [
    "queue.append(4)"
   ]
  },
  {
   "cell_type": "code",
   "execution_count": 46,
   "id": "026f93b9",
   "metadata": {},
   "outputs": [
    {
     "data": {
      "text/plain": [
       "deque([2, 3, 7, 1, 4])"
      ]
     },
     "execution_count": 46,
     "metadata": {},
     "output_type": "execute_result"
    }
   ],
   "source": [
    "queue #append는 꼬리에 pop은 머리에서"
   ]
  },
  {
   "cell_type": "code",
   "execution_count": 48,
   "id": "710afbda",
   "metadata": {},
   "outputs": [
    {
     "data": {
      "text/plain": [
       "2"
      ]
     },
     "execution_count": 48,
     "metadata": {},
     "output_type": "execute_result"
    }
   ],
   "source": [
    "queue.popleft()"
   ]
  },
  {
   "cell_type": "code",
   "execution_count": 49,
   "id": "f5a9ae19",
   "metadata": {},
   "outputs": [
    {
     "data": {
      "text/plain": [
       "deque([3, 7, 1, 4])"
      ]
     },
     "execution_count": 49,
     "metadata": {},
     "output_type": "execute_result"
    }
   ],
   "source": [
    "queue"
   ]
  },
  {
   "cell_type": "markdown",
   "id": "844b7f20",
   "metadata": {},
   "source": [
    "# set"
   ]
  },
  {
   "cell_type": "code",
   "execution_count": null,
   "id": "ce233808",
   "metadata": {},
   "outputs": [],
   "source": [
    "# 중복이 없다"
   ]
  },
  {
   "cell_type": "markdown",
   "id": "4847f386",
   "metadata": {},
   "source": [
    "# map"
   ]
  },
  {
   "cell_type": "markdown",
   "id": "b8c4dc41",
   "metadata": {},
   "source": [
    "set의 상향화  dict와 유사"
   ]
  },
  {
   "cell_type": "markdown",
   "id": "1031d03d",
   "metadata": {},
   "source": [
    "## map = <key, value>\n",
    "\n",
    "## A group of keys is a set."
   ]
  },
  {
   "cell_type": "markdown",
   "id": "4eee3ba4",
   "metadata": {},
   "source": [
    "map의 key는 오직 하나만 존재 중복 x"
   ]
  },
  {
   "cell_type": "code",
   "execution_count": 87,
   "id": "a29bbac8",
   "metadata": {},
   "outputs": [],
   "source": [
    "def bubble_sort(arr):\n",
    "    i = 0\n",
    "    for i in range(len(arr)):\n",
    "        for j in range(len(arr) - i):\n",
    "            if j < len(arr) - 1 and arr[j] > arr[j+1]:\n",
    "                arr[j], arr[j + 1] = arr[j + 1], arr[j]\n",
    "            i+=1\n",
    "    print(arr)\n",
    "            \n",
    "            "
   ]
  },
  {
   "cell_type": "code",
   "execution_count": 88,
   "id": "07c4ba7d",
   "metadata": {},
   "outputs": [
    {
     "name": "stdout",
     "output_type": "stream",
     "text": [
      "[1, 2, 2, 3, 4, 5, 10, 10, 20]\n"
     ]
    }
   ],
   "source": [
    "bubble_sort([1, 2,10, 2, 4, 10, 20, 5, 3])"
   ]
  },
  {
   "cell_type": "markdown",
   "id": "bfdc51ce",
   "metadata": {},
   "source": [
    "## Merge sort : efficiency"
   ]
  },
  {
   "cell_type": "markdown",
   "id": "c8045f3c",
   "metadata": {},
   "source": [
    "그룹을 나누어서 계산 그룹끼리도 계산."
   ]
  },
  {
   "cell_type": "markdown",
   "id": "347c5cd7",
   "metadata": {},
   "source": [
    "O(n log(n)) 정도의 복잡도"
   ]
  },
  {
   "cell_type": "code",
   "execution_count": 116,
   "id": "78366cae",
   "metadata": {},
   "outputs": [],
   "source": [
    "def merge(left, right):\n",
    "    i = []\n",
    "    le = ri = 0\n",
    "    while j < len(left) and k < len(right):\n",
    "        if left[j] > right[ri]:\n",
    "            i.append(right[ri])\n",
    "            k+=1\n",
    "        else:\n",
    "            i.append(left[le])\n",
    "            j+=1\n",
    "    if j == len(left): # k-1번째 까지 사용\n",
    "        i = i[:] + right[ri:]\n",
    "    elif k == len(right): #j -1번째까지 사용 \n",
    "        i = i[:] + left[le:]\n",
    "    return i\n",
    "\n",
    "def merge_sort(arr):\n",
    "    if len(arr) <= 1:    \n",
    "        return arr\n",
    "    mid = len(arr) // 2\n",
    "    left = arr[:mid]\n",
    "    right = arr[mid:]\n",
    "    left = merge_sort(left) #재귀\n",
    "    right = merge_sort(right)\n",
    "    return merge(left, right)"
   ]
  },
  {
   "cell_type": "code",
   "execution_count": 121,
   "id": "e11d885a",
   "metadata": {},
   "outputs": [],
   "source": [
    "a = merge_sort([1, 2,3,4,10, 20, 340, 45, 59, 9,5])"
   ]
  },
  {
   "cell_type": "code",
   "execution_count": 122,
   "id": "128a7b67",
   "metadata": {},
   "outputs": [
    {
     "data": {
      "text/plain": [
       "[1, 2, 3, 4, 5, 9, 10, 20, 45, 59, 340]"
      ]
     },
     "execution_count": 122,
     "metadata": {},
     "output_type": "execute_result"
    }
   ],
   "source": [
    "a"
   ]
  },
  {
   "cell_type": "code",
   "execution_count": 123,
   "id": "9c68859e",
   "metadata": {},
   "outputs": [],
   "source": [
    "def quick_sort(arr):\n",
    "    rem = len(arr)-1\n",
    "    i = 0\n",
    "    if arr[0] < arr[-1]:\n",
    "        arr[0], arr[-1] = arr[-1], arr[0]\n",
    "    while True:\n",
    "        count = 0\n",
    "        while i < len(arr) - 1:\n",
    "            arr\n",
    "    "
   ]
  },
  {
   "cell_type": "code",
   "execution_count": null,
   "id": "cfc324ca",
   "metadata": {},
   "outputs": [],
   "source": [
    "def quick_sort(arr):\n",
    "    k = 0\n",
    "    while k < len(arr):\n",
    "        for i in range(len(arr)):\n",
    "            arr[i][1] = 0\n",
    "            if arr[k] > arr[i] and k != i:\n",
    "                arr[i][1] = 1\n",
    "        k+=1\n",
    "    li = [for i in arr if i[1] == 1] + [for i in arr if i[1] == 0]"
   ]
  }
 ],
 "metadata": {
  "kernelspec": {
   "display_name": "Python 3",
   "language": "python",
   "name": "python3"
  },
  "language_info": {
   "codemirror_mode": {
    "name": "ipython",
    "version": 3
   },
   "file_extension": ".py",
   "mimetype": "text/x-python",
   "name": "python",
   "nbconvert_exporter": "python",
   "pygments_lexer": "ipython3",
   "version": "3.8.8"
  }
 },
 "nbformat": 4,
 "nbformat_minor": 5
}
