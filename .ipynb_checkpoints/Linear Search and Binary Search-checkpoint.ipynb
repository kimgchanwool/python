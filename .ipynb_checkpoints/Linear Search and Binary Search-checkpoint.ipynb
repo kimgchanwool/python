{
 "cells": [
  {
   "cell_type": "markdown",
   "metadata": {},
   "source": [
    "# Linear Search(선형검색)"
   ]
  },
  {
   "cell_type": "code",
   "execution_count": 1,
   "metadata": {},
   "outputs": [
    {
     "name": "stdout",
     "output_type": "stream",
     "text": [
      "원소 수를 입력하세요.: 10\n",
      "x[0]: 1\n",
      "x[1]: 2\n",
      "x[2]: 3\n",
      "x[3]: 4\n",
      "x[4]: 5\n",
      "x[5]: 6\n",
      "x[6]: 7\n",
      "x[7]: 8\n",
      "x[8]: 9\n",
      "x[9]: 10\n",
      "검색할 값을 입력하세요.: 12\n",
      "검색 값을 갖는 요소가 존재하지 않습니다.\n"
     ]
    }
   ],
   "source": [
    "def seq_search(input_array, value):\n",
    "    \"\"\"시퀀스 a에서 key값이 같은 요소를 선형 검색(for 문)\"\"\"\n",
    "    for i in range(len(input_array)):\n",
    "        if input_array[i] == value:\n",
    "            return i  # 검색 성공(인덱스를 반환)\n",
    "    return -1         # 검색 실패(-1을 반환)\n",
    "\n",
    "if __name__ == '__main__':\n",
    "    num = int(input('원소 수를 입력하세요.: '))  # num 값을 입력\n",
    "    x = [None] * num                           # 원소 수가 num인 배열을 생성\n",
    "\n",
    "    for i in range(num):\n",
    "        x[i] = int(input(f'x[{i}]: '))\n",
    "\n",
    "    ky = int(input('검색할 값을 입력하세요.: '))  # 검색할 키 ky를 입력받음\n",
    "\n",
    "    idx = seq_search(x, ky)                     # ky와 값이 같은 요소를 x에서 검색\n",
    "\n",
    "    if idx == -1:\n",
    "        print('검색 값을 갖는 요소가 존재하지 않습니다.')\n",
    "    else:\n",
    "        print(f'검색 값은 x[{idx}]에 있습니다.')"
   ]
  },
  {
   "cell_type": "markdown",
   "metadata": {},
   "source": [
    "# Binary Search(이진 검색)"
   ]
  },
  {
   "cell_type": "code",
   "execution_count": 2,
   "metadata": {},
   "outputs": [
    {
     "name": "stdout",
     "output_type": "stream",
     "text": [
      "원소 수를 입력하세요.: 5\n",
      "배열 데이터를 오름차순으로 입력하세요.\n",
      "x[0]: 1\n",
      "x[1]: 2\n",
      "x[2]: 3\n",
      "x[3]: 4\n",
      "x[4]: 5\n",
      "검색할 값을 입력하세요.: 10\n",
      "검색값을 갖는 원소가 존재하지 않습니다.\n"
     ]
    }
   ],
   "source": [
    "def bin_search(input_array, value):\n",
    "    \"\"\"시퀀스 input_array에서 value와 일치하는 원소를 이진 검색\"\"\"\n",
    "    pl = 0           # 검색 범위 맨 앞 원소의 인덱스\n",
    "    pr = len(input_array) - 1  # 검색 범위 맨 끝 원소의 인덱스\n",
    "\n",
    "    while True:\n",
    "        pc = (pl + pr) // 2  # 중앙 원소의 인덱스\n",
    "        if input_array[pc] == value:\n",
    "            return pc    # 검색 성공\n",
    "        elif input_array[pc] < value:\n",
    "            pl = pc + 1  # 검색 범위를 뒤쪽의 절반으로 좁힘 #뒷쪽 배열\n",
    "        else: \n",
    "            pr = pc - 1  # 검색 범위를 앞쪽의 절반으로 좁힘 #앞쪽 배열\n",
    "        if pl > pr:\n",
    "            break\n",
    "    return -1            # 검색 실패\n",
    "\n",
    "if __name__ == '__main__':\n",
    "    num = int(input('원소 수를 입력하세요.: '))\n",
    "    x = [None] * num  # 원소 수가 num인 배열을 생성\n",
    "\n",
    "    print('배열 데이터를 오름차순으로 입력하세요.')\n",
    "\n",
    "    x[0] = int(input('x[0]: '))\n",
    "\n",
    "    for i in range(1, num):\n",
    "        while True:\n",
    "            x[i] = int(input(f'x[{i}]: '))\n",
    "            if x[i] >= x[i - 1]:\n",
    "                 break\n",
    "\n",
    "    ky = int(input('검색할 값을 입력하세요.: '))  # 검색할 ky를 입력\n",
    "\n",
    "    idx = bin_search(x, ky)                     # ky와 같은 값의 원소를 x에서 검색\n",
    "\n",
    "    if idx < 0:\n",
    "        print('검색값을 갖는 원소가 존재하지 않습니다.')\n",
    "    else:\n",
    "        print(f'검색값은 x[{idx}]에 있습니다.')"
   ]
  },
  {
   "cell_type": "code",
   "execution_count": null,
   "metadata": {},
   "outputs": [],
   "source": [
    "def seq_search(input_array, value):\n",
    "    \"\"\"시퀀스 a에서 key값이 같은 요소를 선형 검색(for 문)\"\"\"\n",
    "    for i in range(len(input_array)):\n",
    "        if input_array[i] == value:\n",
    "            return i  # 검색 성공(인덱스를 반환)\n",
    "    return -1         # 검색 실패(-1을 반환)\n",
    "\n",
    "if __name__ == '__main__':\n",
    "    num = int(input('원소 수를 입력하세요.: '))  # num 값을 입력\n",
    "    x = [None] * num                           # 원소 수가 num인 배열을 생성\n",
    "\n",
    "    for i in range(num):\n",
    "        x[i] = int(input(f'x[{i}]: '))\n",
    "\n",
    "    ky = int(input('검색할 값을 입력하세요.: '))  # 검색할 키 ky를 입력받음\n",
    "\n",
    "    idx = seq_search(x, ky)                     # ky와 값이 같은 요소를 x에서 검색\n",
    "\n",
    "    if idx == -1:\n",
    "        print('검색 값을 갖는 요소가 존재하지 않습니다.')\n",
    "    else:\n",
    "        print(f'검색 값은 x[{idx}]에 있습니다.')"
   ]
  },
  {
   "cell_type": "markdown",
   "metadata": {},
   "source": [
    "https://www.cs.usfca.edu/~galles/visualization/Search.html"
   ]
  }
 ],
 "metadata": {
  "kernelspec": {
   "display_name": "Python 3",
   "language": "python",
   "name": "python3"
  },
  "language_info": {
   "codemirror_mode": {
    "name": "ipython",
    "version": 3
   },
   "file_extension": ".py",
   "mimetype": "text/x-python",
   "name": "python",
   "nbconvert_exporter": "python",
   "pygments_lexer": "ipython3",
   "version": "3.8.8"
  }
 },
 "nbformat": 4,
 "nbformat_minor": 4
}
