{
 "cells": [
  {
   "cell_type": "code",
   "execution_count": null,
   "id": "0e5132a5",
   "metadata": {},
   "outputs": [],
   "source": [
    "* 파일 이름을 한꺼번에 바꾸기"
   ]
  },
  {
   "cell_type": "code",
   "execution_count": null,
   "id": "ea3a287f",
   "metadata": {},
   "outputs": [],
   "source": [
    "# 찬울씨 코드 "
   ]
  },
  {
   "cell_type": "code",
   "execution_count": null,
   "id": "6f0ffe6e",
   "metadata": {},
   "outputs": [],
   "source": [
    "x = '1.jpg 10.png 11.png 2.jpg 3.png'\n",
    "#files = input().split()\n",
    "x = list(x.split())\n",
    "x = [i.zfill(7) for i in x]\n",
    "print(x)\n"
   ]
  },
  {
   "cell_type": "code",
   "execution_count": null,
   "id": "c015da5e",
   "metadata": {},
   "outputs": [],
   "source": [
    "# 병교시 코드"
   ]
  },
  {
   "cell_type": "code",
   "execution_count": null,
   "id": "9c9c9cff",
   "metadata": {},
   "outputs": [],
   "source": [
    "files = input().split()\n",
    "result = []\n",
    "for i in range(len(files)):\n",
    "    files[i] = files[i].split('.') \n",
    "    if len(files[i][0]) < 3:\n",
    "        for j in range(len(files[i][0]), 3):\n",
    "            files[i][0] =  '0' + files[i][0]\n",
    "    result.append(files[i][0]+'.'+files[i][1])\n",
    "    \n",
    "print(result)\n"
   ]
  },
  {
   "cell_type": "code",
   "execution_count": null,
   "id": "cf3116f2",
   "metadata": {},
   "outputs": [],
   "source": [
    "#요한씨 코드"
   ]
  },
  {
   "cell_type": "code",
   "execution_count": null,
   "id": "14650aaa",
   "metadata": {},
   "outputs": [],
   "source": [
    "files = input().split()\n",
    "l=[]\n",
    "for i in files:\n",
    "    a=i.split('.')\n",
    "    l.append(f'{a[0]:0>3}.{a[1]}')\n",
    "print(l)\n"
   ]
  },
  {
   "cell_type": "code",
   "execution_count": null,
   "id": "d16b8231",
   "metadata": {},
   "outputs": [],
   "source": []
  },
  {
   "cell_type": "code",
   "execution_count": null,
   "id": "4c0194e8",
   "metadata": {},
   "outputs": [],
   "source": [
    "# 강진씨 코드"
   ]
  },
  {
   "cell_type": "code",
   "execution_count": null,
   "id": "fc1634ca",
   "metadata": {},
   "outputs": [],
   "source": [
    "files = input().split()\n",
    "print(list(map(lambda x:  (3 - len(x.split('.')[0]))*'0' +x.split('.')[0]+'.'+x.split('.')[1], files)))"
   ]
  },
  {
   "cell_type": "code",
   "execution_count": null,
   "id": "94d18f1b",
   "metadata": {},
   "outputs": [],
   "source": [
    "# 강사님 코드"
   ]
  },
  {
   "cell_type": "code",
   "execution_count": 1,
   "id": "a4068dbf",
   "metadata": {},
   "outputs": [
    {
     "name": "stdout",
     "output_type": "stream",
     "text": [
      "1.jpg 10.png 11.png 2.jpg 3.png\n"
     ]
    }
   ],
   "source": [
    "files = input().split()"
   ]
  },
  {
   "cell_type": "code",
   "execution_count": 2,
   "id": "d2622c1a",
   "metadata": {},
   "outputs": [
    {
     "data": {
      "text/plain": [
       "['1.jpg', '10.png', '11.png', '2.jpg', '3.png']"
      ]
     },
     "execution_count": 2,
     "metadata": {},
     "output_type": "execute_result"
    }
   ],
   "source": [
    "files"
   ]
  },
  {
   "cell_type": "code",
   "execution_count": 9,
   "id": "3dc47814",
   "metadata": {},
   "outputs": [],
   "source": [
    "names = []\n",
    "exts = []\n",
    "for file in files:\n",
    " \n",
    "    name = file.split('.')[0]\n",
    "    names.append(int(name))\n",
    "    ext = file.split('.')[1]\n",
    "    exts.append(ext)\n",
    "   \n",
    "list(map(lambda name, ext : \"{0:03d}.{1}\".format(name, ext), names, exts))"
   ]
  },
  {
   "cell_type": "code",
   "execution_count": null,
   "id": "70804f92",
   "metadata": {},
   "outputs": [],
   "source": [
    "# 재균씨 코드"
   ]
  },
  {
   "cell_type": "code",
   "execution_count": 13,
   "id": "20fce7f7",
   "metadata": {},
   "outputs": [
    {
     "name": "stdout",
     "output_type": "stream",
     "text": [
      "1.jpg 10.png 11.png 2.jpg 3.png 444.docs\n",
      "['001.jpg', '010.png', '011.png', '002.jpg', '003.png', '444.docs']\n"
     ]
    }
   ],
   "source": [
    "files = input().split()\n",
    "\n",
    "print(list(map(lambda x : '{0:0>7}'.format(x) if len(x) <= 7  else ('{0:0>8}'.format(x)),files)))\n"
   ]
  },
  {
   "cell_type": "code",
   "execution_count": null,
   "id": "e28c615c",
   "metadata": {},
   "outputs": [],
   "source": []
  },
  {
   "cell_type": "code",
   "execution_count": null,
   "id": "5eb9bb11",
   "metadata": {},
   "outputs": [],
   "source": [
    "* 호출 횟수를 세는 함수"
   ]
  },
  {
   "cell_type": "code",
   "execution_count": 26,
   "id": "9e67b621",
   "metadata": {},
   "outputs": [
    {
     "name": "stdout",
     "output_type": "stream",
     "text": [
      "1 2 3 4 5 6 7 8 9 10 "
     ]
    }
   ],
   "source": [
    "def counter():\n",
    "    i = 0\n",
    "    def count():\n",
    "        nonlocal i\n",
    "        i += 1\n",
    "        return i\n",
    "        \n",
    "    return count    \n",
    "        \n",
    "c = counter()\n",
    "for i in range(10):\n",
    "    print(c(), end= ' ')"
   ]
  },
  {
   "cell_type": "markdown",
   "id": "86664334",
   "metadata": {},
   "source": [
    "* 카운트다운 함수 만들기"
   ]
  },
  {
   "cell_type": "code",
   "execution_count": 28,
   "id": "dcf383fd",
   "metadata": {},
   "outputs": [
    {
     "name": "stdout",
     "output_type": "stream",
     "text": [
      "10\n",
      "10 9 8 7 6 5 4 3 2 1 "
     ]
    }
   ],
   "source": [
    "def countdown(n):\n",
    "    i = n\n",
    "    def count():\n",
    "        nonlocal i\n",
    "        i -= 1\n",
    "        return i+1\n",
    "    \n",
    "    return count\n",
    "    \n",
    "n = int(input())\n",
    "c = countdown(n)\n",
    "\n",
    "for i in range(n):\n",
    "    print(c(), end= ' ')"
   ]
  },
  {
   "cell_type": "markdown",
   "id": "0a023fa3",
   "metadata": {},
   "source": [
    "* 게임 캐릭터 클래스 만들기"
   ]
  },
  {
   "cell_type": "code",
   "execution_count": 29,
   "id": "895ee107",
   "metadata": {},
   "outputs": [
    {
     "name": "stdout",
     "output_type": "stream",
     "text": [
      "542.4 210.3 38\n",
      "베기\n"
     ]
    }
   ],
   "source": [
    "class Knight:\n",
    "    def __init__(self, health, mana, armor):\n",
    "        self.health  = health\n",
    "        self.mana = mana\n",
    "        self.armor = armor\n",
    "        \n",
    "    def slash(self):\n",
    "        print('베기')\n",
    "\n",
    "        \n",
    "        \n",
    "x = Knight(health=542.4, mana=210.3, armor=38)\n",
    "print(x.health, x.mana, x.armor)\n",
    "x.slash()"
   ]
  },
  {
   "cell_type": "markdown",
   "id": "7aa3d5a7",
   "metadata": {},
   "source": [
    "* 게임 캐릭터 클래스 만들기 2"
   ]
  },
  {
   "cell_type": "code",
   "execution_count": 30,
   "id": "24907fc3",
   "metadata": {},
   "outputs": [
    {
     "name": "stdout",
     "output_type": "stream",
     "text": [
      "511.58 334.0 298\n",
      "티버: 피해량 593.7\n"
     ]
    }
   ],
   "source": [
    "class Annie():\n",
    "    def __init__(self, health, mana, ability_power):\n",
    "        self.health = health\n",
    "        self.mana = mana\n",
    "        self.ability_power = ability_power\n",
    "\n",
    "    def tibber(self):\n",
    "        print(\"티버: 피해량 {}\".format(self.ability_power*0.65 + 400))\n",
    "\n",
    "\n",
    "health, mana, ability_power = map(float, input().split())\n",
    "\n",
    "x= Annie(health=health, mana=mana, ability_power=ability_power)\n",
    "x.tibber()"
   ]
  },
  {
   "cell_type": "markdown",
   "id": "8d89bb85",
   "metadata": {},
   "source": [
    "* 날짜 클래스 만들기"
   ]
  },
  {
   "cell_type": "code",
   "execution_count": null,
   "id": "a8d1d21b",
   "metadata": {},
   "outputs": [],
   "source": [
    "# 강진씨 코드"
   ]
  },
  {
   "cell_type": "code",
   "execution_count": 31,
   "id": "c954ca45",
   "metadata": {},
   "outputs": [
    {
     "name": "stdout",
     "output_type": "stream",
     "text": [
      "올바른 날짜 형식입니다.\n"
     ]
    }
   ],
   "source": [
    "class Date:\n",
    "    date = []\n",
    "    month31day = [1,3,5,7,8,10,12]\n",
    "    month30day = [4,6,9,11]\n",
    "    \n",
    "    @classmethod\n",
    "    def is_data_valid(cls, date):\n",
    "        cls.date = list(map(int, date.split('-')))\n",
    "        if cls.date[1] in cls.month31day and 1 <= cls.date[2] <= 31:\n",
    "            return True\n",
    "        elif cls.date[1] in cls.month30day and 1 <= cls.date[2] <= 30:\n",
    "            return True\n",
    "        elif cls.date[1] == 2 and 1 <= cls.date[2] <= 29:\n",
    "            return True\n",
    "        else:\n",
    "            return False\n",
    "\n",
    "if Date.is_data_valid('2000-10-31'):\n",
    "    print(\"올바른 날짜 형식입니다.\")\n",
    "else:\n",
    "    print(\"잘못된 날짜 형식입니다.\")\n"
   ]
  },
  {
   "cell_type": "code",
   "execution_count": null,
   "id": "dd7aca9b",
   "metadata": {},
   "outputs": [],
   "source": [
    "# 배병규씨 코드"
   ]
  },
  {
   "cell_type": "code",
   "execution_count": null,
   "id": "01f583e2",
   "metadata": {},
   "outputs": [],
   "source": [
    "class Date:\n",
    "    @staticmethod\n",
    "    def is_date_valid(date):\n",
    "        temp = date.split('-')\n",
    "        if (1 <= int(temp[1]) <= 12) and (1 <= int(temp[2]) <= 31):\n",
    "            return 1\n",
    "        return 0\n",
    "\n",
    "if Date.is_date_valid('2000-10-31'):\n",
    "    print('올바른 날짜 형식입니다.')\n",
    "else:\n",
    "    print('잘못된 날짜 형식입니다.')\n"
   ]
  },
  {
   "cell_type": "markdown",
   "id": "88ea72b2",
   "metadata": {},
   "source": [
    "* 시간 클래스 만들기"
   ]
  },
  {
   "cell_type": "code",
   "execution_count": null,
   "id": "f7aff3a8",
   "metadata": {},
   "outputs": [],
   "source": [
    "#조재효씨 코드"
   ]
  },
  {
   "cell_type": "code",
   "execution_count": null,
   "id": "e01c768c",
   "metadata": {},
   "outputs": [],
   "source": [
    "class Time:\n",
    "    def __init__(self, hour, minute, second):\n",
    "        self.hour = hour\n",
    "        self.minute = minute\n",
    "        self.second = second\n",
    "    \n",
    "    @staticmethod\n",
    "    def is_time_valid(time):\n",
    "        T = list(map(int, time.split(\":\")))\n",
    "        if 1 <= T[0] <= 24 and 0 <= T[1] <= 59 and 0 <= T[2] <= 60:\n",
    "            return True\n",
    "        else:\n",
    "            return False\n",
    "    \n",
    "    @staticmethod\n",
    "    def from_string(time):\n",
    "        T = time.split(\":\")\n",
    "        tmp = Time(T[0], T[1], T[2])\n",
    "        return tmp\n",
    "    \n",
    "time_string = input()\n",
    "\n",
    "if Time.is_time_valid(time_string):\n",
    "    t = Time.from_string(time_string)\n",
    "    print(t.hour, t.minute, t.second)\n",
    "else:\n",
    "    print(\"잘못된 시간 형식입니다.\")\n"
   ]
  },
  {
   "cell_type": "code",
   "execution_count": null,
   "id": "fb995ad5",
   "metadata": {},
   "outputs": [],
   "source": [
    "# 배병규씨 코드"
   ]
  },
  {
   "cell_type": "code",
   "execution_count": null,
   "id": "131c1453",
   "metadata": {},
   "outputs": [],
   "source": [
    "class Time:\n",
    "    def __init__(self, hour, minute, second):\n",
    "        self.hour = hour\n",
    "        self.minute = minute\n",
    "        self.second = second\n",
    "\n",
    "    @staticmethod\n",
    "    def is_time_valid(time):\n",
    "        t = time.split(\":\")\n",
    "        if 0 <= int(t[0]) <= 24 and 0 <= int(t[1]) <= 59 and 0 <= int(t[2]) <= 60: \n",
    "            return 1\n",
    "        return 0\n",
    "\n",
    "    @staticmethod\n",
    "    def from_string(time):\n",
    "        t = time.split(\":\")\n",
    "        return Time(t[0],t[1],t[2])\n",
    "\n",
    "time_string = input()\n",
    "\n",
    "if Time.is_time_valid(time_string):\n",
    "    t = Time.from_string(time_string)\n",
    "    print(t.hour, t.minute, t.second)\n",
    "else:\n",
    "    print(\"잘못된 시간 형식 입니다.\")\n"
   ]
  },
  {
   "cell_type": "code",
   "execution_count": null,
   "id": "7e980b1a",
   "metadata": {},
   "outputs": [],
   "source": [
    "# 박재균씨 코드"
   ]
  },
  {
   "cell_type": "code",
   "execution_count": null,
   "id": "7675f293",
   "metadata": {},
   "outputs": [],
   "source": [
    "class Time:\n",
    "    def __init__(self, hour, minute, second):\n",
    "        self.hour = hour\n",
    "        self.minute = minute\n",
    "        self.second = second\n",
    "\n",
    "    @staticmethod\n",
    "    def is_time_valid(n):\n",
    "        hour, minute, second = list(map(int, n.split(':')))\n",
    "        if (hour<=23) and (minute<=59) and (second<=59):\n",
    "            return True\n",
    "   \n",
    "    @staticmethod\n",
    "    def from_string(t):\n",
    "        hour,minute,second = t.split(':')\n",
    "        return Time(hour,minute,second)\n",
    "\n",
    "\n",
    "time_string = input()\n",
    "\n",
    "if Time.is_time_valid(time_string):\n",
    "    t = Time.from_string(time_string)\n",
    "    print(t.hour, t.minute, t.second)\n",
    "else:\n",
    "    print('잘못된 시간형식입니다.')\n"
   ]
  },
  {
   "cell_type": "code",
   "execution_count": null,
   "id": "53d5c2e6",
   "metadata": {},
   "outputs": [],
   "source": [
    "# 강사님 코드"
   ]
  },
  {
   "cell_type": "code",
   "execution_count": null,
   "id": "3675a6cf",
   "metadata": {},
   "outputs": [],
   "source": [
    "class Time:\n",
    "    def __init__(self, hour, minute, second):\n",
    "        self.hour = hour\n",
    "        self.minute = minute\n",
    "        self.second = second\n",
    "        \n",
    "    @staticmethod    \n",
    "    def is_time_valid(time_str):\n",
    "        hour, minute, second = map(int, time_str.split(\":\"))\n",
    "        return hour <= 24 and minute <=59 and second <=60   \n",
    "    \n",
    "    @classmethod\n",
    "    def from_string(cls, time_str):\n",
    "        hour, minute, second = map(int, time_str.split(\":\"))\n",
    "        time = cls(hour, minute, second)\n",
    "        return time\n",
    "        \n",
    "time_string = input()\n",
    "\n",
    "if Time.is_time_valid(time_string):\n",
    "    t = Time.from_string(time_string)\n",
    "    print(t.hour, t.minute, t.second)\n",
    "else:\n",
    "    print(\"잘못된 형식입니다.\")\n"
   ]
  },
  {
   "cell_type": "code",
   "execution_count": null,
   "id": "655f2cc0",
   "metadata": {},
   "outputs": [],
   "source": [
    "* 참고 (instance method vs static method)"
   ]
  },
  {
   "cell_type": "code",
   "execution_count": 43,
   "id": "feecb0b6",
   "metadata": {},
   "outputs": [
    {
     "data": {
      "text/plain": [
       "{1, 2, 3, 4, 5}"
      ]
     },
     "execution_count": 43,
     "metadata": {},
     "output_type": "execute_result"
    }
   ],
   "source": [
    "# 합집합\n",
    "a = {1, 2, 3}\n",
    "a.update({3, 4, 5})\n",
    "a"
   ]
  },
  {
   "cell_type": "code",
   "execution_count": 44,
   "id": "600d412d",
   "metadata": {},
   "outputs": [
    {
     "data": {
      "text/plain": [
       "{1, 2, 3, 4, 5}"
      ]
     },
     "execution_count": 44,
     "metadata": {},
     "output_type": "execute_result"
    }
   ],
   "source": [
    "set.union({1, 2, 3}, {3, 4, 5})"
   ]
  },
  {
   "cell_type": "code",
   "execution_count": null,
   "id": "6a725ca0",
   "metadata": {},
   "outputs": [],
   "source": []
  },
  {
   "cell_type": "code",
   "execution_count": null,
   "id": "27ebfa27",
   "metadata": {},
   "outputs": [],
   "source": []
  },
  {
   "cell_type": "code",
   "execution_count": 38,
   "id": "a4cf5c8f",
   "metadata": {},
   "outputs": [
    {
     "name": "stdout",
     "output_type": "stream",
     "text": [
      "Student __init__\n",
      "Person __init__\n",
      "파이썬 코딩 학교\n"
     ]
    }
   ],
   "source": [
    "class Person:\n",
    "    def __init__(self):\n",
    "        print(\"Person __init__\")\n",
    "        self.hello = \"안녕하세요\"\n",
    "        \n",
    "class Student(Person):\n",
    "    def __init__(self):\n",
    "        print(\"Student __init__\")\n",
    "        super().__init__()\n",
    "        self.school =\"파이썬 코딩 학교\"\n",
    "        \n",
    "        \n",
    "james = Student()\n",
    "print(james.school)"
   ]
  },
  {
   "cell_type": "code",
   "execution_count": 39,
   "id": "4d99094b",
   "metadata": {},
   "outputs": [
    {
     "name": "stdout",
     "output_type": "stream",
     "text": [
      "안녕하세요\n"
     ]
    }
   ],
   "source": [
    "print(james.hello)"
   ]
  },
  {
   "cell_type": "code",
   "execution_count": 41,
   "id": "dc84f429",
   "metadata": {},
   "outputs": [
    {
     "name": "stdout",
     "output_type": "stream",
     "text": [
      "안녕하세요\n",
      "안녕하세요. 저는 파이썬 코딩 학교 학생입니다.\n"
     ]
    }
   ],
   "source": [
    "class Person:\n",
    "    def greeting(self):\n",
    "        print(\"안녕하세요\")\n",
    "\n",
    "class Student(Person):\n",
    "    def greeting(self):\n",
    "        super().greeting()\n",
    "        print(\"안녕하세요. 저는 파이썬 코딩 학교 학생입니다.\")\n",
    "        \n",
    "        \n",
    "james = Student()\n",
    "james.greeting()"
   ]
  },
  {
   "cell_type": "markdown",
   "id": "e68da082",
   "metadata": {},
   "source": [
    "* 리스트에 기능 추가하기"
   ]
  },
  {
   "cell_type": "code",
   "execution_count": 55,
   "id": "9657ca7f",
   "metadata": {},
   "outputs": [],
   "source": [
    "class AdvancedList(list):\n",
    "    def __init__(self)\n",
    "    \n",
    "    \n",
    "    def replace(self, old, new): #self는 list\n",
    "        while old in self:\n",
    "            idx = self.index(old)\n",
    "            self[idx]= new\n",
    "        \n",
    "x = AdvancedList([1, 2, 3, 1, 2, 3, 1, 2, 3])\n",
    "x.replace(1, 100)"
   ]
  },
  {
   "cell_type": "code",
   "execution_count": 59,
   "id": "55d12f92",
   "metadata": {},
   "outputs": [
    {
     "name": "stdout",
     "output_type": "stream",
     "text": [
      "[100, 2, 3, 100, 2, 3, 100, 2, 3]\n"
     ]
    }
   ],
   "source": [
    "class AdvancedList(list):    \n",
    "    def replace(self, a, b):\n",
    "        for i in range(len(self)):\n",
    "            if self[i] == a:\n",
    "                self[i] = b\n",
    "     \n",
    "x = AdvancedList([1,2,3,1,2,3,1,2,3])\n",
    "x.replace(1, 100)\n",
    "print(x)\n"
   ]
  },
  {
   "cell_type": "code",
   "execution_count": null,
   "id": "9e8015df",
   "metadata": {},
   "outputs": [],
   "source": []
  }
 ],
 "metadata": {
  "kernelspec": {
   "display_name": "Python 3",
   "language": "python",
   "name": "python3"
  },
  "language_info": {
   "codemirror_mode": {
    "name": "ipython",
    "version": 3
   },
   "file_extension": ".py",
   "mimetype": "text/x-python",
   "name": "python",
   "nbconvert_exporter": "python",
   "pygments_lexer": "ipython3",
   "version": "3.8.8"
  }
 },
 "nbformat": 4,
 "nbformat_minor": 5
}
