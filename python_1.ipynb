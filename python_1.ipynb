{
 "cells": [
  {
   "cell_type": "code",
   "execution_count": 13,
   "id": "e1539fba",
   "metadata": {},
   "outputs": [
    {
     "name": "stdout",
     "output_type": "stream",
     "text": [
      "hello world\n"
     ]
    }
   ],
   "source": [
    "print(\"hello world\")"
   ]
  },
  {
   "cell_type": "code",
   "execution_count": 14,
   "id": "d58b10dc",
   "metadata": {},
   "outputs": [
    {
     "name": "stdout",
     "output_type": "stream",
     "text": [
      "[WinError 2] 지정된 파일을 찾을 수 없습니다: 'Desktop'\n",
      "C:\\Users\\sweet\\Desktop\n"
     ]
    }
   ],
   "source": [
    "%cd Desktop"
   ]
  },
  {
   "cell_type": "code",
   "execution_count": 15,
   "id": "e50f3601",
   "metadata": {},
   "outputs": [
    {
     "data": {
      "text/plain": [
       "'C:\\\\Users\\\\sweet\\\\Desktop'"
      ]
     },
     "execution_count": 15,
     "metadata": {},
     "output_type": "execute_result"
    }
   ],
   "source": [
    "%pwd"
   ]
  },
  {
   "cell_type": "code",
   "execution_count": 16,
   "id": "59977d7b",
   "metadata": {},
   "outputs": [
    {
     "name": "stdout",
     "output_type": "stream",
     "text": [
      "hello world\n"
     ]
    }
   ],
   "source": [
    "%run hellllllo.py"
   ]
  },
  {
   "cell_type": "markdown",
   "id": "94923428",
   "metadata": {},
   "source": [
    "# ipython과 주피터 노트북 m은 markdown y는 code"
   ]
  },
  {
   "cell_type": "markdown",
   "id": "3a901c5f",
   "metadata": {},
   "source": [
    "* 탭 자동 완성기능"
   ]
  },
  {
   "cell_type": "code",
   "execution_count": 31,
   "id": "d9f79599",
   "metadata": {},
   "outputs": [],
   "source": [
    "an_apple = 27"
   ]
  },
  {
   "cell_type": "code",
   "execution_count": 32,
   "id": "7a5bdd31",
   "metadata": {},
   "outputs": [],
   "source": [
    "an_example = 42"
   ]
  },
  {
   "cell_type": "code",
   "execution_count": null,
   "id": "15921b03",
   "metadata": {},
   "outputs": [],
   "source": [
    "an<tab>"
   ]
  },
  {
   "cell_type": "code",
   "execution_count": 34,
   "id": "54d639bf",
   "metadata": {},
   "outputs": [],
   "source": [
    "b = [1, 2, 3]"
   ]
  },
  {
   "cell_type": "code",
   "execution_count": 36,
   "id": "2234b3d3",
   "metadata": {},
   "outputs": [
    {
     "ename": "SyntaxError",
     "evalue": "invalid syntax (<ipython-input-36-fce66b6d5428>, line 1)",
     "output_type": "error",
     "traceback": [
      "\u001b[1;36m  File \u001b[1;32m\"<ipython-input-36-fce66b6d5428>\"\u001b[1;36m, line \u001b[1;32m1\u001b[0m\n\u001b[1;33m    b.\u001b[0m\n\u001b[1;37m      ^\u001b[0m\n\u001b[1;31mSyntaxError\u001b[0m\u001b[1;31m:\u001b[0m invalid syntax\n"
     ]
    }
   ],
   "source": [
    "b."
   ]
  },
  {
   "cell_type": "code",
   "execution_count": 37,
   "id": "39a5171f",
   "metadata": {},
   "outputs": [],
   "source": [
    "import datetime"
   ]
  },
  {
   "cell_type": "code",
   "execution_count": 41,
   "id": "9270c411",
   "metadata": {},
   "outputs": [
    {
     "ename": "SyntaxError",
     "evalue": "invalid syntax (<ipython-input-41-e9ba75918e6c>, line 1)",
     "output_type": "error",
     "traceback": [
      "\u001b[1;36m  File \u001b[1;32m\"<ipython-input-41-e9ba75918e6c>\"\u001b[1;36m, line \u001b[1;32m1\u001b[0m\n\u001b[1;33m    datetime.\u001b[0m\n\u001b[1;37m             ^\u001b[0m\n\u001b[1;31mSyntaxError\u001b[0m\u001b[1;31m:\u001b[0m invalid syntax\n"
     ]
    }
   ],
   "source": [
    "datetime."
   ]
  },
  {
   "cell_type": "code",
   "execution_count": 43,
   "id": "bc1c652d",
   "metadata": {},
   "outputs": [],
   "source": [
    "def func_with_keywords(ab=1, abb=2, abbb=3):\n",
    "    return (a, b, c)"
   ]
  },
  {
   "cell_type": "code",
   "execution_count": 45,
   "id": "001965a8",
   "metadata": {},
   "outputs": [
    {
     "ename": "NameError",
     "evalue": "name 'a' is not defined",
     "output_type": "error",
     "traceback": [
      "\u001b[1;31m---------------------------------------------------------------------------\u001b[0m",
      "\u001b[1;31mNameError\u001b[0m                                 Traceback (most recent call last)",
      "\u001b[1;32m<ipython-input-45-1de97c8a2288>\u001b[0m in \u001b[0;36m<module>\u001b[1;34m\u001b[0m\n\u001b[1;32m----> 1\u001b[1;33m \u001b[0mfunc_with_keywords\u001b[0m\u001b[1;33m(\u001b[0m\u001b[1;33m)\u001b[0m\u001b[1;33m\u001b[0m\u001b[1;33m\u001b[0m\u001b[0m\n\u001b[0m",
      "\u001b[1;32m<ipython-input-43-2ae99f263db9>\u001b[0m in \u001b[0;36mfunc_with_keywords\u001b[1;34m(ab, abb, abbb)\u001b[0m\n\u001b[0;32m      1\u001b[0m \u001b[1;32mdef\u001b[0m \u001b[0mfunc_with_keywords\u001b[0m\u001b[1;33m(\u001b[0m\u001b[0mab\u001b[0m\u001b[1;33m=\u001b[0m\u001b[1;36m1\u001b[0m\u001b[1;33m,\u001b[0m \u001b[0mabb\u001b[0m\u001b[1;33m=\u001b[0m\u001b[1;36m2\u001b[0m\u001b[1;33m,\u001b[0m \u001b[0mabbb\u001b[0m\u001b[1;33m=\u001b[0m\u001b[1;36m3\u001b[0m\u001b[1;33m)\u001b[0m\u001b[1;33m:\u001b[0m\u001b[1;33m\u001b[0m\u001b[1;33m\u001b[0m\u001b[0m\n\u001b[1;32m----> 2\u001b[1;33m     \u001b[1;32mreturn\u001b[0m \u001b[1;33m(\u001b[0m\u001b[0ma\u001b[0m\u001b[1;33m,\u001b[0m \u001b[0mb\u001b[0m\u001b[1;33m,\u001b[0m \u001b[0mc\u001b[0m\u001b[1;33m)\u001b[0m\u001b[1;33m\u001b[0m\u001b[1;33m\u001b[0m\u001b[0m\n\u001b[0m",
      "\u001b[1;31mNameError\u001b[0m: name 'a' is not defined"
     ]
    }
   ],
   "source": [
    "func_with_keywords()"
   ]
  },
  {
   "cell_type": "markdown",
   "id": "6afa6ed8",
   "metadata": {},
   "source": [
    "     .도움말(자기관찰)"
   ]
  },
  {
   "cell_type": "code",
   "execution_count": 46,
   "id": "25acffa6",
   "metadata": {},
   "outputs": [],
   "source": [
    "b = [1,2,3] #list"
   ]
  },
  {
   "cell_type": "code",
   "execution_count": 47,
   "id": "b1f9f6e4",
   "metadata": {},
   "outputs": [],
   "source": [
    "b?"
   ]
  },
  {
   "cell_type": "code",
   "execution_count": 48,
   "id": "162ed5e3",
   "metadata": {},
   "outputs": [],
   "source": [
    "print?"
   ]
  },
  {
   "cell_type": "code",
   "execution_count": 49,
   "id": "62c397a5",
   "metadata": {},
   "outputs": [],
   "source": [
    "def add_numbers(a, b):\n",
    "    '''\n",
    "    add two numbers together\n",
    "    Returns\n",
    "    -------\n",
    "    the_sum : type of arguments\n",
    "    return a+b\n",
    "    '''\n",
    "    return a+b"
   ]
  },
  {
   "cell_type": "code",
   "execution_count": 50,
   "id": "9a485953",
   "metadata": {},
   "outputs": [
    {
     "data": {
      "text/plain": [
       "5"
      ]
     },
     "execution_count": 50,
     "metadata": {},
     "output_type": "execute_result"
    }
   ],
   "source": [
    "add_numbers(a=2, b=3)"
   ]
  },
  {
   "cell_type": "code",
   "execution_count": 51,
   "id": "90a6c870",
   "metadata": {},
   "outputs": [],
   "source": [
    "add_numbers? #주석위주의 설명"
   ]
  },
  {
   "cell_type": "code",
   "execution_count": 52,
   "id": "3a23ad6b",
   "metadata": {},
   "outputs": [],
   "source": [
    "add_numbers?? #코드의 모든 내용이 보인다."
   ]
  },
  {
   "cell_type": "markdown",
   "id": "9c3ba25f",
   "metadata": {},
   "source": [
    "* %run 명령어"
   ]
  },
  {
   "cell_type": "code",
   "execution_count": 53,
   "id": "4f4747a8",
   "metadata": {},
   "outputs": [],
   "source": [
    "!notepad #!는 osshell로 커맨드입력이다. notepad는 파일 생성."
   ]
  },
  {
   "cell_type": "code",
   "execution_count": 58,
   "id": "8be8d798",
   "metadata": {},
   "outputs": [],
   "source": [
    "!notepad ipython_script_test.py"
   ]
  },
  {
   "cell_type": "code",
   "execution_count": 59,
   "id": "3d9af78c",
   "metadata": {},
   "outputs": [
    {
     "name": "stdout",
     "output_type": "stream",
     "text": [
      "1.0\n"
     ]
    }
   ],
   "source": [
    "%run ipython_script_test.py"
   ]
  },
  {
   "cell_type": "code",
   "execution_count": 60,
   "id": "dc81919b",
   "metadata": {},
   "outputs": [
    {
     "data": {
      "text/plain": [
       "1"
      ]
     },
     "execution_count": 60,
     "metadata": {},
     "output_type": "execute_result"
    }
   ],
   "source": [
    "a"
   ]
  },
  {
   "cell_type": "code",
   "execution_count": 61,
   "id": "be1a5d51",
   "metadata": {},
   "outputs": [
    {
     "data": {
      "text/plain": [
       "2"
      ]
     },
     "execution_count": 61,
     "metadata": {},
     "output_type": "execute_result"
    }
   ],
   "source": [
    "b"
   ]
  },
  {
   "cell_type": "code",
   "execution_count": 62,
   "id": "f5a79269",
   "metadata": {},
   "outputs": [
    {
     "data": {
      "text/plain": [
       "3"
      ]
     },
     "execution_count": 62,
     "metadata": {},
     "output_type": "execute_result"
    }
   ],
   "source": [
    "c"
   ]
  },
  {
   "cell_type": "markdown",
   "id": "01ff8e23",
   "metadata": {},
   "source": [
    "* %load 명령어"
   ]
  },
  {
   "cell_type": "code",
   "execution_count": null,
   "id": "9bbe94ed",
   "metadata": {},
   "outputs": [],
   "source": [
    "# %load ipython_script_test.py\n",
    "def f(x, y, z):\n",
    "    return (x+y)/z\n",
    "a = 1\n",
    "b = 2\n",
    "c = 3\n",
    "print(f(a, b, c))"
   ]
  },
  {
   "cell_type": "code",
   "execution_count": 64,
   "id": "7aa030c5",
   "metadata": {},
   "outputs": [
    {
     "data": {
      "text/plain": [
       "1.0"
      ]
     },
     "execution_count": 64,
     "metadata": {},
     "output_type": "execute_result"
    }
   ],
   "source": [
    "f(2,3,5)"
   ]
  },
  {
   "cell_type": "markdown",
   "id": "39a5f583",
   "metadata": {},
   "source": [
    "#load 를 사용하면 로딩을 하여 불어와서 사용가능함 import느낌."
   ]
  },
  {
   "cell_type": "code",
   "execution_count": 70,
   "id": "99543a72",
   "metadata": {},
   "outputs": [
    {
     "name": "stdout",
     "output_type": "stream",
     "text": [
      "\n",
      "사용법:\n",
      "    ipconfig [/allcompartments] [/? | /all | \n",
      "                                 /renew [adapter] | /release [adapter] |\n",
      "                                 /renew6 [adapter] | /release6 [adapter] |\n",
      "                                 /flushdns | /displaydns | /registerdns |\n",
      "                                 /showclassid adapter |\n",
      "                                 /setclassid adapter [classid] ]\n",
      "                                 /showclassid6 adapter |\n",
      "                                 /setclassid6 adapter [classid] ]\n",
      "\n",
      "설명:\n",
      "    adapter              연결 이름 \n",
      "                       (와일드카드 문자 * 및 ?를 사용할 수 있음, 예제 참조)\n",
      "\n",
      "    옵션:\n",
      "       /?               이 도움말 메시지를 표시합니다.\n",
      "       /all             전체 구성 정보를 표시합니다.\n",
      "       /release         지정된 어댑터에 대한 IPv4 주소를 해제합니다.\n",
      "       /release6        지정된 어댑터에 대한 IPv6 주소를 해제합니다.\n",
      "       /renew           지정된 어댑터에 대한 IPv4 주소를 갱신합니다.\n",
      "       /renew6          지정된 어댑터에 대한 IPv6 주소를 갱신합니다.\n",
      "       /flushdns        DNS 확인 프로그램 캐시를 제거합니다.\n",
      "       /registerdns     모든 DHCP 임대를 새로 고치고 DNS 이름을 다시 등록합니다.\n",
      "       /displaydns      DNS 확인 프로그램 캐시 내용을 표시합니다.\n",
      "       /showclassid     어댑터에 대해 허용된 모든 DHCP 클래스 ID를 표시합니다.\n",
      "       /setclassid      DHCP 클래스 ID를 수정합니다.\n",
      "       /showclassid6    adapter에 대해 허용된 IPv6 DHCP 클래스 ID를 모두 표시합니다.\n",
      "       /setclassid6     IPv6 DHCP 클래스 ID를 수정합니다.\n",
      "\n",
      "\n",
      "기본적으로 TCP/IP에 바인딩된 각 어댑터에 대한 IP 주소,\n",
      "서브넷 마스크 및 기본 게이트웨이만 표시합니다.\n",
      "\n",
      "릴리스 및 갱신은 지정된 어댑터 이름이 없으면 TCP/IP에 바인딩된\n",
      "모든 어댑터에 대한 IP 주소 임대를 해제하거나 갱신합니다.\n",
      "\n",
      "Setclassid 및 Setclassid6에 지정된 ClassId가 없으면 ClassId가 제거됩니다.\n",
      "\n",
      "예제:\n",
      "    > ipconfig                       ... 정보 표시\n",
      "    > ipconfig /all                  ... 자세한 정보 표시\n",
      "    > ipconfig /renew                ... 모든 어댑터 갱신\n",
      "    > ipconfig /renew EL*            ... EL로 시작되는 이름을 가진\n",
      "                                         모든 연결 갱신\n",
      "    > ipconfig /release *Con*        ... 모든 일치하는 연결 해제\n",
      "                                         예: \"Wired Ethernet Connection 1\" or\n",
      "                                             \"Wired Ethernet Connection 2\"\n",
      "    > ipconfig /allcompartments      ... 모든 컴파트먼트에 대한\n",
      "                                         정보 표시\n",
      "    > ipconfig /allcompartments /all ... 모든 컴파트먼트에 대한\n",
      "                                         자세한 정보 표시\n"
     ]
    }
   ],
   "source": [
    "!ipconfig/"
   ]
  },
  {
   "cell_type": "code",
   "execution_count": 1,
   "id": "6b4756f4",
   "metadata": {},
   "outputs": [],
   "source": [
    "import numpy as np"
   ]
  },
  {
   "cell_type": "code",
   "execution_count": 2,
   "id": "5170d5ce",
   "metadata": {},
   "outputs": [],
   "source": [
    "a = np.random.randn(100, 100)"
   ]
  },
  {
   "cell_type": "code",
   "execution_count": 3,
   "id": "06ab2525",
   "metadata": {},
   "outputs": [
    {
     "name": "stdout",
     "output_type": "stream",
     "text": [
      "25.2 µs ± 2.97 µs per loop (mean ± std. dev. of 7 runs, 10000 loops each)\n"
     ]
    }
   ],
   "source": [
    "%timeit np.dot(a, a)"
   ]
  },
  {
   "cell_type": "code",
   "execution_count": 4,
   "id": "dc5fe131",
   "metadata": {},
   "outputs": [
    {
     "data": {
      "text/plain": [
       "'C:\\\\Users\\\\sweet'"
      ]
     },
     "execution_count": 4,
     "metadata": {},
     "output_type": "execute_result"
    }
   ],
   "source": [
    "%pwd"
   ]
  },
  {
   "cell_type": "code",
   "execution_count": 5,
   "id": "1b38309b",
   "metadata": {},
   "outputs": [],
   "source": [
    "foo = %pwd"
   ]
  },
  {
   "cell_type": "code",
   "execution_count": 6,
   "id": "75961709",
   "metadata": {},
   "outputs": [
    {
     "data": {
      "text/plain": [
       "'C:\\\\Users\\\\sweet'"
      ]
     },
     "execution_count": 6,
     "metadata": {},
     "output_type": "execute_result"
    }
   ],
   "source": [
    "foo"
   ]
  },
  {
   "cell_type": "code",
   "execution_count": 7,
   "id": "31dd9743",
   "metadata": {},
   "outputs": [],
   "source": [
    "%quickref #파이썬 매직 명령어 모음"
   ]
  },
  {
   "cell_type": "code",
   "execution_count": 8,
   "id": "3473a30f",
   "metadata": {},
   "outputs": [],
   "source": [
    "%magic"
   ]
  },
  {
   "cell_type": "markdown",
   "id": "727dbbd4",
   "metadata": {},
   "source": [
    "* matplotlib 통합"
   ]
  },
  {
   "cell_type": "code",
   "execution_count": 10,
   "id": "1d9abc0f",
   "metadata": {},
   "outputs": [],
   "source": [
    "import numpy as np"
   ]
  },
  {
   "cell_type": "code",
   "execution_count": 23,
   "id": "3eb25aac",
   "metadata": {},
   "outputs": [
    {
     "name": "stderr",
     "output_type": "stream",
     "text": [
      "UsageError: unrecognized arguments: #지금은 굳이 안해도 됌\n"
     ]
    }
   ],
   "source": [
    "%matplotlib inline #지금은 굳이 안해도 됌"
   ]
  },
  {
   "cell_type": "code",
   "execution_count": 15,
   "id": "d0e52316",
   "metadata": {},
   "outputs": [],
   "source": [
    "import matplotlib.pyplot as plt"
   ]
  },
  {
   "cell_type": "code",
   "execution_count": 16,
   "id": "1bf5fde9",
   "metadata": {},
   "outputs": [
    {
     "data": {
      "text/plain": [
       "array([1.08578366, 1.50183051, 1.96755038, 1.60011529, 1.3791783 ,\n",
       "       2.44693978, 2.45074615, 2.17459886, 2.85020232, 4.01989075,\n",
       "       5.20755724, 4.37780149, 4.72017832, 4.13598124, 4.03776699,\n",
       "       4.33379523, 4.73089573, 3.88217564, 3.9629704 , 5.46828046,\n",
       "       5.60126892, 5.6218103 , 3.23852967, 4.1536444 , 3.15992131,\n",
       "       3.80863994, 4.12408461, 3.45236263, 3.58450788, 4.14422813,\n",
       "       4.29366636, 6.05869731, 4.99784704, 4.69008731, 3.10535588,\n",
       "       4.42841175, 5.76224803, 7.28422655, 7.82052535, 6.66437328,\n",
       "       7.52249682, 8.29957787, 7.34934898, 6.59052322, 5.56952848,\n",
       "       1.87029818, 3.26560429, 1.55095097, 1.94905638, 2.74625903])"
      ]
     },
     "execution_count": 16,
     "metadata": {},
     "output_type": "execute_result"
    }
   ],
   "source": [
    "np.random.randn(50).cumsum()"
   ]
  },
  {
   "cell_type": "code",
   "execution_count": 17,
   "id": "1be3b23a",
   "metadata": {},
   "outputs": [
    {
     "data": {
      "text/plain": [
       "[<matplotlib.lines.Line2D at 0x19eca2a0250>]"
      ]
     },
     "execution_count": 17,
     "metadata": {},
     "output_type": "execute_result"
    },
    {
     "data": {
      "image/png": "[encoded data removed]",
      "text/plain": [
       "<Figure size 432x288 with 1 Axes>"
      ]
     },
     "metadata": {
      "needs_background": "light"
     },
     "output_type": "display_data"
    }
   ],
   "source": [
    "plt.plot(np.random.randn(50).cumsum())"
   ]
  },
  {
   "cell_type": "markdown",
   "id": "9e821d6e",
   "metadata": {},
   "source": [
    "# 이런식으로 쉽게 주피터를 이용해서 사용 가능."
   ]
  },
  {
   "cell_type": "code",
   "execution_count": 18,
   "id": "928065cf",
   "metadata": {},
   "outputs": [
    {
     "data": {
      "text/plain": [
       "65025"
      ]
     },
     "execution_count": 18,
     "metadata": {},
     "output_type": "execute_result"
    }
   ],
   "source": [
    "255*255"
   ]
  },
  {
   "cell_type": "code",
   "execution_count": 19,
   "id": "0b8aed47",
   "metadata": {},
   "outputs": [
    {
     "data": {
      "text/plain": [
       "3"
      ]
     },
     "execution_count": 19,
     "metadata": {},
     "output_type": "execute_result"
    }
   ],
   "source": [
    "int(3.3)"
   ]
  },
  {
   "cell_type": "code",
   "execution_count": 20,
   "id": "bad78f8e",
   "metadata": {},
   "outputs": [
    {
     "data": {
      "text/plain": [
       "424"
      ]
     },
     "execution_count": 20,
     "metadata": {},
     "output_type": "execute_result"
    }
   ],
   "source": [
    "int(424.23)"
   ]
  },
  {
   "cell_type": "code",
   "execution_count": 21,
   "id": "384c744e",
   "metadata": {},
   "outputs": [
    {
     "data": {
      "text/plain": [
       "4242.0"
      ]
     },
     "execution_count": 21,
     "metadata": {},
     "output_type": "execute_result"
    }
   ],
   "source": [
    "float(4242)"
   ]
  },
  {
   "cell_type": "code",
   "execution_count": 22,
   "id": "b243b229",
   "metadata": {},
   "outputs": [
    {
     "data": {
      "text/plain": [
       "2.0"
      ]
     },
     "execution_count": 22,
     "metadata": {},
     "output_type": "execute_result"
    }
   ],
   "source": [
    "2 / 1"
   ]
  },
  {
   "cell_type": "code",
   "execution_count": 24,
   "id": "633f0182",
   "metadata": {},
   "outputs": [
    {
     "data": {
      "text/plain": [
       "2"
      ]
     },
     "execution_count": 24,
     "metadata": {},
     "output_type": "execute_result"
    }
   ],
   "source": [
    "int(2 / 1)"
   ]
  },
  {
   "cell_type": "code",
   "execution_count": 25,
   "id": "b5567fbb",
   "metadata": {},
   "outputs": [],
   "source": [
    "a = 2 / 1"
   ]
  },
  {
   "cell_type": "code",
   "execution_count": 26,
   "id": "ba7c5902",
   "metadata": {},
   "outputs": [
    {
     "data": {
      "text/plain": [
       "2.0"
      ]
     },
     "execution_count": 26,
     "metadata": {},
     "output_type": "execute_result"
    }
   ],
   "source": [
    "a"
   ]
  },
  {
   "cell_type": "code",
   "execution_count": 27,
   "id": "19c86606",
   "metadata": {},
   "outputs": [
    {
     "data": {
      "text/plain": [
       "float"
      ]
     },
     "execution_count": 27,
     "metadata": {},
     "output_type": "execute_result"
    }
   ],
   "source": [
    "type(a)"
   ]
  },
  {
   "cell_type": "code",
   "execution_count": 28,
   "id": "2fa2809c",
   "metadata": {},
   "outputs": [
    {
     "data": {
      "text/plain": [
       "int"
      ]
     },
     "execution_count": 28,
     "metadata": {},
     "output_type": "execute_result"
    }
   ],
   "source": [
    "a = 2\n",
    "type(a)"
   ]
  },
  {
   "cell_type": "code",
   "execution_count": 36,
   "id": "838107d0",
   "metadata": {},
   "outputs": [
    {
     "data": {
      "text/plain": [
       "(5, 0)"
      ]
     },
     "execution_count": 36,
     "metadata": {},
     "output_type": "execute_result"
    }
   ],
   "source": [
    "divmod(5, 1) #몫과 나머지를 둘다 알려줌"
   ]
  },
  {
   "cell_type": "code",
   "execution_count": 37,
   "id": "73373220",
   "metadata": {},
   "outputs": [
    {
     "data": {
      "text/plain": [
       "5.0"
      ]
     },
     "execution_count": 37,
     "metadata": {},
     "output_type": "execute_result"
    }
   ],
   "source": [
    "10 / 2"
   ]
  },
  {
   "cell_type": "code",
   "execution_count": 38,
   "id": "c67b831b",
   "metadata": {},
   "outputs": [
    {
     "data": {
      "text/plain": [
       "2.5"
      ]
     },
     "execution_count": 38,
     "metadata": {},
     "output_type": "execute_result"
    }
   ],
   "source": [
    "10 / 4"
   ]
  },
  {
   "cell_type": "code",
   "execution_count": 39,
   "id": "defa99f8",
   "metadata": {},
   "outputs": [
    {
     "data": {
      "text/plain": [
       "2"
      ]
     },
     "execution_count": 39,
     "metadata": {},
     "output_type": "execute_result"
    }
   ],
   "source": [
    "10 // 4"
   ]
  },
  {
   "cell_type": "code",
   "execution_count": 49,
   "id": "f2b3257b",
   "metadata": {},
   "outputs": [],
   "source": [
    "a = 0.2467 * 12 + 4.159"
   ]
  },
  {
   "cell_type": "code",
   "execution_count": 52,
   "id": "9ccd65b4",
   "metadata": {},
   "outputs": [
    {
     "data": {
      "text/plain": [
       "7"
      ]
     },
     "execution_count": 52,
     "metadata": {},
     "output_type": "execute_result"
    }
   ],
   "source": [
    " (2 + bx + c) / ax = 0"
   ]
  },
  {
   "cell_type": "code",
   "execution_count": 7,
   "id": "b2225e57",
   "metadata": {},
   "outputs": [],
   "source": [
    "from math import sqrt"
   ]
  },
  {
   "cell_type": "code",
   "execution_count": 21,
   "id": "c18b352a",
   "metadata": {},
   "outputs": [],
   "source": [
    "#x ** 2 + x -2 = 0"
   ]
  },
  {
   "cell_type": "code",
   "execution_count": 10,
   "id": "0b18bdf6",
   "metadata": {},
   "outputs": [],
   "source": [
    "#a = sqrt(x**2+x-2)"
   ]
  },
  {
   "cell_type": "code",
   "execution_count": 17,
   "id": "d4c32e9a",
   "metadata": {},
   "outputs": [],
   "source": [
    "def solution(a, b, c):\n",
    "    return (-b-sqrt(b*b-4*a*c))/(2*a),(-b-sqrt(b*b-4*a*c))/(2*a)"
   ]
  },
  {
   "cell_type": "code",
   "execution_count": 18,
   "id": "0e2880a8",
   "metadata": {},
   "outputs": [],
   "source": [
    "#print(solution(1,1,2))"
   ]
  },
  {
   "cell_type": "code",
   "execution_count": 19,
   "id": "9e1ebced",
   "metadata": {},
   "outputs": [],
   "source": [
    "x = 10\n",
    "y = 'helloworld'"
   ]
  },
  {
   "cell_type": "code",
   "execution_count": 89,
   "id": "a156bebe",
   "metadata": {},
   "outputs": [
    {
     "name": "stdout",
     "output_type": "stream",
     "text": [
      "문자열을 입력하세요! : 3\n"
     ]
    }
   ],
   "source": [
    "x = input('문자열을 입력하세요! : ') #scanf"
   ]
  },
  {
   "cell_type": "code",
   "execution_count": 99,
   "id": "e03a6331",
   "metadata": {},
   "outputs": [
    {
     "name": "stdout",
     "output_type": "stream",
     "text": [
      "첫번째 숫자를 입력하세요10\n",
      "두번째 숫자를 입력하세요20\n"
     ]
    }
   ],
   "source": [
    "a = input('첫번째 숫자를 입력하세요')\n",
    "b = input(\"두번째 숫자를 입력하세요\")"
   ]
  },
  {
   "cell_type": "code",
   "execution_count": 106,
   "id": "c9247258",
   "metadata": {},
   "outputs": [
    {
     "name": "stdout",
     "output_type": "stream",
     "text": [
      "test\n"
     ]
    }
   ],
   "source": [
    "#int(a) + int(b)\n",
    "a = input()"
   ]
  },
  {
   "cell_type": "code",
   "execution_count": 118,
   "id": "50c73cf4",
   "metadata": {},
   "outputs": [
    {
     "data": {
      "text/plain": [
       "['', 's', 's ', ' s ', 's ']"
      ]
     },
     "execution_count": 118,
     "metadata": {},
     "output_type": "execute_result"
    }
   ],
   "source": [
    "a = \"dsds d s ds \"\n",
    "a.split()"
   ]
  },
  {
   "cell_type": "code",
   "execution_count": 119,
   "id": "e88656c3",
   "metadata": {},
   "outputs": [
    {
     "name": "stdout",
     "output_type": "stream",
     "text": [
      "문자열을 입력하세요!python world\n"
     ]
    }
   ],
   "source": [
    "a, b = input(\"문자열을 입력하세요!\").split()"
   ]
  },
  {
   "cell_type": "code",
   "execution_count": 120,
   "id": "30e6c071",
   "metadata": {},
   "outputs": [
    {
     "data": {
      "text/plain": [
       "('python', 'world')"
      ]
     },
     "execution_count": 120,
     "metadata": {},
     "output_type": "execute_result"
    }
   ],
   "source": [
    "a, b"
   ]
  },
  {
   "cell_type": "code",
   "execution_count": 122,
   "id": "a159156e",
   "metadata": {},
   "outputs": [],
   "source": [
    "a_v = 2"
   ]
  },
  {
   "cell_type": "code",
   "execution_count": 4,
   "id": "2a980763",
   "metadata": {},
   "outputs": [
    {
     "name": "stdout",
     "output_type": "stream",
     "text": [
      "정수 세 개를 입력하세요-10 20 30\n",
      "40\n"
     ]
    }
   ],
   "source": [
    "z, x, y = map(int, input('정수 세 개를 입력하세요').split())\n",
    "print(z+x+y)"
   ]
  },
  {
   "cell_type": "code",
   "execution_count": 5,
   "id": "45334b83",
   "metadata": {},
   "outputs": [
    {
     "name": "stdout",
     "output_type": "stream",
     "text": [
      "10 20 30 40\n"
     ]
    }
   ],
   "source": [
    "a, b, c ,d = map(int, input().split())\n",
    "answer = (a+b+c+d) / 4"
   ]
  },
  {
   "cell_type": "code",
   "execution_count": 7,
   "id": "92babf87",
   "metadata": {},
   "outputs": [
    {
     "data": {
      "text/plain": [
       "float"
      ]
     },
     "execution_count": 7,
     "metadata": {},
     "output_type": "execute_result"
    }
   ],
   "source": [
    "type(answer)"
   ]
  },
  {
   "cell_type": "code",
   "execution_count": 19,
   "id": "5baf2dec",
   "metadata": {},
   "outputs": [
    {
     "name": "stdout",
     "output_type": "stream",
     "text": [
      "1, 2, 3\n"
     ]
    }
   ],
   "source": [
    "print(1, 2, 3 ,sep =', ') #sep이 없으면 변수끼리 스페이스로 띄우지만 sep이 빈 문자열이면 띄지도 않는다."
   ]
  },
  {
   "cell_type": "code",
   "execution_count": 20,
   "id": "2addcec4",
   "metadata": {},
   "outputs": [
    {
     "name": "stdout",
     "output_type": "stream",
     "text": [
      "hello, python\n"
     ]
    }
   ],
   "source": [
    "print(\"hello\", \"python\", sep=', ') #sep은 구분점 \\n은 개행문자."
   ]
  },
  {
   "cell_type": "code",
   "execution_count": 22,
   "id": "a29063f0",
   "metadata": {},
   "outputs": [
    {
     "name": "stdout",
     "output_type": "stream",
     "text": [
      "1\n",
      "2\n",
      "3\n"
     ]
    }
   ],
   "source": [
    "print(1, 2, 3, sep='\\n')"
   ]
  },
  {
   "cell_type": "code",
   "execution_count": 27,
   "id": "1014fda7",
   "metadata": {},
   "outputs": [
    {
     "name": "stdout",
     "output_type": "stream",
     "text": [
      "1\n",
      "2\n",
      "\\n\n",
      "\n"
     ]
    }
   ],
   "source": [
    "print('1\\n', '2\\n', '\\\\n\\n', sep='') #아스키코드 특수문자를 출력하려면 역슬래쉬 치고 역슬래쉬+아스키숫자 dlqfur"
   ]
  },
  {
   "cell_type": "code",
   "execution_count": 38,
   "id": "b24a8ae7",
   "metadata": {},
   "outputs": [
    {
     "ename": "SyntaxError",
     "evalue": "invalid syntax (<ipython-input-38-504224a5021c>, line 4)",
     "output_type": "error",
     "traceback": [
      "\u001b[1;36m  File \u001b[1;32m\"<ipython-input-38-504224a5021c>\"\u001b[1;36m, line \u001b[1;32m4\u001b[0m\n\u001b[1;33m    Prints the values to a stream, or to sys.stdout by default.\u001b[0m\n\u001b[1;37m           ^\u001b[0m\n\u001b[1;31mSyntaxError\u001b[0m\u001b[1;31m:\u001b[0m invalid syntax\n"
     ]
    }
   ],
   "source": [
    "print(1, end='') #Docstring:\n",
    "print(value, ..., sep=' ', end='\\n', file=sys.stdout, flush=False)\n",
    "'''\n",
    "Prints the values to a stream, or to sys.stdout by default.\n",
    "Optional keyword arguments:\n",
    "file:  a file-like object (stream); defaults to the current sys.stdout.\n",
    "sep:   string inserted between values, default a space.\n",
    "end:   string appended after the last value, default a newline.\n",
    "flush: whether to forcibly flush the stream.\n",
    "Type:      builtin_function_or_method\n",
    "'''"
   ]
  },
  {
   "cell_type": "code",
   "execution_count": 45,
   "id": "20aab8f0",
   "metadata": {},
   "outputs": [
    {
     "name": "stdout",
     "output_type": "stream",
     "text": [
      "3.1:\\::100\n",
      "1:1\n"
     ]
    }
   ],
   "source": [
    "print(3.1, '\\:', 100, sep=':')\n",
    "print(1, 1 ,sep=':')"
   ]
  },
  {
   "cell_type": "code",
   "execution_count": 52,
   "id": "ae4ff2cd",
   "metadata": {},
   "outputs": [
    {
     "name": "stdout",
     "output_type": "stream",
     "text": [
      "2000/10/27 11:43:59\n"
     ]
    }
   ],
   "source": [
    "year = 2000\n",
    "month = 10\n",
    "day = 27\n",
    "hour = 11\n",
    "min = 43\n",
    "seco = 59\n",
    "print(year, month, day, sep='/', end=' ')\n",
    "print(hour, min, seco, sep=':')"
   ]
  },
  {
   "cell_type": "code",
   "execution_count": null,
   "id": "9d7c5922",
   "metadata": {},
   "outputs": [],
   "source": []
  }
 ],
 "metadata": {
  "kernelspec": {
   "display_name": "Python 3",
   "language": "python",
   "name": "python3"
  },
  "language_info": {
   "codemirror_mode": {
    "name": "ipython",
    "version": 3
   },
   "file_extension": ".py",
   "mimetype": "text/x-python",
   "name": "python",
   "nbconvert_exporter": "python",
   "pygments_lexer": "ipython3",
   "version": "3.8.8"
  }
 },
 "nbformat": 4,
 "nbformat_minor": 5
}
