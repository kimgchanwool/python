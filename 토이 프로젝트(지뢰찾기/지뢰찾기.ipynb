{
 "cells": [
  {
   "cell_type": "code",
   "execution_count": null,
   "id": "d43250ad",
   "metadata": {},
   "outputs": [],
   "source": []
  },
  {
   "cell_type": "code",
   "execution_count": 8,
   "id": "e998c829",
   "metadata": {},
   "outputs": [
    {
     "name": "stdout",
     "output_type": "stream",
     "text": [
      "4 4\n",
      "1**2\n",
      "24*3\n",
      "*33*\n",
      "*22*\n"
     ]
    }
   ],
   "source": [
    "#대각선도 찾는 코드\n",
    "import random\n",
    "col, row = map(int, (input().split(' ')))\n",
    "matrix = []\n",
    "for i in range(row):\n",
    "    n2 = []\n",
    "    for j in range(col):\n",
    "        if random.randrange(0, 2):\n",
    "            n2.append('*')\n",
    "        else:\n",
    "            n2.append('.')\n",
    "    matrix.append(n2)\n",
    "for x, j in enumerate(matrix): #인덱스만 사용할 것임.\n",
    "    for y, i in enumerate(matrix[x]): #인덱스만 사용할 것임.\n",
    "        if matrix[x][y] == '*':\n",
    "            print(matrix[x][y], end='')\n",
    "        else:\n",
    "            count = 0\n",
    "            for r in range(-1, 2):\n",
    "                for c in range(-1, 2):\n",
    "                    if 0 <= r + x <= len(matrix) - 1 and 0 <= c + y <= len(matrix[x]) - 1 and matrix[x+r][y+c] == '*':\n",
    "                        count += 1\n",
    "            print(count, end='')\n",
    "    print()"
   ]
  },
  {
   "cell_type": "code",
   "execution_count": null,
   "id": "a7f8d3ed",
   "metadata": {},
   "outputs": [],
   "source": [
    "#대각선 찾지 않는 코드..\n",
    "import random\n",
    "x, y = map(int, (input().split(' ')))\n",
    "matrix = []\n",
    "for i in range(y):\n",
    "    n2 = []\n",
    "    for j in range(x):\n",
    "        if random.randrange(0, 2):\n",
    "            n2.append('*')\n",
    "        else:\n",
    "            n2.append('.')\n",
    "    matrix.append(n2)\n",
    "for x, j in enumerate(matrix):\n",
    "    for y, i in enumerate(matrix[x]):\n",
    "        count = 0\n",
    "        if matrix[x][y] == '.':\n",
    "            if x != 0:\n",
    "                if matrix[x - 1][y] == '*':\n",
    "                    count += 1; \n",
    "            if x != len(matrix)-1:\n",
    "                if matrix[x + 1][y] == '*':\n",
    "                    count += 1;  \n",
    "            if y != 0:\n",
    "                if matrix[x][y-1] == '*':\n",
    "                    count += 1;          \n",
    "            if y != len(matrix[x])-1:               \n",
    "                if matrix[x][y+1] == '*':\n",
    "                    count += 1;\n",
    "            matrix[x][y] = count\n",
    "for x in range(len(matrix)):\n",
    "    for y in matrix[x]:\n",
    "        print(y, end='')\n",
    "    print()"
   ]
  },
  {
   "cell_type": "code",
   "execution_count": null,
   "id": "8b4a37c1",
   "metadata": {},
   "outputs": [],
   "source": [
    "#대각선도 찾는 코드\n",
    "import random\n",
    "col, row = map(int, (input().split(' ')))\n",
    "matrix = []\n",
    "for i in range(row):\n",
    "    n2 = []\n",
    "    for j in range(col):\n",
    "        if random.randrange(0, 2):\n",
    "            n2.append('*')\n",
    "        else:\n",
    "            n2.append('.')\n",
    "    matrix.append(n2)\n",
    "for x, j in enumerate(matrix): #인덱스만 사용할 것임.\n",
    "    for y, i in enumerate(matrix[x]): #인덱스만 사용할 것임.\n",
    "        if matrix[x][y] == '*':\n",
    "            print(matrix[x][y], end='')\n",
    "        else:\n",
    "            count = 0\n",
    "            for r in range(-1, 2):\n",
    "                for c in range(-1, 2):\n",
    "                    if 0 <= r + x <= len(matrix) - 1 and 0 <= c + y <= len(matrix[x]) - 1 and matrix[x+r][y+c] == '*':\n",
    "                        count += 1\n",
    "            print(count, end='')\n",
    "    print()"
   ]
  },
  {
   "cell_type": "code",
   "execution_count": 10,
   "id": "0835799c",
   "metadata": {},
   "outputs": [
    {
     "ename": "SyntaxError",
     "evalue": "invalid syntax (<ipython-input-10-a9b1b11e467b>, line 7)",
     "output_type": "error",
     "traceback": [
      "\u001b[1;36m  File \u001b[1;32m\"<ipython-input-10-a9b1b11e467b>\"\u001b[1;36m, line \u001b[1;32m7\u001b[0m\n\u001b[1;33m    d=[x, y[for y in range(-1, 2)] for x in range(-1, 2)] #chk할 방향 상대 경로\u001b[0m\n\u001b[1;37m            ^\u001b[0m\n\u001b[1;31mSyntaxError\u001b[0m\u001b[1;31m:\u001b[0m invalid syntax\n"
     ]
    }
   ],
   "source": [
    "# 요한님 코드 \n",
    "matrix=[]\n",
    "col,row = map(int,input().split())\n",
    "for i in range(row):\n",
    "    matrix.append(list(input()))\n",
    "\n",
    "d=[[-1,-1],[-1,0],[-1,1],[0,-1],[0,1],[1,-1],[1,0],[1,1]] #chk할 방향 상대 경로\n",
    "\n",
    "for i in range(row):\n",
    "    for j in range(col):\n",
    "        if matrix[i][j] =='*':\n",
    "            for x,y in d:\n",
    "                if 0<= i+x <row and 0<= j+y <col: \n",
    "                    if matrix[i+x][j+y] == '.': matrix[i+x][j+y] = 1\n",
    "                    elif matrix[i+x][j+y] != '*': matrix[i+x][j+y] += 1\n",
    "\n",
    "print('출력')\n",
    "for i in matrix:\n",
    "    for j in i:\n",
    "        print(j,end='')\n",
    "    print()\n"
   ]
  },
  {
   "cell_type": "code",
   "execution_count": 17,
   "id": "c6e1e52d",
   "metadata": {},
   "outputs": [
    {
     "name": "stdout",
     "output_type": "stream",
     "text": [
      "10 10\n",
      "2**2*****2\n",
      "*6544**66*\n",
      "****324***\n",
      "****302*53\n",
      "5***31224*\n",
      "***55*32**\n",
      "**7***5*5*\n",
      "3***5*5*42\n",
      "24*443*3*1\n",
      "*22*2*2211\n"
     ]
    }
   ],
   "source": [
    "#대각선도 찾는 코드\n",
    "import random\n",
    "col, row = map(int, (input().split(' ')))\n",
    "matrix = []\n",
    "for i in range(row):\n",
    "    n2 = []\n",
    "    for j in range(col):\n",
    "        if random.randrange(0, 2):\n",
    "            n2.append('*')\n",
    "        else:\n",
    "            n2.append('.')\n",
    "    matrix.append(n2)\n",
    "for y, j in enumerate(matrix): #인덱스만 사용할 것임.\n",
    "    for x, i in enumerate(matrix[y]): #인덱스만 사용할 것임.\n",
    "        if matrix[y][x] == '*':\n",
    "            print(matrix[y][x], end='')\n",
    "        else:\n",
    "            count = 0\n",
    "            for r in range(-1, 2):\n",
    "                for c in range(-1, 2):\n",
    "                    if 0 <= c + x <= len(matrix)-1 and 0 <= r + y <= len(matrix[y])-1 and matrix[y+r][x+c] == '*': \n",
    "                        #and의 특징을 활용하는 것 좌측부터 하나라도 틀리면 끝내기 그래서 마디막 and에서 outofrange가 안 뜨는 것.\n",
    "                        count += 1\n",
    "            print(count, end='')\n",
    "    print()"
   ]
  },
  {
   "cell_type": "code",
   "execution_count": 35,
   "id": "855fb0e2",
   "metadata": {},
   "outputs": [
    {
     "name": "stdout",
     "output_type": "stream",
     "text": [
      "10 10\n",
      "13*4***310\n",
      "13*4***310\n",
      "13*4***310\n",
      "13*4***310\n",
      "13*4***310\n",
      "13*4***310\n",
      "13*4***310\n",
      "13*4***310\n",
      "13*4***310\n",
      "13*4***310\n",
      "지뢰탐지할 좌표를 알려주세요!20 20\n"
     ]
    },
    {
     "ename": "IndexError",
     "evalue": "list index out of range",
     "output_type": "error",
     "traceback": [
      "\u001b[1;31m---------------------------------------------------------------------------\u001b[0m",
      "\u001b[1;31mIndexError\u001b[0m                                Traceback (most recent call last)",
      "\u001b[1;32m<ipython-input-35-b904a338877e>\u001b[0m in \u001b[0;36m<module>\u001b[1;34m\u001b[0m\n\u001b[0;32m     42\u001b[0m \u001b[1;32mwhile\u001b[0m \u001b[1;33m(\u001b[0m\u001b[0mcount\u001b[0m \u001b[1;33m==\u001b[0m \u001b[1;36m0\u001b[0m \u001b[1;32mor\u001b[0m \u001b[1;34m'.'\u001b[0m \u001b[1;32mnot\u001b[0m \u001b[1;32min\u001b[0m \u001b[0mmatrix\u001b[0m\u001b[1;33m)\u001b[0m\u001b[1;33m:\u001b[0m\u001b[1;33m\u001b[0m\u001b[1;33m\u001b[0m\u001b[0m\n\u001b[0;32m     43\u001b[0m     \u001b[0mx\u001b[0m\u001b[1;33m,\u001b[0m \u001b[0my\u001b[0m \u001b[1;33m=\u001b[0m \u001b[0mmap\u001b[0m\u001b[1;33m(\u001b[0m\u001b[0mint\u001b[0m\u001b[1;33m,\u001b[0m \u001b[0minput\u001b[0m\u001b[1;33m(\u001b[0m\u001b[1;34m'지뢰탐지할 좌표를 알려주세요!'\u001b[0m\u001b[1;33m)\u001b[0m\u001b[1;33m.\u001b[0m\u001b[0msplit\u001b[0m\u001b[1;33m(\u001b[0m\u001b[1;34m' '\u001b[0m\u001b[1;33m)\u001b[0m\u001b[1;33m)\u001b[0m\u001b[1;33m\u001b[0m\u001b[1;33m\u001b[0m\u001b[0m\n\u001b[1;32m---> 44\u001b[1;33m     \u001b[1;32mif\u001b[0m \u001b[0mmatrix\u001b[0m\u001b[1;33m[\u001b[0m\u001b[0mx\u001b[0m\u001b[1;33m]\u001b[0m\u001b[1;33m[\u001b[0m\u001b[0my\u001b[0m\u001b[1;33m]\u001b[0m \u001b[1;33m==\u001b[0m \u001b[1;34m'*'\u001b[0m\u001b[1;33m:\u001b[0m\u001b[1;33m\u001b[0m\u001b[1;33m\u001b[0m\u001b[0m\n\u001b[0m\u001b[0;32m     45\u001b[0m         \u001b[0mcount\u001b[0m\u001b[1;33m+=\u001b[0m\u001b[1;36m1\u001b[0m\u001b[1;33m\u001b[0m\u001b[1;33m\u001b[0m\u001b[0m\n\u001b[0;32m     46\u001b[0m     \u001b[1;32melse\u001b[0m\u001b[1;33m:\u001b[0m\u001b[1;33m\u001b[0m\u001b[1;33m\u001b[0m\u001b[0m\n",
      "\u001b[1;31mIndexError\u001b[0m: list index out of range"
     ]
    }
   ],
   "source": [
    "#game 지뢰찾기.\n",
    "\n",
    "import random\n",
    "col, row = map(int, (input().split(' ')))\n",
    "matrix = []\n",
    "for i in range(row):\n",
    "    n2 = []\n",
    "    for j in range(col):\n",
    "        if random.randrange(0, 2):\n",
    "            n2.append('*')\n",
    "        else:\n",
    "            n2.append('.')\n",
    "    matrix.append(n2)\n",
    "for y, j in enumerate(matrix): #인덱스만 사용할 것임.\n",
    "    for x, i in enumerate(matrix[y]): #인덱스만 사용할 것임.\n",
    "        if matrix[y][x] == '*':\n",
    "            continue\n",
    "        else:\n",
    "            count = 0\n",
    "            for r in range(-1, 2):\n",
    "                for c in range(-1, 2):\n",
    "                    if 0 <= c + x <= len(matrix)-1 and 0 <= r + y <= len(matrix[y])-1 and matrix[y+r][x+c] == '*':\n",
    "                        count += 1\n",
    "            matrix[y][x] = count\n",
    "\n",
    "count = 0\n",
    "#while count != 0 and '.' not in matrix:\n",
    "l = []\n",
    "for i in range(row):\n",
    "    l2 = []\n",
    "    for j in range(col):\n",
    "        l2.append('ㅁ')\n",
    "    l.append(n2)\n",
    "\n",
    "def mapping(mapp):\n",
    "    for i, z in enumerate(mapp):\n",
    "        for j, k in enumerate(mapp[i]):        \n",
    "            print(k, end='')\n",
    "        print()\n",
    "\n",
    "mapping(l)\n",
    "while (count == 0 or '.' not in matrix):\n",
    "    x, y = map(int, input('지뢰탐지할 좌표를 알려주세요!').split(' '))\n",
    "    if matrix[x][y] == '*':\n",
    "        count+=1\n",
    "    else:\n",
    "        l[x][y] == matrix[x][y]\n",
    "    mapping();"
   ]
  },
  {
   "cell_type": "markdown",
   "id": "120eb032",
   "metadata": {},
   "source": [
    "# 5"
   ]
  },
  {
   "cell_type": "code",
   "execution_count": null,
   "id": "65813f6f",
   "metadata": {},
   "outputs": [],
   "source": []
  }
 ],
 "metadata": {
  "kernelspec": {
   "display_name": "Python 3",
   "language": "python",
   "name": "python3"
  },
  "language_info": {
   "codemirror_mode": {
    "name": "ipython",
    "version": 3
   },
   "file_extension": ".py",
   "mimetype": "text/x-python",
   "name": "python",
   "nbconvert_exporter": "python",
   "pygments_lexer": "ipython3",
   "version": "3.8.8"
  }
 },
 "nbformat": 4,
 "nbformat_minor": 5
}
