{
 "cells": [
  {
   "cell_type": "markdown",
   "id": "1fdeaa81",
   "metadata": {},
   "source": [
    "## 프로젝트 기획\n",
    "- 프로젝트 명\n",
    "- 개발환경( 사용할 언어, 모듈 등)\n",
    "- 주의 사항 : 1.5일 분량 계획\n",
    "- 슬랙(프로젝트 1 채널)에 프로젝트에 계획을 공유\n",
    "\n",
    "## 수행\n",
    "- 프로그래밍/디버깅\n",
    "- 문제점이 있으면 문의\n",
    "\n",
    "## 과제 보고\n",
    "- 슬랙(프로젝트 1 채널)에 프로젝트 결과물 공유\n",
    "\n",
    "1)소스코드, 프로그램에 대한 설명)\n",
    "2) 프로그램에 대한 설명 #왠만해서 노션이 좋을 듯.\n",
    "    - 클래스, 알고리즘.. 나만의 기술\n",
    "    - 제약사항. 개선점\n",
    "    \n",
    "- 조별 발표(월요일 오전)\n",
    "- 전체 공유(팀당 1~2명)"
   ]
  },
  {
   "cell_type": "code",
   "execution_count": 7,
   "id": "c5bf119b",
   "metadata": {},
   "outputs": [],
   "source": [
    "import cv2\n",
    "\n",
    "nw = 400\n",
    "\n",
    "CHARS='!@#$%^&*()_+=-/?\\|><.,;:`~[]{}\"'\n",
    "image = cv2.imread('project.jpg', 0) #flag 0은 흑백이라 z값이 사라짐.\n",
    "\n",
    "h, w = image.shape\n",
    "\n",
    "nh = int(h / w * nw)\n",
    "\n",
    "image = cv2.resize(image, (nw, nh))\n",
    "\n",
    "for row in image:\n",
    "    for pixel in row:\n",
    "        i = int(col / 256 * len(CHARS))\n",
    "        print(CHARS[i], end='')\n",
    "    print()"
   ]
  },
  {
   "cell_type": "code",
   "execution_count": null,
   "id": "5f7e9e4c",
   "metadata": {},
   "outputs": [],
   "source": []
  }
 ],
 "metadata": {
  "kernelspec": {
   "display_name": "Python 3",
   "language": "python",
   "name": "python3"
  },
  "language_info": {
   "codemirror_mode": {
    "name": "ipython",
    "version": 3
   },
   "file_extension": ".py",
   "mimetype": "text/x-python",
   "name": "python",
   "nbconvert_exporter": "python",
   "pygments_lexer": "ipython3",
   "version": "3.8.8"
  }
 },
 "nbformat": 4,
 "nbformat_minor": 5
}
